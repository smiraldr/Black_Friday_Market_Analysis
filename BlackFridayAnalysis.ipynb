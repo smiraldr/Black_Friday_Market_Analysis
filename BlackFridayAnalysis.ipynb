{
  "nbformat": 4,
  "nbformat_minor": 0,
  "metadata": {
    "colab": {
      "name": "(MASTER2)BlackFridayAnalysis.ipynb",
      "version": "0.3.2",
      "provenance": [],
      "collapsed_sections": []
    },
    "kernelspec": {
      "name": "python3",
      "display_name": "Python 3"
    }
  },
  "cells": [
    {
      "cell_type": "code",
      "metadata": {
        "id": "qC6xvNZ3_xhd",
        "colab_type": "code",
        "colab": {}
      },
      "source": [
        "# # # #unzip data\n",
        "# !unzip test.zip\n",
        "# !unzip train.zip"
      ],
      "execution_count": 0,
      "outputs": []
    },
    {
      "cell_type": "code",
      "metadata": {
        "id": "jHf0em6PAANZ",
        "colab_type": "code",
        "colab": {}
      },
      "source": [
        "#import libraries\n",
        "import pandas as pd\n",
        "import numpy as np \n",
        "import matplotlib.pyplot as plt \n",
        "import seaborn as sns\n",
        "%matplotlib inline\n",
        "from scipy import stats\n",
        "from sklearn.linear_model import LinearRegression"
      ],
      "execution_count": 0,
      "outputs": []
    },
    {
      "cell_type": "code",
      "metadata": {
        "id": "n6vY3jvOAEUN",
        "colab_type": "code",
        "colab": {}
      },
      "source": [
        "df_train=pd.read_csv('train.csv')\n",
        "df_test=pd.read_csv('test.csv')"
      ],
      "execution_count": 0,
      "outputs": []
    },
    {
      "cell_type": "code",
      "metadata": {
        "id": "URGrfJeQAEv4",
        "colab_type": "code",
        "outputId": "e388767d-9fcf-4e58-9cb5-19f68d7d633f",
        "colab": {
          "base_uri": "https://localhost:8080/",
          "height": 292
        }
      },
      "source": [
        "df_train.head()"
      ],
      "execution_count": 0,
      "outputs": [
        {
          "output_type": "execute_result",
          "data": {
            "text/html": [
              "<div>\n",
              "<style scoped>\n",
              "    .dataframe tbody tr th:only-of-type {\n",
              "        vertical-align: middle;\n",
              "    }\n",
              "\n",
              "    .dataframe tbody tr th {\n",
              "        vertical-align: top;\n",
              "    }\n",
              "\n",
              "    .dataframe thead th {\n",
              "        text-align: right;\n",
              "    }\n",
              "</style>\n",
              "<table border=\"1\" class=\"dataframe\">\n",
              "  <thead>\n",
              "    <tr style=\"text-align: right;\">\n",
              "      <th></th>\n",
              "      <th>User_ID</th>\n",
              "      <th>Product_ID</th>\n",
              "      <th>Gender</th>\n",
              "      <th>Age</th>\n",
              "      <th>Occupation</th>\n",
              "      <th>City_Category</th>\n",
              "      <th>Stay_In_Current_City_Years</th>\n",
              "      <th>Marital_Status</th>\n",
              "      <th>Product_Category_1</th>\n",
              "      <th>Product_Category_2</th>\n",
              "      <th>Product_Category_3</th>\n",
              "      <th>Purchase</th>\n",
              "    </tr>\n",
              "  </thead>\n",
              "  <tbody>\n",
              "    <tr>\n",
              "      <th>0</th>\n",
              "      <td>1000001</td>\n",
              "      <td>P00069042</td>\n",
              "      <td>F</td>\n",
              "      <td>0-17</td>\n",
              "      <td>10</td>\n",
              "      <td>A</td>\n",
              "      <td>2</td>\n",
              "      <td>0</td>\n",
              "      <td>3</td>\n",
              "      <td>NaN</td>\n",
              "      <td>NaN</td>\n",
              "      <td>8370</td>\n",
              "    </tr>\n",
              "    <tr>\n",
              "      <th>1</th>\n",
              "      <td>1000001</td>\n",
              "      <td>P00248942</td>\n",
              "      <td>F</td>\n",
              "      <td>0-17</td>\n",
              "      <td>10</td>\n",
              "      <td>A</td>\n",
              "      <td>2</td>\n",
              "      <td>0</td>\n",
              "      <td>1</td>\n",
              "      <td>6.0</td>\n",
              "      <td>14.0</td>\n",
              "      <td>15200</td>\n",
              "    </tr>\n",
              "    <tr>\n",
              "      <th>2</th>\n",
              "      <td>1000001</td>\n",
              "      <td>P00087842</td>\n",
              "      <td>F</td>\n",
              "      <td>0-17</td>\n",
              "      <td>10</td>\n",
              "      <td>A</td>\n",
              "      <td>2</td>\n",
              "      <td>0</td>\n",
              "      <td>12</td>\n",
              "      <td>NaN</td>\n",
              "      <td>NaN</td>\n",
              "      <td>1422</td>\n",
              "    </tr>\n",
              "    <tr>\n",
              "      <th>3</th>\n",
              "      <td>1000001</td>\n",
              "      <td>P00085442</td>\n",
              "      <td>F</td>\n",
              "      <td>0-17</td>\n",
              "      <td>10</td>\n",
              "      <td>A</td>\n",
              "      <td>2</td>\n",
              "      <td>0</td>\n",
              "      <td>12</td>\n",
              "      <td>14.0</td>\n",
              "      <td>NaN</td>\n",
              "      <td>1057</td>\n",
              "    </tr>\n",
              "    <tr>\n",
              "      <th>4</th>\n",
              "      <td>1000002</td>\n",
              "      <td>P00285442</td>\n",
              "      <td>M</td>\n",
              "      <td>55+</td>\n",
              "      <td>16</td>\n",
              "      <td>C</td>\n",
              "      <td>4+</td>\n",
              "      <td>0</td>\n",
              "      <td>8</td>\n",
              "      <td>NaN</td>\n",
              "      <td>NaN</td>\n",
              "      <td>7969</td>\n",
              "    </tr>\n",
              "  </tbody>\n",
              "</table>\n",
              "</div>"
            ],
            "text/plain": [
              "   User_ID Product_ID Gender  ... Product_Category_2  Product_Category_3 Purchase\n",
              "0  1000001  P00069042      F  ...                NaN                 NaN     8370\n",
              "1  1000001  P00248942      F  ...                6.0                14.0    15200\n",
              "2  1000001  P00087842      F  ...                NaN                 NaN     1422\n",
              "3  1000001  P00085442      F  ...               14.0                 NaN     1057\n",
              "4  1000002  P00285442      M  ...                NaN                 NaN     7969\n",
              "\n",
              "[5 rows x 12 columns]"
            ]
          },
          "metadata": {
            "tags": []
          },
          "execution_count": 4
        }
      ]
    },
    {
      "cell_type": "code",
      "metadata": {
        "id": "vTxMQTrwAHhi",
        "colab_type": "code",
        "outputId": "2e95284f-3d6a-4fd5-8f53-400bd5e7d15d",
        "colab": {
          "base_uri": "https://localhost:8080/",
          "height": 221
        }
      },
      "source": [
        "# for i in df_train[]:\n",
        "#   print(\"unique values in: \",df_train['i'],\":\",df_train[i].unique())\n",
        "cols=list(df_train)\n",
        "cols"
      ],
      "execution_count": 0,
      "outputs": [
        {
          "output_type": "execute_result",
          "data": {
            "text/plain": [
              "['User_ID',\n",
              " 'Product_ID',\n",
              " 'Gender',\n",
              " 'Age',\n",
              " 'Occupation',\n",
              " 'City_Category',\n",
              " 'Stay_In_Current_City_Years',\n",
              " 'Marital_Status',\n",
              " 'Product_Category_1',\n",
              " 'Product_Category_2',\n",
              " 'Product_Category_3',\n",
              " 'Purchase']"
            ]
          },
          "metadata": {
            "tags": []
          },
          "execution_count": 5
        }
      ]
    },
    {
      "cell_type": "code",
      "metadata": {
        "id": "v6iKkIt7Ap1G",
        "colab_type": "code",
        "outputId": "af8577df-4099-408d-de00-ba9b6c0bd66e",
        "colab": {
          "base_uri": "https://localhost:8080/",
          "height": 238
        }
      },
      "source": [
        "#Unique entries in every coloumns\n",
        "for i in cols:\n",
        "  print(i,df_train[i].unique())"
      ],
      "execution_count": 0,
      "outputs": [
        {
          "output_type": "stream",
          "text": [
            "User_ID [1000001 1000002 1000003 ... 1004113 1005391 1001529]\n",
            "Product_ID ['P00069042' 'P00248942' 'P00087842' ... 'P00370293' 'P00371644'\n",
            " 'P00370853']\n",
            "Gender ['F' 'M']\n",
            "Age ['0-17' '55+' '26-35' '46-50' '51-55' '36-45' '18-25']\n",
            "Occupation [10 16 15  7 20  9  1 12 17  0  3  4 11  8 19  2 18  5 14 13  6]\n",
            "City_Category ['A' 'C' 'B']\n",
            "Stay_In_Current_City_Years ['2' '4+' '3' '1' '0']\n",
            "Marital_Status [0 1]\n",
            "Product_Category_1 [ 3  1 12  8  5  4  2  6 14 11 13 15  7 16 18 10 17  9 20 19]\n",
            "Product_Category_2 [nan  6. 14.  2.  8. 15. 16. 11.  5.  3.  4. 12.  9. 10. 17. 13.  7. 18.]\n",
            "Product_Category_3 [nan 14. 17.  5.  4. 16. 15.  8.  9. 13.  6. 12.  3. 18. 11. 10.]\n",
            "Purchase [ 8370 15200  1422 ...   135   123   613]\n"
          ],
          "name": "stdout"
        }
      ]
    },
    {
      "cell_type": "code",
      "metadata": {
        "id": "B7ahNk_LCnwk",
        "colab_type": "code",
        "outputId": "91c02792-0ce9-4377-8c5d-341bf50bdeb7",
        "colab": {
          "base_uri": "https://localhost:8080/",
          "height": 221
        }
      },
      "source": [
        "#Number of Unique entries\n",
        "for i in cols:\n",
        "  print(i,\":\",df_train[i].nunique())"
      ],
      "execution_count": 0,
      "outputs": [
        {
          "output_type": "stream",
          "text": [
            "User_ID : 5891\n",
            "Product_ID : 3631\n",
            "Gender : 2\n",
            "Age : 7\n",
            "Occupation : 21\n",
            "City_Category : 3\n",
            "Stay_In_Current_City_Years : 5\n",
            "Marital_Status : 2\n",
            "Product_Category_1 : 20\n",
            "Product_Category_2 : 17\n",
            "Product_Category_3 : 15\n",
            "Purchase : 18105\n"
          ],
          "name": "stdout"
        }
      ]
    },
    {
      "cell_type": "code",
      "metadata": {
        "id": "80HzmBkjDZSP",
        "colab_type": "code",
        "colab": {}
      },
      "source": [
        "# 1. Which product category and store had the highest sales?\n",
        "#sort data acc to cities\n",
        "citya=df_train[df_train['City_Category']=='A']\n",
        "cityb=df_train[df_train['City_Category']=='B']\n",
        "cityc=df_train[df_train['City_Category']=='C']"
      ],
      "execution_count": 0,
      "outputs": []
    },
    {
      "cell_type": "code",
      "metadata": {
        "id": "_xHQKfpBFRli",
        "colab_type": "code",
        "outputId": "f0e1631b-0119-4a57-94d3-765378d35219",
        "colab": {
          "base_uri": "https://localhost:8080/",
          "height": 148
        }
      },
      "source": [
        "cityc.head(2)"
      ],
      "execution_count": 0,
      "outputs": [
        {
          "output_type": "execute_result",
          "data": {
            "text/html": [
              "<div>\n",
              "<style scoped>\n",
              "    .dataframe tbody tr th:only-of-type {\n",
              "        vertical-align: middle;\n",
              "    }\n",
              "\n",
              "    .dataframe tbody tr th {\n",
              "        vertical-align: top;\n",
              "    }\n",
              "\n",
              "    .dataframe thead th {\n",
              "        text-align: right;\n",
              "    }\n",
              "</style>\n",
              "<table border=\"1\" class=\"dataframe\">\n",
              "  <thead>\n",
              "    <tr style=\"text-align: right;\">\n",
              "      <th></th>\n",
              "      <th>User_ID</th>\n",
              "      <th>Product_ID</th>\n",
              "      <th>Gender</th>\n",
              "      <th>Age</th>\n",
              "      <th>Occupation</th>\n",
              "      <th>City_Category</th>\n",
              "      <th>Stay_In_Current_City_Years</th>\n",
              "      <th>Marital_Status</th>\n",
              "      <th>Product_Category_1</th>\n",
              "      <th>Product_Category_2</th>\n",
              "      <th>Product_Category_3</th>\n",
              "      <th>Purchase</th>\n",
              "    </tr>\n",
              "  </thead>\n",
              "  <tbody>\n",
              "    <tr>\n",
              "      <th>4</th>\n",
              "      <td>1000002</td>\n",
              "      <td>P00285442</td>\n",
              "      <td>M</td>\n",
              "      <td>55+</td>\n",
              "      <td>16</td>\n",
              "      <td>C</td>\n",
              "      <td>4+</td>\n",
              "      <td>0</td>\n",
              "      <td>8</td>\n",
              "      <td>NaN</td>\n",
              "      <td>NaN</td>\n",
              "      <td>7969</td>\n",
              "    </tr>\n",
              "    <tr>\n",
              "      <th>19</th>\n",
              "      <td>1000008</td>\n",
              "      <td>P00249542</td>\n",
              "      <td>M</td>\n",
              "      <td>26-35</td>\n",
              "      <td>12</td>\n",
              "      <td>C</td>\n",
              "      <td>4+</td>\n",
              "      <td>1</td>\n",
              "      <td>1</td>\n",
              "      <td>5.0</td>\n",
              "      <td>15.0</td>\n",
              "      <td>19614</td>\n",
              "    </tr>\n",
              "  </tbody>\n",
              "</table>\n",
              "</div>"
            ],
            "text/plain": [
              "    User_ID Product_ID Gender  ... Product_Category_2  Product_Category_3 Purchase\n",
              "4   1000002  P00285442      M  ...                NaN                 NaN     7969\n",
              "19  1000008  P00249542      M  ...                5.0                15.0    19614\n",
              "\n",
              "[2 rows x 12 columns]"
            ]
          },
          "metadata": {
            "tags": []
          },
          "execution_count": 9
        }
      ]
    },
    {
      "cell_type": "code",
      "metadata": {
        "id": "cYagOXE-GKvK",
        "colab_type": "code",
        "outputId": "2c9e4934-80a7-49e0-98dd-9686902412a2",
        "colab": {
          "base_uri": "https://localhost:8080/",
          "height": 68
        }
      },
      "source": [
        "pura=citya['Purchase'].sum()\n",
        "purb=cityb['Purchase'].sum()\n",
        "purc=cityc['Purchase'].sum()\n",
        "print(\"Purchase in City A Stores:\",pura)\n",
        "print(\"Purchase in City B Stores:\",purb)\n",
        "print(\"Purchase in City C Stores:\",purc)"
      ],
      "execution_count": 0,
      "outputs": [
        {
          "output_type": "stream",
          "text": [
            "Purchase in City A Stores: 1316471661\n",
            "Purchase in City B Stores: 2115533605\n",
            "Purchase in City C Stores: 1663807476\n"
          ],
          "name": "stdout"
        }
      ]
    },
    {
      "cell_type": "code",
      "metadata": {
        "id": "z2ObvLlNIOhF",
        "colab_type": "code",
        "colab": {}
      },
      "source": [
        "#CITY A ANALYSIS\n",
        "prod1=citya.filter(['Product_Category_1'],axis=1)\n",
        "prod2=citya.filter(['Product_Category_2'],axis=1)\n",
        "prod3=citya.filter(['Product_Category_3'],axis=1)\n",
        "# new = old.filter(['A','B','D'], axis=1)\n",
        "prod2.dropna(inplace=True)\n",
        "prod3.dropna(inplace=True)"
      ],
      "execution_count": 0,
      "outputs": []
    },
    {
      "cell_type": "code",
      "metadata": {
        "id": "s1kOj6viBVAt",
        "colab_type": "code",
        "outputId": "3018b152-a219-49b3-b30e-30a44124c81b",
        "colab": {
          "base_uri": "https://localhost:8080/",
          "height": 34
        }
      },
      "source": [
        "#Clean Data\n",
        "df_train['Product_Category_2'].fillna(-1,inplace=True)\n",
        "df_train['Product_Category_3'].fillna(-1,inplace=True)\n",
        "df_train['Product_Category_2']=df_train['Product_Category_2'].astype('int64')\n",
        "df_train['Product_Category_1']=df_train['Product_Category_1'].astype('int64')\n",
        "df_train['Product_Category_3']=df_train['Product_Category_3'].astype('int64')\n",
        "# df_train.head()\n",
        "df_train['Product_Category_2'].dtype"
      ],
      "execution_count": 0,
      "outputs": [
        {
          "output_type": "execute_result",
          "data": {
            "text/plain": [
              "dtype('int64')"
            ]
          },
          "metadata": {
            "tags": []
          },
          "execution_count": 12
        }
      ]
    },
    {
      "cell_type": "code",
      "metadata": {
        "id": "QMTV6Gj8dDJS",
        "colab_type": "code",
        "colab": {}
      },
      "source": [
        "prod2['Product_Category_2']=prod2['Product_Category_2'].astype('int64')\n",
        "prod3['Product_Category_3']=prod3['Product_Category_3'].astype('int64')\n",
        "# df_train['Product_Category_3']=df_train['Product_Category_3'].astype('int64')"
      ],
      "execution_count": 0,
      "outputs": []
    },
    {
      "cell_type": "code",
      "metadata": {
        "id": "HimbXOt4dt0t",
        "colab_type": "code",
        "colab": {}
      },
      "source": [
        "# Number of Products bought according to the data\n",
        "nprod1=len(prod1.index)\n",
        "nprod2=len(prod2.index)\n",
        "nprod3=len(prod3.index)\n",
        "total=nprod1+nprod2+nprod3"
      ],
      "execution_count": 0,
      "outputs": []
    },
    {
      "cell_type": "code",
      "metadata": {
        "id": "MZ1PVqGGebgO",
        "colab_type": "code",
        "colab": {}
      },
      "source": [
        "# Data for Visualization\n",
        "plotdata=[nprod1,nprod2,nprod3]\n",
        "# plotdata=pd.DataFrame(plotdata)\n",
        "# plotdata=plotdata.transpose()\n",
        "# plotdata.set_index(1)"
      ],
      "execution_count": 0,
      "outputs": []
    },
    {
      "cell_type": "code",
      "metadata": {
        "id": "HQxPu5rTfhli",
        "colab_type": "code",
        "outputId": "4ad24dcd-66e6-4462-96a4-a61af5a2a8fc",
        "colab": {
          "base_uri": "https://localhost:8080/",
          "height": 272
        }
      },
      "source": [
        "#Pie Chart\n",
        "plt.pie(plotdata,labels=['Product 1','Product 2','Product 3'],explode = (0, 0.1, 0.2,),autopct='%1.1f%%')\n",
        "plt.legend(bbox_to_anchor=(1,1))"
      ],
      "execution_count": 0,
      "outputs": [
        {
          "output_type": "execute_result",
          "data": {
            "text/plain": [
              "<matplotlib.legend.Legend at 0x7fe1b9abba90>"
            ]
          },
          "metadata": {
            "tags": []
          },
          "execution_count": 16
        },
        {
          "output_type": "display_data",
          "data": {
            "image/png": "[encoded data removed]",
            "text/plain": [
              "<Figure size 432x288 with 1 Axes>"
            ]
          },
          "metadata": {
            "tags": []
          }
        }
      ]
    },
    {
      "cell_type": "code",
      "metadata": {
        "id": "ltcyoFMBh5zq",
        "colab_type": "code",
        "colab": {}
      },
      "source": [
        "#CITY B ANALYSIS\n",
        "produ1=cityb.filter(['Product_Category_1'],axis=1)\n",
        "produ2=cityb.filter(['Product_Category_2'],axis=1)\n",
        "produ3=cityb.filter(['Product_Category_3'],axis=1)\n",
        "# new = old.filter(['A','B','D'], axis=1)\n",
        "produ2.dropna(inplace=True)\n",
        "produ3.dropna(inplace=True)"
      ],
      "execution_count": 0,
      "outputs": []
    },
    {
      "cell_type": "code",
      "metadata": {
        "id": "ynYsYHzKh5-4",
        "colab_type": "code",
        "colab": {}
      },
      "source": [
        "produ2['Product_Category_2']=produ2['Product_Category_2'].astype('int64')\n",
        "produ3['Product_Category_3']=produ3['Product_Category_3'].astype('int64')\n",
        "# df_train['Product_Category_3']=df_train['Product_Category_3'].astype('int64')"
      ],
      "execution_count": 0,
      "outputs": []
    },
    {
      "cell_type": "code",
      "metadata": {
        "id": "ypMnjzQTh6IW",
        "colab_type": "code",
        "colab": {}
      },
      "source": [
        "# Number of Products bought according to the data\n",
        "nprodu1=len(produ1.index)\n",
        "nprodu2=len(produ2.index)\n",
        "nprodu3=len(produ3.index)\n",
        "total=nprodu1+nprodu2+nprodu3"
      ],
      "execution_count": 0,
      "outputs": []
    },
    {
      "cell_type": "code",
      "metadata": {
        "id": "fkQ7jOaxh6OI",
        "colab_type": "code",
        "colab": {}
      },
      "source": [
        "# Data for Visualization\n",
        "plotdatau=[nprodu1,nprodu2,nprodu3]\n",
        "# plotdata=pd.DataFrame(plotdata)\n",
        "# plotdata=plotdata.transpose()\n",
        "# plotdata.set_index(1)"
      ],
      "execution_count": 0,
      "outputs": []
    },
    {
      "cell_type": "code",
      "metadata": {
        "id": "ZaZOWxw_h6Tq",
        "colab_type": "code",
        "outputId": "6efe2ff5-39ae-4deb-de7a-171fc3c0ce0b",
        "colab": {
          "base_uri": "https://localhost:8080/",
          "height": 272
        }
      },
      "source": [
        "#Pie Chart\n",
        "plt.pie(plotdatau,labels=['Product 1','Product 2','Product 3'],explode = (0, 0.1, 0.2,),autopct='%1.1f%%')\n",
        "plt.legend(bbox_to_anchor=(1,1))"
      ],
      "execution_count": 0,
      "outputs": [
        {
          "output_type": "execute_result",
          "data": {
            "text/plain": [
              "<matplotlib.legend.Legend at 0x7fe1b9a67198>"
            ]
          },
          "metadata": {
            "tags": []
          },
          "execution_count": 21
        },
        {
          "output_type": "display_data",
          "data": {
            "image/png": "[encoded data removed]",
            "text/plain": [
              "<Figure size 432x288 with 1 Axes>"
            ]
          },
          "metadata": {
            "tags": []
          }
        }
      ]
    },
    {
      "cell_type": "code",
      "metadata": {
        "id": "2tX_Lo_yh6XR",
        "colab_type": "code",
        "colab": {}
      },
      "source": [
        "#CITY C ANALYSIS\n",
        "produc1=cityc.filter(['Product_Category_1'],axis=1)\n",
        "produc2=cityc.filter(['Product_Category_2'],axis=1)\n",
        "produc3=cityc.filter(['Product_Category_3'],axis=1)\n",
        "# new = old.filter(['A','B','D'], axis=1)\n",
        "produc2.dropna(inplace=True)\n",
        "produc3.dropna(inplace=True)"
      ],
      "execution_count": 0,
      "outputs": []
    },
    {
      "cell_type": "code",
      "metadata": {
        "id": "os2aSOXuh6bO",
        "colab_type": "code",
        "colab": {}
      },
      "source": [
        "produc2['Product_Category_2']=produc2['Product_Category_2'].astype('int64')\n",
        "produc3['Product_Category_3']=produc3['Product_Category_3'].astype('int64')\n",
        "# df_train['Product_Category_3']=df_train['Product_Category_3'].astype('int64')"
      ],
      "execution_count": 0,
      "outputs": []
    },
    {
      "cell_type": "code",
      "metadata": {
        "id": "CI2vT_jIh6fF",
        "colab_type": "code",
        "colab": {}
      },
      "source": [
        "# Number of Products bought according to the data\n",
        "nproduc1=len(produc1.index)\n",
        "nproduc2=len(produc2.index)\n",
        "nproduc3=len(produc3.index)\n",
        "total=nproduc1+nproduc2+nproduc3"
      ],
      "execution_count": 0,
      "outputs": []
    },
    {
      "cell_type": "code",
      "metadata": {
        "id": "e0DOFVA2jqnC",
        "colab_type": "code",
        "colab": {}
      },
      "source": [
        "# Data for Visualization\n",
        "plotdatauc=[nproduc1,nproduc2,nproduc3]\n",
        "# plotdata=pd.DataFrame(plotdata)\n",
        "# plotdata=plotdata.transpose()\n",
        "# plotdata.set_index(1)"
      ],
      "execution_count": 0,
      "outputs": []
    },
    {
      "cell_type": "code",
      "metadata": {
        "id": "BGVUMun8jqvB",
        "colab_type": "code",
        "outputId": "aadb7eb0-f70d-4b45-d040-3a6f30d91edf",
        "colab": {
          "base_uri": "https://localhost:8080/",
          "height": 272
        }
      },
      "source": [
        "#Pie Chart\n",
        "plt.pie(plotdatauc,labels=['Product 1','Product 2','Product 3'],explode = (0, 0.1, 0.2,),autopct='%1.1f%%')\n",
        "plt.legend(bbox_to_anchor=(1,1))"
      ],
      "execution_count": 0,
      "outputs": [
        {
          "output_type": "execute_result",
          "data": {
            "text/plain": [
              "<matplotlib.legend.Legend at 0x7fe1b79db278>"
            ]
          },
          "metadata": {
            "tags": []
          },
          "execution_count": 26
        },
        {
          "output_type": "display_data",
          "data": {
            "image/png": "[encoded data removed]",
            "text/plain": [
              "<Figure size 432x288 with 1 Axes>"
            ]
          },
          "metadata": {
            "tags": []
          }
        }
      ]
    },
    {
      "cell_type": "code",
      "metadata": {
        "id": "U9Sq0TIdjqze",
        "colab_type": "code",
        "outputId": "8391d918-757f-4766-eac0-3a08b3c53c58",
        "colab": {
          "base_uri": "https://localhost:8080/",
          "height": 34
        }
      },
      "source": [
        "print(\"--------------------------------------------------------------------------------------------------------------------\")"
      ],
      "execution_count": 0,
      "outputs": [
        {
          "output_type": "stream",
          "text": [
            "--------------------------------------------------------------------------------------------------------------------\n"
          ],
          "name": "stdout"
        }
      ]
    },
    {
      "cell_type": "code",
      "metadata": {
        "id": "ZCwQQBjrGGu2",
        "colab_type": "code",
        "outputId": "00b533de-20f2-486d-a754-5849ca11ff31",
        "colab": {
          "base_uri": "https://localhost:8080/",
          "height": 170
        }
      },
      "source": [
        "print(\"Number of unique customers in city A:\")\n",
        "print(citya[['User_ID']].nunique())\n",
        "print(\"Number of unique customers in city B:\")\n",
        "print(cityb[['User_ID']].nunique())\n",
        "print(\"Number of unique customers in city C:\")\n",
        "print(cityc[['User_ID']].nunique())"
      ],
      "execution_count": 0,
      "outputs": [
        {
          "output_type": "stream",
          "text": [
            "Number of unique customers in city A:\n",
            "User_ID    1045\n",
            "dtype: int64\n",
            "Number of unique customers in city B:\n",
            "User_ID    1707\n",
            "dtype: int64\n",
            "Number of unique customers in city C:\n",
            "User_ID    3139\n",
            "dtype: int64\n"
          ],
          "name": "stdout"
        }
      ]
    },
    {
      "cell_type": "code",
      "metadata": {
        "id": "0Z3K2RZtkLz9",
        "colab_type": "code",
        "colab": {}
      },
      "source": [
        "# 2. What products usually buy families and single people?"
      ],
      "execution_count": 0,
      "outputs": []
    },
    {
      "cell_type": "code",
      "metadata": {
        "id": "u2o2WbW0kdOD",
        "colab_type": "code",
        "colab": {}
      },
      "source": [
        "mar_count=df_train[df_train['Marital_Status']==1].count()[0]         #Marriedcount\n",
        "unmar_count=df_train[df_train['Marital_Status']==0].count()[0]       #UnmarriedCount\n",
        "male=df_train[df_train['Gender']=='M'].count()[0]                    #MaleCount\n",
        "female=df_train[df_train['Gender']=='F'].count()[0]                  #FemaleCount"
      ],
      "execution_count": 0,
      "outputs": []
    },
    {
      "cell_type": "code",
      "metadata": {
        "id": "Mt8F6bTTkvHe",
        "colab_type": "code",
        "outputId": "931c151a-6053-4116-97b7-220a452aba44",
        "colab": {
          "base_uri": "https://localhost:8080/",
          "height": 51
        }
      },
      "source": [
        "prod1=df_train['Product_Category_1'].unique()\n",
        "prod1.sort()\n",
        "prod1"
      ],
      "execution_count": 0,
      "outputs": [
        {
          "output_type": "execute_result",
          "data": {
            "text/plain": [
              "array([ 1,  2,  3,  4,  5,  6,  7,  8,  9, 10, 11, 12, 13, 14, 15, 16, 17,\n",
              "       18, 19, 20])"
            ]
          },
          "metadata": {
            "tags": []
          },
          "execution_count": 31
        }
      ]
    },
    {
      "cell_type": "code",
      "metadata": {
        "id": "S2klUlIOmLia",
        "colab_type": "code",
        "colab": {}
      },
      "source": [
        "prod2=df_train['Product_Category_2'].unique()\n",
        "prod2.sort()\n",
        "prod2=np.delete(prod2,0)"
      ],
      "execution_count": 0,
      "outputs": []
    },
    {
      "cell_type": "code",
      "metadata": {
        "id": "ehrup6G6mc3q",
        "colab_type": "code",
        "outputId": "e4e9a878-6dea-4603-e24e-6d9a85052e32",
        "colab": {
          "base_uri": "https://localhost:8080/",
          "height": 34
        }
      },
      "source": [
        "prod2"
      ],
      "execution_count": 0,
      "outputs": [
        {
          "output_type": "execute_result",
          "data": {
            "text/plain": [
              "array([ 2,  3,  4,  5,  6,  7,  8,  9, 10, 11, 12, 13, 14, 15, 16, 17, 18])"
            ]
          },
          "metadata": {
            "tags": []
          },
          "execution_count": 33
        }
      ]
    },
    {
      "cell_type": "code",
      "metadata": {
        "id": "7LvrdbcPm0To",
        "colab_type": "code",
        "colab": {}
      },
      "source": [
        "prod3=df_train['Product_Category_3'].unique()\n",
        "prod3.sort()\n",
        "prod3=np.delete(prod3,0)"
      ],
      "execution_count": 0,
      "outputs": []
    },
    {
      "cell_type": "code",
      "metadata": {
        "id": "-QyK3MGgnbI9",
        "colab_type": "code",
        "outputId": "bc59d936-9b72-444e-b9d0-2f92a655de33",
        "colab": {
          "base_uri": "https://localhost:8080/",
          "height": 34
        }
      },
      "source": [
        "prod3"
      ],
      "execution_count": 0,
      "outputs": [
        {
          "output_type": "execute_result",
          "data": {
            "text/plain": [
              "array([ 3,  4,  5,  6,  8,  9, 10, 11, 12, 13, 14, 15, 16, 17, 18])"
            ]
          },
          "metadata": {
            "tags": []
          },
          "execution_count": 35
        }
      ]
    },
    {
      "cell_type": "code",
      "metadata": {
        "id": "u4WvQ7azpnx2",
        "colab_type": "code",
        "colab": {}
      },
      "source": [
        "marrprod=df_train[df_train['Marital_Status']==1]\n",
        "notmarrprod=df_train[df_train['Marital_Status']==0]"
      ],
      "execution_count": 0,
      "outputs": []
    },
    {
      "cell_type": "code",
      "metadata": {
        "id": "gozie_Xjnbsl",
        "colab_type": "code",
        "outputId": "f68f46df-b262-444b-c17e-7d7b1fc16836",
        "colab": {
          "base_uri": "https://localhost:8080/",
          "height": 408
        }
      },
      "source": [
        "####################PRODUCT 1 FOR MARRIED COUPLES ########################################\n",
        "prod=0\n",
        "max_c=0\n",
        "for i in prod1:\n",
        "  b=marrprod[marrprod['Product_Category_1']==i]\n",
        "  count=len(b.index)\n",
        "  print(i,\" has been brought \",count,\" times\")\n",
        "  if(max_c<count):\n",
        "    max_c=count\n",
        "    prod=i\n",
        "    \n",
        "  \n",
        "print(\"___________________________________________________________________________________\")\n",
        "print(\"Married couples bought product\",prod,\"maximum times\")\n",
        "print(\"___________________________________________________________________________________\")"
      ],
      "execution_count": 0,
      "outputs": [
        {
          "output_type": "stream",
          "text": [
            "1  has been brought  56003  times\n",
            "2  has been brought  9726  times\n",
            "3  has been brought  7854  times\n",
            "4  has been brought  4576  times\n",
            "5  has been brought  61277  times\n",
            "6  has been brought  8327  times\n",
            "7  has been brought  1681  times\n",
            "8  has been brought  48514  times\n",
            "9  has been brought  163  times\n",
            "10  has been brought  2347  times\n",
            "11  has been brought  9619  times\n",
            "12  has been brought  1913  times\n",
            "13  has been brought  2387  times\n",
            "14  has been brought  677  times\n",
            "15  has been brought  2667  times\n",
            "16  has been brought  4115  times\n",
            "17  has been brought  280  times\n",
            "18  has been brought  1484  times\n",
            "19  has been brought  657  times\n",
            "20  has been brought  1070  times\n",
            "___________________________________________________________________________________\n",
            "Married couples bought product 5 maximum times\n",
            "___________________________________________________________________________________\n"
          ],
          "name": "stdout"
        }
      ]
    },
    {
      "cell_type": "code",
      "metadata": {
        "id": "p7C76HjDnpSZ",
        "colab_type": "code",
        "outputId": "ba581c06-bf77-45d4-e557-c60188799984",
        "colab": {
          "base_uri": "https://localhost:8080/",
          "height": 408
        }
      },
      "source": [
        "####################PRODUCT 1 FOR UNMARRIED COUPLES ########################################\n",
        "prod=0\n",
        "max_c=0\n",
        "for i in prod1:\n",
        "  b=notmarrprod[notmarrprod['Product_Category_1']==i]\n",
        "  count=len(b.index)\n",
        "  print(i,\" has been brought \",count,\" times\")\n",
        "  if(max_c<count):\n",
        "    max_c=count\n",
        "    prod=i\n",
        "    \n",
        "  \n",
        "print(\"___________________________________________________________________________________\")\n",
        "print(\"Not Married couples bought product\",prod,\"maximum times\")\n",
        "print(\"___________________________________________________________________________________\")"
      ],
      "execution_count": 0,
      "outputs": [
        {
          "output_type": "stream",
          "text": [
            "1  has been brought  84375  times\n",
            "2  has been brought  14138  times\n",
            "3  has been brought  12359  times\n",
            "4  has been brought  7177  times\n",
            "5  has been brought  89656  times\n",
            "6  has been brought  12139  times\n",
            "7  has been brought  2040  times\n",
            "8  has been brought  65411  times\n",
            "9  has been brought  247  times\n",
            "10  has been brought  2778  times\n",
            "11  has been brought  14668  times\n",
            "12  has been brought  2034  times\n",
            "13  has been brought  3162  times\n",
            "14  has been brought  846  times\n",
            "15  has been brought  3623  times\n",
            "16  has been brought  5713  times\n",
            "17  has been brought  298  times\n",
            "18  has been brought  1641  times\n",
            "19  has been brought  946  times\n",
            "20  has been brought  1480  times\n",
            "___________________________________________________________________________________\n",
            "Not Married couples bought product 5 maximum times\n",
            "___________________________________________________________________________________\n"
          ],
          "name": "stdout"
        }
      ]
    },
    {
      "cell_type": "code",
      "metadata": {
        "id": "Ahq01ODtCGap",
        "colab_type": "code",
        "outputId": "7ccb9dea-e934-43af-b4e7-70fefd52a3e5",
        "colab": {
          "base_uri": "https://localhost:8080/",
          "height": 357
        }
      },
      "source": [
        "####################PRODUCT 2 FOR MARRIED COUPLES ########################################\n",
        "prod=0\n",
        "max_c=0\n",
        "for i in prod2:\n",
        "  b=marrprod[marrprod['Product_Category_2']==i]\n",
        "  count=len(b.index)\n",
        "  print(i,\" has been brought \",count,\" times\")\n",
        "  if(max_c<count):\n",
        "    max_c=count\n",
        "    prod=i\n",
        "    \n",
        "  \n",
        "print(\"___________________________________________________________________________________\")\n",
        "print(\"Married couples bought product\",prod,\"maximum times\")\n",
        "print(\"___________________________________________________________________________________\")"
      ],
      "execution_count": 0,
      "outputs": [
        {
          "output_type": "stream",
          "text": [
            "2  has been brought  19345  times\n",
            "3  has been brought  1083  times\n",
            "4  has been brought  9865  times\n",
            "5  has been brought  10332  times\n",
            "6  has been brought  6662  times\n",
            "7  has been brought  257  times\n",
            "8  has been brought  26734  times\n",
            "9  has been brought  2270  times\n",
            "10  has been brought  1396  times\n",
            "11  has been brought  5532  times\n",
            "12  has been brought  2408  times\n",
            "13  has been brought  4555  times\n",
            "14  has been brought  22717  times\n",
            "15  has been brought  15439  times\n",
            "16  has been brought  17341  times\n",
            "17  has been brought  5741  times\n",
            "18  has been brought  1270  times\n",
            "___________________________________________________________________________________\n",
            "Married couples bought product 8 maximum times\n",
            "___________________________________________________________________________________\n"
          ],
          "name": "stdout"
        }
      ]
    },
    {
      "cell_type": "code",
      "metadata": {
        "id": "kmgYrVJQCGhk",
        "colab_type": "code",
        "outputId": "8e3638b3-8a2d-4a72-f10e-5838b868c4c7",
        "colab": {
          "base_uri": "https://localhost:8080/",
          "height": 357
        }
      },
      "source": [
        "####################PRODUCT 2 FOR UNMARRIED COUPLES ########################################\n",
        "prod=0\n",
        "max_c=0\n",
        "for i in prod2:\n",
        "  b=notmarrprod[notmarrprod['Product_Category_2']==i]\n",
        "  count=len(b.index)\n",
        "  print(i,\" has been brought \",count,\" times\")\n",
        "  if(max_c<count):\n",
        "    max_c=count\n",
        "    prod=i\n",
        "    \n",
        "  \n",
        "print(\"___________________________________________________________________________________\")\n",
        "print(\"Not Married couples bought product\",prod,\"maximum times\")\n",
        "print(\"___________________________________________________________________________________\")"
      ],
      "execution_count": 0,
      "outputs": [
        {
          "output_type": "stream",
          "text": [
            "2  has been brought  29872  times\n",
            "3  has been brought  1801  times\n",
            "4  has been brought  15812  times\n",
            "5  has been brought  15903  times\n",
            "6  has been brought  9804  times\n",
            "7  has been brought  369  times\n",
            "8  has been brought  37354  times\n",
            "9  has been brought  3423  times\n",
            "10  has been brought  1647  times\n",
            "11  has been brought  8602  times\n",
            "12  has been brought  3120  times\n",
            "13  has been brought  5976  times\n",
            "14  has been brought  32391  times\n",
            "15  has been brought  22416  times\n",
            "16  has been brought  25914  times\n",
            "17  has been brought  7579  times\n",
            "18  has been brought  1500  times\n",
            "___________________________________________________________________________________\n",
            "Not Married couples bought product 8 maximum times\n",
            "___________________________________________________________________________________\n"
          ],
          "name": "stdout"
        }
      ]
    },
    {
      "cell_type": "code",
      "metadata": {
        "id": "x50DJ8PvCGo6",
        "colab_type": "code",
        "outputId": "7bec7840-45ee-4789-fb57-1d776e42dc3d",
        "colab": {
          "base_uri": "https://localhost:8080/",
          "height": 323
        }
      },
      "source": [
        "####################PRODUCT 3 FOR MARRIED COUPLES ########################################\n",
        "prod=0\n",
        "max_c=0\n",
        "for i in prod3:\n",
        "  b=marrprod[marrprod['Product_Category_3']==i]\n",
        "  count=len(b.index)\n",
        "  print(i,\" has been brought \",count,\" times\")\n",
        "  if(max_c<count):\n",
        "    max_c=count\n",
        "    prod=i\n",
        "    \n",
        "  \n",
        "print(\"___________________________________________________________________________________\")\n",
        "print(\"Married couples bought product\",prod,\"maximum times\")\n",
        "print(\"___________________________________________________________________________________\")"
      ],
      "execution_count": 0,
      "outputs": [
        {
          "output_type": "stream",
          "text": [
            "3  has been brought  226  times\n",
            "4  has been brought  665  times\n",
            "5  has been brought  6402  times\n",
            "6  has been brought  1835  times\n",
            "8  has been brought  5194  times\n",
            "9  has been brought  4423  times\n",
            "10  has been brought  769  times\n",
            "11  has been brought  699  times\n",
            "12  has been brought  3656  times\n",
            "13  has been brought  2198  times\n",
            "14  has been brought  7704  times\n",
            "15  has been brought  11350  times\n",
            "16  has been brought  13047  times\n",
            "17  has been brought  7108  times\n",
            "18  has been brought  1926  times\n",
            "___________________________________________________________________________________\n",
            "Married couples bought product 16 maximum times\n",
            "___________________________________________________________________________________\n"
          ],
          "name": "stdout"
        }
      ]
    },
    {
      "cell_type": "code",
      "metadata": {
        "id": "KyUQQJ-2CGus",
        "colab_type": "code",
        "outputId": "a150d6bb-fb0c-406c-cf77-f6702e8ad6cc",
        "colab": {
          "base_uri": "https://localhost:8080/",
          "height": 323
        }
      },
      "source": [
        "####################PRODUCT 3 FOR UNMARRIED COUPLES ########################################\n",
        "prod=0\n",
        "max_c=0\n",
        "for i in prod3:\n",
        "  b=notmarrprod[notmarrprod['Product_Category_3']==i]\n",
        "  count=len(b.index)\n",
        "  print(i,\" has been brought \",count,\" times\")\n",
        "  if(max_c<count):\n",
        "    max_c=count\n",
        "    prod=i\n",
        "    \n",
        "  \n",
        "print(\"___________________________________________________________________________________\")\n",
        "print(\"Not Married couples bought product\",prod,\"maximum times\")\n",
        "print(\"___________________________________________________________________________________\")"
      ],
      "execution_count": 0,
      "outputs": [
        {
          "output_type": "stream",
          "text": [
            "3  has been brought  387  times\n",
            "4  has been brought  1210  times\n",
            "5  has been brought  10256  times\n",
            "6  has been brought  3055  times\n",
            "8  has been brought  7368  times\n",
            "9  has been brought  7156  times\n",
            "10  has been brought  957  times\n",
            "11  has been brought  1106  times\n",
            "12  has been brought  5590  times\n",
            "13  has been brought  3261  times\n",
            "14  has been brought  10724  times\n",
            "15  has been brought  16663  times\n",
            "16  has been brought  19589  times\n",
            "17  has been brought  9594  times\n",
            "18  has been brought  2703  times\n",
            "___________________________________________________________________________________\n",
            "Not Married couples bought product 16 maximum times\n",
            "___________________________________________________________________________________\n"
          ],
          "name": "stdout"
        }
      ]
    },
    {
      "cell_type": "code",
      "metadata": {
        "id": "Ai2mRKnlrJeT",
        "colab_type": "code",
        "colab": {}
      },
      "source": [
        "# 3. According to age and sex what are the most bought products?"
      ],
      "execution_count": 0,
      "outputs": []
    },
    {
      "cell_type": "code",
      "metadata": {
        "id": "HXG4fBA52_4E",
        "colab_type": "code",
        "outputId": "44a0d345-9d78-4e40-c942-4926aecb99d0",
        "colab": {
          "base_uri": "https://localhost:8080/",
          "height": 300
        }
      },
      "source": [
        "sns.countplot(df_train['Age'])"
      ],
      "execution_count": 0,
      "outputs": [
        {
          "output_type": "execute_result",
          "data": {
            "text/plain": [
              "<matplotlib.axes._subplots.AxesSubplot at 0x7fe1b7963208>"
            ]
          },
          "metadata": {
            "tags": []
          },
          "execution_count": 44
        },
        {
          "output_type": "display_data",
          "data": {
            "image/png": "[encoded data removed]",
            "text/plain": [
              "<Figure size 432x288 with 1 Axes>"
            ]
          },
          "metadata": {
            "tags": []
          }
        }
      ]
    },
    {
      "cell_type": "code",
      "metadata": {
        "id": "dHIvnB_c3AMe",
        "colab_type": "code",
        "outputId": "0f5063b3-5028-4533-bd9f-80e3c1a138aa",
        "colab": {
          "base_uri": "https://localhost:8080/",
          "height": 300
        }
      },
      "source": [
        "sns.countplot(df_train['Age'],hue=df_train['Gender'])"
      ],
      "execution_count": 0,
      "outputs": [
        {
          "output_type": "execute_result",
          "data": {
            "text/plain": [
              "<matplotlib.axes._subplots.AxesSubplot at 0x7fe1b78d5fd0>"
            ]
          },
          "metadata": {
            "tags": []
          },
          "execution_count": 45
        },
        {
          "output_type": "display_data",
          "data": {
            "image/png": "[encoded data removed]",
            "text/plain": [
              "<Figure size 432x288 with 1 Axes>"
            ]
          },
          "metadata": {
            "tags": []
          }
        }
      ]
    },
    {
      "cell_type": "code",
      "metadata": {
        "id": "xEzQdsCV3L2v",
        "colab_type": "code",
        "outputId": "189fa799-8f2a-468b-aec2-eda1771360cc",
        "colab": {
          "base_uri": "https://localhost:8080/",
          "height": 51
        }
      },
      "source": [
        "dfage=df_train['Age'].unique()\n",
        "dfage"
      ],
      "execution_count": 0,
      "outputs": [
        {
          "output_type": "execute_result",
          "data": {
            "text/plain": [
              "array(['0-17', '55+', '26-35', '46-50', '51-55', '36-45', '18-25'],\n",
              "      dtype=object)"
            ]
          },
          "metadata": {
            "tags": []
          },
          "execution_count": 46
        }
      ]
    },
    {
      "cell_type": "code",
      "metadata": {
        "id": "Ud23qQoHlZSn",
        "colab_type": "code",
        "colab": {}
      },
      "source": [
        "df_train[\"Product_Category_2\"] = df_train[\"Product_Category_2\"].astype(int)\n",
        "df_train[\"Product_Category_3\"] = df_train[\"Product_Category_3\"].astype(int)"
      ],
      "execution_count": 0,
      "outputs": []
    },
    {
      "cell_type": "code",
      "metadata": {
        "id": "AqtWjQxv_G_s",
        "colab_type": "code",
        "colab": {}
      },
      "source": [
        "df_train[\"Product_Category_2\"].replace(-1,float('nan'),inplace=True)\n",
        "df_train[\"Product_Category_3\"].replace(-1,float('nan'),inplace=True)"
      ],
      "execution_count": 0,
      "outputs": []
    },
    {
      "cell_type": "code",
      "metadata": {
        "id": "PNn0JZHx_UrS",
        "colab_type": "code",
        "colab": {}
      },
      "source": [
        "df_train['Age_Encoded'] = df_train['Age'].map({'0-17':0,'18-25':1,\n",
        "                          '26-35':2,'36-45':3,\n",
        "                          '46-50':4,'51-55':5,\n",
        "                          '55+':6})"
      ],
      "execution_count": 0,
      "outputs": []
    },
    {
      "cell_type": "code",
      "metadata": {
        "id": "Nf-2r1IV_0Pu",
        "colab_type": "code",
        "colab": {}
      },
      "source": [
        "age=df_train['Age_Encoded'].unique()"
      ],
      "execution_count": 0,
      "outputs": []
    },
    {
      "cell_type": "code",
      "metadata": {
        "id": "gjaX8NSYBeTL",
        "colab_type": "code",
        "outputId": "5dfe5d93-b657-4be2-bd3b-78344a779f3c",
        "colab": {
          "base_uri": "https://localhost:8080/",
          "height": 213
        }
      },
      "source": [
        "df_train.head(3)"
      ],
      "execution_count": 0,
      "outputs": [
        {
          "output_type": "execute_result",
          "data": {
            "text/html": [
              "<div>\n",
              "<style scoped>\n",
              "    .dataframe tbody tr th:only-of-type {\n",
              "        vertical-align: middle;\n",
              "    }\n",
              "\n",
              "    .dataframe tbody tr th {\n",
              "        vertical-align: top;\n",
              "    }\n",
              "\n",
              "    .dataframe thead th {\n",
              "        text-align: right;\n",
              "    }\n",
              "</style>\n",
              "<table border=\"1\" class=\"dataframe\">\n",
              "  <thead>\n",
              "    <tr style=\"text-align: right;\">\n",
              "      <th></th>\n",
              "      <th>User_ID</th>\n",
              "      <th>Product_ID</th>\n",
              "      <th>Gender</th>\n",
              "      <th>Age</th>\n",
              "      <th>Occupation</th>\n",
              "      <th>City_Category</th>\n",
              "      <th>Stay_In_Current_City_Years</th>\n",
              "      <th>Marital_Status</th>\n",
              "      <th>Product_Category_1</th>\n",
              "      <th>Product_Category_2</th>\n",
              "      <th>Product_Category_3</th>\n",
              "      <th>Purchase</th>\n",
              "      <th>Age_Encoded</th>\n",
              "    </tr>\n",
              "  </thead>\n",
              "  <tbody>\n",
              "    <tr>\n",
              "      <th>0</th>\n",
              "      <td>1000001</td>\n",
              "      <td>P00069042</td>\n",
              "      <td>F</td>\n",
              "      <td>0-17</td>\n",
              "      <td>10</td>\n",
              "      <td>A</td>\n",
              "      <td>2</td>\n",
              "      <td>0</td>\n",
              "      <td>3</td>\n",
              "      <td>NaN</td>\n",
              "      <td>NaN</td>\n",
              "      <td>8370</td>\n",
              "      <td>0</td>\n",
              "    </tr>\n",
              "    <tr>\n",
              "      <th>1</th>\n",
              "      <td>1000001</td>\n",
              "      <td>P00248942</td>\n",
              "      <td>F</td>\n",
              "      <td>0-17</td>\n",
              "      <td>10</td>\n",
              "      <td>A</td>\n",
              "      <td>2</td>\n",
              "      <td>0</td>\n",
              "      <td>1</td>\n",
              "      <td>6.0</td>\n",
              "      <td>14.0</td>\n",
              "      <td>15200</td>\n",
              "      <td>0</td>\n",
              "    </tr>\n",
              "    <tr>\n",
              "      <th>2</th>\n",
              "      <td>1000001</td>\n",
              "      <td>P00087842</td>\n",
              "      <td>F</td>\n",
              "      <td>0-17</td>\n",
              "      <td>10</td>\n",
              "      <td>A</td>\n",
              "      <td>2</td>\n",
              "      <td>0</td>\n",
              "      <td>12</td>\n",
              "      <td>NaN</td>\n",
              "      <td>NaN</td>\n",
              "      <td>1422</td>\n",
              "      <td>0</td>\n",
              "    </tr>\n",
              "  </tbody>\n",
              "</table>\n",
              "</div>"
            ],
            "text/plain": [
              "   User_ID Product_ID Gender  ... Product_Category_3  Purchase Age_Encoded\n",
              "0  1000001  P00069042      F  ...                NaN      8370           0\n",
              "1  1000001  P00248942      F  ...               14.0     15200           0\n",
              "2  1000001  P00087842      F  ...                NaN      1422           0\n",
              "\n",
              "[3 rows x 13 columns]"
            ]
          },
          "metadata": {
            "tags": []
          },
          "execution_count": 51
        }
      ]
    },
    {
      "cell_type": "code",
      "metadata": {
        "id": "GlCXLfCTARKp",
        "colab_type": "code",
        "outputId": "667cff1c-93db-47a7-88f4-a5b7b15f19b3",
        "colab": {
          "base_uri": "https://localhost:8080/",
          "height": 1998
        }
      },
      "source": [
        "################################## FEMALE & AGE PRODUCT SOLD #######################################\n",
        "for i in age:\n",
        "  newdf=df_train[(df_train['Age_Encoded']==i)&(df_train['Gender']=='F')]\n",
        "  pd1=newdf['Product_Category_1'].mode()\n",
        "  pd1=np.array(pd1)\n",
        "  count1=newdf['Product_Category_1'].value_counts()\n",
        "  count1=pd.DataFrame(count1)\n",
        "  count1.reset_index()\n",
        "  x=count1['Product_Category_1'].max()\n",
        "  l1='Product Category 1 number:',pd1[0]\n",
        "\n",
        "  newdr2=newdf\n",
        "  newdr2['Product_Category_2'].dropna(inplace=True)\n",
        "  pd2=newdr2['Product_Category_2'].mode()\n",
        "  pd2=np.array(pd2)\n",
        "  count2=newdf['Product_Category_2'].value_counts()\n",
        "  count2=pd.DataFrame(count2)\n",
        "  count2.reset_index()\n",
        "  y=count2['Product_Category_2'].max()\n",
        "  l2='Product Category 2 number:',pd2[0]\n",
        "  l2\n",
        "\n",
        "  newdr3=newdf\n",
        "  newdr3['Product_Category_3'].dropna(inplace=True)\n",
        "  pd3=newdr3['Product_Category_3'].mode()\n",
        "  pd3=np.array(pd3)\n",
        "  count3=newdf['Product_Category_3'].value_counts()\n",
        "  count3=pd.DataFrame(count3)\n",
        "  count3.reset_index()\n",
        "  z=count3['Product_Category_3'].max()\n",
        "  l3='Product Category 3 number:',pd3[0]\n",
        "  l3\n",
        "  pltdata=[x,y,z]\n",
        "\n",
        "  label=[l1,l2,l3]\n",
        "  plt.figure()\n",
        "  plt.title('product demand for age bin %i'%i)\n",
        "  plt.pie(pltdata,labels=label)\n",
        "  print('________________________________________________________________________________________')\n",
        "  "
      ],
      "execution_count": 0,
      "outputs": [
        {
          "output_type": "stream",
          "text": [
            "/usr/local/lib/python3.6/dist-packages/pandas/core/series.py:4303: SettingWithCopyWarning: \n",
            "A value is trying to be set on a copy of a slice from a DataFrame\n",
            "\n",
            "See the caveats in the documentation: http://pandas.pydata.org/pandas-docs/stable/indexing.html#indexing-view-versus-copy\n",
            "  self._update_inplace(result)\n"
          ],
          "name": "stderr"
        },
        {
          "output_type": "stream",
          "text": [
            "________________________________________________________________________________________\n",
            "________________________________________________________________________________________\n",
            "________________________________________________________________________________________\n",
            "________________________________________________________________________________________\n",
            "________________________________________________________________________________________\n",
            "________________________________________________________________________________________\n",
            "________________________________________________________________________________________\n"
          ],
          "name": "stdout"
        },
        {
          "output_type": "display_data",
          "data": {
            "image/png": "[encoded data removed]",
            "text/plain": [
              "<Figure size 432x288 with 1 Axes>"
            ]
          },
          "metadata": {
            "tags": []
          }
        },
        {
          "output_type": "display_data",
          "data": {
            "image/png": "[encoded data removed]",
            "text/plain": [
              "<Figure size 432x288 with 1 Axes>"
            ]
          },
          "metadata": {
            "tags": []
          }
        },
        {
          "output_type": "display_data",
          "data": {
            "image/png": "[encoded data removed]",
            "text/plain": [
              "<Figure size 432x288 with 1 Axes>"
            ]
          },
          "metadata": {
            "tags": []
          }
        },
        {
          "output_type": "display_data",
          "data": {
            "image/png": "[encoded data removed]",
            "text/plain": [
              "<Figure size 432x288 with 1 Axes>"
            ]
          },
          "metadata": {
            "tags": []
          }
        },
        {
          "output_type": "display_data",
          "data": {
            "image/png": "[encoded data removed]",
            "text/plain": [
              "<Figure size 432x288 with 1 Axes>"
            ]
          },
          "metadata": {
            "tags": []
          }
        },
        {
          "output_type": "display_data",
          "data": {
            "image/png": "[encoded data removed]",
            "text/plain": [
              "<Figure size 432x288 with 1 Axes>"
            ]
          },
          "metadata": {
            "tags": []
          }
        },
        {
          "output_type": "display_data",
          "data": {
            "image/png": "[encoded data removed]",
            "text/plain": [
              "<Figure size 432x288 with 1 Axes>"
            ]
          },
          "metadata": {
            "tags": []
          }
        }
      ]
    },
    {
      "cell_type": "code",
      "metadata": {
        "id": "fYOYEA4DDvX8",
        "colab_type": "code",
        "outputId": "133a1362-4e03-42b6-f3e6-ae0f46d4643d",
        "colab": {
          "base_uri": "https://localhost:8080/",
          "height": 1998
        }
      },
      "source": [
        "################################# MALE & AGE PRODUCT SOLD #######################################\n",
        "for i in age:\n",
        "  newdf=df_train[(df_train['Age_Encoded']==i)&(df_train['Gender']=='M')]\n",
        "  pd1=newdf['Product_Category_1'].mode()\n",
        "  pd1=np.array(pd1)\n",
        "  count1=newdf['Product_Category_1'].value_counts()\n",
        "  count1=pd.DataFrame(count1)\n",
        "  count1.reset_index()\n",
        "  x=count1['Product_Category_1'].max()\n",
        "  l1='Product Category 1 number:',pd1[0]\n",
        "\n",
        "  newdr2=newdf\n",
        "  newdr2['Product_Category_2'].dropna(inplace=True)\n",
        "  pd2=newdr2['Product_Category_2'].mode()\n",
        "  pd2=np.array(pd2)\n",
        "  count2=newdf['Product_Category_2'].value_counts()\n",
        "  count2=pd.DataFrame(count2)\n",
        "  count2.reset_index()\n",
        "  y=count2['Product_Category_2'].max()\n",
        "  l2='Product Category 2 number:',pd2[0]\n",
        "  l2\n",
        "\n",
        "  newdr3=newdf\n",
        "  newdr3['Product_Category_3'].dropna(inplace=True)\n",
        "  pd3=newdr3['Product_Category_3'].mode()\n",
        "  pd3=np.array(pd3)\n",
        "  count3=newdf['Product_Category_3'].value_counts()\n",
        "  count3=pd.DataFrame(count3)\n",
        "  count3.reset_index()\n",
        "  z=count3['Product_Category_3'].max()\n",
        "  l3='Product Category 3 number:',pd3[0]\n",
        "  l3\n",
        "  pltdata=[x,y,z]\n",
        "\n",
        "  label=[l1,l2,l3]\n",
        "  plt.figure()\n",
        "  plt.title('product demand for age bin %i'%i)\n",
        "  plt.pie(pltdata,labels=label)\n",
        "  print('________________________________________________________________________________________')\n",
        "  "
      ],
      "execution_count": 0,
      "outputs": [
        {
          "output_type": "stream",
          "text": [
            "/usr/local/lib/python3.6/dist-packages/pandas/core/series.py:4303: SettingWithCopyWarning: \n",
            "A value is trying to be set on a copy of a slice from a DataFrame\n",
            "\n",
            "See the caveats in the documentation: http://pandas.pydata.org/pandas-docs/stable/indexing.html#indexing-view-versus-copy\n",
            "  self._update_inplace(result)\n"
          ],
          "name": "stderr"
        },
        {
          "output_type": "stream",
          "text": [
            "________________________________________________________________________________________\n",
            "________________________________________________________________________________________\n",
            "________________________________________________________________________________________\n",
            "________________________________________________________________________________________\n",
            "________________________________________________________________________________________\n",
            "________________________________________________________________________________________\n",
            "________________________________________________________________________________________\n"
          ],
          "name": "stdout"
        },
        {
          "output_type": "display_data",
          "data": {
            "image/png": "[encoded data removed]",
            "text/plain": [
              "<Figure size 432x288 with 1 Axes>"
            ]
          },
          "metadata": {
            "tags": []
          }
        },
        {
          "output_type": "display_data",
          "data": {
            "image/png": "[encoded data removed]",
            "text/plain": [
              "<Figure size 432x288 with 1 Axes>"
            ]
          },
          "metadata": {
            "tags": []
          }
        },
        {
          "output_type": "display_data",
          "data": {
            "image/png": "[encoded data removed]",
            "text/plain": [
              "<Figure size 432x288 with 1 Axes>"
            ]
          },
          "metadata": {
            "tags": []
          }
        },
        {
          "output_type": "display_data",
          "data": {
            "image/png": "[encoded data removed]",
            "text/plain": [
              "<Figure size 432x288 with 1 Axes>"
            ]
          },
          "metadata": {
            "tags": []
          }
        },
        {
          "output_type": "display_data",
          "data": {
            "image/png": "[encoded data removed]",
            "text/plain": [
              "<Figure size 432x288 with 1 Axes>"
            ]
          },
          "metadata": {
            "tags": []
          }
        },
        {
          "output_type": "display_data",
          "data": {
            "image/png": "[encoded data removed]",
            "text/plain": [
              "<Figure size 432x288 with 1 Axes>"
            ]
          },
          "metadata": {
            "tags": []
          }
        },
        {
          "output_type": "display_data",
          "data": {
            "image/png": "[encoded data removed]",
            "text/plain": [
              "<Figure size 432x288 with 1 Axes>"
            ]
          },
          "metadata": {
            "tags": []
          }
        }
      ]
    },
    {
      "cell_type": "code",
      "metadata": {
        "id": "8l-WU_f7FaVx",
        "colab_type": "code",
        "colab": {}
      },
      "source": [
        "#########################################################################################################################\n",
        "#########################################################################################################################\n",
        "#########################################################################################################################"
      ],
      "execution_count": 0,
      "outputs": []
    },
    {
      "cell_type": "code",
      "metadata": {
        "id": "7tZAAjM3qRM1",
        "colab_type": "code",
        "outputId": "78fc785d-a362-488d-f05a-de2fef807d97",
        "colab": {
          "base_uri": "https://localhost:8080/",
          "height": 261
        }
      },
      "source": [
        "df_train.head(4)"
      ],
      "execution_count": 0,
      "outputs": [
        {
          "output_type": "execute_result",
          "data": {
            "text/html": [
              "<div>\n",
              "<style scoped>\n",
              "    .dataframe tbody tr th:only-of-type {\n",
              "        vertical-align: middle;\n",
              "    }\n",
              "\n",
              "    .dataframe tbody tr th {\n",
              "        vertical-align: top;\n",
              "    }\n",
              "\n",
              "    .dataframe thead th {\n",
              "        text-align: right;\n",
              "    }\n",
              "</style>\n",
              "<table border=\"1\" class=\"dataframe\">\n",
              "  <thead>\n",
              "    <tr style=\"text-align: right;\">\n",
              "      <th></th>\n",
              "      <th>User_ID</th>\n",
              "      <th>Product_ID</th>\n",
              "      <th>Gender</th>\n",
              "      <th>Age</th>\n",
              "      <th>Occupation</th>\n",
              "      <th>City_Category</th>\n",
              "      <th>Stay_In_Current_City_Years</th>\n",
              "      <th>Marital_Status</th>\n",
              "      <th>Product_Category_1</th>\n",
              "      <th>Product_Category_2</th>\n",
              "      <th>Product_Category_3</th>\n",
              "      <th>Purchase</th>\n",
              "      <th>Age_Encoded</th>\n",
              "    </tr>\n",
              "  </thead>\n",
              "  <tbody>\n",
              "    <tr>\n",
              "      <th>0</th>\n",
              "      <td>1000001</td>\n",
              "      <td>P00069042</td>\n",
              "      <td>F</td>\n",
              "      <td>0-17</td>\n",
              "      <td>10</td>\n",
              "      <td>A</td>\n",
              "      <td>2</td>\n",
              "      <td>0</td>\n",
              "      <td>3</td>\n",
              "      <td>NaN</td>\n",
              "      <td>NaN</td>\n",
              "      <td>8370</td>\n",
              "      <td>0</td>\n",
              "    </tr>\n",
              "    <tr>\n",
              "      <th>1</th>\n",
              "      <td>1000001</td>\n",
              "      <td>P00248942</td>\n",
              "      <td>F</td>\n",
              "      <td>0-17</td>\n",
              "      <td>10</td>\n",
              "      <td>A</td>\n",
              "      <td>2</td>\n",
              "      <td>0</td>\n",
              "      <td>1</td>\n",
              "      <td>6.0</td>\n",
              "      <td>14.0</td>\n",
              "      <td>15200</td>\n",
              "      <td>0</td>\n",
              "    </tr>\n",
              "    <tr>\n",
              "      <th>2</th>\n",
              "      <td>1000001</td>\n",
              "      <td>P00087842</td>\n",
              "      <td>F</td>\n",
              "      <td>0-17</td>\n",
              "      <td>10</td>\n",
              "      <td>A</td>\n",
              "      <td>2</td>\n",
              "      <td>0</td>\n",
              "      <td>12</td>\n",
              "      <td>NaN</td>\n",
              "      <td>NaN</td>\n",
              "      <td>1422</td>\n",
              "      <td>0</td>\n",
              "    </tr>\n",
              "    <tr>\n",
              "      <th>3</th>\n",
              "      <td>1000001</td>\n",
              "      <td>P00085442</td>\n",
              "      <td>F</td>\n",
              "      <td>0-17</td>\n",
              "      <td>10</td>\n",
              "      <td>A</td>\n",
              "      <td>2</td>\n",
              "      <td>0</td>\n",
              "      <td>12</td>\n",
              "      <td>14.0</td>\n",
              "      <td>NaN</td>\n",
              "      <td>1057</td>\n",
              "      <td>0</td>\n",
              "    </tr>\n",
              "  </tbody>\n",
              "</table>\n",
              "</div>"
            ],
            "text/plain": [
              "   User_ID Product_ID Gender  ... Product_Category_3  Purchase Age_Encoded\n",
              "0  1000001  P00069042      F  ...                NaN      8370           0\n",
              "1  1000001  P00248942      F  ...               14.0     15200           0\n",
              "2  1000001  P00087842      F  ...                NaN      1422           0\n",
              "3  1000001  P00085442      F  ...                NaN      1057           0\n",
              "\n",
              "[4 rows x 13 columns]"
            ]
          },
          "metadata": {
            "tags": []
          },
          "execution_count": 55
        }
      ]
    },
    {
      "cell_type": "code",
      "metadata": {
        "id": "rh9LmwCwGlUa",
        "colab_type": "code",
        "outputId": "b3002d54-79d1-4981-e178-0f334bc4df08",
        "colab": {
          "base_uri": "https://localhost:8080/",
          "height": 292
        }
      },
      "source": [
        "df_train['Product_Category_2'].fillna(0,inplace=True)\n",
        "df_train['Product_Category_3'].fillna(0,inplace=True)\n",
        "df_train['Product_Category_2']=df_train['Product_Category_2'].astype('int64')\n",
        "df_train['Product_Category_3']=df_train['Product_Category_3'].astype('int64')\n",
        "df_train.head()"
      ],
      "execution_count": 0,
      "outputs": [
        {
          "output_type": "execute_result",
          "data": {
            "text/html": [
              "<div>\n",
              "<style scoped>\n",
              "    .dataframe tbody tr th:only-of-type {\n",
              "        vertical-align: middle;\n",
              "    }\n",
              "\n",
              "    .dataframe tbody tr th {\n",
              "        vertical-align: top;\n",
              "    }\n",
              "\n",
              "    .dataframe thead th {\n",
              "        text-align: right;\n",
              "    }\n",
              "</style>\n",
              "<table border=\"1\" class=\"dataframe\">\n",
              "  <thead>\n",
              "    <tr style=\"text-align: right;\">\n",
              "      <th></th>\n",
              "      <th>User_ID</th>\n",
              "      <th>Product_ID</th>\n",
              "      <th>Gender</th>\n",
              "      <th>Age</th>\n",
              "      <th>Occupation</th>\n",
              "      <th>City_Category</th>\n",
              "      <th>Stay_In_Current_City_Years</th>\n",
              "      <th>Marital_Status</th>\n",
              "      <th>Product_Category_1</th>\n",
              "      <th>Product_Category_2</th>\n",
              "      <th>Product_Category_3</th>\n",
              "      <th>Purchase</th>\n",
              "      <th>Age_Encoded</th>\n",
              "    </tr>\n",
              "  </thead>\n",
              "  <tbody>\n",
              "    <tr>\n",
              "      <th>0</th>\n",
              "      <td>1000001</td>\n",
              "      <td>P00069042</td>\n",
              "      <td>F</td>\n",
              "      <td>0-17</td>\n",
              "      <td>10</td>\n",
              "      <td>A</td>\n",
              "      <td>2</td>\n",
              "      <td>0</td>\n",
              "      <td>3</td>\n",
              "      <td>0</td>\n",
              "      <td>0</td>\n",
              "      <td>8370</td>\n",
              "      <td>0</td>\n",
              "    </tr>\n",
              "    <tr>\n",
              "      <th>1</th>\n",
              "      <td>1000001</td>\n",
              "      <td>P00248942</td>\n",
              "      <td>F</td>\n",
              "      <td>0-17</td>\n",
              "      <td>10</td>\n",
              "      <td>A</td>\n",
              "      <td>2</td>\n",
              "      <td>0</td>\n",
              "      <td>1</td>\n",
              "      <td>6</td>\n",
              "      <td>14</td>\n",
              "      <td>15200</td>\n",
              "      <td>0</td>\n",
              "    </tr>\n",
              "    <tr>\n",
              "      <th>2</th>\n",
              "      <td>1000001</td>\n",
              "      <td>P00087842</td>\n",
              "      <td>F</td>\n",
              "      <td>0-17</td>\n",
              "      <td>10</td>\n",
              "      <td>A</td>\n",
              "      <td>2</td>\n",
              "      <td>0</td>\n",
              "      <td>12</td>\n",
              "      <td>0</td>\n",
              "      <td>0</td>\n",
              "      <td>1422</td>\n",
              "      <td>0</td>\n",
              "    </tr>\n",
              "    <tr>\n",
              "      <th>3</th>\n",
              "      <td>1000001</td>\n",
              "      <td>P00085442</td>\n",
              "      <td>F</td>\n",
              "      <td>0-17</td>\n",
              "      <td>10</td>\n",
              "      <td>A</td>\n",
              "      <td>2</td>\n",
              "      <td>0</td>\n",
              "      <td>12</td>\n",
              "      <td>14</td>\n",
              "      <td>0</td>\n",
              "      <td>1057</td>\n",
              "      <td>0</td>\n",
              "    </tr>\n",
              "    <tr>\n",
              "      <th>4</th>\n",
              "      <td>1000002</td>\n",
              "      <td>P00285442</td>\n",
              "      <td>M</td>\n",
              "      <td>55+</td>\n",
              "      <td>16</td>\n",
              "      <td>C</td>\n",
              "      <td>4+</td>\n",
              "      <td>0</td>\n",
              "      <td>8</td>\n",
              "      <td>0</td>\n",
              "      <td>0</td>\n",
              "      <td>7969</td>\n",
              "      <td>6</td>\n",
              "    </tr>\n",
              "  </tbody>\n",
              "</table>\n",
              "</div>"
            ],
            "text/plain": [
              "   User_ID Product_ID Gender  ... Product_Category_3  Purchase Age_Encoded\n",
              "0  1000001  P00069042      F  ...                  0      8370           0\n",
              "1  1000001  P00248942      F  ...                 14     15200           0\n",
              "2  1000001  P00087842      F  ...                  0      1422           0\n",
              "3  1000001  P00085442      F  ...                  0      1057           0\n",
              "4  1000002  P00285442      M  ...                  0      7969           6\n",
              "\n",
              "[5 rows x 13 columns]"
            ]
          },
          "metadata": {
            "tags": []
          },
          "execution_count": 56
        }
      ]
    },
    {
      "cell_type": "code",
      "metadata": {
        "id": "LFWGEaCSGweU",
        "colab_type": "code",
        "colab": {}
      },
      "source": [
        "df_train['Age_Encoded'] = df_train['Age'].map({'0-17':0,'18-25':1,\n",
        "                          '26-35':2,'36-45':3,\n",
        "                          '46-50':4,'51-55':5,\n",
        "                          '55+':6})"
      ],
      "execution_count": 0,
      "outputs": []
    },
    {
      "cell_type": "code",
      "metadata": {
        "id": "ujOqyIyEGzgU",
        "colab_type": "code",
        "outputId": "6278ef90-95ac-49af-ebaa-013e132cb591",
        "colab": {
          "base_uri": "https://localhost:8080/",
          "height": 391
        }
      },
      "source": [
        "df_train['Occupation'].value_counts()"
      ],
      "execution_count": 0,
      "outputs": [
        {
          "output_type": "execute_result",
          "data": {
            "text/plain": [
              "4     72308\n",
              "0     69638\n",
              "7     59133\n",
              "1     47426\n",
              "17    40043\n",
              "20    33562\n",
              "12    31179\n",
              "14    27309\n",
              "2     26588\n",
              "16    25371\n",
              "6     20355\n",
              "3     17650\n",
              "10    12930\n",
              "5     12177\n",
              "15    12165\n",
              "11    11586\n",
              "19     8461\n",
              "13     7728\n",
              "18     6622\n",
              "9      6291\n",
              "8      1546\n",
              "Name: Occupation, dtype: int64"
            ]
          },
          "metadata": {
            "tags": []
          },
          "execution_count": 58
        }
      ]
    },
    {
      "cell_type": "code",
      "metadata": {
        "id": "Rc-V5ubAG1xM",
        "colab_type": "code",
        "outputId": "a78b1f47-021d-4fce-986c-b1966380eb78",
        "colab": {
          "base_uri": "https://localhost:8080/",
          "height": 323
        }
      },
      "source": [
        "#As Occ number 8 9 18 13 19 Are Considerably less so they can be created into new data entry as others number=100\n",
        "df_train['Occupation'].replace(8,100,inplace=True)\n",
        "df_train['Occupation'].replace(9,100,inplace=True)\n",
        "df_train['Occupation'].replace(18,100,inplace=True)\n",
        "df_train['Occupation'].replace(13,100,inplace=True)\n",
        "df_train['Occupation'].replace(19,100,inplace=True)\n",
        "df_train['Occupation'].value_counts()"
      ],
      "execution_count": 0,
      "outputs": [
        {
          "output_type": "execute_result",
          "data": {
            "text/plain": [
              "4      72308\n",
              "0      69638\n",
              "7      59133\n",
              "1      47426\n",
              "17     40043\n",
              "20     33562\n",
              "12     31179\n",
              "100    30648\n",
              "14     27309\n",
              "2      26588\n",
              "16     25371\n",
              "6      20355\n",
              "3      17650\n",
              "10     12930\n",
              "5      12177\n",
              "15     12165\n",
              "11     11586\n",
              "Name: Occupation, dtype: int64"
            ]
          },
          "metadata": {
            "tags": []
          },
          "execution_count": 59
        }
      ]
    },
    {
      "cell_type": "code",
      "metadata": {
        "id": "0ijY7fu7G3Sv",
        "colab_type": "code",
        "colab": {}
      },
      "source": [
        "############################Dummy Variable Creation one hot encoding for Gender#########################################\n",
        "df_trainj=pd.get_dummies(df_train['Gender'])\n",
        "df_trainj\n",
        "df_train['F']=df_trainj['F']\n",
        "df_train['M']=df_trainj['M']"
      ],
      "execution_count": 0,
      "outputs": []
    },
    {
      "cell_type": "code",
      "metadata": {
        "id": "flglX2ylG9cQ",
        "colab_type": "code",
        "colab": {}
      },
      "source": [
        "###################Dummy Variables Creation For City Category Stay and Marital St#####################################\n",
        "dum_city=pd.get_dummies(df_train['City_Category'])\n",
        "df_train=pd.concat([df_train,dum_city],axis=1)"
      ],
      "execution_count": 0,
      "outputs": []
    },
    {
      "cell_type": "code",
      "metadata": {
        "id": "m1HPujdHHCma",
        "colab_type": "code",
        "colab": {}
      },
      "source": [
        "dum_stay=pd.get_dummies(df_train['Stay_In_Current_City_Years'])\n",
        "df_train=pd.concat([df_train,dum_stay],axis=1)"
      ],
      "execution_count": 0,
      "outputs": []
    },
    {
      "cell_type": "code",
      "metadata": {
        "id": "cDN5aB5THErM",
        "colab_type": "code",
        "colab": {}
      },
      "source": [
        "df_train.rename(columns={'0':'0 year','1':'1 year','2':'2 years','3':'3 years','4+':'4+ years','F':'Female','M':'Male','A':'City A','B':'City B','C':'City C'},inplace=True)"
      ],
      "execution_count": 0,
      "outputs": []
    },
    {
      "cell_type": "code",
      "metadata": {
        "id": "ZGF4jiedMw6B",
        "colab_type": "code",
        "outputId": "33199e84-a1e0-473d-a50a-e7908a5421bc",
        "colab": {
          "base_uri": "https://localhost:8080/",
          "height": 34
        }
      },
      "source": [
        "################################################PRODUCT AND USER ID Feature engg####################################################\n",
        "df_train['User_ID'].nunique()"
      ],
      "execution_count": 0,
      "outputs": [
        {
          "output_type": "execute_result",
          "data": {
            "text/plain": [
              "5891"
            ]
          },
          "metadata": {
            "tags": []
          },
          "execution_count": 64
        }
      ]
    },
    {
      "cell_type": "code",
      "metadata": {
        "id": "tg-HZtciNeY-",
        "colab_type": "code",
        "outputId": "cca5ce17-9ae6-4f7a-8283-ec4539fac7d6",
        "colab": {
          "base_uri": "https://localhost:8080/",
          "height": 34
        }
      },
      "source": [
        "df_train['Product_ID'].nunique()"
      ],
      "execution_count": 0,
      "outputs": [
        {
          "output_type": "execute_result",
          "data": {
            "text/plain": [
              "3631"
            ]
          },
          "metadata": {
            "tags": []
          },
          "execution_count": 65
        }
      ]
    },
    {
      "cell_type": "code",
      "metadata": {
        "id": "mxy8rsHKNuRD",
        "colab_type": "code",
        "outputId": "0e638409-7a50-4203-8d53-f61f0dc0e7fe",
        "colab": {
          "base_uri": "https://localhost:8080/",
          "height": 1969
        }
      },
      "source": [
        "prodhit=df_train['Product_ID'].value_counts()\n",
        "prodhit=pd.DataFrame(prodhit)\n",
        "prodhit.reset_index(inplace=True)\n",
        "prodhit"
      ],
      "execution_count": 0,
      "outputs": [
        {
          "output_type": "execute_result",
          "data": {
            "text/html": [
              "<div>\n",
              "<style scoped>\n",
              "    .dataframe tbody tr th:only-of-type {\n",
              "        vertical-align: middle;\n",
              "    }\n",
              "\n",
              "    .dataframe tbody tr th {\n",
              "        vertical-align: top;\n",
              "    }\n",
              "\n",
              "    .dataframe thead th {\n",
              "        text-align: right;\n",
              "    }\n",
              "</style>\n",
              "<table border=\"1\" class=\"dataframe\">\n",
              "  <thead>\n",
              "    <tr style=\"text-align: right;\">\n",
              "      <th></th>\n",
              "      <th>index</th>\n",
              "      <th>Product_ID</th>\n",
              "    </tr>\n",
              "  </thead>\n",
              "  <tbody>\n",
              "    <tr>\n",
              "      <th>0</th>\n",
              "      <td>P00265242</td>\n",
              "      <td>1880</td>\n",
              "    </tr>\n",
              "    <tr>\n",
              "      <th>1</th>\n",
              "      <td>P00025442</td>\n",
              "      <td>1615</td>\n",
              "    </tr>\n",
              "    <tr>\n",
              "      <th>2</th>\n",
              "      <td>P00110742</td>\n",
              "      <td>1612</td>\n",
              "    </tr>\n",
              "    <tr>\n",
              "      <th>3</th>\n",
              "      <td>P00112142</td>\n",
              "      <td>1562</td>\n",
              "    </tr>\n",
              "    <tr>\n",
              "      <th>4</th>\n",
              "      <td>P00057642</td>\n",
              "      <td>1470</td>\n",
              "    </tr>\n",
              "    <tr>\n",
              "      <th>5</th>\n",
              "      <td>P00184942</td>\n",
              "      <td>1440</td>\n",
              "    </tr>\n",
              "    <tr>\n",
              "      <th>6</th>\n",
              "      <td>P00046742</td>\n",
              "      <td>1438</td>\n",
              "    </tr>\n",
              "    <tr>\n",
              "      <th>7</th>\n",
              "      <td>P00058042</td>\n",
              "      <td>1422</td>\n",
              "    </tr>\n",
              "    <tr>\n",
              "      <th>8</th>\n",
              "      <td>P00145042</td>\n",
              "      <td>1406</td>\n",
              "    </tr>\n",
              "    <tr>\n",
              "      <th>9</th>\n",
              "      <td>P00059442</td>\n",
              "      <td>1406</td>\n",
              "    </tr>\n",
              "    <tr>\n",
              "      <th>10</th>\n",
              "      <td>P00237542</td>\n",
              "      <td>1394</td>\n",
              "    </tr>\n",
              "    <tr>\n",
              "      <th>11</th>\n",
              "      <td>P00255842</td>\n",
              "      <td>1383</td>\n",
              "    </tr>\n",
              "    <tr>\n",
              "      <th>12</th>\n",
              "      <td>P00117942</td>\n",
              "      <td>1364</td>\n",
              "    </tr>\n",
              "    <tr>\n",
              "      <th>13</th>\n",
              "      <td>P00110942</td>\n",
              "      <td>1360</td>\n",
              "    </tr>\n",
              "    <tr>\n",
              "      <th>14</th>\n",
              "      <td>P00010742</td>\n",
              "      <td>1350</td>\n",
              "    </tr>\n",
              "    <tr>\n",
              "      <th>15</th>\n",
              "      <td>P00220442</td>\n",
              "      <td>1282</td>\n",
              "    </tr>\n",
              "    <tr>\n",
              "      <th>16</th>\n",
              "      <td>P00110842</td>\n",
              "      <td>1281</td>\n",
              "    </tr>\n",
              "    <tr>\n",
              "      <th>17</th>\n",
              "      <td>P00117442</td>\n",
              "      <td>1260</td>\n",
              "    </tr>\n",
              "    <tr>\n",
              "      <th>18</th>\n",
              "      <td>P00051442</td>\n",
              "      <td>1249</td>\n",
              "    </tr>\n",
              "    <tr>\n",
              "      <th>19</th>\n",
              "      <td>P00102642</td>\n",
              "      <td>1246</td>\n",
              "    </tr>\n",
              "    <tr>\n",
              "      <th>20</th>\n",
              "      <td>P00278642</td>\n",
              "      <td>1226</td>\n",
              "    </tr>\n",
              "    <tr>\n",
              "      <th>21</th>\n",
              "      <td>P00242742</td>\n",
              "      <td>1215</td>\n",
              "    </tr>\n",
              "    <tr>\n",
              "      <th>22</th>\n",
              "      <td>P00034742</td>\n",
              "      <td>1212</td>\n",
              "    </tr>\n",
              "    <tr>\n",
              "      <th>23</th>\n",
              "      <td>P00148642</td>\n",
              "      <td>1204</td>\n",
              "    </tr>\n",
              "    <tr>\n",
              "      <th>24</th>\n",
              "      <td>P00080342</td>\n",
              "      <td>1203</td>\n",
              "    </tr>\n",
              "    <tr>\n",
              "      <th>25</th>\n",
              "      <td>P00031042</td>\n",
              "      <td>1200</td>\n",
              "    </tr>\n",
              "    <tr>\n",
              "      <th>26</th>\n",
              "      <td>P00028842</td>\n",
              "      <td>1197</td>\n",
              "    </tr>\n",
              "    <tr>\n",
              "      <th>27</th>\n",
              "      <td>P00251242</td>\n",
              "      <td>1187</td>\n",
              "    </tr>\n",
              "    <tr>\n",
              "      <th>28</th>\n",
              "      <td>P00114942</td>\n",
              "      <td>1178</td>\n",
              "    </tr>\n",
              "    <tr>\n",
              "      <th>29</th>\n",
              "      <td>P00270942</td>\n",
              "      <td>1152</td>\n",
              "    </tr>\n",
              "    <tr>\n",
              "      <th>...</th>\n",
              "      <td>...</td>\n",
              "      <td>...</td>\n",
              "    </tr>\n",
              "    <tr>\n",
              "      <th>3601</th>\n",
              "      <td>P00166442</td>\n",
              "      <td>1</td>\n",
              "    </tr>\n",
              "    <tr>\n",
              "      <th>3602</th>\n",
              "      <td>P00068342</td>\n",
              "      <td>1</td>\n",
              "    </tr>\n",
              "    <tr>\n",
              "      <th>3603</th>\n",
              "      <td>P00013442</td>\n",
              "      <td>1</td>\n",
              "    </tr>\n",
              "    <tr>\n",
              "      <th>3604</th>\n",
              "      <td>P00315242</td>\n",
              "      <td>1</td>\n",
              "    </tr>\n",
              "    <tr>\n",
              "      <th>3605</th>\n",
              "      <td>P00350742</td>\n",
              "      <td>1</td>\n",
              "    </tr>\n",
              "    <tr>\n",
              "      <th>3606</th>\n",
              "      <td>P00054442</td>\n",
              "      <td>1</td>\n",
              "    </tr>\n",
              "    <tr>\n",
              "      <th>3607</th>\n",
              "      <td>P00064542</td>\n",
              "      <td>1</td>\n",
              "    </tr>\n",
              "    <tr>\n",
              "      <th>3608</th>\n",
              "      <td>P00353742</td>\n",
              "      <td>1</td>\n",
              "    </tr>\n",
              "    <tr>\n",
              "      <th>3609</th>\n",
              "      <td>P00172642</td>\n",
              "      <td>1</td>\n",
              "    </tr>\n",
              "    <tr>\n",
              "      <th>3610</th>\n",
              "      <td>P00133042</td>\n",
              "      <td>1</td>\n",
              "    </tr>\n",
              "    <tr>\n",
              "      <th>3611</th>\n",
              "      <td>P00075042</td>\n",
              "      <td>1</td>\n",
              "    </tr>\n",
              "    <tr>\n",
              "      <th>3612</th>\n",
              "      <td>P00204442</td>\n",
              "      <td>1</td>\n",
              "    </tr>\n",
              "    <tr>\n",
              "      <th>3613</th>\n",
              "      <td>P00309042</td>\n",
              "      <td>1</td>\n",
              "    </tr>\n",
              "    <tr>\n",
              "      <th>3614</th>\n",
              "      <td>P00339142</td>\n",
              "      <td>1</td>\n",
              "    </tr>\n",
              "    <tr>\n",
              "      <th>3615</th>\n",
              "      <td>P00241842</td>\n",
              "      <td>1</td>\n",
              "    </tr>\n",
              "    <tr>\n",
              "      <th>3616</th>\n",
              "      <td>P00062342</td>\n",
              "      <td>1</td>\n",
              "    </tr>\n",
              "    <tr>\n",
              "      <th>3617</th>\n",
              "      <td>P00149742</td>\n",
              "      <td>1</td>\n",
              "    </tr>\n",
              "    <tr>\n",
              "      <th>3618</th>\n",
              "      <td>P00298842</td>\n",
              "      <td>1</td>\n",
              "    </tr>\n",
              "    <tr>\n",
              "      <th>3619</th>\n",
              "      <td>P00215142</td>\n",
              "      <td>1</td>\n",
              "    </tr>\n",
              "    <tr>\n",
              "      <th>3620</th>\n",
              "      <td>P00104042</td>\n",
              "      <td>1</td>\n",
              "    </tr>\n",
              "    <tr>\n",
              "      <th>3621</th>\n",
              "      <td>P00069642</td>\n",
              "      <td>1</td>\n",
              "    </tr>\n",
              "    <tr>\n",
              "      <th>3622</th>\n",
              "      <td>P00080442</td>\n",
              "      <td>1</td>\n",
              "    </tr>\n",
              "    <tr>\n",
              "      <th>3623</th>\n",
              "      <td>P00306542</td>\n",
              "      <td>1</td>\n",
              "    </tr>\n",
              "    <tr>\n",
              "      <th>3624</th>\n",
              "      <td>P00126342</td>\n",
              "      <td>1</td>\n",
              "    </tr>\n",
              "    <tr>\n",
              "      <th>3625</th>\n",
              "      <td>P00156642</td>\n",
              "      <td>1</td>\n",
              "    </tr>\n",
              "    <tr>\n",
              "      <th>3626</th>\n",
              "      <td>P00038642</td>\n",
              "      <td>1</td>\n",
              "    </tr>\n",
              "    <tr>\n",
              "      <th>3627</th>\n",
              "      <td>P00231642</td>\n",
              "      <td>1</td>\n",
              "    </tr>\n",
              "    <tr>\n",
              "      <th>3628</th>\n",
              "      <td>P00203242</td>\n",
              "      <td>1</td>\n",
              "    </tr>\n",
              "    <tr>\n",
              "      <th>3629</th>\n",
              "      <td>P00013542</td>\n",
              "      <td>1</td>\n",
              "    </tr>\n",
              "    <tr>\n",
              "      <th>3630</th>\n",
              "      <td>P00329842</td>\n",
              "      <td>1</td>\n",
              "    </tr>\n",
              "  </tbody>\n",
              "</table>\n",
              "<p>3631 rows × 2 columns</p>\n",
              "</div>"
            ],
            "text/plain": [
              "          index  Product_ID\n",
              "0     P00265242        1880\n",
              "1     P00025442        1615\n",
              "2     P00110742        1612\n",
              "3     P00112142        1562\n",
              "4     P00057642        1470\n",
              "5     P00184942        1440\n",
              "6     P00046742        1438\n",
              "7     P00058042        1422\n",
              "8     P00145042        1406\n",
              "9     P00059442        1406\n",
              "10    P00237542        1394\n",
              "11    P00255842        1383\n",
              "12    P00117942        1364\n",
              "13    P00110942        1360\n",
              "14    P00010742        1350\n",
              "15    P00220442        1282\n",
              "16    P00110842        1281\n",
              "17    P00117442        1260\n",
              "18    P00051442        1249\n",
              "19    P00102642        1246\n",
              "20    P00278642        1226\n",
              "21    P00242742        1215\n",
              "22    P00034742        1212\n",
              "23    P00148642        1204\n",
              "24    P00080342        1203\n",
              "25    P00031042        1200\n",
              "26    P00028842        1197\n",
              "27    P00251242        1187\n",
              "28    P00114942        1178\n",
              "29    P00270942        1152\n",
              "...         ...         ...\n",
              "3601  P00166442           1\n",
              "3602  P00068342           1\n",
              "3603  P00013442           1\n",
              "3604  P00315242           1\n",
              "3605  P00350742           1\n",
              "3606  P00054442           1\n",
              "3607  P00064542           1\n",
              "3608  P00353742           1\n",
              "3609  P00172642           1\n",
              "3610  P00133042           1\n",
              "3611  P00075042           1\n",
              "3612  P00204442           1\n",
              "3613  P00309042           1\n",
              "3614  P00339142           1\n",
              "3615  P00241842           1\n",
              "3616  P00062342           1\n",
              "3617  P00149742           1\n",
              "3618  P00298842           1\n",
              "3619  P00215142           1\n",
              "3620  P00104042           1\n",
              "3621  P00069642           1\n",
              "3622  P00080442           1\n",
              "3623  P00306542           1\n",
              "3624  P00126342           1\n",
              "3625  P00156642           1\n",
              "3626  P00038642           1\n",
              "3627  P00231642           1\n",
              "3628  P00203242           1\n",
              "3629  P00013542           1\n",
              "3630  P00329842           1\n",
              "\n",
              "[3631 rows x 2 columns]"
            ]
          },
          "metadata": {
            "tags": []
          },
          "execution_count": 66
        }
      ]
    },
    {
      "cell_type": "code",
      "metadata": {
        "id": "0hIXbct7NznB",
        "colab_type": "code",
        "colab": {}
      },
      "source": [
        "prodhit.rename(columns={'index':'ProdNum','Product_ID':'Producthits'},inplace=True)"
      ],
      "execution_count": 0,
      "outputs": []
    },
    {
      "cell_type": "code",
      "metadata": {
        "id": "Mm39m-c_OQ5m",
        "colab_type": "code",
        "outputId": "23dd137b-0872-405f-8ac6-29d0e1f8a6a6",
        "colab": {
          "base_uri": "https://localhost:8080/",
          "height": 204
        }
      },
      "source": [
        "prodhit.head()"
      ],
      "execution_count": 0,
      "outputs": [
        {
          "output_type": "execute_result",
          "data": {
            "text/html": [
              "<div>\n",
              "<style scoped>\n",
              "    .dataframe tbody tr th:only-of-type {\n",
              "        vertical-align: middle;\n",
              "    }\n",
              "\n",
              "    .dataframe tbody tr th {\n",
              "        vertical-align: top;\n",
              "    }\n",
              "\n",
              "    .dataframe thead th {\n",
              "        text-align: right;\n",
              "    }\n",
              "</style>\n",
              "<table border=\"1\" class=\"dataframe\">\n",
              "  <thead>\n",
              "    <tr style=\"text-align: right;\">\n",
              "      <th></th>\n",
              "      <th>ProdNum</th>\n",
              "      <th>Producthits</th>\n",
              "    </tr>\n",
              "  </thead>\n",
              "  <tbody>\n",
              "    <tr>\n",
              "      <th>0</th>\n",
              "      <td>P00265242</td>\n",
              "      <td>1880</td>\n",
              "    </tr>\n",
              "    <tr>\n",
              "      <th>1</th>\n",
              "      <td>P00025442</td>\n",
              "      <td>1615</td>\n",
              "    </tr>\n",
              "    <tr>\n",
              "      <th>2</th>\n",
              "      <td>P00110742</td>\n",
              "      <td>1612</td>\n",
              "    </tr>\n",
              "    <tr>\n",
              "      <th>3</th>\n",
              "      <td>P00112142</td>\n",
              "      <td>1562</td>\n",
              "    </tr>\n",
              "    <tr>\n",
              "      <th>4</th>\n",
              "      <td>P00057642</td>\n",
              "      <td>1470</td>\n",
              "    </tr>\n",
              "  </tbody>\n",
              "</table>\n",
              "</div>"
            ],
            "text/plain": [
              "     ProdNum  Producthits\n",
              "0  P00265242         1880\n",
              "1  P00025442         1615\n",
              "2  P00110742         1612\n",
              "3  P00112142         1562\n",
              "4  P00057642         1470"
            ]
          },
          "metadata": {
            "tags": []
          },
          "execution_count": 68
        }
      ]
    },
    {
      "cell_type": "code",
      "metadata": {
        "id": "3sZtejkgOSW9",
        "colab_type": "code",
        "colab": {}
      },
      "source": [
        "userhit=df_train['User_ID'].value_counts()\n",
        "userhit=pd.DataFrame(userhit)\n",
        "userhit.reset_index(inplace=True)\n",
        "userhit\n",
        "userhit.rename(columns={'index':'Userid','User_ID':'Userfreq'},inplace=True)"
      ],
      "execution_count": 0,
      "outputs": []
    },
    {
      "cell_type": "code",
      "metadata": {
        "id": "fx9LKi91O2CE",
        "colab_type": "code",
        "outputId": "abb1f582-e66e-4035-acf3-17d0b74298b3",
        "colab": {
          "base_uri": "https://localhost:8080/",
          "height": 204
        }
      },
      "source": [
        "userhit.head()"
      ],
      "execution_count": 0,
      "outputs": [
        {
          "output_type": "execute_result",
          "data": {
            "text/html": [
              "<div>\n",
              "<style scoped>\n",
              "    .dataframe tbody tr th:only-of-type {\n",
              "        vertical-align: middle;\n",
              "    }\n",
              "\n",
              "    .dataframe tbody tr th {\n",
              "        vertical-align: top;\n",
              "    }\n",
              "\n",
              "    .dataframe thead th {\n",
              "        text-align: right;\n",
              "    }\n",
              "</style>\n",
              "<table border=\"1\" class=\"dataframe\">\n",
              "  <thead>\n",
              "    <tr style=\"text-align: right;\">\n",
              "      <th></th>\n",
              "      <th>Userid</th>\n",
              "      <th>Userfreq</th>\n",
              "    </tr>\n",
              "  </thead>\n",
              "  <tbody>\n",
              "    <tr>\n",
              "      <th>0</th>\n",
              "      <td>1001680</td>\n",
              "      <td>1026</td>\n",
              "    </tr>\n",
              "    <tr>\n",
              "      <th>1</th>\n",
              "      <td>1004277</td>\n",
              "      <td>979</td>\n",
              "    </tr>\n",
              "    <tr>\n",
              "      <th>2</th>\n",
              "      <td>1001941</td>\n",
              "      <td>898</td>\n",
              "    </tr>\n",
              "    <tr>\n",
              "      <th>3</th>\n",
              "      <td>1001181</td>\n",
              "      <td>862</td>\n",
              "    </tr>\n",
              "    <tr>\n",
              "      <th>4</th>\n",
              "      <td>1000889</td>\n",
              "      <td>823</td>\n",
              "    </tr>\n",
              "  </tbody>\n",
              "</table>\n",
              "</div>"
            ],
            "text/plain": [
              "    Userid  Userfreq\n",
              "0  1001680      1026\n",
              "1  1004277       979\n",
              "2  1001941       898\n",
              "3  1001181       862\n",
              "4  1000889       823"
            ]
          },
          "metadata": {
            "tags": []
          },
          "execution_count": 70
        }
      ]
    },
    {
      "cell_type": "code",
      "metadata": {
        "id": "jm-Xka6qg3m4",
        "colab_type": "code",
        "colab": {}
      },
      "source": [
        "userhit_dict=dict(zip(userhit['Userid'],userhit['Userfreq']))"
      ],
      "execution_count": 0,
      "outputs": []
    },
    {
      "cell_type": "code",
      "metadata": {
        "id": "smEm3LZtlTrG",
        "colab_type": "code",
        "colab": {}
      },
      "source": [
        "prodhit_dict=dict(zip(prodhit['ProdNum'],prodhit['Producthits']))"
      ],
      "execution_count": 0,
      "outputs": []
    },
    {
      "cell_type": "code",
      "metadata": {
        "id": "Z4dHUpl7lbSj",
        "colab_type": "code",
        "colab": {}
      },
      "source": [
        "df_train['userhit']=df_train['User_ID'].map(userhit_dict)"
      ],
      "execution_count": 0,
      "outputs": []
    },
    {
      "cell_type": "code",
      "metadata": {
        "id": "DczIY03omJQ5",
        "colab_type": "code",
        "colab": {}
      },
      "source": [
        "df_train['producthit']=df_train['Product_ID'].map(prodhit_dict)"
      ],
      "execution_count": 0,
      "outputs": []
    },
    {
      "cell_type": "code",
      "metadata": {
        "id": "akhrygbxgFO-",
        "colab_type": "code",
        "colab": {}
      },
      "source": [
        "occhit=df_train['Occupation'].value_counts()\n",
        "occhit=pd.DataFrame(occhit)\n",
        "occhit.reset_index(inplace=True)\n",
        "occhit.rename(columns={'index':'OccNum','Occupation':'Occhits'},inplace=True)\n",
        "occhit_dict=dict(zip(occhit['OccNum'],occhit['Occhits']))\n",
        "df_train['occhit']=df_train['Occupation'].map(occhit_dict)"
      ],
      "execution_count": 0,
      "outputs": []
    },
    {
      "cell_type": "code",
      "metadata": {
        "id": "Tx6cR4bGgslL",
        "colab_type": "code",
        "colab": {}
      },
      "source": [
        "agehit=df_train['Age_Encoded'].value_counts()\n",
        "agehit=pd.DataFrame(agehit)\n",
        "agehit.reset_index(inplace=True)\n",
        "agehit.rename(columns={'index':'AgeNum','Age_Encoded':'Agehits'},inplace=True)\n",
        "agehit_dict=dict(zip(agehit['AgeNum'],agehit['Agehits']))\n",
        "df_train['agehit']=df_train['Age_Encoded'].map(agehit_dict)"
      ],
      "execution_count": 0,
      "outputs": []
    },
    {
      "cell_type": "code",
      "metadata": {
        "id": "-j3AKurLitp3",
        "colab_type": "code",
        "colab": {}
      },
      "source": [
        "prodc1hit=df_train['Product_Category_1'].value_counts()\n",
        "prodc1hit=pd.DataFrame(prodc1hit)\n",
        "prodc1hit.reset_index(inplace=True)\n",
        "prodc1hit.rename(columns={'index':'Prodc1Num','Product_Category_1':'Prodc1hits'},inplace=True)\n",
        "prodc1hit_dict=dict(zip(prodc1hit['Prodc1Num'],prodc1hit['Prodc1hits']))\n",
        "df_train['prodc1hit']=df_train['Product_Category_1'].map(prodc1hit_dict)"
      ],
      "execution_count": 0,
      "outputs": []
    },
    {
      "cell_type": "code",
      "metadata": {
        "id": "WiVLocS5jz02",
        "colab_type": "code",
        "colab": {}
      },
      "source": [
        "prodc2hit=df_train['Product_Category_2'].value_counts()\n",
        "prodc2hit=pd.DataFrame(prodc2hit)\n",
        "prodc2hit.reset_index(inplace=True)\n",
        "prodc2hit.rename(columns={'index':'Prodc2Num','Product_Category_2':'Prodc2hits'},inplace=True)\n",
        "prodc2hit_dict=dict(zip(prodc2hit['Prodc2Num'],prodc2hit['Prodc2hits']))\n",
        "df_train['prodc2hit']=df_train['Product_Category_2'].map(prodc2hit_dict)"
      ],
      "execution_count": 0,
      "outputs": []
    },
    {
      "cell_type": "code",
      "metadata": {
        "id": "wa0k1l2Rj14G",
        "colab_type": "code",
        "colab": {}
      },
      "source": [
        "prodc3hit=df_train['Product_Category_3'].value_counts()\n",
        "prodc3hit=pd.DataFrame(prodc3hit)\n",
        "prodc3hit.reset_index(inplace=True)\n",
        "prodc3hit.rename(columns={'index':'Prodc3Num','Product_Category_3':'Prodc3hits'},inplace=True)\n",
        "prodc3hit_dict=dict(zip(prodc3hit['Prodc3Num'],prodc3hit['Prodc3hits']))\n",
        "df_train['prodc3hit']=df_train['Product_Category_3'].map(prodc3hit_dict)"
      ],
      "execution_count": 0,
      "outputs": []
    },
    {
      "cell_type": "code",
      "metadata": {
        "id": "EpNV9l_BkLfa",
        "colab_type": "code",
        "outputId": "d1b1ad02-356b-484f-d481-538fd9a21529",
        "colab": {
          "base_uri": "https://localhost:8080/",
          "height": 309
        }
      },
      "source": [
        "df_train.head()"
      ],
      "execution_count": 0,
      "outputs": [
        {
          "output_type": "execute_result",
          "data": {
            "text/html": [
              "<div>\n",
              "<style scoped>\n",
              "    .dataframe tbody tr th:only-of-type {\n",
              "        vertical-align: middle;\n",
              "    }\n",
              "\n",
              "    .dataframe tbody tr th {\n",
              "        vertical-align: top;\n",
              "    }\n",
              "\n",
              "    .dataframe thead th {\n",
              "        text-align: right;\n",
              "    }\n",
              "</style>\n",
              "<table border=\"1\" class=\"dataframe\">\n",
              "  <thead>\n",
              "    <tr style=\"text-align: right;\">\n",
              "      <th></th>\n",
              "      <th>User_ID</th>\n",
              "      <th>Product_ID</th>\n",
              "      <th>Gender</th>\n",
              "      <th>Age</th>\n",
              "      <th>Occupation</th>\n",
              "      <th>City_Category</th>\n",
              "      <th>Stay_In_Current_City_Years</th>\n",
              "      <th>Marital_Status</th>\n",
              "      <th>Product_Category_1</th>\n",
              "      <th>Product_Category_2</th>\n",
              "      <th>Product_Category_3</th>\n",
              "      <th>Purchase</th>\n",
              "      <th>Age_Encoded</th>\n",
              "      <th>Female</th>\n",
              "      <th>Male</th>\n",
              "      <th>City A</th>\n",
              "      <th>City B</th>\n",
              "      <th>City C</th>\n",
              "      <th>0 year</th>\n",
              "      <th>1 year</th>\n",
              "      <th>2 years</th>\n",
              "      <th>3 years</th>\n",
              "      <th>4+ years</th>\n",
              "      <th>userhit</th>\n",
              "      <th>producthit</th>\n",
              "      <th>Occmax</th>\n",
              "      <th>pc1max</th>\n",
              "      <th>pc2max</th>\n",
              "      <th>pc3max</th>\n",
              "      <th>index</th>\n",
              "      <th>PC1Count</th>\n",
              "      <th>occhit</th>\n",
              "      <th>agehit</th>\n",
              "      <th>prodc1hit</th>\n",
              "      <th>prodc2hit</th>\n",
              "      <th>prodc3hit</th>\n",
              "    </tr>\n",
              "  </thead>\n",
              "  <tbody>\n",
              "    <tr>\n",
              "      <th>0</th>\n",
              "      <td>1000001</td>\n",
              "      <td>P00069042</td>\n",
              "      <td>F</td>\n",
              "      <td>0-17</td>\n",
              "      <td>10</td>\n",
              "      <td>A</td>\n",
              "      <td>2</td>\n",
              "      <td>0</td>\n",
              "      <td>3</td>\n",
              "      <td>0</td>\n",
              "      <td>0</td>\n",
              "      <td>8370</td>\n",
              "      <td>0</td>\n",
              "      <td>1</td>\n",
              "      <td>0</td>\n",
              "      <td>1</td>\n",
              "      <td>0</td>\n",
              "      <td>0</td>\n",
              "      <td>0</td>\n",
              "      <td>0</td>\n",
              "      <td>1</td>\n",
              "      <td>0</td>\n",
              "      <td>0</td>\n",
              "      <td>35</td>\n",
              "      <td>227</td>\n",
              "      <td>0</td>\n",
              "      <td>0</td>\n",
              "      <td>0</td>\n",
              "      <td>0</td>\n",
              "      <td>2</td>\n",
              "      <td>11</td>\n",
              "      <td>12930</td>\n",
              "      <td>15102</td>\n",
              "      <td>20213</td>\n",
              "      <td>173638</td>\n",
              "      <td>383247</td>\n",
              "    </tr>\n",
              "    <tr>\n",
              "      <th>1</th>\n",
              "      <td>1000001</td>\n",
              "      <td>P00248942</td>\n",
              "      <td>F</td>\n",
              "      <td>0-17</td>\n",
              "      <td>10</td>\n",
              "      <td>A</td>\n",
              "      <td>2</td>\n",
              "      <td>0</td>\n",
              "      <td>1</td>\n",
              "      <td>6</td>\n",
              "      <td>14</td>\n",
              "      <td>15200</td>\n",
              "      <td>0</td>\n",
              "      <td>1</td>\n",
              "      <td>0</td>\n",
              "      <td>1</td>\n",
              "      <td>0</td>\n",
              "      <td>0</td>\n",
              "      <td>0</td>\n",
              "      <td>0</td>\n",
              "      <td>1</td>\n",
              "      <td>0</td>\n",
              "      <td>0</td>\n",
              "      <td>35</td>\n",
              "      <td>581</td>\n",
              "      <td>0</td>\n",
              "      <td>0</td>\n",
              "      <td>0</td>\n",
              "      <td>0</td>\n",
              "      <td>0</td>\n",
              "      <td>4</td>\n",
              "      <td>12930</td>\n",
              "      <td>15102</td>\n",
              "      <td>140378</td>\n",
              "      <td>16466</td>\n",
              "      <td>18428</td>\n",
              "    </tr>\n",
              "    <tr>\n",
              "      <th>2</th>\n",
              "      <td>1000001</td>\n",
              "      <td>P00087842</td>\n",
              "      <td>F</td>\n",
              "      <td>0-17</td>\n",
              "      <td>10</td>\n",
              "      <td>A</td>\n",
              "      <td>2</td>\n",
              "      <td>0</td>\n",
              "      <td>12</td>\n",
              "      <td>0</td>\n",
              "      <td>0</td>\n",
              "      <td>1422</td>\n",
              "      <td>0</td>\n",
              "      <td>1</td>\n",
              "      <td>0</td>\n",
              "      <td>1</td>\n",
              "      <td>0</td>\n",
              "      <td>0</td>\n",
              "      <td>0</td>\n",
              "      <td>0</td>\n",
              "      <td>1</td>\n",
              "      <td>0</td>\n",
              "      <td>0</td>\n",
              "      <td>35</td>\n",
              "      <td>102</td>\n",
              "      <td>0</td>\n",
              "      <td>0</td>\n",
              "      <td>0</td>\n",
              "      <td>0</td>\n",
              "      <td>7</td>\n",
              "      <td>3</td>\n",
              "      <td>12930</td>\n",
              "      <td>15102</td>\n",
              "      <td>3947</td>\n",
              "      <td>173638</td>\n",
              "      <td>383247</td>\n",
              "    </tr>\n",
              "    <tr>\n",
              "      <th>3</th>\n",
              "      <td>1000001</td>\n",
              "      <td>P00085442</td>\n",
              "      <td>F</td>\n",
              "      <td>0-17</td>\n",
              "      <td>10</td>\n",
              "      <td>A</td>\n",
              "      <td>2</td>\n",
              "      <td>0</td>\n",
              "      <td>12</td>\n",
              "      <td>14</td>\n",
              "      <td>0</td>\n",
              "      <td>1057</td>\n",
              "      <td>0</td>\n",
              "      <td>1</td>\n",
              "      <td>0</td>\n",
              "      <td>1</td>\n",
              "      <td>0</td>\n",
              "      <td>0</td>\n",
              "      <td>0</td>\n",
              "      <td>0</td>\n",
              "      <td>1</td>\n",
              "      <td>0</td>\n",
              "      <td>0</td>\n",
              "      <td>35</td>\n",
              "      <td>341</td>\n",
              "      <td>0</td>\n",
              "      <td>0</td>\n",
              "      <td>0</td>\n",
              "      <td>0</td>\n",
              "      <td>7</td>\n",
              "      <td>3</td>\n",
              "      <td>12930</td>\n",
              "      <td>15102</td>\n",
              "      <td>3947</td>\n",
              "      <td>55108</td>\n",
              "      <td>383247</td>\n",
              "    </tr>\n",
              "    <tr>\n",
              "      <th>4</th>\n",
              "      <td>1000002</td>\n",
              "      <td>P00285442</td>\n",
              "      <td>M</td>\n",
              "      <td>55+</td>\n",
              "      <td>16</td>\n",
              "      <td>C</td>\n",
              "      <td>4+</td>\n",
              "      <td>0</td>\n",
              "      <td>8</td>\n",
              "      <td>0</td>\n",
              "      <td>0</td>\n",
              "      <td>7969</td>\n",
              "      <td>6</td>\n",
              "      <td>0</td>\n",
              "      <td>1</td>\n",
              "      <td>0</td>\n",
              "      <td>0</td>\n",
              "      <td>1</td>\n",
              "      <td>0</td>\n",
              "      <td>0</td>\n",
              "      <td>0</td>\n",
              "      <td>0</td>\n",
              "      <td>1</td>\n",
              "      <td>77</td>\n",
              "      <td>203</td>\n",
              "      <td>0</td>\n",
              "      <td>0</td>\n",
              "      <td>0</td>\n",
              "      <td>0</td>\n",
              "      <td>15</td>\n",
              "      <td>25</td>\n",
              "      <td>25371</td>\n",
              "      <td>21504</td>\n",
              "      <td>113925</td>\n",
              "      <td>173638</td>\n",
              "      <td>383247</td>\n",
              "    </tr>\n",
              "  </tbody>\n",
              "</table>\n",
              "</div>"
            ],
            "text/plain": [
              "   User_ID Product_ID Gender   Age  ...  agehit prodc1hit prodc2hit  prodc3hit\n",
              "0  1000001  P00069042      F  0-17  ...   15102     20213    173638     383247\n",
              "1  1000001  P00248942      F  0-17  ...   15102    140378     16466      18428\n",
              "2  1000001  P00087842      F  0-17  ...   15102      3947    173638     383247\n",
              "3  1000001  P00085442      F  0-17  ...   15102      3947     55108     383247\n",
              "4  1000002  P00285442      M   55+  ...   21504    113925    173638     383247\n",
              "\n",
              "[5 rows x 36 columns]"
            ]
          },
          "metadata": {
            "tags": []
          },
          "execution_count": 153
        }
      ]
    },
    {
      "cell_type": "code",
      "metadata": {
        "id": "_6mUsAZfHNDY",
        "colab_type": "code",
        "colab": {}
      },
      "source": [
        "df_train['Occmax']=np.where(df_train['Occupation']==4,1,0)"
      ],
      "execution_count": 0,
      "outputs": []
    },
    {
      "cell_type": "code",
      "metadata": {
        "id": "ms9KajTyHPfF",
        "colab_type": "code",
        "colab": {}
      },
      "source": [
        "df_train['pc1max'] = np.where(df_train['Product_Category_1']==10,1,0)"
      ],
      "execution_count": 0,
      "outputs": []
    },
    {
      "cell_type": "code",
      "metadata": {
        "id": "vDHvglf9HRP_",
        "colab_type": "code",
        "colab": {}
      },
      "source": [
        "df_train['pc2max1'] = np.where(df_train['Product_Category_2']==15,1,0)\n",
        "df_train['pc2max2'] = np.where(df_train['Product_Category_2']==13,1,0)\n",
        "df_train['pc2max3'] = np.where(df_train['Product_Category_2']==16,1,0)"
      ],
      "execution_count": 0,
      "outputs": []
    },
    {
      "cell_type": "code",
      "metadata": {
        "id": "82DYOoq0HTC_",
        "colab_type": "code",
        "colab": {}
      },
      "source": [
        "df_train['pc2xmax']=df_train['pc2max1']|df_train['pc2max2']"
      ],
      "execution_count": 0,
      "outputs": []
    },
    {
      "cell_type": "code",
      "metadata": {
        "id": "iYQL7yqFHUqM",
        "colab_type": "code",
        "colab": {}
      },
      "source": [
        "df_train['pc2max']=df_train['pc2xmax']|df_train['pc2max3']"
      ],
      "execution_count": 0,
      "outputs": []
    },
    {
      "cell_type": "code",
      "metadata": {
        "id": "0ErBjUCfHWcC",
        "colab_type": "code",
        "colab": {}
      },
      "source": [
        "df_train.drop('pc2max1',inplace=True,axis=1)\n",
        "df_train.drop('pc2max2',inplace=True,axis=1)\n",
        "df_train.drop('pc2max3',inplace=True,axis=1)\n",
        "df_train.drop('pc2xmax',inplace=True,axis=1)"
      ],
      "execution_count": 0,
      "outputs": []
    },
    {
      "cell_type": "code",
      "metadata": {
        "id": "-oc8USkPHYbA",
        "colab_type": "code",
        "colab": {}
      },
      "source": [
        "df_train['pc3max'] = np.where(df_train['Product_Category_3']==16,1,0)"
      ],
      "execution_count": 0,
      "outputs": []
    },
    {
      "cell_type": "code",
      "metadata": {
        "id": "neImZX9ZHbDR",
        "colab_type": "code",
        "colab": {}
      },
      "source": [
        "count_df=df_train.groupby(['User_ID','Product_Category_1']).Product_ID.count()\n",
        "lol=pd.DataFrame(count_df)\n",
        "lol.reset_index(inplace=True)"
      ],
      "execution_count": 0,
      "outputs": []
    },
    {
      "cell_type": "code",
      "metadata": {
        "id": "nNNONJVPHcdB",
        "colab_type": "code",
        "outputId": "cdc1f0d6-2845-4f1b-ed70-6119134d4ede",
        "colab": {
          "base_uri": "https://localhost:8080/",
          "height": 204
        }
      },
      "source": [
        "lol.head()"
      ],
      "execution_count": 0,
      "outputs": [
        {
          "output_type": "execute_result",
          "data": {
            "text/html": [
              "<div>\n",
              "<style scoped>\n",
              "    .dataframe tbody tr th:only-of-type {\n",
              "        vertical-align: middle;\n",
              "    }\n",
              "\n",
              "    .dataframe tbody tr th {\n",
              "        vertical-align: top;\n",
              "    }\n",
              "\n",
              "    .dataframe thead th {\n",
              "        text-align: right;\n",
              "    }\n",
              "</style>\n",
              "<table border=\"1\" class=\"dataframe\">\n",
              "  <thead>\n",
              "    <tr style=\"text-align: right;\">\n",
              "      <th></th>\n",
              "      <th>User_ID</th>\n",
              "      <th>Product_Category_1</th>\n",
              "      <th>Product_ID</th>\n",
              "    </tr>\n",
              "  </thead>\n",
              "  <tbody>\n",
              "    <tr>\n",
              "      <th>0</th>\n",
              "      <td>1000001</td>\n",
              "      <td>1</td>\n",
              "      <td>4</td>\n",
              "    </tr>\n",
              "    <tr>\n",
              "      <th>1</th>\n",
              "      <td>1000001</td>\n",
              "      <td>2</td>\n",
              "      <td>1</td>\n",
              "    </tr>\n",
              "    <tr>\n",
              "      <th>2</th>\n",
              "      <td>1000001</td>\n",
              "      <td>3</td>\n",
              "      <td>11</td>\n",
              "    </tr>\n",
              "    <tr>\n",
              "      <th>3</th>\n",
              "      <td>1000001</td>\n",
              "      <td>4</td>\n",
              "      <td>2</td>\n",
              "    </tr>\n",
              "    <tr>\n",
              "      <th>4</th>\n",
              "      <td>1000001</td>\n",
              "      <td>5</td>\n",
              "      <td>2</td>\n",
              "    </tr>\n",
              "  </tbody>\n",
              "</table>\n",
              "</div>"
            ],
            "text/plain": [
              "   User_ID  Product_Category_1  Product_ID\n",
              "0  1000001                   1           4\n",
              "1  1000001                   2           1\n",
              "2  1000001                   3          11\n",
              "3  1000001                   4           2\n",
              "4  1000001                   5           2"
            ]
          },
          "metadata": {
            "tags": []
          },
          "execution_count": 83
        }
      ]
    },
    {
      "cell_type": "code",
      "metadata": {
        "id": "ynq9sIBhHeWl",
        "colab_type": "code",
        "colab": {}
      },
      "source": [
        "lol.rename(columns={'Product_ID':'Count'},inplace=True)"
      ],
      "execution_count": 0,
      "outputs": []
    },
    {
      "cell_type": "code",
      "metadata": {
        "id": "nzzq0b9RHfuv",
        "colab_type": "code",
        "colab": {}
      },
      "source": [
        "lol['Product_Category_1']=lol['Product_Category_1'].astype('int64')\n",
        "lol['Count']=lol['Count'].astype('int64')"
      ],
      "execution_count": 0,
      "outputs": []
    },
    {
      "cell_type": "code",
      "metadata": {
        "id": "hT7SaINNalgi",
        "colab_type": "code",
        "colab": {}
      },
      "source": [
        "df_train=df_train.merge(lol.reset_index(), how='left')"
      ],
      "execution_count": 0,
      "outputs": []
    },
    {
      "cell_type": "code",
      "metadata": {
        "id": "GXVYdeVzanhN",
        "colab_type": "code",
        "colab": {}
      },
      "source": [
        "df_train.rename(columns={'Count':'PC1Count'},inplace=True)"
      ],
      "execution_count": 0,
      "outputs": []
    },
    {
      "cell_type": "code",
      "metadata": {
        "id": "OGFbsIJ4aqEz",
        "colab_type": "code",
        "outputId": "55ecd494-b091-4ebb-a020-b4d61a9f4fde",
        "colab": {
          "base_uri": "https://localhost:8080/",
          "height": 309
        }
      },
      "source": [
        "df_train.head()"
      ],
      "execution_count": 0,
      "outputs": [
        {
          "output_type": "execute_result",
          "data": {
            "text/html": [
              "<div>\n",
              "<style scoped>\n",
              "    .dataframe tbody tr th:only-of-type {\n",
              "        vertical-align: middle;\n",
              "    }\n",
              "\n",
              "    .dataframe tbody tr th {\n",
              "        vertical-align: top;\n",
              "    }\n",
              "\n",
              "    .dataframe thead th {\n",
              "        text-align: right;\n",
              "    }\n",
              "</style>\n",
              "<table border=\"1\" class=\"dataframe\">\n",
              "  <thead>\n",
              "    <tr style=\"text-align: right;\">\n",
              "      <th></th>\n",
              "      <th>User_ID</th>\n",
              "      <th>Product_ID</th>\n",
              "      <th>Gender</th>\n",
              "      <th>Age</th>\n",
              "      <th>Occupation</th>\n",
              "      <th>City_Category</th>\n",
              "      <th>Stay_In_Current_City_Years</th>\n",
              "      <th>Marital_Status</th>\n",
              "      <th>Product_Category_1</th>\n",
              "      <th>Product_Category_2</th>\n",
              "      <th>Product_Category_3</th>\n",
              "      <th>Purchase</th>\n",
              "      <th>Age_Encoded</th>\n",
              "      <th>Female</th>\n",
              "      <th>Male</th>\n",
              "      <th>City A</th>\n",
              "      <th>City B</th>\n",
              "      <th>City C</th>\n",
              "      <th>0 year</th>\n",
              "      <th>1 year</th>\n",
              "      <th>2 years</th>\n",
              "      <th>3 years</th>\n",
              "      <th>4+ years</th>\n",
              "      <th>userhit</th>\n",
              "      <th>producthit</th>\n",
              "      <th>Occmax</th>\n",
              "      <th>pc1max</th>\n",
              "      <th>pc2max</th>\n",
              "      <th>pc3max</th>\n",
              "      <th>index</th>\n",
              "      <th>PC1Count</th>\n",
              "    </tr>\n",
              "  </thead>\n",
              "  <tbody>\n",
              "    <tr>\n",
              "      <th>0</th>\n",
              "      <td>1000001</td>\n",
              "      <td>P00069042</td>\n",
              "      <td>F</td>\n",
              "      <td>0-17</td>\n",
              "      <td>10</td>\n",
              "      <td>A</td>\n",
              "      <td>2</td>\n",
              "      <td>0</td>\n",
              "      <td>3</td>\n",
              "      <td>0</td>\n",
              "      <td>0</td>\n",
              "      <td>8370</td>\n",
              "      <td>0</td>\n",
              "      <td>1</td>\n",
              "      <td>0</td>\n",
              "      <td>1</td>\n",
              "      <td>0</td>\n",
              "      <td>0</td>\n",
              "      <td>0</td>\n",
              "      <td>0</td>\n",
              "      <td>1</td>\n",
              "      <td>0</td>\n",
              "      <td>0</td>\n",
              "      <td>35</td>\n",
              "      <td>227</td>\n",
              "      <td>0</td>\n",
              "      <td>0</td>\n",
              "      <td>0</td>\n",
              "      <td>0</td>\n",
              "      <td>2</td>\n",
              "      <td>11</td>\n",
              "    </tr>\n",
              "    <tr>\n",
              "      <th>1</th>\n",
              "      <td>1000001</td>\n",
              "      <td>P00248942</td>\n",
              "      <td>F</td>\n",
              "      <td>0-17</td>\n",
              "      <td>10</td>\n",
              "      <td>A</td>\n",
              "      <td>2</td>\n",
              "      <td>0</td>\n",
              "      <td>1</td>\n",
              "      <td>6</td>\n",
              "      <td>14</td>\n",
              "      <td>15200</td>\n",
              "      <td>0</td>\n",
              "      <td>1</td>\n",
              "      <td>0</td>\n",
              "      <td>1</td>\n",
              "      <td>0</td>\n",
              "      <td>0</td>\n",
              "      <td>0</td>\n",
              "      <td>0</td>\n",
              "      <td>1</td>\n",
              "      <td>0</td>\n",
              "      <td>0</td>\n",
              "      <td>35</td>\n",
              "      <td>581</td>\n",
              "      <td>0</td>\n",
              "      <td>0</td>\n",
              "      <td>0</td>\n",
              "      <td>0</td>\n",
              "      <td>0</td>\n",
              "      <td>4</td>\n",
              "    </tr>\n",
              "    <tr>\n",
              "      <th>2</th>\n",
              "      <td>1000001</td>\n",
              "      <td>P00087842</td>\n",
              "      <td>F</td>\n",
              "      <td>0-17</td>\n",
              "      <td>10</td>\n",
              "      <td>A</td>\n",
              "      <td>2</td>\n",
              "      <td>0</td>\n",
              "      <td>12</td>\n",
              "      <td>0</td>\n",
              "      <td>0</td>\n",
              "      <td>1422</td>\n",
              "      <td>0</td>\n",
              "      <td>1</td>\n",
              "      <td>0</td>\n",
              "      <td>1</td>\n",
              "      <td>0</td>\n",
              "      <td>0</td>\n",
              "      <td>0</td>\n",
              "      <td>0</td>\n",
              "      <td>1</td>\n",
              "      <td>0</td>\n",
              "      <td>0</td>\n",
              "      <td>35</td>\n",
              "      <td>102</td>\n",
              "      <td>0</td>\n",
              "      <td>0</td>\n",
              "      <td>0</td>\n",
              "      <td>0</td>\n",
              "      <td>7</td>\n",
              "      <td>3</td>\n",
              "    </tr>\n",
              "    <tr>\n",
              "      <th>3</th>\n",
              "      <td>1000001</td>\n",
              "      <td>P00085442</td>\n",
              "      <td>F</td>\n",
              "      <td>0-17</td>\n",
              "      <td>10</td>\n",
              "      <td>A</td>\n",
              "      <td>2</td>\n",
              "      <td>0</td>\n",
              "      <td>12</td>\n",
              "      <td>14</td>\n",
              "      <td>0</td>\n",
              "      <td>1057</td>\n",
              "      <td>0</td>\n",
              "      <td>1</td>\n",
              "      <td>0</td>\n",
              "      <td>1</td>\n",
              "      <td>0</td>\n",
              "      <td>0</td>\n",
              "      <td>0</td>\n",
              "      <td>0</td>\n",
              "      <td>1</td>\n",
              "      <td>0</td>\n",
              "      <td>0</td>\n",
              "      <td>35</td>\n",
              "      <td>341</td>\n",
              "      <td>0</td>\n",
              "      <td>0</td>\n",
              "      <td>0</td>\n",
              "      <td>0</td>\n",
              "      <td>7</td>\n",
              "      <td>3</td>\n",
              "    </tr>\n",
              "    <tr>\n",
              "      <th>4</th>\n",
              "      <td>1000002</td>\n",
              "      <td>P00285442</td>\n",
              "      <td>M</td>\n",
              "      <td>55+</td>\n",
              "      <td>16</td>\n",
              "      <td>C</td>\n",
              "      <td>4+</td>\n",
              "      <td>0</td>\n",
              "      <td>8</td>\n",
              "      <td>0</td>\n",
              "      <td>0</td>\n",
              "      <td>7969</td>\n",
              "      <td>6</td>\n",
              "      <td>0</td>\n",
              "      <td>1</td>\n",
              "      <td>0</td>\n",
              "      <td>0</td>\n",
              "      <td>1</td>\n",
              "      <td>0</td>\n",
              "      <td>0</td>\n",
              "      <td>0</td>\n",
              "      <td>0</td>\n",
              "      <td>1</td>\n",
              "      <td>77</td>\n",
              "      <td>203</td>\n",
              "      <td>0</td>\n",
              "      <td>0</td>\n",
              "      <td>0</td>\n",
              "      <td>0</td>\n",
              "      <td>15</td>\n",
              "      <td>25</td>\n",
              "    </tr>\n",
              "  </tbody>\n",
              "</table>\n",
              "</div>"
            ],
            "text/plain": [
              "   User_ID Product_ID Gender   Age  ...  pc2max pc3max index  PC1Count\n",
              "0  1000001  P00069042      F  0-17  ...       0      0     2        11\n",
              "1  1000001  P00248942      F  0-17  ...       0      0     0         4\n",
              "2  1000001  P00087842      F  0-17  ...       0      0     7         3\n",
              "3  1000001  P00085442      F  0-17  ...       0      0     7         3\n",
              "4  1000002  P00285442      M   55+  ...       0      0    15        25\n",
              "\n",
              "[5 rows x 31 columns]"
            ]
          },
          "metadata": {
            "tags": []
          },
          "execution_count": 88
        }
      ]
    },
    {
      "cell_type": "code",
      "metadata": {
        "id": "1Sug4OhcmKUB",
        "colab_type": "code",
        "outputId": "b67209e8-f920-493f-ba20-72839792f8d9",
        "colab": {
          "base_uri": "https://localhost:8080/",
          "height": 561
        }
      },
      "source": [
        "df_train.dtypes"
      ],
      "execution_count": 0,
      "outputs": [
        {
          "output_type": "execute_result",
          "data": {
            "text/plain": [
              "User_ID                        int64\n",
              "Product_ID                    object\n",
              "Gender                        object\n",
              "Age                           object\n",
              "Occupation                     int64\n",
              "City_Category                 object\n",
              "Stay_In_Current_City_Years    object\n",
              "Marital_Status                 int64\n",
              "Product_Category_1             int64\n",
              "Product_Category_2             int64\n",
              "Product_Category_3             int64\n",
              "Purchase                       int64\n",
              "Age_Encoded                    int64\n",
              "Female                         uint8\n",
              "Male                           uint8\n",
              "City A                         uint8\n",
              "City B                         uint8\n",
              "City C                         uint8\n",
              "0 year                         uint8\n",
              "1 year                         uint8\n",
              "2 years                        uint8\n",
              "3 years                        uint8\n",
              "4+ years                       uint8\n",
              "userhit                        int64\n",
              "producthit                     int64\n",
              "Occmax                         int64\n",
              "pc1max                         int64\n",
              "pc2max                         int64\n",
              "pc3max                         int64\n",
              "index                          int64\n",
              "PC1Count                       int64\n",
              "dtype: object"
            ]
          },
          "metadata": {
            "tags": []
          },
          "execution_count": 89
        }
      ]
    },
    {
      "cell_type": "code",
      "metadata": {
        "id": "X2PjTITZ0hJ1",
        "colab_type": "code",
        "outputId": "04e98a6b-d456-4b24-8779-49c59d20796e",
        "colab": {
          "base_uri": "https://localhost:8080/",
          "height": 376
        }
      },
      "source": [
        "sns.heatmap(df_train.corr())"
      ],
      "execution_count": 0,
      "outputs": [
        {
          "output_type": "execute_result",
          "data": {
            "text/plain": [
              "<matplotlib.axes._subplots.AxesSubplot at 0x7fe1b75bfbe0>"
            ]
          },
          "metadata": {
            "tags": []
          },
          "execution_count": 90
        },
        {
          "output_type": "display_data",
          "data": {
            "image/png": "[encoded data removed]",
            "text/plain": [
              "<Figure size 432x288 with 2 Axes>"
            ]
          },
          "metadata": {
            "tags": []
          }
        }
      ]
    },
    {
      "cell_type": "code",
      "metadata": {
        "id": "Ro2h-oIuk67_",
        "colab_type": "code",
        "outputId": "106875fe-a2c8-4269-9a42-db6da436cca5",
        "colab": {
          "base_uri": "https://localhost:8080/",
          "height": 309
        }
      },
      "source": [
        "df_train.head()"
      ],
      "execution_count": 0,
      "outputs": [
        {
          "output_type": "execute_result",
          "data": {
            "text/html": [
              "<div>\n",
              "<style scoped>\n",
              "    .dataframe tbody tr th:only-of-type {\n",
              "        vertical-align: middle;\n",
              "    }\n",
              "\n",
              "    .dataframe tbody tr th {\n",
              "        vertical-align: top;\n",
              "    }\n",
              "\n",
              "    .dataframe thead th {\n",
              "        text-align: right;\n",
              "    }\n",
              "</style>\n",
              "<table border=\"1\" class=\"dataframe\">\n",
              "  <thead>\n",
              "    <tr style=\"text-align: right;\">\n",
              "      <th></th>\n",
              "      <th>User_ID</th>\n",
              "      <th>Product_ID</th>\n",
              "      <th>Gender</th>\n",
              "      <th>Age</th>\n",
              "      <th>Occupation</th>\n",
              "      <th>City_Category</th>\n",
              "      <th>Stay_In_Current_City_Years</th>\n",
              "      <th>Marital_Status</th>\n",
              "      <th>Product_Category_1</th>\n",
              "      <th>Product_Category_2</th>\n",
              "      <th>Product_Category_3</th>\n",
              "      <th>Purchase</th>\n",
              "      <th>Age_Encoded</th>\n",
              "      <th>Female</th>\n",
              "      <th>Male</th>\n",
              "      <th>City A</th>\n",
              "      <th>City B</th>\n",
              "      <th>City C</th>\n",
              "      <th>0 year</th>\n",
              "      <th>1 year</th>\n",
              "      <th>2 years</th>\n",
              "      <th>3 years</th>\n",
              "      <th>4+ years</th>\n",
              "      <th>userhit</th>\n",
              "      <th>producthit</th>\n",
              "      <th>Occmax</th>\n",
              "      <th>pc1max</th>\n",
              "      <th>pc2max</th>\n",
              "      <th>pc3max</th>\n",
              "      <th>index</th>\n",
              "      <th>PC1Count</th>\n",
              "      <th>occhit</th>\n",
              "      <th>agehit</th>\n",
              "      <th>prodc1hit</th>\n",
              "      <th>prodc2hit</th>\n",
              "      <th>prodc3hit</th>\n",
              "    </tr>\n",
              "  </thead>\n",
              "  <tbody>\n",
              "    <tr>\n",
              "      <th>0</th>\n",
              "      <td>1000001</td>\n",
              "      <td>P00069042</td>\n",
              "      <td>F</td>\n",
              "      <td>0-17</td>\n",
              "      <td>10</td>\n",
              "      <td>A</td>\n",
              "      <td>2</td>\n",
              "      <td>0</td>\n",
              "      <td>3</td>\n",
              "      <td>0</td>\n",
              "      <td>0</td>\n",
              "      <td>8370</td>\n",
              "      <td>0</td>\n",
              "      <td>1</td>\n",
              "      <td>0</td>\n",
              "      <td>1</td>\n",
              "      <td>0</td>\n",
              "      <td>0</td>\n",
              "      <td>0</td>\n",
              "      <td>0</td>\n",
              "      <td>1</td>\n",
              "      <td>0</td>\n",
              "      <td>0</td>\n",
              "      <td>35</td>\n",
              "      <td>227</td>\n",
              "      <td>0</td>\n",
              "      <td>0</td>\n",
              "      <td>0</td>\n",
              "      <td>0</td>\n",
              "      <td>2</td>\n",
              "      <td>11</td>\n",
              "      <td>12930</td>\n",
              "      <td>15102</td>\n",
              "      <td>20213</td>\n",
              "      <td>173638</td>\n",
              "      <td>383247</td>\n",
              "    </tr>\n",
              "    <tr>\n",
              "      <th>1</th>\n",
              "      <td>1000001</td>\n",
              "      <td>P00248942</td>\n",
              "      <td>F</td>\n",
              "      <td>0-17</td>\n",
              "      <td>10</td>\n",
              "      <td>A</td>\n",
              "      <td>2</td>\n",
              "      <td>0</td>\n",
              "      <td>1</td>\n",
              "      <td>6</td>\n",
              "      <td>14</td>\n",
              "      <td>15200</td>\n",
              "      <td>0</td>\n",
              "      <td>1</td>\n",
              "      <td>0</td>\n",
              "      <td>1</td>\n",
              "      <td>0</td>\n",
              "      <td>0</td>\n",
              "      <td>0</td>\n",
              "      <td>0</td>\n",
              "      <td>1</td>\n",
              "      <td>0</td>\n",
              "      <td>0</td>\n",
              "      <td>35</td>\n",
              "      <td>581</td>\n",
              "      <td>0</td>\n",
              "      <td>0</td>\n",
              "      <td>0</td>\n",
              "      <td>0</td>\n",
              "      <td>0</td>\n",
              "      <td>4</td>\n",
              "      <td>12930</td>\n",
              "      <td>15102</td>\n",
              "      <td>140378</td>\n",
              "      <td>16466</td>\n",
              "      <td>18428</td>\n",
              "    </tr>\n",
              "    <tr>\n",
              "      <th>2</th>\n",
              "      <td>1000001</td>\n",
              "      <td>P00087842</td>\n",
              "      <td>F</td>\n",
              "      <td>0-17</td>\n",
              "      <td>10</td>\n",
              "      <td>A</td>\n",
              "      <td>2</td>\n",
              "      <td>0</td>\n",
              "      <td>12</td>\n",
              "      <td>0</td>\n",
              "      <td>0</td>\n",
              "      <td>1422</td>\n",
              "      <td>0</td>\n",
              "      <td>1</td>\n",
              "      <td>0</td>\n",
              "      <td>1</td>\n",
              "      <td>0</td>\n",
              "      <td>0</td>\n",
              "      <td>0</td>\n",
              "      <td>0</td>\n",
              "      <td>1</td>\n",
              "      <td>0</td>\n",
              "      <td>0</td>\n",
              "      <td>35</td>\n",
              "      <td>102</td>\n",
              "      <td>0</td>\n",
              "      <td>0</td>\n",
              "      <td>0</td>\n",
              "      <td>0</td>\n",
              "      <td>7</td>\n",
              "      <td>3</td>\n",
              "      <td>12930</td>\n",
              "      <td>15102</td>\n",
              "      <td>3947</td>\n",
              "      <td>173638</td>\n",
              "      <td>383247</td>\n",
              "    </tr>\n",
              "    <tr>\n",
              "      <th>3</th>\n",
              "      <td>1000001</td>\n",
              "      <td>P00085442</td>\n",
              "      <td>F</td>\n",
              "      <td>0-17</td>\n",
              "      <td>10</td>\n",
              "      <td>A</td>\n",
              "      <td>2</td>\n",
              "      <td>0</td>\n",
              "      <td>12</td>\n",
              "      <td>14</td>\n",
              "      <td>0</td>\n",
              "      <td>1057</td>\n",
              "      <td>0</td>\n",
              "      <td>1</td>\n",
              "      <td>0</td>\n",
              "      <td>1</td>\n",
              "      <td>0</td>\n",
              "      <td>0</td>\n",
              "      <td>0</td>\n",
              "      <td>0</td>\n",
              "      <td>1</td>\n",
              "      <td>0</td>\n",
              "      <td>0</td>\n",
              "      <td>35</td>\n",
              "      <td>341</td>\n",
              "      <td>0</td>\n",
              "      <td>0</td>\n",
              "      <td>0</td>\n",
              "      <td>0</td>\n",
              "      <td>7</td>\n",
              "      <td>3</td>\n",
              "      <td>12930</td>\n",
              "      <td>15102</td>\n",
              "      <td>3947</td>\n",
              "      <td>55108</td>\n",
              "      <td>383247</td>\n",
              "    </tr>\n",
              "    <tr>\n",
              "      <th>4</th>\n",
              "      <td>1000002</td>\n",
              "      <td>P00285442</td>\n",
              "      <td>M</td>\n",
              "      <td>55+</td>\n",
              "      <td>16</td>\n",
              "      <td>C</td>\n",
              "      <td>4+</td>\n",
              "      <td>0</td>\n",
              "      <td>8</td>\n",
              "      <td>0</td>\n",
              "      <td>0</td>\n",
              "      <td>7969</td>\n",
              "      <td>6</td>\n",
              "      <td>0</td>\n",
              "      <td>1</td>\n",
              "      <td>0</td>\n",
              "      <td>0</td>\n",
              "      <td>1</td>\n",
              "      <td>0</td>\n",
              "      <td>0</td>\n",
              "      <td>0</td>\n",
              "      <td>0</td>\n",
              "      <td>1</td>\n",
              "      <td>77</td>\n",
              "      <td>203</td>\n",
              "      <td>0</td>\n",
              "      <td>0</td>\n",
              "      <td>0</td>\n",
              "      <td>0</td>\n",
              "      <td>15</td>\n",
              "      <td>25</td>\n",
              "      <td>25371</td>\n",
              "      <td>21504</td>\n",
              "      <td>113925</td>\n",
              "      <td>173638</td>\n",
              "      <td>383247</td>\n",
              "    </tr>\n",
              "  </tbody>\n",
              "</table>\n",
              "</div>"
            ],
            "text/plain": [
              "   User_ID Product_ID Gender   Age  ...  agehit prodc1hit prodc2hit  prodc3hit\n",
              "0  1000001  P00069042      F  0-17  ...   15102     20213    173638     383247\n",
              "1  1000001  P00248942      F  0-17  ...   15102    140378     16466      18428\n",
              "2  1000001  P00087842      F  0-17  ...   15102      3947    173638     383247\n",
              "3  1000001  P00085442      F  0-17  ...   15102      3947     55108     383247\n",
              "4  1000002  P00285442      M   55+  ...   21504    113925    173638     383247\n",
              "\n",
              "[5 rows x 36 columns]"
            ]
          },
          "metadata": {
            "tags": []
          },
          "execution_count": 154
        }
      ]
    },
    {
      "cell_type": "code",
      "metadata": {
        "id": "EyVjTNftmc3h",
        "colab_type": "code",
        "outputId": "0d02acdb-0378-460b-cba3-96fc8a5315b1",
        "colab": {
          "base_uri": "https://localhost:8080/",
          "height": 241
        }
      },
      "source": [
        "#df_train is total dataset\n",
        "#choose the features to be used in model building for regression\n",
        "model_data=df_train.filter(['Occupation','Product_Category_1','Product_Category_2','Product_Category_3','Purchase','Age_Encoded','Female','City A','City B','0 year','1 year','2 years','3 years','userhit','producthit'],axis=1)\n",
        "data_y_pred=model_data['Purchase']\n",
        "data_x=model_data.drop(['Purchase'],axis=1)\n",
        "data_x.head()"
      ],
      "execution_count": 0,
      "outputs": [
        {
          "output_type": "execute_result",
          "data": {
            "text/html": [
              "<div>\n",
              "<style scoped>\n",
              "    .dataframe tbody tr th:only-of-type {\n",
              "        vertical-align: middle;\n",
              "    }\n",
              "\n",
              "    .dataframe tbody tr th {\n",
              "        vertical-align: top;\n",
              "    }\n",
              "\n",
              "    .dataframe thead th {\n",
              "        text-align: right;\n",
              "    }\n",
              "</style>\n",
              "<table border=\"1\" class=\"dataframe\">\n",
              "  <thead>\n",
              "    <tr style=\"text-align: right;\">\n",
              "      <th></th>\n",
              "      <th>Occupation</th>\n",
              "      <th>Product_Category_1</th>\n",
              "      <th>Product_Category_2</th>\n",
              "      <th>Product_Category_3</th>\n",
              "      <th>Age_Encoded</th>\n",
              "      <th>Female</th>\n",
              "      <th>City A</th>\n",
              "      <th>City B</th>\n",
              "      <th>0 year</th>\n",
              "      <th>1 year</th>\n",
              "      <th>2 years</th>\n",
              "      <th>3 years</th>\n",
              "      <th>userhit</th>\n",
              "      <th>producthit</th>\n",
              "    </tr>\n",
              "  </thead>\n",
              "  <tbody>\n",
              "    <tr>\n",
              "      <th>0</th>\n",
              "      <td>10</td>\n",
              "      <td>3</td>\n",
              "      <td>0</td>\n",
              "      <td>0</td>\n",
              "      <td>0</td>\n",
              "      <td>1</td>\n",
              "      <td>1</td>\n",
              "      <td>0</td>\n",
              "      <td>0</td>\n",
              "      <td>0</td>\n",
              "      <td>1</td>\n",
              "      <td>0</td>\n",
              "      <td>35</td>\n",
              "      <td>227</td>\n",
              "    </tr>\n",
              "    <tr>\n",
              "      <th>1</th>\n",
              "      <td>10</td>\n",
              "      <td>1</td>\n",
              "      <td>6</td>\n",
              "      <td>14</td>\n",
              "      <td>0</td>\n",
              "      <td>1</td>\n",
              "      <td>1</td>\n",
              "      <td>0</td>\n",
              "      <td>0</td>\n",
              "      <td>0</td>\n",
              "      <td>1</td>\n",
              "      <td>0</td>\n",
              "      <td>35</td>\n",
              "      <td>581</td>\n",
              "    </tr>\n",
              "    <tr>\n",
              "      <th>2</th>\n",
              "      <td>10</td>\n",
              "      <td>12</td>\n",
              "      <td>0</td>\n",
              "      <td>0</td>\n",
              "      <td>0</td>\n",
              "      <td>1</td>\n",
              "      <td>1</td>\n",
              "      <td>0</td>\n",
              "      <td>0</td>\n",
              "      <td>0</td>\n",
              "      <td>1</td>\n",
              "      <td>0</td>\n",
              "      <td>35</td>\n",
              "      <td>102</td>\n",
              "    </tr>\n",
              "    <tr>\n",
              "      <th>3</th>\n",
              "      <td>10</td>\n",
              "      <td>12</td>\n",
              "      <td>14</td>\n",
              "      <td>0</td>\n",
              "      <td>0</td>\n",
              "      <td>1</td>\n",
              "      <td>1</td>\n",
              "      <td>0</td>\n",
              "      <td>0</td>\n",
              "      <td>0</td>\n",
              "      <td>1</td>\n",
              "      <td>0</td>\n",
              "      <td>35</td>\n",
              "      <td>341</td>\n",
              "    </tr>\n",
              "    <tr>\n",
              "      <th>4</th>\n",
              "      <td>16</td>\n",
              "      <td>8</td>\n",
              "      <td>0</td>\n",
              "      <td>0</td>\n",
              "      <td>6</td>\n",
              "      <td>0</td>\n",
              "      <td>0</td>\n",
              "      <td>0</td>\n",
              "      <td>0</td>\n",
              "      <td>0</td>\n",
              "      <td>0</td>\n",
              "      <td>0</td>\n",
              "      <td>77</td>\n",
              "      <td>203</td>\n",
              "    </tr>\n",
              "  </tbody>\n",
              "</table>\n",
              "</div>"
            ],
            "text/plain": [
              "   Occupation  Product_Category_1  ...  userhit  producthit\n",
              "0          10                   3  ...       35         227\n",
              "1          10                   1  ...       35         581\n",
              "2          10                  12  ...       35         102\n",
              "3          10                  12  ...       35         341\n",
              "4          16                   8  ...       77         203\n",
              "\n",
              "[5 rows x 14 columns]"
            ]
          },
          "metadata": {
            "tags": []
          },
          "execution_count": 91
        }
      ]
    },
    {
      "cell_type": "code",
      "metadata": {
        "id": "h0826yetqaCa",
        "colab_type": "code",
        "outputId": "622e71d0-f52d-4895-c340-5e8074a72dc2",
        "colab": {
          "base_uri": "https://localhost:8080/",
          "height": 255
        }
      },
      "source": [
        "from statsmodels.stats.outliers_influence import variance_inflation_factor\n",
        "variables=data_x.columns\n",
        "#   vif=variance_inflation_factor(x[i])\n",
        "vif = [variance_inflation_factor(data_x[variables].values, data_x.columns.get_loc(var)) for var in data_x.columns]\n",
        "\n",
        "#   max_vif = max(vif)\n",
        "#   print('VIF of',i,':',vif)\n",
        "vif"
      ],
      "execution_count": 0,
      "outputs": [
        {
          "output_type": "execute_result",
          "data": {
            "text/plain": [
              "[1.3632894126924566,\n",
              " 2.892531279441006,\n",
              " 2.109635906464649,\n",
              " 1.6320696409524067,\n",
              " 3.8286581359965117,\n",
              " 1.3238905301487727,\n",
              " 2.503554036636582,\n",
              " 2.6460087536591668,\n",
              " 1.6074421031646016,\n",
              " 2.601171197733802,\n",
              " 1.800059955054798,\n",
              " 1.7826482846350422,\n",
              " 3.5142503475110964,\n",
              " 2.5251770207735458]"
            ]
          },
          "metadata": {
            "tags": []
          },
          "execution_count": 92
        }
      ]
    },
    {
      "cell_type": "code",
      "metadata": {
        "id": "hOjldKN8gueP",
        "colab_type": "code",
        "outputId": "45e941a7-f7af-4c68-8cb0-b08ee09cfd7c",
        "colab": {
          "base_uri": "https://localhost:8080/",
          "height": 483
        }
      },
      "source": [
        "vif=pd.DataFrame(vif)\n",
        "variables=pd.DataFrame(variables)\n",
        "vif=vif.rename(columns={'0':'VIF'})\n",
        "variables=variables.rename(columns={'0':'Columns'})\n",
        "vif\n",
        "# variables\n",
        "df_vif=pd.concat([variables,vif],axis=1)\n",
        "# variables\n",
        "# df_vif.set_index('Columns',inplace=True)\n",
        "df_vif"
      ],
      "execution_count": 0,
      "outputs": [
        {
          "output_type": "execute_result",
          "data": {
            "text/html": [
              "<div>\n",
              "<style scoped>\n",
              "    .dataframe tbody tr th:only-of-type {\n",
              "        vertical-align: middle;\n",
              "    }\n",
              "\n",
              "    .dataframe tbody tr th {\n",
              "        vertical-align: top;\n",
              "    }\n",
              "\n",
              "    .dataframe thead th {\n",
              "        text-align: right;\n",
              "    }\n",
              "</style>\n",
              "<table border=\"1\" class=\"dataframe\">\n",
              "  <thead>\n",
              "    <tr style=\"text-align: right;\">\n",
              "      <th></th>\n",
              "      <th>0</th>\n",
              "      <th>0</th>\n",
              "    </tr>\n",
              "  </thead>\n",
              "  <tbody>\n",
              "    <tr>\n",
              "      <th>0</th>\n",
              "      <td>Occupation</td>\n",
              "      <td>1.363289</td>\n",
              "    </tr>\n",
              "    <tr>\n",
              "      <th>1</th>\n",
              "      <td>Product_Category_1</td>\n",
              "      <td>2.892531</td>\n",
              "    </tr>\n",
              "    <tr>\n",
              "      <th>2</th>\n",
              "      <td>Product_Category_2</td>\n",
              "      <td>2.109636</td>\n",
              "    </tr>\n",
              "    <tr>\n",
              "      <th>3</th>\n",
              "      <td>Product_Category_3</td>\n",
              "      <td>1.632070</td>\n",
              "    </tr>\n",
              "    <tr>\n",
              "      <th>4</th>\n",
              "      <td>Age_Encoded</td>\n",
              "      <td>3.828658</td>\n",
              "    </tr>\n",
              "    <tr>\n",
              "      <th>5</th>\n",
              "      <td>Female</td>\n",
              "      <td>1.323891</td>\n",
              "    </tr>\n",
              "    <tr>\n",
              "      <th>6</th>\n",
              "      <td>City A</td>\n",
              "      <td>2.503554</td>\n",
              "    </tr>\n",
              "    <tr>\n",
              "      <th>7</th>\n",
              "      <td>City B</td>\n",
              "      <td>2.646009</td>\n",
              "    </tr>\n",
              "    <tr>\n",
              "      <th>8</th>\n",
              "      <td>0 year</td>\n",
              "      <td>1.607442</td>\n",
              "    </tr>\n",
              "    <tr>\n",
              "      <th>9</th>\n",
              "      <td>1 year</td>\n",
              "      <td>2.601171</td>\n",
              "    </tr>\n",
              "    <tr>\n",
              "      <th>10</th>\n",
              "      <td>2 years</td>\n",
              "      <td>1.800060</td>\n",
              "    </tr>\n",
              "    <tr>\n",
              "      <th>11</th>\n",
              "      <td>3 years</td>\n",
              "      <td>1.782648</td>\n",
              "    </tr>\n",
              "    <tr>\n",
              "      <th>12</th>\n",
              "      <td>userhit</td>\n",
              "      <td>3.514250</td>\n",
              "    </tr>\n",
              "    <tr>\n",
              "      <th>13</th>\n",
              "      <td>producthit</td>\n",
              "      <td>2.525177</td>\n",
              "    </tr>\n",
              "  </tbody>\n",
              "</table>\n",
              "</div>"
            ],
            "text/plain": [
              "                     0         0\n",
              "0           Occupation  1.363289\n",
              "1   Product_Category_1  2.892531\n",
              "2   Product_Category_2  2.109636\n",
              "3   Product_Category_3  1.632070\n",
              "4          Age_Encoded  3.828658\n",
              "5               Female  1.323891\n",
              "6               City A  2.503554\n",
              "7               City B  2.646009\n",
              "8               0 year  1.607442\n",
              "9               1 year  2.601171\n",
              "10             2 years  1.800060\n",
              "11             3 years  1.782648\n",
              "12             userhit  3.514250\n",
              "13          producthit  2.525177"
            ]
          },
          "metadata": {
            "tags": []
          },
          "execution_count": 93
        }
      ]
    },
    {
      "cell_type": "code",
      "metadata": {
        "id": "_vWR5A5brhnr",
        "colab_type": "code",
        "colab": {}
      },
      "source": [
        "##################################### DIVISION OF TEST AND TRAIN #######################################################\n",
        "from sklearn.model_selection import train_test_split\n",
        "\n",
        "x_train, x_test, y_train, y_test = train_test_split(data_x,data_y_pred, test_size = 0.3,)"
      ],
      "execution_count": 0,
      "outputs": []
    },
    {
      "cell_type": "code",
      "metadata": {
        "id": "1IGP6yXO1p-T",
        "colab_type": "code",
        "colab": {}
      },
      "source": [
        "from sklearn.preprocessing import StandardScaler\n",
        "\n",
        "sc = StandardScaler()\n",
        "x_train = sc.fit_transform(x_train)\n",
        "x_test = sc.transform(x_test)"
      ],
      "execution_count": 0,
      "outputs": []
    },
    {
      "cell_type": "code",
      "metadata": {
        "id": "V5haFIrEkXpV",
        "colab_type": "code",
        "colab": {}
      },
      "source": [
        "model = LinearRegression()\n",
        "l=model.fit(x_train, y_train)"
      ],
      "execution_count": 0,
      "outputs": []
    },
    {
      "cell_type": "code",
      "metadata": {
        "id": "H5KHOTagkqIV",
        "colab_type": "code",
        "colab": {}
      },
      "source": [
        "y_pred=model.predict(x_test)"
      ],
      "execution_count": 0,
      "outputs": []
    },
    {
      "cell_type": "code",
      "metadata": {
        "id": "sqQneN4fktrM",
        "colab_type": "code",
        "colab": {}
      },
      "source": [
        "from sklearn.metrics import mean_squared_error\n",
        "from sklearn.metrics import r2_score\n"
      ],
      "execution_count": 0,
      "outputs": []
    },
    {
      "cell_type": "code",
      "metadata": {
        "id": "zBRN1u-AlPhZ",
        "colab_type": "code",
        "outputId": "f909e137-67cb-40e9-afb0-b215535fae71",
        "colab": {
          "base_uri": "https://localhost:8080/",
          "height": 51
        }
      },
      "source": [
        "mse = mean_squared_error(y_test, y_pred)\n",
        "print(\"RMSE Error:\", np.sqrt(mse))\n",
        "r2 = r2_score(y_test, y_pred)\n",
        "print(\"R2 Score:\", r2)"
      ],
      "execution_count": 0,
      "outputs": [
        {
          "output_type": "stream",
          "text": [
            "RMSE Error: 4504.4354711866035\n",
            "R2 Score: 0.1975206195216429\n"
          ],
          "name": "stdout"
        }
      ]
    },
    {
      "cell_type": "code",
      "metadata": {
        "id": "tB_LhHNfA_hy",
        "colab_type": "code",
        "outputId": "367df6a4-ffd6-4e9e-91ab-9681b9e33a6b",
        "colab": {
          "base_uri": "https://localhost:8080/",
          "height": 51
        }
      },
      "source": [
        "y_pred"
      ],
      "execution_count": 0,
      "outputs": [
        {
          "output_type": "execute_result",
          "data": {
            "text/plain": [
              "array([ 7635.95937742,  8464.63982322,  7639.32820528, ...,\n",
              "        7459.10497604, 13676.95853527, 12650.96244731])"
            ]
          },
          "metadata": {
            "tags": []
          },
          "execution_count": 100
        }
      ]
    },
    {
      "cell_type": "code",
      "metadata": {
        "id": "fNtHnXe_bLkD",
        "colab_type": "code",
        "colab": {}
      },
      "source": [
        "#####################################DROP DUPLICATE USERID###############################################"
      ],
      "execution_count": 0,
      "outputs": []
    },
    {
      "cell_type": "code",
      "metadata": {
        "id": "mbQIEXejHGCA",
        "colab_type": "code",
        "outputId": "41d29b1f-c8ea-42f7-aed5-25c96ae830cd",
        "colab": {
          "base_uri": "https://localhost:8080/",
          "height": 34
        }
      },
      "source": [
        "userids=df_train['User_ID'].nunique()\n",
        "# products=df_train['Product_ID'].nunique()\n",
        "userids"
      ],
      "execution_count": 0,
      "outputs": [
        {
          "output_type": "execute_result",
          "data": {
            "text/plain": [
              "5891"
            ]
          },
          "metadata": {
            "tags": []
          },
          "execution_count": 102
        }
      ]
    },
    {
      "cell_type": "code",
      "metadata": {
        "id": "QstP1i5VHYe8",
        "colab_type": "code",
        "colab": {}
      },
      "source": [
        "new_train=df_train.drop_duplicates(subset='User_ID', keep=\"last\")"
      ],
      "execution_count": 0,
      "outputs": []
    },
    {
      "cell_type": "code",
      "metadata": {
        "id": "ZZ58H7tZInYo",
        "colab_type": "code",
        "outputId": "098ca393-36f1-4cd3-ceb6-6b93a919a88b",
        "colab": {
          "base_uri": "https://localhost:8080/",
          "height": 561
        }
      },
      "source": [
        "new_train.dtypes"
      ],
      "execution_count": 0,
      "outputs": [
        {
          "output_type": "execute_result",
          "data": {
            "text/plain": [
              "User_ID                        int64\n",
              "Product_ID                    object\n",
              "Gender                        object\n",
              "Age                           object\n",
              "Occupation                     int64\n",
              "City_Category                 object\n",
              "Stay_In_Current_City_Years    object\n",
              "Marital_Status                 int64\n",
              "Product_Category_1             int64\n",
              "Product_Category_2             int64\n",
              "Product_Category_3             int64\n",
              "Purchase                       int64\n",
              "Age_Encoded                    int64\n",
              "Female                         uint8\n",
              "Male                           uint8\n",
              "City A                         uint8\n",
              "City B                         uint8\n",
              "City C                         uint8\n",
              "0 year                         uint8\n",
              "1 year                         uint8\n",
              "2 years                        uint8\n",
              "3 years                        uint8\n",
              "4+ years                       uint8\n",
              "userhit                        int64\n",
              "producthit                     int64\n",
              "Occmax                         int64\n",
              "pc1max                         int64\n",
              "pc2max                         int64\n",
              "pc3max                         int64\n",
              "index                          int64\n",
              "PC1Count                       int64\n",
              "dtype: object"
            ]
          },
          "metadata": {
            "tags": []
          },
          "execution_count": 104
        }
      ]
    },
    {
      "cell_type": "code",
      "metadata": {
        "id": "-_dlMrEiIpW-",
        "colab_type": "code",
        "outputId": "e5100120-b539-479f-9ce2-80acebcb018c",
        "colab": {
          "base_uri": "https://localhost:8080/",
          "height": 139
        }
      },
      "source": [
        "from sklearn.preprocessing import LabelEncoder\n",
        "labelencoder = LabelEncoder()\n",
        "new_train['Product_ID'] = labelencoder.fit_transform(new_train['Product_ID'])"
      ],
      "execution_count": 0,
      "outputs": [
        {
          "output_type": "stream",
          "text": [
            "/usr/local/lib/python3.6/dist-packages/ipykernel_launcher.py:3: SettingWithCopyWarning: \n",
            "A value is trying to be set on a copy of a slice from a DataFrame.\n",
            "Try using .loc[row_indexer,col_indexer] = value instead\n",
            "\n",
            "See the caveats in the documentation: http://pandas.pydata.org/pandas-docs/stable/indexing.html#indexing-view-versus-copy\n",
            "  This is separate from the ipykernel package so we can avoid doing imports until\n"
          ],
          "name": "stderr"
        }
      ]
    },
    {
      "cell_type": "code",
      "metadata": {
        "id": "1BYeqLQBJU3-",
        "colab_type": "code",
        "outputId": "8b27b15e-e95c-48b9-c206-ba4cbf102387",
        "colab": {
          "base_uri": "https://localhost:8080/",
          "height": 122
        }
      },
      "source": [
        "new_train.drop('User_ID',axis=1,inplace=True)"
      ],
      "execution_count": 0,
      "outputs": [
        {
          "output_type": "stream",
          "text": [
            "/usr/local/lib/python3.6/dist-packages/pandas/core/frame.py:3940: SettingWithCopyWarning: \n",
            "A value is trying to be set on a copy of a slice from a DataFrame\n",
            "\n",
            "See the caveats in the documentation: http://pandas.pydata.org/pandas-docs/stable/indexing.html#indexing-view-versus-copy\n",
            "  errors=errors)\n"
          ],
          "name": "stderr"
        }
      ]
    },
    {
      "cell_type": "code",
      "metadata": {
        "id": "XhhNEdfCb0ft",
        "colab_type": "code",
        "outputId": "37a4ca4b-ed2c-4424-ed79-3879934f08f1",
        "colab": {
          "base_uri": "https://localhost:8080/",
          "height": 309
        }
      },
      "source": [
        "new_train.head()"
      ],
      "execution_count": 0,
      "outputs": [
        {
          "output_type": "execute_result",
          "data": {
            "text/html": [
              "<div>\n",
              "<style scoped>\n",
              "    .dataframe tbody tr th:only-of-type {\n",
              "        vertical-align: middle;\n",
              "    }\n",
              "\n",
              "    .dataframe tbody tr th {\n",
              "        vertical-align: top;\n",
              "    }\n",
              "\n",
              "    .dataframe thead th {\n",
              "        text-align: right;\n",
              "    }\n",
              "</style>\n",
              "<table border=\"1\" class=\"dataframe\">\n",
              "  <thead>\n",
              "    <tr style=\"text-align: right;\">\n",
              "      <th></th>\n",
              "      <th>Product_ID</th>\n",
              "      <th>Gender</th>\n",
              "      <th>Age</th>\n",
              "      <th>Occupation</th>\n",
              "      <th>City_Category</th>\n",
              "      <th>Stay_In_Current_City_Years</th>\n",
              "      <th>Marital_Status</th>\n",
              "      <th>Product_Category_1</th>\n",
              "      <th>Product_Category_2</th>\n",
              "      <th>Product_Category_3</th>\n",
              "      <th>Purchase</th>\n",
              "      <th>Age_Encoded</th>\n",
              "      <th>Female</th>\n",
              "      <th>Male</th>\n",
              "      <th>City A</th>\n",
              "      <th>City B</th>\n",
              "      <th>City C</th>\n",
              "      <th>0 year</th>\n",
              "      <th>1 year</th>\n",
              "      <th>2 years</th>\n",
              "      <th>3 years</th>\n",
              "      <th>4+ years</th>\n",
              "      <th>userhit</th>\n",
              "      <th>producthit</th>\n",
              "      <th>Occmax</th>\n",
              "      <th>pc1max</th>\n",
              "      <th>pc2max</th>\n",
              "      <th>pc3max</th>\n",
              "      <th>index</th>\n",
              "      <th>PC1Count</th>\n",
              "    </tr>\n",
              "  </thead>\n",
              "  <tbody>\n",
              "    <tr>\n",
              "      <th>306410</th>\n",
              "      <td>162</td>\n",
              "      <td>F</td>\n",
              "      <td>55+</td>\n",
              "      <td>6</td>\n",
              "      <td>C</td>\n",
              "      <td>1</td>\n",
              "      <td>1</td>\n",
              "      <td>3</td>\n",
              "      <td>0</td>\n",
              "      <td>0</td>\n",
              "      <td>13532</td>\n",
              "      <td>6</td>\n",
              "      <td>1</td>\n",
              "      <td>0</td>\n",
              "      <td>0</td>\n",
              "      <td>0</td>\n",
              "      <td>1</td>\n",
              "      <td>0</td>\n",
              "      <td>1</td>\n",
              "      <td>0</td>\n",
              "      <td>0</td>\n",
              "      <td>0</td>\n",
              "      <td>10</td>\n",
              "      <td>227</td>\n",
              "      <td>0</td>\n",
              "      <td>0</td>\n",
              "      <td>0</td>\n",
              "      <td>0</td>\n",
              "      <td>48830</td>\n",
              "      <td>3</td>\n",
              "    </tr>\n",
              "    <tr>\n",
              "      <th>311766</th>\n",
              "      <td>673</td>\n",
              "      <td>M</td>\n",
              "      <td>36-45</td>\n",
              "      <td>0</td>\n",
              "      <td>C</td>\n",
              "      <td>0</td>\n",
              "      <td>0</td>\n",
              "      <td>1</td>\n",
              "      <td>6</td>\n",
              "      <td>14</td>\n",
              "      <td>15381</td>\n",
              "      <td>3</td>\n",
              "      <td>0</td>\n",
              "      <td>1</td>\n",
              "      <td>0</td>\n",
              "      <td>0</td>\n",
              "      <td>1</td>\n",
              "      <td>1</td>\n",
              "      <td>0</td>\n",
              "      <td>0</td>\n",
              "      <td>0</td>\n",
              "      <td>0</td>\n",
              "      <td>13</td>\n",
              "      <td>581</td>\n",
              "      <td>0</td>\n",
              "      <td>0</td>\n",
              "      <td>0</td>\n",
              "      <td>0</td>\n",
              "      <td>104</td>\n",
              "      <td>4</td>\n",
              "    </tr>\n",
              "    <tr>\n",
              "      <th>311961</th>\n",
              "      <td>183</td>\n",
              "      <td>M</td>\n",
              "      <td>18-25</td>\n",
              "      <td>4</td>\n",
              "      <td>C</td>\n",
              "      <td>4+</td>\n",
              "      <td>1</td>\n",
              "      <td>1</td>\n",
              "      <td>6</td>\n",
              "      <td>8</td>\n",
              "      <td>15848</td>\n",
              "      <td>1</td>\n",
              "      <td>0</td>\n",
              "      <td>1</td>\n",
              "      <td>0</td>\n",
              "      <td>0</td>\n",
              "      <td>1</td>\n",
              "      <td>0</td>\n",
              "      <td>0</td>\n",
              "      <td>0</td>\n",
              "      <td>0</td>\n",
              "      <td>1</td>\n",
              "      <td>14</td>\n",
              "      <td>1203</td>\n",
              "      <td>1</td>\n",
              "      <td>0</td>\n",
              "      <td>0</td>\n",
              "      <td>0</td>\n",
              "      <td>395</td>\n",
              "      <td>2</td>\n",
              "    </tr>\n",
              "    <tr>\n",
              "      <th>339200</th>\n",
              "      <td>958</td>\n",
              "      <td>M</td>\n",
              "      <td>36-45</td>\n",
              "      <td>17</td>\n",
              "      <td>C</td>\n",
              "      <td>3</td>\n",
              "      <td>0</td>\n",
              "      <td>1</td>\n",
              "      <td>17</td>\n",
              "      <td>0</td>\n",
              "      <td>8192</td>\n",
              "      <td>3</td>\n",
              "      <td>0</td>\n",
              "      <td>1</td>\n",
              "      <td>0</td>\n",
              "      <td>0</td>\n",
              "      <td>1</td>\n",
              "      <td>0</td>\n",
              "      <td>0</td>\n",
              "      <td>0</td>\n",
              "      <td>1</td>\n",
              "      <td>0</td>\n",
              "      <td>8</td>\n",
              "      <td>114</td>\n",
              "      <td>0</td>\n",
              "      <td>0</td>\n",
              "      <td>0</td>\n",
              "      <td>0</td>\n",
              "      <td>39202</td>\n",
              "      <td>5</td>\n",
              "    </tr>\n",
              "    <tr>\n",
              "      <th>353471</th>\n",
              "      <td>253</td>\n",
              "      <td>F</td>\n",
              "      <td>46-50</td>\n",
              "      <td>11</td>\n",
              "      <td>A</td>\n",
              "      <td>1</td>\n",
              "      <td>0</td>\n",
              "      <td>8</td>\n",
              "      <td>0</td>\n",
              "      <td>0</td>\n",
              "      <td>9989</td>\n",
              "      <td>4</td>\n",
              "      <td>1</td>\n",
              "      <td>0</td>\n",
              "      <td>1</td>\n",
              "      <td>0</td>\n",
              "      <td>0</td>\n",
              "      <td>0</td>\n",
              "      <td>1</td>\n",
              "      <td>0</td>\n",
              "      <td>0</td>\n",
              "      <td>0</td>\n",
              "      <td>18</td>\n",
              "      <td>249</td>\n",
              "      <td>0</td>\n",
              "      <td>0</td>\n",
              "      <td>0</td>\n",
              "      <td>0</td>\n",
              "      <td>4066</td>\n",
              "      <td>9</td>\n",
              "    </tr>\n",
              "  </tbody>\n",
              "</table>\n",
              "</div>"
            ],
            "text/plain": [
              "        Product_ID Gender    Age  Occupation  ... pc2max pc3max  index  PC1Count\n",
              "306410         162      F    55+           6  ...      0      0  48830         3\n",
              "311766         673      M  36-45           0  ...      0      0    104         4\n",
              "311961         183      M  18-25           4  ...      0      0    395         2\n",
              "339200         958      M  36-45          17  ...      0      0  39202         5\n",
              "353471         253      F  46-50          11  ...      0      0   4066         9\n",
              "\n",
              "[5 rows x 30 columns]"
            ]
          },
          "metadata": {
            "tags": []
          },
          "execution_count": 107
        }
      ]
    },
    {
      "cell_type": "code",
      "metadata": {
        "id": "xsz4sIpVJ2Bl",
        "colab_type": "code",
        "outputId": "fb28b626-da67-4e87-fe6d-5966dd99210b",
        "colab": {
          "base_uri": "https://localhost:8080/",
          "height": 122
        }
      },
      "source": [
        "new_train.reset_index(inplace=True)\n",
        "new_train.drop('index',axis=1,inplace=True)"
      ],
      "execution_count": 0,
      "outputs": [
        {
          "output_type": "stream",
          "text": [
            "/usr/local/lib/python3.6/dist-packages/pandas/core/frame.py:3940: SettingWithCopyWarning: \n",
            "A value is trying to be set on a copy of a slice from a DataFrame\n",
            "\n",
            "See the caveats in the documentation: http://pandas.pydata.org/pandas-docs/stable/indexing.html#indexing-view-versus-copy\n",
            "  errors=errors)\n"
          ],
          "name": "stderr"
        }
      ]
    },
    {
      "cell_type": "code",
      "metadata": {
        "id": "WfokK-ibKNRb",
        "colab_type": "code",
        "outputId": "09ef154d-fcfc-4058-9f50-74dde7c8a713",
        "colab": {
          "base_uri": "https://localhost:8080/",
          "height": 182
        }
      },
      "source": [
        "df_train.head(2)"
      ],
      "execution_count": 0,
      "outputs": [
        {
          "output_type": "execute_result",
          "data": {
            "text/html": [
              "<div>\n",
              "<style scoped>\n",
              "    .dataframe tbody tr th:only-of-type {\n",
              "        vertical-align: middle;\n",
              "    }\n",
              "\n",
              "    .dataframe tbody tr th {\n",
              "        vertical-align: top;\n",
              "    }\n",
              "\n",
              "    .dataframe thead th {\n",
              "        text-align: right;\n",
              "    }\n",
              "</style>\n",
              "<table border=\"1\" class=\"dataframe\">\n",
              "  <thead>\n",
              "    <tr style=\"text-align: right;\">\n",
              "      <th></th>\n",
              "      <th>User_ID</th>\n",
              "      <th>Product_ID</th>\n",
              "      <th>Gender</th>\n",
              "      <th>Age</th>\n",
              "      <th>Occupation</th>\n",
              "      <th>City_Category</th>\n",
              "      <th>Stay_In_Current_City_Years</th>\n",
              "      <th>Marital_Status</th>\n",
              "      <th>Product_Category_1</th>\n",
              "      <th>Product_Category_2</th>\n",
              "      <th>Product_Category_3</th>\n",
              "      <th>Purchase</th>\n",
              "      <th>Age_Encoded</th>\n",
              "      <th>Female</th>\n",
              "      <th>Male</th>\n",
              "      <th>City A</th>\n",
              "      <th>City B</th>\n",
              "      <th>City C</th>\n",
              "      <th>0 year</th>\n",
              "      <th>1 year</th>\n",
              "      <th>2 years</th>\n",
              "      <th>3 years</th>\n",
              "      <th>4+ years</th>\n",
              "      <th>userhit</th>\n",
              "      <th>producthit</th>\n",
              "      <th>Occmax</th>\n",
              "      <th>pc1max</th>\n",
              "      <th>pc2max</th>\n",
              "      <th>pc3max</th>\n",
              "      <th>index</th>\n",
              "      <th>PC1Count</th>\n",
              "      <th>occhit</th>\n",
              "      <th>agehit</th>\n",
              "      <th>prodc1hit</th>\n",
              "      <th>prodc2hit</th>\n",
              "      <th>prodc3hit</th>\n",
              "    </tr>\n",
              "  </thead>\n",
              "  <tbody>\n",
              "    <tr>\n",
              "      <th>0</th>\n",
              "      <td>1000001</td>\n",
              "      <td>P00069042</td>\n",
              "      <td>F</td>\n",
              "      <td>0-17</td>\n",
              "      <td>10</td>\n",
              "      <td>A</td>\n",
              "      <td>2</td>\n",
              "      <td>0</td>\n",
              "      <td>3</td>\n",
              "      <td>0</td>\n",
              "      <td>0</td>\n",
              "      <td>8370</td>\n",
              "      <td>0</td>\n",
              "      <td>1</td>\n",
              "      <td>0</td>\n",
              "      <td>1</td>\n",
              "      <td>0</td>\n",
              "      <td>0</td>\n",
              "      <td>0</td>\n",
              "      <td>0</td>\n",
              "      <td>1</td>\n",
              "      <td>0</td>\n",
              "      <td>0</td>\n",
              "      <td>35</td>\n",
              "      <td>227</td>\n",
              "      <td>0</td>\n",
              "      <td>0</td>\n",
              "      <td>0</td>\n",
              "      <td>0</td>\n",
              "      <td>2</td>\n",
              "      <td>11</td>\n",
              "      <td>12930</td>\n",
              "      <td>15102</td>\n",
              "      <td>20213</td>\n",
              "      <td>173638</td>\n",
              "      <td>383247</td>\n",
              "    </tr>\n",
              "    <tr>\n",
              "      <th>1</th>\n",
              "      <td>1000001</td>\n",
              "      <td>P00248942</td>\n",
              "      <td>F</td>\n",
              "      <td>0-17</td>\n",
              "      <td>10</td>\n",
              "      <td>A</td>\n",
              "      <td>2</td>\n",
              "      <td>0</td>\n",
              "      <td>1</td>\n",
              "      <td>6</td>\n",
              "      <td>14</td>\n",
              "      <td>15200</td>\n",
              "      <td>0</td>\n",
              "      <td>1</td>\n",
              "      <td>0</td>\n",
              "      <td>1</td>\n",
              "      <td>0</td>\n",
              "      <td>0</td>\n",
              "      <td>0</td>\n",
              "      <td>0</td>\n",
              "      <td>1</td>\n",
              "      <td>0</td>\n",
              "      <td>0</td>\n",
              "      <td>35</td>\n",
              "      <td>581</td>\n",
              "      <td>0</td>\n",
              "      <td>0</td>\n",
              "      <td>0</td>\n",
              "      <td>0</td>\n",
              "      <td>0</td>\n",
              "      <td>4</td>\n",
              "      <td>12930</td>\n",
              "      <td>15102</td>\n",
              "      <td>140378</td>\n",
              "      <td>16466</td>\n",
              "      <td>18428</td>\n",
              "    </tr>\n",
              "  </tbody>\n",
              "</table>\n",
              "</div>"
            ],
            "text/plain": [
              "   User_ID Product_ID Gender   Age  ...  agehit prodc1hit prodc2hit  prodc3hit\n",
              "0  1000001  P00069042      F  0-17  ...   15102     20213    173638     383247\n",
              "1  1000001  P00248942      F  0-17  ...   15102    140378     16466      18428\n",
              "\n",
              "[2 rows x 36 columns]"
            ]
          },
          "metadata": {
            "tags": []
          },
          "execution_count": 155
        }
      ]
    },
    {
      "cell_type": "code",
      "metadata": {
        "id": "ISOXTR3cKe9Y",
        "colab_type": "code",
        "colab": {}
      },
      "source": [
        "features=['Occupation','Product_Category_1','Product_Category_2','Product_Category_3','Age_Encoded','Female','City A','City B','0 year','1 year','2 years','3 years','userhit','producthit','occhit','agehit']\n",
        "model_data=df_train.filter(features,axis=1)\n",
        "data_y_pred=df_train['Purchase']\n",
        "data_x=model_data"
      ],
      "execution_count": 0,
      "outputs": []
    },
    {
      "cell_type": "code",
      "metadata": {
        "id": "s2Lw9POuL1QA",
        "colab_type": "code",
        "outputId": "7a5911dc-6338-4728-eac6-9befc39ad676",
        "colab": {
          "base_uri": "https://localhost:8080/",
          "height": 289
        }
      },
      "source": [
        "from statsmodels.stats.outliers_influence import variance_inflation_factor\n",
        "variables=data_x.columns\n",
        "#   vif=variance_inflation_factor(x[i])\n",
        "vif = [variance_inflation_factor(data_x[variables].values, data_x.columns.get_loc(var)) for var in data_x.columns]\n",
        "\n",
        "#   max_vif = max(vif)\n",
        "#   print('VIF of',i,':',vif)\n",
        "vif"
      ],
      "execution_count": 0,
      "outputs": [
        {
          "output_type": "execute_result",
          "data": {
            "text/plain": [
              "[1.4218578334550243,\n",
              " 3.134870518846247,\n",
              " 2.1541535614902294,\n",
              " 1.6589709105953823,\n",
              " 4.12372510078367,\n",
              " 1.328374704601366,\n",
              " 2.598101605430525,\n",
              " 2.743127137689657,\n",
              " 1.7105487930019379,\n",
              " 2.8643182624942707,\n",
              " 1.9603607469222144,\n",
              " 1.9187030085171257,\n",
              " 3.6312609265041416,\n",
              " 2.7037258297584503,\n",
              " 4.871594067874858,\n",
              " 4.3299543353290435]"
            ]
          },
          "metadata": {
            "tags": []
          },
          "execution_count": 196
        }
      ]
    },
    {
      "cell_type": "code",
      "metadata": {
        "id": "xyY2E5o3L1uA",
        "colab_type": "code",
        "outputId": "3ff44459-dccf-49d8-f7d3-2720c624cb9a",
        "colab": {
          "base_uri": "https://localhost:8080/",
          "height": 545
        }
      },
      "source": [
        "vif=pd.DataFrame(vif)\n",
        "variables=pd.DataFrame(variables)\n",
        "vif=vif.rename(columns={'0':'VIF'})\n",
        "variables=variables.rename(columns={'0':'Columns'})\n",
        "vif\n",
        "# variables\n",
        "df_vif=pd.concat([variables,vif],axis=1)\n",
        "# variables\n",
        "# df_vif.set_index('Columns',inplace=True)\n",
        "df_vif"
      ],
      "execution_count": 0,
      "outputs": [
        {
          "output_type": "execute_result",
          "data": {
            "text/html": [
              "<div>\n",
              "<style scoped>\n",
              "    .dataframe tbody tr th:only-of-type {\n",
              "        vertical-align: middle;\n",
              "    }\n",
              "\n",
              "    .dataframe tbody tr th {\n",
              "        vertical-align: top;\n",
              "    }\n",
              "\n",
              "    .dataframe thead th {\n",
              "        text-align: right;\n",
              "    }\n",
              "</style>\n",
              "<table border=\"1\" class=\"dataframe\">\n",
              "  <thead>\n",
              "    <tr style=\"text-align: right;\">\n",
              "      <th></th>\n",
              "      <th>0</th>\n",
              "      <th>0</th>\n",
              "    </tr>\n",
              "  </thead>\n",
              "  <tbody>\n",
              "    <tr>\n",
              "      <th>0</th>\n",
              "      <td>Occupation</td>\n",
              "      <td>1.421858</td>\n",
              "    </tr>\n",
              "    <tr>\n",
              "      <th>1</th>\n",
              "      <td>Product_Category_1</td>\n",
              "      <td>3.134871</td>\n",
              "    </tr>\n",
              "    <tr>\n",
              "      <th>2</th>\n",
              "      <td>Product_Category_2</td>\n",
              "      <td>2.154154</td>\n",
              "    </tr>\n",
              "    <tr>\n",
              "      <th>3</th>\n",
              "      <td>Product_Category_3</td>\n",
              "      <td>1.658971</td>\n",
              "    </tr>\n",
              "    <tr>\n",
              "      <th>4</th>\n",
              "      <td>Age_Encoded</td>\n",
              "      <td>4.123725</td>\n",
              "    </tr>\n",
              "    <tr>\n",
              "      <th>5</th>\n",
              "      <td>Female</td>\n",
              "      <td>1.328375</td>\n",
              "    </tr>\n",
              "    <tr>\n",
              "      <th>6</th>\n",
              "      <td>City A</td>\n",
              "      <td>2.598102</td>\n",
              "    </tr>\n",
              "    <tr>\n",
              "      <th>7</th>\n",
              "      <td>City B</td>\n",
              "      <td>2.743127</td>\n",
              "    </tr>\n",
              "    <tr>\n",
              "      <th>8</th>\n",
              "      <td>0 year</td>\n",
              "      <td>1.710549</td>\n",
              "    </tr>\n",
              "    <tr>\n",
              "      <th>9</th>\n",
              "      <td>1 year</td>\n",
              "      <td>2.864318</td>\n",
              "    </tr>\n",
              "    <tr>\n",
              "      <th>10</th>\n",
              "      <td>2 years</td>\n",
              "      <td>1.960361</td>\n",
              "    </tr>\n",
              "    <tr>\n",
              "      <th>11</th>\n",
              "      <td>3 years</td>\n",
              "      <td>1.918703</td>\n",
              "    </tr>\n",
              "    <tr>\n",
              "      <th>12</th>\n",
              "      <td>userhit</td>\n",
              "      <td>3.631261</td>\n",
              "    </tr>\n",
              "    <tr>\n",
              "      <th>13</th>\n",
              "      <td>producthit</td>\n",
              "      <td>2.703726</td>\n",
              "    </tr>\n",
              "    <tr>\n",
              "      <th>14</th>\n",
              "      <td>occhit</td>\n",
              "      <td>4.871594</td>\n",
              "    </tr>\n",
              "    <tr>\n",
              "      <th>15</th>\n",
              "      <td>agehit</td>\n",
              "      <td>4.329954</td>\n",
              "    </tr>\n",
              "  </tbody>\n",
              "</table>\n",
              "</div>"
            ],
            "text/plain": [
              "                     0         0\n",
              "0           Occupation  1.421858\n",
              "1   Product_Category_1  3.134871\n",
              "2   Product_Category_2  2.154154\n",
              "3   Product_Category_3  1.658971\n",
              "4          Age_Encoded  4.123725\n",
              "5               Female  1.328375\n",
              "6               City A  2.598102\n",
              "7               City B  2.743127\n",
              "8               0 year  1.710549\n",
              "9               1 year  2.864318\n",
              "10             2 years  1.960361\n",
              "11             3 years  1.918703\n",
              "12             userhit  3.631261\n",
              "13          producthit  2.703726\n",
              "14              occhit  4.871594\n",
              "15              agehit  4.329954"
            ]
          },
          "metadata": {
            "tags": []
          },
          "execution_count": 197
        }
      ]
    },
    {
      "cell_type": "code",
      "metadata": {
        "id": "mO1kG4j7pmo-",
        "colab_type": "code",
        "outputId": "921f4ef7-0bc1-467f-8e70-e275543aa748",
        "colab": {
          "base_uri": "https://localhost:8080/",
          "height": 309
        }
      },
      "source": [
        "df_train.head()"
      ],
      "execution_count": 0,
      "outputs": [
        {
          "output_type": "execute_result",
          "data": {
            "text/html": [
              "<div>\n",
              "<style scoped>\n",
              "    .dataframe tbody tr th:only-of-type {\n",
              "        vertical-align: middle;\n",
              "    }\n",
              "\n",
              "    .dataframe tbody tr th {\n",
              "        vertical-align: top;\n",
              "    }\n",
              "\n",
              "    .dataframe thead th {\n",
              "        text-align: right;\n",
              "    }\n",
              "</style>\n",
              "<table border=\"1\" class=\"dataframe\">\n",
              "  <thead>\n",
              "    <tr style=\"text-align: right;\">\n",
              "      <th></th>\n",
              "      <th>User_ID</th>\n",
              "      <th>Product_ID</th>\n",
              "      <th>Gender</th>\n",
              "      <th>Age</th>\n",
              "      <th>Occupation</th>\n",
              "      <th>City_Category</th>\n",
              "      <th>Stay_In_Current_City_Years</th>\n",
              "      <th>Marital_Status</th>\n",
              "      <th>Product_Category_1</th>\n",
              "      <th>Product_Category_2</th>\n",
              "      <th>Product_Category_3</th>\n",
              "      <th>Purchase</th>\n",
              "      <th>Age_Encoded</th>\n",
              "      <th>Female</th>\n",
              "      <th>Male</th>\n",
              "      <th>City A</th>\n",
              "      <th>City B</th>\n",
              "      <th>City C</th>\n",
              "      <th>0 year</th>\n",
              "      <th>1 year</th>\n",
              "      <th>2 years</th>\n",
              "      <th>3 years</th>\n",
              "      <th>4+ years</th>\n",
              "      <th>userhit</th>\n",
              "      <th>producthit</th>\n",
              "      <th>Occmax</th>\n",
              "      <th>pc1max</th>\n",
              "      <th>pc2max</th>\n",
              "      <th>pc3max</th>\n",
              "      <th>index</th>\n",
              "      <th>PC1Count</th>\n",
              "    </tr>\n",
              "  </thead>\n",
              "  <tbody>\n",
              "    <tr>\n",
              "      <th>0</th>\n",
              "      <td>1000001</td>\n",
              "      <td>P00069042</td>\n",
              "      <td>F</td>\n",
              "      <td>0-17</td>\n",
              "      <td>10</td>\n",
              "      <td>A</td>\n",
              "      <td>2</td>\n",
              "      <td>0</td>\n",
              "      <td>3</td>\n",
              "      <td>0</td>\n",
              "      <td>0</td>\n",
              "      <td>8370</td>\n",
              "      <td>0</td>\n",
              "      <td>1</td>\n",
              "      <td>0</td>\n",
              "      <td>1</td>\n",
              "      <td>0</td>\n",
              "      <td>0</td>\n",
              "      <td>0</td>\n",
              "      <td>0</td>\n",
              "      <td>1</td>\n",
              "      <td>0</td>\n",
              "      <td>0</td>\n",
              "      <td>35</td>\n",
              "      <td>227</td>\n",
              "      <td>0</td>\n",
              "      <td>0</td>\n",
              "      <td>0</td>\n",
              "      <td>0</td>\n",
              "      <td>2</td>\n",
              "      <td>11</td>\n",
              "    </tr>\n",
              "    <tr>\n",
              "      <th>1</th>\n",
              "      <td>1000001</td>\n",
              "      <td>P00248942</td>\n",
              "      <td>F</td>\n",
              "      <td>0-17</td>\n",
              "      <td>10</td>\n",
              "      <td>A</td>\n",
              "      <td>2</td>\n",
              "      <td>0</td>\n",
              "      <td>1</td>\n",
              "      <td>6</td>\n",
              "      <td>14</td>\n",
              "      <td>15200</td>\n",
              "      <td>0</td>\n",
              "      <td>1</td>\n",
              "      <td>0</td>\n",
              "      <td>1</td>\n",
              "      <td>0</td>\n",
              "      <td>0</td>\n",
              "      <td>0</td>\n",
              "      <td>0</td>\n",
              "      <td>1</td>\n",
              "      <td>0</td>\n",
              "      <td>0</td>\n",
              "      <td>35</td>\n",
              "      <td>581</td>\n",
              "      <td>0</td>\n",
              "      <td>0</td>\n",
              "      <td>0</td>\n",
              "      <td>0</td>\n",
              "      <td>0</td>\n",
              "      <td>4</td>\n",
              "    </tr>\n",
              "    <tr>\n",
              "      <th>2</th>\n",
              "      <td>1000001</td>\n",
              "      <td>P00087842</td>\n",
              "      <td>F</td>\n",
              "      <td>0-17</td>\n",
              "      <td>10</td>\n",
              "      <td>A</td>\n",
              "      <td>2</td>\n",
              "      <td>0</td>\n",
              "      <td>12</td>\n",
              "      <td>0</td>\n",
              "      <td>0</td>\n",
              "      <td>1422</td>\n",
              "      <td>0</td>\n",
              "      <td>1</td>\n",
              "      <td>0</td>\n",
              "      <td>1</td>\n",
              "      <td>0</td>\n",
              "      <td>0</td>\n",
              "      <td>0</td>\n",
              "      <td>0</td>\n",
              "      <td>1</td>\n",
              "      <td>0</td>\n",
              "      <td>0</td>\n",
              "      <td>35</td>\n",
              "      <td>102</td>\n",
              "      <td>0</td>\n",
              "      <td>0</td>\n",
              "      <td>0</td>\n",
              "      <td>0</td>\n",
              "      <td>7</td>\n",
              "      <td>3</td>\n",
              "    </tr>\n",
              "    <tr>\n",
              "      <th>3</th>\n",
              "      <td>1000001</td>\n",
              "      <td>P00085442</td>\n",
              "      <td>F</td>\n",
              "      <td>0-17</td>\n",
              "      <td>10</td>\n",
              "      <td>A</td>\n",
              "      <td>2</td>\n",
              "      <td>0</td>\n",
              "      <td>12</td>\n",
              "      <td>14</td>\n",
              "      <td>0</td>\n",
              "      <td>1057</td>\n",
              "      <td>0</td>\n",
              "      <td>1</td>\n",
              "      <td>0</td>\n",
              "      <td>1</td>\n",
              "      <td>0</td>\n",
              "      <td>0</td>\n",
              "      <td>0</td>\n",
              "      <td>0</td>\n",
              "      <td>1</td>\n",
              "      <td>0</td>\n",
              "      <td>0</td>\n",
              "      <td>35</td>\n",
              "      <td>341</td>\n",
              "      <td>0</td>\n",
              "      <td>0</td>\n",
              "      <td>0</td>\n",
              "      <td>0</td>\n",
              "      <td>7</td>\n",
              "      <td>3</td>\n",
              "    </tr>\n",
              "    <tr>\n",
              "      <th>4</th>\n",
              "      <td>1000002</td>\n",
              "      <td>P00285442</td>\n",
              "      <td>M</td>\n",
              "      <td>55+</td>\n",
              "      <td>16</td>\n",
              "      <td>C</td>\n",
              "      <td>4+</td>\n",
              "      <td>0</td>\n",
              "      <td>8</td>\n",
              "      <td>0</td>\n",
              "      <td>0</td>\n",
              "      <td>7969</td>\n",
              "      <td>6</td>\n",
              "      <td>0</td>\n",
              "      <td>1</td>\n",
              "      <td>0</td>\n",
              "      <td>0</td>\n",
              "      <td>1</td>\n",
              "      <td>0</td>\n",
              "      <td>0</td>\n",
              "      <td>0</td>\n",
              "      <td>0</td>\n",
              "      <td>1</td>\n",
              "      <td>77</td>\n",
              "      <td>203</td>\n",
              "      <td>0</td>\n",
              "      <td>0</td>\n",
              "      <td>0</td>\n",
              "      <td>0</td>\n",
              "      <td>15</td>\n",
              "      <td>25</td>\n",
              "    </tr>\n",
              "  </tbody>\n",
              "</table>\n",
              "</div>"
            ],
            "text/plain": [
              "   User_ID Product_ID Gender   Age  ...  pc2max pc3max index  PC1Count\n",
              "0  1000001  P00069042      F  0-17  ...       0      0     2        11\n",
              "1  1000001  P00248942      F  0-17  ...       0      0     0         4\n",
              "2  1000001  P00087842      F  0-17  ...       0      0     7         3\n",
              "3  1000001  P00085442      F  0-17  ...       0      0     7         3\n",
              "4  1000002  P00285442      M   55+  ...       0      0    15        25\n",
              "\n",
              "[5 rows x 31 columns]"
            ]
          },
          "metadata": {
            "tags": []
          },
          "execution_count": 115
        }
      ]
    },
    {
      "cell_type": "code",
      "metadata": {
        "id": "pqJdG6w-Mbvz",
        "colab_type": "code",
        "colab": {}
      },
      "source": [
        "##################################### DIVISION OF TEST AND TRAIN #######################################################\n",
        "from sklearn.model_selection import train_test_split\n",
        "\n",
        "x_train, x_test, y_train, y_test = train_test_split(data_x,data_y_pred, test_size = 0.3,random_state=75)"
      ],
      "execution_count": 0,
      "outputs": []
    },
    {
      "cell_type": "code",
      "metadata": {
        "id": "bT4BhYtaMgVP",
        "colab_type": "code",
        "colab": {}
      },
      "source": [
        "from sklearn.preprocessing import StandardScaler\n",
        "\n",
        "sc = StandardScaler()\n",
        "x_trainsc = sc.fit_transform(x_train)\n",
        "x_testsc = sc.transform(x_test)"
      ],
      "execution_count": 0,
      "outputs": []
    },
    {
      "cell_type": "code",
      "metadata": {
        "id": "vQ2uvyGxMmNg",
        "colab_type": "code",
        "colab": {}
      },
      "source": [
        "############################################LINEAR REGRESSION##########################################################\n",
        "model = LinearRegression()\n",
        "l=model.fit(x_train, y_train)"
      ],
      "execution_count": 0,
      "outputs": []
    },
    {
      "cell_type": "code",
      "metadata": {
        "id": "neTNn7zGMtHY",
        "colab_type": "code",
        "colab": {}
      },
      "source": [
        "y_pred=model.predict(x_test)"
      ],
      "execution_count": 0,
      "outputs": []
    },
    {
      "cell_type": "code",
      "metadata": {
        "id": "02YJVsAnMwzx",
        "colab_type": "code",
        "outputId": "ce9be5bd-194b-4223-b164-f95c86993780",
        "colab": {
          "base_uri": "https://localhost:8080/",
          "height": 388
        }
      },
      "source": [
        "from sklearn.metrics import mean_squared_error\n",
        "from sklearn.metrics import r2_score\n",
        "predictors=data_x.columns\n",
        "coef1 = pd.Series(l.coef_, predictors).sort_values()\n",
        "coef1.plot(kind='bar', title='Model Coefficients')"
      ],
      "execution_count": 0,
      "outputs": [
        {
          "output_type": "execute_result",
          "data": {
            "text/plain": [
              "<matplotlib.axes._subplots.AxesSubplot at 0x7fe1a0a61518>"
            ]
          },
          "metadata": {
            "tags": []
          },
          "execution_count": 202
        },
        {
          "output_type": "display_data",
          "data": {
            "image/png": "[encoded data removed]",
            "text/plain": [
              "<Figure size 432x288 with 1 Axes>"
            ]
          },
          "metadata": {
            "tags": []
          }
        }
      ]
    },
    {
      "cell_type": "code",
      "metadata": {
        "id": "le2hE2waM0Jb",
        "colab_type": "code",
        "outputId": "fe3e7107-19ed-4d3a-99f4-adb59a642358",
        "colab": {
          "base_uri": "https://localhost:8080/",
          "height": 51
        }
      },
      "source": [
        "mse = mean_squared_error(y_test, y_pred)\n",
        "print(\"RMSE Error:\", np.sqrt(mse))\n",
        "r2 = r2_score(y_test, y_pred)\n",
        "print(\"R2 Score:\", r2)"
      ],
      "execution_count": 0,
      "outputs": [
        {
          "output_type": "stream",
          "text": [
            "RMSE Error: 4502.606993630691\n",
            "R2 Score: 0.19759422074391308\n"
          ],
          "name": "stdout"
        }
      ]
    },
    {
      "cell_type": "code",
      "metadata": {
        "id": "ufqHkOj_YPZD",
        "colab_type": "code",
        "outputId": "8528d8b7-84c8-4abf-8f5b-bbea1a2c74e3",
        "colab": {
          "base_uri": "https://localhost:8080/",
          "height": 71
        }
      },
      "source": [
        "!pip install scipy==1.2 --upgrade\n",
        "import pandas as pd\n",
        "import numpy as np\n",
        "from sklearn import datasets, linear_model\n",
        "from sklearn.linear_model import LinearRegression\n",
        "import statsmodels.api as sm\n",
        "from scipy import stats"
      ],
      "execution_count": 0,
      "outputs": [
        {
          "output_type": "stream",
          "text": [
            "Requirement already up-to-date: scipy==1.2 in /usr/local/lib/python3.6/dist-packages (1.2.0)\n",
            "Requirement already satisfied, skipping upgrade: numpy>=1.8.2 in /usr/local/lib/python3.6/dist-packages (from scipy==1.2) (1.16.4)\n"
          ],
          "name": "stdout"
        }
      ]
    },
    {
      "cell_type": "code",
      "metadata": {
        "id": "tEutxvdlOfZP",
        "colab_type": "code",
        "outputId": "7ea68149-061a-4be7-e1b0-c973816f8055",
        "colab": {
          "base_uri": "https://localhost:8080/",
          "height": 714
        }
      },
      "source": [
        "################################################## STATISTICAL OLS MODEL ####################################################\n",
        "est=sm.OLS(y_train,x_train)\n",
        "est2=est.fit()\n",
        "print(est2.summary())\n",
        "ols_y=est2.predict(x_test)"
      ],
      "execution_count": 0,
      "outputs": [
        {
          "output_type": "stream",
          "text": [
            "                            OLS Regression Results                            \n",
            "==============================================================================\n",
            "Dep. Variable:               Purchase   R-squared:                       0.796\n",
            "Model:                            OLS   Adj. R-squared:                  0.796\n",
            "Method:                 Least Squares   F-statistic:                 9.373e+04\n",
            "Date:                Thu, 20 Jun 2019   Prob (F-statistic):               0.00\n",
            "Time:                        06:43:42   Log-Likelihood:            -3.8071e+06\n",
            "No. Observations:              385047   AIC:                         7.614e+06\n",
            "Df Residuals:                  385031   BIC:                         7.614e+06\n",
            "Df Model:                          16                                         \n",
            "Covariance Type:            nonrobust                                         \n",
            "======================================================================================\n",
            "                         coef    std err          t      P>|t|      [0.025      0.975]\n",
            "--------------------------------------------------------------------------------------\n",
            "Occupation            14.0335      0.358     39.247      0.000      13.333      14.734\n",
            "Product_Category_1  -185.5302      2.032    -91.283      0.000    -189.514    -181.547\n",
            "Product_Category_2    41.0937      1.229     33.448      0.000      38.686      43.502\n",
            "Product_Category_3   147.5716      1.347    109.529      0.000     144.931     150.212\n",
            "Age_Encoded          827.9818      5.488    150.879      0.000     817.226     838.738\n",
            "Female               -70.0404     17.805     -3.934      0.000    -104.937     -35.144\n",
            "City A               356.8627     23.859     14.957      0.000     310.099     403.626\n",
            "City B               613.8033     19.614     31.294      0.000     575.360     652.247\n",
            "0 year              1698.5374     27.291     62.238      0.000    1645.048    1752.027\n",
            "1 year              1694.1455     21.859     77.504      0.000    1651.303    1736.988\n",
            "2 years             1783.8956     24.984     71.403      0.000    1734.929    1832.863\n",
            "3 years             1713.4605     25.550     67.063      0.000    1663.383    1763.537\n",
            "userhit                0.5371      0.053     10.213      0.000       0.434       0.640\n",
            "producthit             4.1358      0.022    189.515      0.000       4.093       4.179\n",
            "occhit                 0.0348      0.000     98.625      0.000       0.034       0.036\n",
            "agehit                 0.0121      0.000    116.529      0.000       0.012       0.012\n",
            "==============================================================================\n",
            "Omnibus:                    22831.932   Durbin-Watson:                   1.998\n",
            "Prob(Omnibus):                  0.000   Jarque-Bera (JB):            27512.446\n",
            "Skew:                           0.611   Prob(JB):                         0.00\n",
            "Kurtosis:                       3.472   Cond. No.                     8.22e+05\n",
            "==============================================================================\n",
            "\n",
            "Warnings:\n",
            "[1] Standard Errors assume that the covariance matrix of the errors is correctly specified.\n",
            "[2] The condition number is large, 8.22e+05. This might indicate that there are\n",
            "strong multicollinearity or other numerical problems.\n"
          ],
          "name": "stdout"
        }
      ]
    },
    {
      "cell_type": "code",
      "metadata": {
        "id": "B-srquH_XtkR",
        "colab_type": "code",
        "outputId": "c792a294-8c6a-4f86-eb6c-09dbc2a2061e",
        "colab": {
          "base_uri": "https://localhost:8080/",
          "height": 51
        }
      },
      "source": [
        "mse = mean_squared_error(y_test, ols_y)\n",
        "print(\"RMSE Error:\", np.sqrt(mse))\n",
        "r2 = r2_score(y_test, ols_y)\n",
        "print(\"R2 Score:\", r2)\n",
        "# coef1 = pd.Series(est2.coef_, predictors).sort_values()\n",
        "# coef1.plot(kind='bar', title='Model Coefficients')"
      ],
      "execution_count": 0,
      "outputs": [
        {
          "output_type": "stream",
          "text": [
            "RMSE Error: 4760.8224789812675\n",
            "R2 Score: 0.10292254862611894\n"
          ],
          "name": "stdout"
        }
      ]
    },
    {
      "cell_type": "code",
      "metadata": {
        "id": "ynU1h8EWXB5f",
        "colab_type": "code",
        "colab": {}
      },
      "source": [
        "pred_val = est2.fittedvalues.copy()\n",
        "true_val = y_train.copy()\n",
        "residual = true_val - pred_val"
      ],
      "execution_count": 0,
      "outputs": []
    },
    {
      "cell_type": "code",
      "metadata": {
        "id": "pRHtcST0XB1_",
        "colab_type": "code",
        "outputId": "29a39481-b69b-4d7c-c5e5-35314317a327",
        "colab": {
          "base_uri": "https://localhost:8080/",
          "height": 287
        }
      },
      "source": [
        "fig, ax = plt.subplots()\n",
        "ax.scatter(residual, pred_val)"
      ],
      "execution_count": 0,
      "outputs": [
        {
          "output_type": "execute_result",
          "data": {
            "text/plain": [
              "<matplotlib.collections.PathCollection at 0x7fe1a0a75400>"
            ]
          },
          "metadata": {
            "tags": []
          },
          "execution_count": 208
        },
        {
          "output_type": "display_data",
          "data": {
            "image/png": "[encoded data removed]",
            "text/plain": [
              "<Figure size 432x288 with 1 Axes>"
            ]
          },
          "metadata": {
            "tags": []
          }
        }
      ]
    },
    {
      "cell_type": "code",
      "metadata": {
        "id": "0BLLpbKmXB0G",
        "colab_type": "code",
        "outputId": "d08c1bbf-4c1c-4bfd-8be4-2e8be9912bc8",
        "colab": {
          "base_uri": "https://localhost:8080/",
          "height": 34
        }
      },
      "source": [
        "import statsmodels\n",
        "_, pval, __, f_pval = statsmodels.stats.diagnostic.het_breuschpagan(residual,x_train[features])\n",
        "pval, f_pval"
      ],
      "execution_count": 0,
      "outputs": [
        {
          "output_type": "execute_result",
          "data": {
            "text/plain": [
              "(0.0, 0.0)"
            ]
          },
          "metadata": {
            "tags": []
          },
          "execution_count": 209
        }
      ]
    },
    {
      "cell_type": "code",
      "metadata": {
        "id": "ziCsuPk4XByJ",
        "colab_type": "code",
        "outputId": "6b944bcb-3531-4921-da82-73db2282fdcd",
        "colab": {
          "base_uri": "https://localhost:8080/",
          "height": 312
        }
      },
      "source": [
        " import scipy as sp\n",
        "fig, ax = plt.subplots()\n",
        "_, (__, ___, r) = sp.stats.probplot(residual, plot=ax, fit=True)\n",
        "r**2"
      ],
      "execution_count": 0,
      "outputs": [
        {
          "output_type": "execute_result",
          "data": {
            "text/plain": [
              "0.9777836089572542"
            ]
          },
          "metadata": {
            "tags": []
          },
          "execution_count": 210
        },
        {
          "output_type": "display_data",
          "data": {
            "image/png": "[encoded data removed]",
            "text/plain": [
              "<Figure size 432x288 with 1 Axes>"
            ]
          },
          "metadata": {
            "tags": []
          }
        }
      ]
    },
    {
      "cell_type": "code",
      "metadata": {
        "id": "2otyMFYGXBv6",
        "colab_type": "code",
        "colab": {}
      },
      "source": [
        "###########################REGULARISATION################################\n",
        "from sklearn.linear_model import LinearRegression\n",
        "from sklearn.linear_model import Lasso\n",
        "from sklearn.linear_model import Ridge\n",
        "from sklearn.linear_model import ElasticNet\n",
        "\n",
        "lm=LinearRegression()\n",
        "lm_lasso=Lasso()\n",
        "lm_ridge=Ridge()\n",
        "lm_elastic=ElasticNet()"
      ],
      "execution_count": 0,
      "outputs": []
    },
    {
      "cell_type": "code",
      "metadata": {
        "id": "IriIxHb7LLaw",
        "colab_type": "code",
        "colab": {}
      },
      "source": [
        "from scipy.stats import uniform as sp_rand\n",
        "from sklearn.model_selection import RandomizedSearchCV\n",
        "param_grid = {'alpha': sp_rand()}"
      ],
      "execution_count": 0,
      "outputs": []
    },
    {
      "cell_type": "code",
      "metadata": {
        "id": "oePs7fk3JTB_",
        "colab_type": "code",
        "colab": {}
      },
      "source": [
        "from sklearn.model_selection import GridSearchCV\n",
        "alphas = np.array([25,0.25,0.025,0.0025,0.00025,0])\n",
        "grid = RandomizedSearchCV(estimator=lm_lasso, param_distributions=param_grid, n_iter=100)\n",
        "grid2 = RandomizedSearchCV(estimator=lm_ridge, param_distributions=param_grid, n_iter=100)\n",
        "grid3 = RandomizedSearchCV(estimator=lm_elastic, param_distributions=param_grid, n_iter=100)"
      ],
      "execution_count": 0,
      "outputs": []
    },
    {
      "cell_type": "code",
      "metadata": {
        "id": "F0vzIz83XBtr",
        "colab_type": "code",
        "outputId": "1ff576ca-6307-45f6-d43e-f6d8bff6d0e7",
        "colab": {
          "base_uri": "https://localhost:8080/",
          "height": 326
        }
      },
      "source": [
        "grid.fit(x_trainsc,y_train)\n",
        "grid2.fit(x_trainsc,y_train)\n",
        "grid3.fit(x_trainsc,y_train)"
      ],
      "execution_count": 0,
      "outputs": [
        {
          "output_type": "stream",
          "text": [
            "/usr/local/lib/python3.6/dist-packages/sklearn/model_selection/_split.py:1978: FutureWarning: The default value of cv will change from 3 to 5 in version 0.22. Specify it explicitly to silence this warning.\n",
            "  warnings.warn(CV_WARNING, FutureWarning)\n",
            "/usr/local/lib/python3.6/dist-packages/sklearn/model_selection/_split.py:1978: FutureWarning: The default value of cv will change from 3 to 5 in version 0.22. Specify it explicitly to silence this warning.\n",
            "  warnings.warn(CV_WARNING, FutureWarning)\n",
            "/usr/local/lib/python3.6/dist-packages/sklearn/model_selection/_split.py:1978: FutureWarning: The default value of cv will change from 3 to 5 in version 0.22. Specify it explicitly to silence this warning.\n",
            "  warnings.warn(CV_WARNING, FutureWarning)\n"
          ],
          "name": "stderr"
        },
        {
          "output_type": "execute_result",
          "data": {
            "text/plain": [
              "RandomizedSearchCV(cv='warn', error_score='raise-deprecating',\n",
              "                   estimator=ElasticNet(alpha=1.0, copy_X=True,\n",
              "                                        fit_intercept=True, l1_ratio=0.5,\n",
              "                                        max_iter=1000, normalize=False,\n",
              "                                        positive=False, precompute=False,\n",
              "                                        random_state=None, selection='cyclic',\n",
              "                                        tol=0.0001, warm_start=False),\n",
              "                   iid='warn', n_iter=100, n_jobs=None,\n",
              "                   param_distributions={'alpha': <scipy.stats._distn_infrastructure.rv_frozen object at 0x7fe1a0a75978>},\n",
              "                   pre_dispatch='2*n_jobs', random_state=None, refit=True,\n",
              "                   return_train_score=False, scoring=None, verbose=0)"
            ]
          },
          "metadata": {
            "tags": []
          },
          "execution_count": 214
        }
      ]
    },
    {
      "cell_type": "code",
      "metadata": {
        "id": "CFoPp2BSKHv_",
        "colab_type": "code",
        "outputId": "1461ab9b-6060-466f-bf0c-106b801b10f4",
        "colab": {
          "base_uri": "https://localhost:8080/",
          "height": 68
        }
      },
      "source": [
        "print(grid.best_score_,'-Lasso reg')\n",
        "print(grid2.best_score_,'-Ridge reg')\n",
        "print(grid3.best_score_,'-Elastic net')\n",
        "# 0.19604934823969924"
      ],
      "execution_count": 0,
      "outputs": [
        {
          "output_type": "stream",
          "text": [
            "0.19611386390146976 -Lasso reg\n",
            "0.1961099335233613 -Ridge reg\n",
            "0.19611001482939824 -Elastic net\n"
          ],
          "name": "stdout"
        }
      ]
    },
    {
      "cell_type": "code",
      "metadata": {
        "id": "s-xXivU0NKTF",
        "colab_type": "code",
        "outputId": "8bada67b-5624-42a5-d6ae-1f9f2a85ca0e",
        "colab": {
          "base_uri": "https://localhost:8080/",
          "height": 68
        }
      },
      "source": [
        "lm.fit(x_trainsc,y_train)\n",
        "lm_lasso.fit(x_trainsc,y_train)\n",
        "lm_ridge.fit(x_trainsc,y_train)\n",
        "lm_elastic.fit(x_trainsc,y_train)"
      ],
      "execution_count": 0,
      "outputs": [
        {
          "output_type": "execute_result",
          "data": {
            "text/plain": [
              "ElasticNet(alpha=1.0, copy_X=True, fit_intercept=True, l1_ratio=0.5,\n",
              "           max_iter=1000, normalize=False, positive=False, precompute=False,\n",
              "           random_state=None, selection='cyclic', tol=0.0001, warm_start=False)"
            ]
          },
          "metadata": {
            "tags": []
          },
          "execution_count": 216
        }
      ]
    },
    {
      "cell_type": "code",
      "metadata": {
        "id": "GPUP9R-uYFiO",
        "colab_type": "code",
        "outputId": "e5f7aec2-c2c9-4bde-efe5-4cd72d4aee4b",
        "colab": {
          "base_uri": "https://localhost:8080/",
          "height": 51
        }
      },
      "source": [
        "#LINEAR REGRESSION\n",
        "y_pred=lm.predict(x_testsc)\n",
        "mse = mean_squared_error(y_pred, y_test)\n",
        "print(\"RMSE Error:\", np.sqrt(mse))\n",
        "r2 = r2_score(y_test, y_pred)\n",
        "print(\"R2 Score:\", r2)"
      ],
      "execution_count": 0,
      "outputs": [
        {
          "output_type": "stream",
          "text": [
            "RMSE Error: 4502.606993630693\n",
            "R2 Score: 0.19759422074391253\n"
          ],
          "name": "stdout"
        }
      ]
    },
    {
      "cell_type": "code",
      "metadata": {
        "id": "NUgYASDNXBre",
        "colab_type": "code",
        "outputId": "0bee7fc1-b32e-47c7-ffd6-23dd9623ab28",
        "colab": {
          "base_uri": "https://localhost:8080/",
          "height": 51
        }
      },
      "source": [
        "# LASSO REGRESSION\n",
        "y_predl=lm_lasso.predict(x_testsc)\n",
        "mse = mean_squared_error(y_predl, y_test)\n",
        "print(\"RMSE Error:\", np.sqrt(mse))\n",
        "r2 = r2_score(y_test, y_predl)\n",
        "print(\"R2 Score:\", r2)"
      ],
      "execution_count": 0,
      "outputs": [
        {
          "output_type": "stream",
          "text": [
            "RMSE Error: 4502.62759121139\n",
            "R2 Score: 0.19758687937229524\n"
          ],
          "name": "stdout"
        }
      ]
    },
    {
      "cell_type": "code",
      "metadata": {
        "id": "UvkVeAkHXsg9",
        "colab_type": "code",
        "outputId": "7eb285a4-14f1-45e7-89f7-02e236c73c79",
        "colab": {
          "base_uri": "https://localhost:8080/",
          "height": 51
        }
      },
      "source": [
        "# RIDGE REGRESSION\n",
        "y_predr=lm_ridge.predict(x_testsc)\n",
        "mse = mean_squared_error(y_predr, y_test)\n",
        "print(\"RMSE Error:\", np.sqrt(mse))\n",
        "r2 = r2_score(y_test, y_predr)\n",
        "print(\"R2 Score:\", r2)"
      ],
      "execution_count": 0,
      "outputs": [
        {
          "output_type": "stream",
          "text": [
            "RMSE Error: 4502.607002937525\n",
            "R2 Score: 0.1975942174267873\n"
          ],
          "name": "stdout"
        }
      ]
    },
    {
      "cell_type": "code",
      "metadata": {
        "id": "TFnBPj6RX0h4",
        "colab_type": "code",
        "outputId": "e9830b78-d47d-481a-ffec-0fb49fccd9f0",
        "colab": {
          "base_uri": "https://localhost:8080/",
          "height": 51
        }
      },
      "source": [
        "# ELastic Net\n",
        "y_preden=lm_elastic.predict(x_testsc)\n",
        "mse = mean_squared_error(y_preden, y_test)\n",
        "print(\"RMSE Error:\", np.sqrt(mse))\n",
        "r2 = r2_score(y_test, y_preden)\n",
        "print(\"R2 Score:\", r2)"
      ],
      "execution_count": 0,
      "outputs": [
        {
          "output_type": "stream",
          "text": [
            "RMSE Error: 4537.721529340627\n",
            "R2 Score: 0.1850299551525858\n"
          ],
          "name": "stdout"
        }
      ]
    },
    {
      "cell_type": "code",
      "metadata": {
        "id": "BT0uJjBsPyNC",
        "colab_type": "code",
        "colab": {}
      },
      "source": [
        "import xgboost"
      ],
      "execution_count": 0,
      "outputs": []
    },
    {
      "cell_type": "code",
      "metadata": {
        "id": "MU-cs7m6S1Xx",
        "colab_type": "code",
        "outputId": "f3b014a8-764c-4d83-fe2e-ebd12d35540a",
        "colab": {
          "base_uri": "https://localhost:8080/",
          "height": 207
        }
      },
      "source": [
        "xgb = xgboost.XGBRegressor(n_estimators=100, learning_rate=0.08, gamma=0, subsample=0.75,\n",
        "                           colsample_bytree=1, max_depth=8)\n",
        "xgb.fit(x_train,y_train)"
      ],
      "execution_count": 0,
      "outputs": [
        {
          "output_type": "stream",
          "text": [
            "/usr/local/lib/python3.6/dist-packages/xgboost/core.py:587: FutureWarning: Series.base is deprecated and will be removed in a future version\n",
            "  if getattr(data, 'base', None) is not None and \\\n"
          ],
          "name": "stderr"
        },
        {
          "output_type": "stream",
          "text": [
            "[06:48:10] WARNING: /workspace/src/objective/regression_obj.cu:152: reg:linear is now deprecated in favor of reg:squarederror.\n"
          ],
          "name": "stdout"
        },
        {
          "output_type": "execute_result",
          "data": {
            "text/plain": [
              "XGBRegressor(base_score=0.5, booster='gbtree', colsample_bylevel=1,\n",
              "             colsample_bynode=1, colsample_bytree=1, gamma=0,\n",
              "             importance_type='gain', learning_rate=0.08, max_delta_step=0,\n",
              "             max_depth=8, min_child_weight=1, missing=None, n_estimators=100,\n",
              "             n_jobs=1, nthread=None, objective='reg:linear', random_state=0,\n",
              "             reg_alpha=0, reg_lambda=1, scale_pos_weight=1, seed=None,\n",
              "             silent=None, subsample=0.75, verbosity=1)"
            ]
          },
          "metadata": {
            "tags": []
          },
          "execution_count": 222
        }
      ]
    },
    {
      "cell_type": "code",
      "metadata": {
        "id": "-buSzn0yTlBp",
        "colab_type": "code",
        "colab": {}
      },
      "source": [
        "from sklearn.metrics import explained_variance_score\n",
        "predictions = xgb.predict(x_test)"
      ],
      "execution_count": 0,
      "outputs": []
    },
    {
      "cell_type": "code",
      "metadata": {
        "id": "zl6oUObxTNNq",
        "colab_type": "code",
        "outputId": "8e139ff7-ae79-4498-88d6-b3bf3652c001",
        "colab": {
          "base_uri": "https://localhost:8080/",
          "height": 51
        }
      },
      "source": [
        "mse = mean_squared_error(y_test,predictions)\n",
        "print(\"RMSE Error:\", np.sqrt(mse))\n",
        "r2 = r2_score(y_test,predictions)\n",
        "print(\"R2 Score:\", r2)\n",
        "# coef1 = pd.Series(est2.coef_, predictors).sort_values()\n",
        "# coef1.plot(kind='bar', title='Model Coefficients')"
      ],
      "execution_count": 0,
      "outputs": [
        {
          "output_type": "stream",
          "text": [
            "RMSE Error: 2646.825052651482\n",
            "R2 Score: 0.7227213453682688\n"
          ],
          "name": "stdout"
        }
      ]
    },
    {
      "cell_type": "code",
      "metadata": {
        "id": "lmj92sGgmFxe",
        "colab_type": "code",
        "colab": {}
      },
      "source": [
        ""
      ],
      "execution_count": 0,
      "outputs": []
    }
  ]
}