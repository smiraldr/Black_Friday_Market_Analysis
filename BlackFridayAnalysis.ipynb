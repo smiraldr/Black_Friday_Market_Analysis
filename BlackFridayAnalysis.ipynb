{
  "nbformat": 4,
  "nbformat_minor": 0,
  "metadata": {
    "colab": {
      "name": "BlackFridayAnalysis.ipynb",
      "version": "0.3.2",
      "provenance": [],
      "collapsed_sections": []
    },
    "kernelspec": {
      "name": "python3",
      "display_name": "Python 3"
    },
    "accelerator": "GPU"
  },
  "cells": [
    {
      "cell_type": "code",
      "metadata": {
        "id": "qC6xvNZ3_xhd",
        "colab_type": "code",
        "outputId": "f45389fd-f39a-49a6-9c6a-cff32567d364",
        "colab": {
          "base_uri": "https://localhost:8080/",
          "height": 119
        }
      },
      "source": [
        "# # #unzip data\n",
        "!unzip test.zip\n",
        "!unzip train.zip"
      ],
      "execution_count": 1,
      "outputs": [
        {
          "output_type": "stream",
          "text": [
            "Archive:  test.zip\n",
            "replace test.csv? [y]es, [n]o, [A]ll, [N]one, [r]ename: y\n",
            "  inflating: test.csv                \n",
            "Archive:  train.zip\n",
            "replace train.csv? [y]es, [n]o, [A]ll, [N]one, [r]ename: y\n",
            "  inflating: train.csv               \n"
          ],
          "name": "stdout"
        }
      ]
    },
    {
      "cell_type": "code",
      "metadata": {
        "id": "jHf0em6PAANZ",
        "colab_type": "code",
        "colab": {}
      },
      "source": [
        "#import libraries\n",
        "import pandas as pd\n",
        "import numpy as np \n",
        "import matplotlib.pyplot as plt \n",
        "import seaborn as sns\n",
        "%matplotlib inline\n",
        "from scipy import stats\n",
        "from sklearn.linear_model import LinearRegression"
      ],
      "execution_count": 0,
      "outputs": []
    },
    {
      "cell_type": "code",
      "metadata": {
        "id": "n6vY3jvOAEUN",
        "colab_type": "code",
        "colab": {}
      },
      "source": [
        "df_train=pd.read_csv('train.csv')\n",
        "df_test=pd.read_csv('test.csv')"
      ],
      "execution_count": 0,
      "outputs": []
    },
    {
      "cell_type": "code",
      "metadata": {
        "id": "URGrfJeQAEv4",
        "colab_type": "code",
        "outputId": "efad8410-b90d-4037-8d04-cbce3789cfb1",
        "colab": {
          "base_uri": "https://localhost:8080/",
          "height": 292
        }
      },
      "source": [
        "df_train.head()"
      ],
      "execution_count": 4,
      "outputs": [
        {
          "output_type": "execute_result",
          "data": {
            "text/html": [
              "<div>\n",
              "<style scoped>\n",
              "    .dataframe tbody tr th:only-of-type {\n",
              "        vertical-align: middle;\n",
              "    }\n",
              "\n",
              "    .dataframe tbody tr th {\n",
              "        vertical-align: top;\n",
              "    }\n",
              "\n",
              "    .dataframe thead th {\n",
              "        text-align: right;\n",
              "    }\n",
              "</style>\n",
              "<table border=\"1\" class=\"dataframe\">\n",
              "  <thead>\n",
              "    <tr style=\"text-align: right;\">\n",
              "      <th></th>\n",
              "      <th>User_ID</th>\n",
              "      <th>Product_ID</th>\n",
              "      <th>Gender</th>\n",
              "      <th>Age</th>\n",
              "      <th>Occupation</th>\n",
              "      <th>City_Category</th>\n",
              "      <th>Stay_In_Current_City_Years</th>\n",
              "      <th>Marital_Status</th>\n",
              "      <th>Product_Category_1</th>\n",
              "      <th>Product_Category_2</th>\n",
              "      <th>Product_Category_3</th>\n",
              "      <th>Purchase</th>\n",
              "    </tr>\n",
              "  </thead>\n",
              "  <tbody>\n",
              "    <tr>\n",
              "      <th>0</th>\n",
              "      <td>1000001</td>\n",
              "      <td>P00069042</td>\n",
              "      <td>F</td>\n",
              "      <td>0-17</td>\n",
              "      <td>10</td>\n",
              "      <td>A</td>\n",
              "      <td>2</td>\n",
              "      <td>0</td>\n",
              "      <td>3</td>\n",
              "      <td>NaN</td>\n",
              "      <td>NaN</td>\n",
              "      <td>8370</td>\n",
              "    </tr>\n",
              "    <tr>\n",
              "      <th>1</th>\n",
              "      <td>1000001</td>\n",
              "      <td>P00248942</td>\n",
              "      <td>F</td>\n",
              "      <td>0-17</td>\n",
              "      <td>10</td>\n",
              "      <td>A</td>\n",
              "      <td>2</td>\n",
              "      <td>0</td>\n",
              "      <td>1</td>\n",
              "      <td>6.0</td>\n",
              "      <td>14.0</td>\n",
              "      <td>15200</td>\n",
              "    </tr>\n",
              "    <tr>\n",
              "      <th>2</th>\n",
              "      <td>1000001</td>\n",
              "      <td>P00087842</td>\n",
              "      <td>F</td>\n",
              "      <td>0-17</td>\n",
              "      <td>10</td>\n",
              "      <td>A</td>\n",
              "      <td>2</td>\n",
              "      <td>0</td>\n",
              "      <td>12</td>\n",
              "      <td>NaN</td>\n",
              "      <td>NaN</td>\n",
              "      <td>1422</td>\n",
              "    </tr>\n",
              "    <tr>\n",
              "      <th>3</th>\n",
              "      <td>1000001</td>\n",
              "      <td>P00085442</td>\n",
              "      <td>F</td>\n",
              "      <td>0-17</td>\n",
              "      <td>10</td>\n",
              "      <td>A</td>\n",
              "      <td>2</td>\n",
              "      <td>0</td>\n",
              "      <td>12</td>\n",
              "      <td>14.0</td>\n",
              "      <td>NaN</td>\n",
              "      <td>1057</td>\n",
              "    </tr>\n",
              "    <tr>\n",
              "      <th>4</th>\n",
              "      <td>1000002</td>\n",
              "      <td>P00285442</td>\n",
              "      <td>M</td>\n",
              "      <td>55+</td>\n",
              "      <td>16</td>\n",
              "      <td>C</td>\n",
              "      <td>4+</td>\n",
              "      <td>0</td>\n",
              "      <td>8</td>\n",
              "      <td>NaN</td>\n",
              "      <td>NaN</td>\n",
              "      <td>7969</td>\n",
              "    </tr>\n",
              "  </tbody>\n",
              "</table>\n",
              "</div>"
            ],
            "text/plain": [
              "   User_ID Product_ID Gender  ... Product_Category_2  Product_Category_3 Purchase\n",
              "0  1000001  P00069042      F  ...                NaN                 NaN     8370\n",
              "1  1000001  P00248942      F  ...                6.0                14.0    15200\n",
              "2  1000001  P00087842      F  ...                NaN                 NaN     1422\n",
              "3  1000001  P00085442      F  ...               14.0                 NaN     1057\n",
              "4  1000002  P00285442      M  ...                NaN                 NaN     7969\n",
              "\n",
              "[5 rows x 12 columns]"
            ]
          },
          "metadata": {
            "tags": []
          },
          "execution_count": 4
        }
      ]
    },
    {
      "cell_type": "code",
      "metadata": {
        "id": "vTxMQTrwAHhi",
        "colab_type": "code",
        "outputId": "8c571fb8-115e-4642-d682-86620d426550",
        "colab": {
          "base_uri": "https://localhost:8080/",
          "height": 221
        }
      },
      "source": [
        "# for i in df_train[]:\n",
        "#   print(\"unique values in: \",df_train['i'],\":\",df_train[i].unique())\n",
        "cols=list(df_train)\n",
        "cols"
      ],
      "execution_count": 5,
      "outputs": [
        {
          "output_type": "execute_result",
          "data": {
            "text/plain": [
              "['User_ID',\n",
              " 'Product_ID',\n",
              " 'Gender',\n",
              " 'Age',\n",
              " 'Occupation',\n",
              " 'City_Category',\n",
              " 'Stay_In_Current_City_Years',\n",
              " 'Marital_Status',\n",
              " 'Product_Category_1',\n",
              " 'Product_Category_2',\n",
              " 'Product_Category_3',\n",
              " 'Purchase']"
            ]
          },
          "metadata": {
            "tags": []
          },
          "execution_count": 5
        }
      ]
    },
    {
      "cell_type": "code",
      "metadata": {
        "id": "v6iKkIt7Ap1G",
        "colab_type": "code",
        "outputId": "aabd1a5e-ca7d-4672-8f4f-ab516d5a19bf",
        "colab": {
          "base_uri": "https://localhost:8080/",
          "height": 238
        }
      },
      "source": [
        "#Unique entries in every coloumns\n",
        "for i in cols:\n",
        "  print(i,df_train[i].unique())"
      ],
      "execution_count": 6,
      "outputs": [
        {
          "output_type": "stream",
          "text": [
            "User_ID [1000001 1000002 1000003 ... 1004113 1005391 1001529]\n",
            "Product_ID ['P00069042' 'P00248942' 'P00087842' ... 'P00370293' 'P00371644'\n",
            " 'P00370853']\n",
            "Gender ['F' 'M']\n",
            "Age ['0-17' '55+' '26-35' '46-50' '51-55' '36-45' '18-25']\n",
            "Occupation [10 16 15  7 20  9  1 12 17  0  3  4 11  8 19  2 18  5 14 13  6]\n",
            "City_Category ['A' 'C' 'B']\n",
            "Stay_In_Current_City_Years ['2' '4+' '3' '1' '0']\n",
            "Marital_Status [0 1]\n",
            "Product_Category_1 [ 3  1 12  8  5  4  2  6 14 11 13 15  7 16 18 10 17  9 20 19]\n",
            "Product_Category_2 [nan  6. 14.  2.  8. 15. 16. 11.  5.  3.  4. 12.  9. 10. 17. 13.  7. 18.]\n",
            "Product_Category_3 [nan 14. 17.  5.  4. 16. 15.  8.  9. 13.  6. 12.  3. 18. 11. 10.]\n",
            "Purchase [ 8370 15200  1422 ...   135   123   613]\n"
          ],
          "name": "stdout"
        }
      ]
    },
    {
      "cell_type": "code",
      "metadata": {
        "id": "B7ahNk_LCnwk",
        "colab_type": "code",
        "outputId": "64353e9c-57b2-45d9-caf2-cd2b986b9202",
        "colab": {
          "base_uri": "https://localhost:8080/",
          "height": 221
        }
      },
      "source": [
        "#Number of Unique entries\n",
        "for i in cols:\n",
        "  print(i,\":\",df_train[i].nunique())"
      ],
      "execution_count": 7,
      "outputs": [
        {
          "output_type": "stream",
          "text": [
            "User_ID : 5891\n",
            "Product_ID : 3631\n",
            "Gender : 2\n",
            "Age : 7\n",
            "Occupation : 21\n",
            "City_Category : 3\n",
            "Stay_In_Current_City_Years : 5\n",
            "Marital_Status : 2\n",
            "Product_Category_1 : 20\n",
            "Product_Category_2 : 17\n",
            "Product_Category_3 : 15\n",
            "Purchase : 18105\n"
          ],
          "name": "stdout"
        }
      ]
    },
    {
      "cell_type": "code",
      "metadata": {
        "id": "80HzmBkjDZSP",
        "colab_type": "code",
        "colab": {}
      },
      "source": [
        "# 1. Which product category and store had the highest sales?\n",
        "#sort data acc to cities\n",
        "citya=df_train[df_train['City_Category']=='A']\n",
        "cityb=df_train[df_train['City_Category']=='B']\n",
        "cityc=df_train[df_train['City_Category']=='C']"
      ],
      "execution_count": 0,
      "outputs": []
    },
    {
      "cell_type": "code",
      "metadata": {
        "id": "_xHQKfpBFRli",
        "colab_type": "code",
        "outputId": "8a3b430b-bc4a-4426-fe82-aeb6c63b1f3e",
        "colab": {
          "base_uri": "https://localhost:8080/",
          "height": 148
        }
      },
      "source": [
        "cityc.head(2)"
      ],
      "execution_count": 9,
      "outputs": [
        {
          "output_type": "execute_result",
          "data": {
            "text/html": [
              "<div>\n",
              "<style scoped>\n",
              "    .dataframe tbody tr th:only-of-type {\n",
              "        vertical-align: middle;\n",
              "    }\n",
              "\n",
              "    .dataframe tbody tr th {\n",
              "        vertical-align: top;\n",
              "    }\n",
              "\n",
              "    .dataframe thead th {\n",
              "        text-align: right;\n",
              "    }\n",
              "</style>\n",
              "<table border=\"1\" class=\"dataframe\">\n",
              "  <thead>\n",
              "    <tr style=\"text-align: right;\">\n",
              "      <th></th>\n",
              "      <th>User_ID</th>\n",
              "      <th>Product_ID</th>\n",
              "      <th>Gender</th>\n",
              "      <th>Age</th>\n",
              "      <th>Occupation</th>\n",
              "      <th>City_Category</th>\n",
              "      <th>Stay_In_Current_City_Years</th>\n",
              "      <th>Marital_Status</th>\n",
              "      <th>Product_Category_1</th>\n",
              "      <th>Product_Category_2</th>\n",
              "      <th>Product_Category_3</th>\n",
              "      <th>Purchase</th>\n",
              "    </tr>\n",
              "  </thead>\n",
              "  <tbody>\n",
              "    <tr>\n",
              "      <th>4</th>\n",
              "      <td>1000002</td>\n",
              "      <td>P00285442</td>\n",
              "      <td>M</td>\n",
              "      <td>55+</td>\n",
              "      <td>16</td>\n",
              "      <td>C</td>\n",
              "      <td>4+</td>\n",
              "      <td>0</td>\n",
              "      <td>8</td>\n",
              "      <td>NaN</td>\n",
              "      <td>NaN</td>\n",
              "      <td>7969</td>\n",
              "    </tr>\n",
              "    <tr>\n",
              "      <th>19</th>\n",
              "      <td>1000008</td>\n",
              "      <td>P00249542</td>\n",
              "      <td>M</td>\n",
              "      <td>26-35</td>\n",
              "      <td>12</td>\n",
              "      <td>C</td>\n",
              "      <td>4+</td>\n",
              "      <td>1</td>\n",
              "      <td>1</td>\n",
              "      <td>5.0</td>\n",
              "      <td>15.0</td>\n",
              "      <td>19614</td>\n",
              "    </tr>\n",
              "  </tbody>\n",
              "</table>\n",
              "</div>"
            ],
            "text/plain": [
              "    User_ID Product_ID Gender  ... Product_Category_2  Product_Category_3 Purchase\n",
              "4   1000002  P00285442      M  ...                NaN                 NaN     7969\n",
              "19  1000008  P00249542      M  ...                5.0                15.0    19614\n",
              "\n",
              "[2 rows x 12 columns]"
            ]
          },
          "metadata": {
            "tags": []
          },
          "execution_count": 9
        }
      ]
    },
    {
      "cell_type": "code",
      "metadata": {
        "id": "cYagOXE-GKvK",
        "colab_type": "code",
        "outputId": "82a1b0c1-dd9a-41f1-a52c-ead80ae7e715",
        "colab": {
          "base_uri": "https://localhost:8080/",
          "height": 68
        }
      },
      "source": [
        "pura=citya['Purchase'].sum()\n",
        "purb=cityb['Purchase'].sum()\n",
        "purc=cityc['Purchase'].sum()\n",
        "print(\"Purchase in City A Stores:\",pura)\n",
        "print(\"Purchase in City B Stores:\",purb)\n",
        "print(\"Purchase in City C Stores:\",purc)"
      ],
      "execution_count": 10,
      "outputs": [
        {
          "output_type": "stream",
          "text": [
            "Purchase in City A Stores: 1316471661\n",
            "Purchase in City B Stores: 2115533605\n",
            "Purchase in City C Stores: 1663807476\n"
          ],
          "name": "stdout"
        }
      ]
    },
    {
      "cell_type": "code",
      "metadata": {
        "id": "z2ObvLlNIOhF",
        "colab_type": "code",
        "colab": {}
      },
      "source": [
        "#CITY A ANALYSIS\n",
        "prod1=citya.filter(['Product_Category_1'],axis=1)\n",
        "prod2=citya.filter(['Product_Category_2'],axis=1)\n",
        "prod3=citya.filter(['Product_Category_3'],axis=1)\n",
        "# new = old.filter(['A','B','D'], axis=1)\n",
        "prod2.dropna(inplace=True)\n",
        "prod3.dropna(inplace=True)"
      ],
      "execution_count": 0,
      "outputs": []
    },
    {
      "cell_type": "code",
      "metadata": {
        "id": "s1kOj6viBVAt",
        "colab_type": "code",
        "outputId": "d1ae2f78-4998-43ce-b556-f92a9bb815f2",
        "colab": {
          "base_uri": "https://localhost:8080/",
          "height": 34
        }
      },
      "source": [
        "#Clean Data\n",
        "df_train['Product_Category_2'].fillna(-1,inplace=True)\n",
        "df_train['Product_Category_3'].fillna(-1,inplace=True)\n",
        "df_train['Product_Category_2']=df_train['Product_Category_2'].astype('int64')\n",
        "df_train['Product_Category_1']=df_train['Product_Category_1'].astype('int64')\n",
        "df_train['Product_Category_3']=df_train['Product_Category_3'].astype('int64')\n",
        "# df_train.head()\n",
        "df_train['Product_Category_2'].dtype"
      ],
      "execution_count": 12,
      "outputs": [
        {
          "output_type": "execute_result",
          "data": {
            "text/plain": [
              "dtype('int64')"
            ]
          },
          "metadata": {
            "tags": []
          },
          "execution_count": 12
        }
      ]
    },
    {
      "cell_type": "code",
      "metadata": {
        "id": "QMTV6Gj8dDJS",
        "colab_type": "code",
        "colab": {}
      },
      "source": [
        "prod2['Product_Category_2']=prod2['Product_Category_2'].astype('int64')\n",
        "prod3['Product_Category_3']=prod3['Product_Category_3'].astype('int64')\n",
        "# df_train['Product_Category_3']=df_train['Product_Category_3'].astype('int64')"
      ],
      "execution_count": 0,
      "outputs": []
    },
    {
      "cell_type": "code",
      "metadata": {
        "id": "HimbXOt4dt0t",
        "colab_type": "code",
        "colab": {}
      },
      "source": [
        "# Number of Products bought according to the data\n",
        "nprod1=len(prod1.index)\n",
        "nprod2=len(prod2.index)\n",
        "nprod3=len(prod3.index)\n",
        "total=nprod1+nprod2+nprod3"
      ],
      "execution_count": 0,
      "outputs": []
    },
    {
      "cell_type": "code",
      "metadata": {
        "id": "MZ1PVqGGebgO",
        "colab_type": "code",
        "colab": {}
      },
      "source": [
        "# Data for Visualization\n",
        "plotdata=[nprod1,nprod2,nprod3]\n",
        "# plotdata=pd.DataFrame(plotdata)\n",
        "# plotdata=plotdata.transpose()\n",
        "# plotdata.set_index(1)"
      ],
      "execution_count": 0,
      "outputs": []
    },
    {
      "cell_type": "code",
      "metadata": {
        "id": "HQxPu5rTfhli",
        "colab_type": "code",
        "outputId": "f8e647f4-7813-4e0d-d88f-b218e80fadc6",
        "colab": {
          "base_uri": "https://localhost:8080/",
          "height": 272
        }
      },
      "source": [
        "#Pie Chart\n",
        "plt.pie(plotdata,labels=['Product 1','Product 2','Product 3'],explode = (0, 0.1, 0.2,),autopct='%1.1f%%')\n",
        "plt.legend(bbox_to_anchor=(1,1))"
      ],
      "execution_count": 16,
      "outputs": [
        {
          "output_type": "execute_result",
          "data": {
            "text/plain": [
              "<matplotlib.legend.Legend at 0x7f10fe39ba90>"
            ]
          },
          "metadata": {
            "tags": []
          },
          "execution_count": 16
        },
        {
          "output_type": "display_data",
          "data": {
            "image/png": "[encoded data removed]",
            "text/plain": [
              "<Figure size 432x288 with 1 Axes>"
            ]
          },
          "metadata": {
            "tags": []
          }
        }
      ]
    },
    {
      "cell_type": "code",
      "metadata": {
        "id": "ltcyoFMBh5zq",
        "colab_type": "code",
        "colab": {}
      },
      "source": [
        "#CITY B ANALYSIS\n",
        "produ1=cityb.filter(['Product_Category_1'],axis=1)\n",
        "produ2=cityb.filter(['Product_Category_2'],axis=1)\n",
        "produ3=cityb.filter(['Product_Category_3'],axis=1)\n",
        "# new = old.filter(['A','B','D'], axis=1)\n",
        "produ2.dropna(inplace=True)\n",
        "produ3.dropna(inplace=True)"
      ],
      "execution_count": 0,
      "outputs": []
    },
    {
      "cell_type": "code",
      "metadata": {
        "id": "ynYsYHzKh5-4",
        "colab_type": "code",
        "colab": {}
      },
      "source": [
        "produ2['Product_Category_2']=produ2['Product_Category_2'].astype('int64')\n",
        "produ3['Product_Category_3']=produ3['Product_Category_3'].astype('int64')\n",
        "# df_train['Product_Category_3']=df_train['Product_Category_3'].astype('int64')"
      ],
      "execution_count": 0,
      "outputs": []
    },
    {
      "cell_type": "code",
      "metadata": {
        "id": "ypMnjzQTh6IW",
        "colab_type": "code",
        "colab": {}
      },
      "source": [
        "# Number of Products bought according to the data\n",
        "nprodu1=len(produ1.index)\n",
        "nprodu2=len(produ2.index)\n",
        "nprodu3=len(produ3.index)\n",
        "total=nprodu1+nprodu2+nprodu3"
      ],
      "execution_count": 0,
      "outputs": []
    },
    {
      "cell_type": "code",
      "metadata": {
        "id": "fkQ7jOaxh6OI",
        "colab_type": "code",
        "colab": {}
      },
      "source": [
        "# Data for Visualization\n",
        "plotdatau=[nprodu1,nprodu2,nprodu3]\n",
        "# plotdata=pd.DataFrame(plotdata)\n",
        "# plotdata=plotdata.transpose()\n",
        "# plotdata.set_index(1)"
      ],
      "execution_count": 0,
      "outputs": []
    },
    {
      "cell_type": "code",
      "metadata": {
        "id": "ZaZOWxw_h6Tq",
        "colab_type": "code",
        "outputId": "44c149ad-69b6-456a-8899-354b8365b665",
        "colab": {
          "base_uri": "https://localhost:8080/",
          "height": 272
        }
      },
      "source": [
        "#Pie Chart\n",
        "plt.pie(plotdatau,labels=['Product 1','Product 2','Product 3'],explode = (0, 0.1, 0.2,),autopct='%1.1f%%')\n",
        "plt.legend(bbox_to_anchor=(1,1))"
      ],
      "execution_count": 21,
      "outputs": [
        {
          "output_type": "execute_result",
          "data": {
            "text/plain": [
              "<matplotlib.legend.Legend at 0x7f10fe34a0f0>"
            ]
          },
          "metadata": {
            "tags": []
          },
          "execution_count": 21
        },
        {
          "output_type": "display_data",
          "data": {
            "image/png": "[encoded data removed]",
            "text/plain": [
              "<Figure size 432x288 with 1 Axes>"
            ]
          },
          "metadata": {
            "tags": []
          }
        }
      ]
    },
    {
      "cell_type": "code",
      "metadata": {
        "id": "2tX_Lo_yh6XR",
        "colab_type": "code",
        "colab": {}
      },
      "source": [
        "#CITY C ANALYSIS\n",
        "produc1=cityc.filter(['Product_Category_1'],axis=1)\n",
        "produc2=cityc.filter(['Product_Category_2'],axis=1)\n",
        "produc3=cityc.filter(['Product_Category_3'],axis=1)\n",
        "# new = old.filter(['A','B','D'], axis=1)\n",
        "produc2.dropna(inplace=True)\n",
        "produc3.dropna(inplace=True)"
      ],
      "execution_count": 0,
      "outputs": []
    },
    {
      "cell_type": "code",
      "metadata": {
        "id": "os2aSOXuh6bO",
        "colab_type": "code",
        "colab": {}
      },
      "source": [
        "produc2['Product_Category_2']=produc2['Product_Category_2'].astype('int64')\n",
        "produc3['Product_Category_3']=produc3['Product_Category_3'].astype('int64')\n",
        "# df_train['Product_Category_3']=df_train['Product_Category_3'].astype('int64')"
      ],
      "execution_count": 0,
      "outputs": []
    },
    {
      "cell_type": "code",
      "metadata": {
        "id": "CI2vT_jIh6fF",
        "colab_type": "code",
        "colab": {}
      },
      "source": [
        "# Number of Products bought according to the data\n",
        "nproduc1=len(produc1.index)\n",
        "nproduc2=len(produc2.index)\n",
        "nproduc3=len(produc3.index)\n",
        "total=nproduc1+nproduc2+nproduc3"
      ],
      "execution_count": 0,
      "outputs": []
    },
    {
      "cell_type": "code",
      "metadata": {
        "id": "e0DOFVA2jqnC",
        "colab_type": "code",
        "colab": {}
      },
      "source": [
        "# Data for Visualization\n",
        "plotdatauc=[nproduc1,nproduc2,nproduc3]\n",
        "# plotdata=pd.DataFrame(plotdata)\n",
        "# plotdata=plotdata.transpose()\n",
        "# plotdata.set_index(1)"
      ],
      "execution_count": 0,
      "outputs": []
    },
    {
      "cell_type": "code",
      "metadata": {
        "id": "BGVUMun8jqvB",
        "colab_type": "code",
        "outputId": "f5beda33-1ac0-4043-a3b2-b74e2a2c566d",
        "colab": {
          "base_uri": "https://localhost:8080/",
          "height": 272
        }
      },
      "source": [
        "#Pie Chart\n",
        "plt.pie(plotdatauc,labels=['Product 1','Product 2','Product 3'],explode = (0, 0.1, 0.2,),autopct='%1.1f%%')\n",
        "plt.legend(bbox_to_anchor=(1,1))"
      ],
      "execution_count": 26,
      "outputs": [
        {
          "output_type": "execute_result",
          "data": {
            "text/plain": [
              "<matplotlib.legend.Legend at 0x7f10fc2b2c88>"
            ]
          },
          "metadata": {
            "tags": []
          },
          "execution_count": 26
        },
        {
          "output_type": "display_data",
          "data": {
            "image/png": "[encoded data removed]",
            "text/plain": [
              "<Figure size 432x288 with 1 Axes>"
            ]
          },
          "metadata": {
            "tags": []
          }
        }
      ]
    },
    {
      "cell_type": "code",
      "metadata": {
        "id": "U9Sq0TIdjqze",
        "colab_type": "code",
        "outputId": "cba27de3-8b7a-460d-ec3f-c17e45e7f943",
        "colab": {
          "base_uri": "https://localhost:8080/",
          "height": 34
        }
      },
      "source": [
        "print(\"--------------------------------------------------------------------------------------------------------------------\")"
      ],
      "execution_count": 27,
      "outputs": [
        {
          "output_type": "stream",
          "text": [
            "--------------------------------------------------------------------------------------------------------------------\n"
          ],
          "name": "stdout"
        }
      ]
    },
    {
      "cell_type": "code",
      "metadata": {
        "id": "ZCwQQBjrGGu2",
        "colab_type": "code",
        "outputId": "f1acde54-d8be-4b1f-a8e9-ff84b25cb6b3",
        "colab": {
          "base_uri": "https://localhost:8080/",
          "height": 170
        }
      },
      "source": [
        "print(\"Number of unique customers in city A:\")\n",
        "print(citya[['User_ID']].nunique())\n",
        "print(\"Number of unique customers in city B:\")\n",
        "print(cityb[['User_ID']].nunique())\n",
        "print(\"Number of unique customers in city C:\")\n",
        "print(cityc[['User_ID']].nunique())"
      ],
      "execution_count": 28,
      "outputs": [
        {
          "output_type": "stream",
          "text": [
            "Number of unique customers in city A:\n",
            "User_ID    1045\n",
            "dtype: int64\n",
            "Number of unique customers in city B:\n",
            "User_ID    1707\n",
            "dtype: int64\n",
            "Number of unique customers in city C:\n",
            "User_ID    3139\n",
            "dtype: int64\n"
          ],
          "name": "stdout"
        }
      ]
    },
    {
      "cell_type": "code",
      "metadata": {
        "id": "0Z3K2RZtkLz9",
        "colab_type": "code",
        "colab": {}
      },
      "source": [
        "# 2. What products usually buy families and single people?"
      ],
      "execution_count": 0,
      "outputs": []
    },
    {
      "cell_type": "code",
      "metadata": {
        "id": "u2o2WbW0kdOD",
        "colab_type": "code",
        "colab": {}
      },
      "source": [
        "mar_count=df_train[df_train['Marital_Status']==1].count()[0]         #Marriedcount\n",
        "unmar_count=df_train[df_train['Marital_Status']==0].count()[0]       #UnmarriedCount\n",
        "male=df_train[df_train['Gender']=='M'].count()[0]                    #MaleCount\n",
        "female=df_train[df_train['Gender']=='F'].count()[0]                  #FemaleCount"
      ],
      "execution_count": 0,
      "outputs": []
    },
    {
      "cell_type": "code",
      "metadata": {
        "id": "Mt8F6bTTkvHe",
        "colab_type": "code",
        "outputId": "7e28e92c-f630-48f0-d3c6-6715ffa9b51b",
        "colab": {
          "base_uri": "https://localhost:8080/",
          "height": 51
        }
      },
      "source": [
        "prod1=df_train['Product_Category_1'].unique()\n",
        "prod1.sort()\n",
        "prod1"
      ],
      "execution_count": 31,
      "outputs": [
        {
          "output_type": "execute_result",
          "data": {
            "text/plain": [
              "array([ 1,  2,  3,  4,  5,  6,  7,  8,  9, 10, 11, 12, 13, 14, 15, 16, 17,\n",
              "       18, 19, 20])"
            ]
          },
          "metadata": {
            "tags": []
          },
          "execution_count": 31
        }
      ]
    },
    {
      "cell_type": "code",
      "metadata": {
        "id": "S2klUlIOmLia",
        "colab_type": "code",
        "colab": {}
      },
      "source": [
        "prod2=df_train['Product_Category_2'].unique()\n",
        "prod2.sort()\n",
        "prod2=np.delete(prod2,0)"
      ],
      "execution_count": 0,
      "outputs": []
    },
    {
      "cell_type": "code",
      "metadata": {
        "id": "ehrup6G6mc3q",
        "colab_type": "code",
        "outputId": "b97ca50e-58c7-433c-c168-1201b8885206",
        "colab": {
          "base_uri": "https://localhost:8080/",
          "height": 34
        }
      },
      "source": [
        "prod2"
      ],
      "execution_count": 33,
      "outputs": [
        {
          "output_type": "execute_result",
          "data": {
            "text/plain": [
              "array([ 2,  3,  4,  5,  6,  7,  8,  9, 10, 11, 12, 13, 14, 15, 16, 17, 18])"
            ]
          },
          "metadata": {
            "tags": []
          },
          "execution_count": 33
        }
      ]
    },
    {
      "cell_type": "code",
      "metadata": {
        "id": "7LvrdbcPm0To",
        "colab_type": "code",
        "colab": {}
      },
      "source": [
        "prod3=df_train['Product_Category_3'].unique()\n",
        "prod3.sort()\n",
        "prod3=np.delete(prod3,0)"
      ],
      "execution_count": 0,
      "outputs": []
    },
    {
      "cell_type": "code",
      "metadata": {
        "id": "-QyK3MGgnbI9",
        "colab_type": "code",
        "outputId": "d6354894-c7d6-413d-ce4c-9b6ca65dc870",
        "colab": {
          "base_uri": "https://localhost:8080/",
          "height": 34
        }
      },
      "source": [
        "prod3"
      ],
      "execution_count": 35,
      "outputs": [
        {
          "output_type": "execute_result",
          "data": {
            "text/plain": [
              "array([ 3,  4,  5,  6,  8,  9, 10, 11, 12, 13, 14, 15, 16, 17, 18])"
            ]
          },
          "metadata": {
            "tags": []
          },
          "execution_count": 35
        }
      ]
    },
    {
      "cell_type": "code",
      "metadata": {
        "id": "u4WvQ7azpnx2",
        "colab_type": "code",
        "colab": {}
      },
      "source": [
        "marrprod=df_train[df_train['Marital_Status']==1]\n",
        "notmarrprod=df_train[df_train['Marital_Status']==0]"
      ],
      "execution_count": 0,
      "outputs": []
    },
    {
      "cell_type": "code",
      "metadata": {
        "id": "gozie_Xjnbsl",
        "colab_type": "code",
        "outputId": "39452a71-da52-41de-b86f-2a3dcd44ad1e",
        "colab": {
          "base_uri": "https://localhost:8080/",
          "height": 408
        }
      },
      "source": [
        "####################PRODUCT 1 FOR MARRIED COUPLES ########################################\n",
        "prod=0\n",
        "max_c=0\n",
        "for i in prod1:\n",
        "  b=marrprod[marrprod['Product_Category_1']==i]\n",
        "  count=len(b.index)\n",
        "  print(i,\" has been brought \",count,\" times\")\n",
        "  if(max_c<count):\n",
        "    max_c=count\n",
        "    prod=i\n",
        "    \n",
        "  \n",
        "print(\"___________________________________________________________________________________\")\n",
        "print(\"Married couples bought product\",prod,\"maximum times\")\n",
        "print(\"___________________________________________________________________________________\")"
      ],
      "execution_count": 37,
      "outputs": [
        {
          "output_type": "stream",
          "text": [
            "1  has been brought  56003  times\n",
            "2  has been brought  9726  times\n",
            "3  has been brought  7854  times\n",
            "4  has been brought  4576  times\n",
            "5  has been brought  61277  times\n",
            "6  has been brought  8327  times\n",
            "7  has been brought  1681  times\n",
            "8  has been brought  48514  times\n",
            "9  has been brought  163  times\n",
            "10  has been brought  2347  times\n",
            "11  has been brought  9619  times\n",
            "12  has been brought  1913  times\n",
            "13  has been brought  2387  times\n",
            "14  has been brought  677  times\n",
            "15  has been brought  2667  times\n",
            "16  has been brought  4115  times\n",
            "17  has been brought  280  times\n",
            "18  has been brought  1484  times\n",
            "19  has been brought  657  times\n",
            "20  has been brought  1070  times\n",
            "___________________________________________________________________________________\n",
            "Married couples bought product 5 maximum times\n",
            "___________________________________________________________________________________\n"
          ],
          "name": "stdout"
        }
      ]
    },
    {
      "cell_type": "code",
      "metadata": {
        "id": "p7C76HjDnpSZ",
        "colab_type": "code",
        "outputId": "d62f19c8-c1ef-4003-8a93-8f4639d3dd05",
        "colab": {
          "base_uri": "https://localhost:8080/",
          "height": 408
        }
      },
      "source": [
        "####################PRODUCT 1 FOR UNMARRIED COUPLES ########################################\n",
        "prod=0\n",
        "max_c=0\n",
        "for i in prod1:\n",
        "  b=notmarrprod[notmarrprod['Product_Category_1']==i]\n",
        "  count=len(b.index)\n",
        "  print(i,\" has been brought \",count,\" times\")\n",
        "  if(max_c<count):\n",
        "    max_c=count\n",
        "    prod=i\n",
        "    \n",
        "  \n",
        "print(\"___________________________________________________________________________________\")\n",
        "print(\"Not Married couples bought product\",prod,\"maximum times\")\n",
        "print(\"___________________________________________________________________________________\")"
      ],
      "execution_count": 38,
      "outputs": [
        {
          "output_type": "stream",
          "text": [
            "1  has been brought  84375  times\n",
            "2  has been brought  14138  times\n",
            "3  has been brought  12359  times\n",
            "4  has been brought  7177  times\n",
            "5  has been brought  89656  times\n",
            "6  has been brought  12139  times\n",
            "7  has been brought  2040  times\n",
            "8  has been brought  65411  times\n",
            "9  has been brought  247  times\n",
            "10  has been brought  2778  times\n",
            "11  has been brought  14668  times\n",
            "12  has been brought  2034  times\n",
            "13  has been brought  3162  times\n",
            "14  has been brought  846  times\n",
            "15  has been brought  3623  times\n",
            "16  has been brought  5713  times\n",
            "17  has been brought  298  times\n",
            "18  has been brought  1641  times\n",
            "19  has been brought  946  times\n",
            "20  has been brought  1480  times\n",
            "___________________________________________________________________________________\n",
            "Not Married couples bought product 5 maximum times\n",
            "___________________________________________________________________________________\n"
          ],
          "name": "stdout"
        }
      ]
    },
    {
      "cell_type": "code",
      "metadata": {
        "id": "Ahq01ODtCGap",
        "colab_type": "code",
        "outputId": "d643d61f-7bb3-48c3-c01b-a8c18a1df903",
        "colab": {
          "base_uri": "https://localhost:8080/",
          "height": 357
        }
      },
      "source": [
        "####################PRODUCT 2 FOR MARRIED COUPLES ########################################\n",
        "prod=0\n",
        "max_c=0\n",
        "for i in prod2:\n",
        "  b=marrprod[marrprod['Product_Category_2']==i]\n",
        "  count=len(b.index)\n",
        "  print(i,\" has been brought \",count,\" times\")\n",
        "  if(max_c<count):\n",
        "    max_c=count\n",
        "    prod=i\n",
        "    \n",
        "  \n",
        "print(\"___________________________________________________________________________________\")\n",
        "print(\"Married couples bought product\",prod,\"maximum times\")\n",
        "print(\"___________________________________________________________________________________\")"
      ],
      "execution_count": 39,
      "outputs": [
        {
          "output_type": "stream",
          "text": [
            "2  has been brought  19345  times\n",
            "3  has been brought  1083  times\n",
            "4  has been brought  9865  times\n",
            "5  has been brought  10332  times\n",
            "6  has been brought  6662  times\n",
            "7  has been brought  257  times\n",
            "8  has been brought  26734  times\n",
            "9  has been brought  2270  times\n",
            "10  has been brought  1396  times\n",
            "11  has been brought  5532  times\n",
            "12  has been brought  2408  times\n",
            "13  has been brought  4555  times\n",
            "14  has been brought  22717  times\n",
            "15  has been brought  15439  times\n",
            "16  has been brought  17341  times\n",
            "17  has been brought  5741  times\n",
            "18  has been brought  1270  times\n",
            "___________________________________________________________________________________\n",
            "Married couples bought product 8 maximum times\n",
            "___________________________________________________________________________________\n"
          ],
          "name": "stdout"
        }
      ]
    },
    {
      "cell_type": "code",
      "metadata": {
        "id": "kmgYrVJQCGhk",
        "colab_type": "code",
        "outputId": "6db95f9c-350a-49ec-cdc3-daaec5d00aea",
        "colab": {
          "base_uri": "https://localhost:8080/",
          "height": 357
        }
      },
      "source": [
        "####################PRODUCT 2 FOR UNMARRIED COUPLES ########################################\n",
        "prod=0\n",
        "max_c=0\n",
        "for i in prod2:\n",
        "  b=notmarrprod[notmarrprod['Product_Category_2']==i]\n",
        "  count=len(b.index)\n",
        "  print(i,\" has been brought \",count,\" times\")\n",
        "  if(max_c<count):\n",
        "    max_c=count\n",
        "    prod=i\n",
        "    \n",
        "  \n",
        "print(\"___________________________________________________________________________________\")\n",
        "print(\"Not Married couples bought product\",prod,\"maximum times\")\n",
        "print(\"___________________________________________________________________________________\")"
      ],
      "execution_count": 40,
      "outputs": [
        {
          "output_type": "stream",
          "text": [
            "2  has been brought  29872  times\n",
            "3  has been brought  1801  times\n",
            "4  has been brought  15812  times\n",
            "5  has been brought  15903  times\n",
            "6  has been brought  9804  times\n",
            "7  has been brought  369  times\n",
            "8  has been brought  37354  times\n",
            "9  has been brought  3423  times\n",
            "10  has been brought  1647  times\n",
            "11  has been brought  8602  times\n",
            "12  has been brought  3120  times\n",
            "13  has been brought  5976  times\n",
            "14  has been brought  32391  times\n",
            "15  has been brought  22416  times\n",
            "16  has been brought  25914  times\n",
            "17  has been brought  7579  times\n",
            "18  has been brought  1500  times\n",
            "___________________________________________________________________________________\n",
            "Not Married couples bought product 8 maximum times\n",
            "___________________________________________________________________________________\n"
          ],
          "name": "stdout"
        }
      ]
    },
    {
      "cell_type": "code",
      "metadata": {
        "id": "x50DJ8PvCGo6",
        "colab_type": "code",
        "outputId": "50f97c79-df3d-4bf9-9a77-7b85a1205400",
        "colab": {
          "base_uri": "https://localhost:8080/",
          "height": 323
        }
      },
      "source": [
        "####################PRODUCT 3 FOR MARRIED COUPLES ########################################\n",
        "prod=0\n",
        "max_c=0\n",
        "for i in prod3:\n",
        "  b=marrprod[marrprod['Product_Category_3']==i]\n",
        "  count=len(b.index)\n",
        "  print(i,\" has been brought \",count,\" times\")\n",
        "  if(max_c<count):\n",
        "    max_c=count\n",
        "    prod=i\n",
        "    \n",
        "  \n",
        "print(\"___________________________________________________________________________________\")\n",
        "print(\"Married couples bought product\",prod,\"maximum times\")\n",
        "print(\"___________________________________________________________________________________\")"
      ],
      "execution_count": 41,
      "outputs": [
        {
          "output_type": "stream",
          "text": [
            "3  has been brought  226  times\n",
            "4  has been brought  665  times\n",
            "5  has been brought  6402  times\n",
            "6  has been brought  1835  times\n",
            "8  has been brought  5194  times\n",
            "9  has been brought  4423  times\n",
            "10  has been brought  769  times\n",
            "11  has been brought  699  times\n",
            "12  has been brought  3656  times\n",
            "13  has been brought  2198  times\n",
            "14  has been brought  7704  times\n",
            "15  has been brought  11350  times\n",
            "16  has been brought  13047  times\n",
            "17  has been brought  7108  times\n",
            "18  has been brought  1926  times\n",
            "___________________________________________________________________________________\n",
            "Married couples bought product 16 maximum times\n",
            "___________________________________________________________________________________\n"
          ],
          "name": "stdout"
        }
      ]
    },
    {
      "cell_type": "code",
      "metadata": {
        "id": "KyUQQJ-2CGus",
        "colab_type": "code",
        "outputId": "5ac6180d-f2b0-4f19-b710-799595374b66",
        "colab": {
          "base_uri": "https://localhost:8080/",
          "height": 323
        }
      },
      "source": [
        "####################PRODUCT 3 FOR UNMARRIED COUPLES ########################################\n",
        "prod=0\n",
        "max_c=0\n",
        "for i in prod3:\n",
        "  b=notmarrprod[notmarrprod['Product_Category_3']==i]\n",
        "  count=len(b.index)\n",
        "  print(i,\" has been brought \",count,\" times\")\n",
        "  if(max_c<count):\n",
        "    max_c=count\n",
        "    prod=i\n",
        "    \n",
        "  \n",
        "print(\"___________________________________________________________________________________\")\n",
        "print(\"Not Married couples bought product\",prod,\"maximum times\")\n",
        "print(\"___________________________________________________________________________________\")"
      ],
      "execution_count": 42,
      "outputs": [
        {
          "output_type": "stream",
          "text": [
            "3  has been brought  387  times\n",
            "4  has been brought  1210  times\n",
            "5  has been brought  10256  times\n",
            "6  has been brought  3055  times\n",
            "8  has been brought  7368  times\n",
            "9  has been brought  7156  times\n",
            "10  has been brought  957  times\n",
            "11  has been brought  1106  times\n",
            "12  has been brought  5590  times\n",
            "13  has been brought  3261  times\n",
            "14  has been brought  10724  times\n",
            "15  has been brought  16663  times\n",
            "16  has been brought  19589  times\n",
            "17  has been brought  9594  times\n",
            "18  has been brought  2703  times\n",
            "___________________________________________________________________________________\n",
            "Not Married couples bought product 16 maximum times\n",
            "___________________________________________________________________________________\n"
          ],
          "name": "stdout"
        }
      ]
    },
    {
      "cell_type": "code",
      "metadata": {
        "id": "Ai2mRKnlrJeT",
        "colab_type": "code",
        "colab": {}
      },
      "source": [
        "# 3. According to age and sex what are the most bought products?"
      ],
      "execution_count": 0,
      "outputs": []
    },
    {
      "cell_type": "code",
      "metadata": {
        "id": "HXG4fBA52_4E",
        "colab_type": "code",
        "outputId": "d912f584-285a-4eec-8765-42c052ee236c",
        "colab": {
          "base_uri": "https://localhost:8080/",
          "height": 300
        }
      },
      "source": [
        "sns.countplot(df_train['Age'])"
      ],
      "execution_count": 44,
      "outputs": [
        {
          "output_type": "execute_result",
          "data": {
            "text/plain": [
              "<matplotlib.axes._subplots.AxesSubplot at 0x7f10fc242eb8>"
            ]
          },
          "metadata": {
            "tags": []
          },
          "execution_count": 44
        },
        {
          "output_type": "display_data",
          "data": {
            "image/png": "[encoded data removed]",
            "text/plain": [
              "<Figure size 432x288 with 1 Axes>"
            ]
          },
          "metadata": {
            "tags": []
          }
        }
      ]
    },
    {
      "cell_type": "code",
      "metadata": {
        "id": "dHIvnB_c3AMe",
        "colab_type": "code",
        "outputId": "ed1be6c5-92f1-4e8c-9f3e-dcb936128e13",
        "colab": {
          "base_uri": "https://localhost:8080/",
          "height": 300
        }
      },
      "source": [
        "sns.countplot(df_train['Age'],hue=df_train['Gender'])"
      ],
      "execution_count": 45,
      "outputs": [
        {
          "output_type": "execute_result",
          "data": {
            "text/plain": [
              "<matplotlib.axes._subplots.AxesSubplot at 0x7f10fc1abfd0>"
            ]
          },
          "metadata": {
            "tags": []
          },
          "execution_count": 45
        },
        {
          "output_type": "display_data",
          "data": {
            "image/png": "[encoded data removed]",
            "text/plain": [
              "<Figure size 432x288 with 1 Axes>"
            ]
          },
          "metadata": {
            "tags": []
          }
        }
      ]
    },
    {
      "cell_type": "code",
      "metadata": {
        "id": "xEzQdsCV3L2v",
        "colab_type": "code",
        "outputId": "4d5fbc20-76fa-4680-a29a-b980014274f9",
        "colab": {
          "base_uri": "https://localhost:8080/",
          "height": 51
        }
      },
      "source": [
        "dfage=df_train['Age'].unique()\n",
        "dfage"
      ],
      "execution_count": 46,
      "outputs": [
        {
          "output_type": "execute_result",
          "data": {
            "text/plain": [
              "array(['0-17', '55+', '26-35', '46-50', '51-55', '36-45', '18-25'],\n",
              "      dtype=object)"
            ]
          },
          "metadata": {
            "tags": []
          },
          "execution_count": 46
        }
      ]
    },
    {
      "cell_type": "code",
      "metadata": {
        "id": "Ud23qQoHlZSn",
        "colab_type": "code",
        "colab": {}
      },
      "source": [
        "df_train[\"Product_Category_2\"] = df_train[\"Product_Category_2\"].astype(int)\n",
        "df_train[\"Product_Category_3\"] = df_train[\"Product_Category_3\"].astype(int)"
      ],
      "execution_count": 0,
      "outputs": []
    },
    {
      "cell_type": "code",
      "metadata": {
        "id": "AqtWjQxv_G_s",
        "colab_type": "code",
        "colab": {}
      },
      "source": [
        "df_train[\"Product_Category_2\"].replace(-1,float('nan'),inplace=True)\n",
        "df_train[\"Product_Category_3\"].replace(-1,float('nan'),inplace=True)"
      ],
      "execution_count": 0,
      "outputs": []
    },
    {
      "cell_type": "code",
      "metadata": {
        "id": "PNn0JZHx_UrS",
        "colab_type": "code",
        "colab": {}
      },
      "source": [
        "df_train['Age_Encoded'] = df_train['Age'].map({'0-17':0,'18-25':1,\n",
        "                          '26-35':2,'36-45':3,\n",
        "                          '46-50':4,'51-55':5,\n",
        "                          '55+':6})"
      ],
      "execution_count": 0,
      "outputs": []
    },
    {
      "cell_type": "code",
      "metadata": {
        "id": "Nf-2r1IV_0Pu",
        "colab_type": "code",
        "colab": {}
      },
      "source": [
        "age=df_train['Age_Encoded'].unique()"
      ],
      "execution_count": 0,
      "outputs": []
    },
    {
      "cell_type": "code",
      "metadata": {
        "id": "gjaX8NSYBeTL",
        "colab_type": "code",
        "outputId": "8d46df87-1031-433a-bb6b-d5619b415427",
        "colab": {
          "base_uri": "https://localhost:8080/",
          "height": 213
        }
      },
      "source": [
        "df_train.head(3)"
      ],
      "execution_count": 51,
      "outputs": [
        {
          "output_type": "execute_result",
          "data": {
            "text/html": [
              "<div>\n",
              "<style scoped>\n",
              "    .dataframe tbody tr th:only-of-type {\n",
              "        vertical-align: middle;\n",
              "    }\n",
              "\n",
              "    .dataframe tbody tr th {\n",
              "        vertical-align: top;\n",
              "    }\n",
              "\n",
              "    .dataframe thead th {\n",
              "        text-align: right;\n",
              "    }\n",
              "</style>\n",
              "<table border=\"1\" class=\"dataframe\">\n",
              "  <thead>\n",
              "    <tr style=\"text-align: right;\">\n",
              "      <th></th>\n",
              "      <th>User_ID</th>\n",
              "      <th>Product_ID</th>\n",
              "      <th>Gender</th>\n",
              "      <th>Age</th>\n",
              "      <th>Occupation</th>\n",
              "      <th>City_Category</th>\n",
              "      <th>Stay_In_Current_City_Years</th>\n",
              "      <th>Marital_Status</th>\n",
              "      <th>Product_Category_1</th>\n",
              "      <th>Product_Category_2</th>\n",
              "      <th>Product_Category_3</th>\n",
              "      <th>Purchase</th>\n",
              "      <th>Age_Encoded</th>\n",
              "    </tr>\n",
              "  </thead>\n",
              "  <tbody>\n",
              "    <tr>\n",
              "      <th>0</th>\n",
              "      <td>1000001</td>\n",
              "      <td>P00069042</td>\n",
              "      <td>F</td>\n",
              "      <td>0-17</td>\n",
              "      <td>10</td>\n",
              "      <td>A</td>\n",
              "      <td>2</td>\n",
              "      <td>0</td>\n",
              "      <td>3</td>\n",
              "      <td>NaN</td>\n",
              "      <td>NaN</td>\n",
              "      <td>8370</td>\n",
              "      <td>0</td>\n",
              "    </tr>\n",
              "    <tr>\n",
              "      <th>1</th>\n",
              "      <td>1000001</td>\n",
              "      <td>P00248942</td>\n",
              "      <td>F</td>\n",
              "      <td>0-17</td>\n",
              "      <td>10</td>\n",
              "      <td>A</td>\n",
              "      <td>2</td>\n",
              "      <td>0</td>\n",
              "      <td>1</td>\n",
              "      <td>6.0</td>\n",
              "      <td>14.0</td>\n",
              "      <td>15200</td>\n",
              "      <td>0</td>\n",
              "    </tr>\n",
              "    <tr>\n",
              "      <th>2</th>\n",
              "      <td>1000001</td>\n",
              "      <td>P00087842</td>\n",
              "      <td>F</td>\n",
              "      <td>0-17</td>\n",
              "      <td>10</td>\n",
              "      <td>A</td>\n",
              "      <td>2</td>\n",
              "      <td>0</td>\n",
              "      <td>12</td>\n",
              "      <td>NaN</td>\n",
              "      <td>NaN</td>\n",
              "      <td>1422</td>\n",
              "      <td>0</td>\n",
              "    </tr>\n",
              "  </tbody>\n",
              "</table>\n",
              "</div>"
            ],
            "text/plain": [
              "   User_ID Product_ID Gender  ... Product_Category_3  Purchase Age_Encoded\n",
              "0  1000001  P00069042      F  ...                NaN      8370           0\n",
              "1  1000001  P00248942      F  ...               14.0     15200           0\n",
              "2  1000001  P00087842      F  ...                NaN      1422           0\n",
              "\n",
              "[3 rows x 13 columns]"
            ]
          },
          "metadata": {
            "tags": []
          },
          "execution_count": 51
        }
      ]
    },
    {
      "cell_type": "code",
      "metadata": {
        "id": "GlCXLfCTARKp",
        "colab_type": "code",
        "outputId": "eb926070-74f0-4ed0-9c36-014e7da0e0bd",
        "colab": {
          "base_uri": "https://localhost:8080/",
          "height": 1998
        }
      },
      "source": [
        "################################## FEMALE & AGE PRODUCT SOLD #######################################\n",
        "for i in age:\n",
        "  newdf=df_train[(df_train['Age_Encoded']==i)&(df_train['Gender']=='F')]\n",
        "  pd1=newdf['Product_Category_1'].mode()\n",
        "  pd1=np.array(pd1)\n",
        "  count1=newdf['Product_Category_1'].value_counts()\n",
        "  count1=pd.DataFrame(count1)\n",
        "  count1.reset_index()\n",
        "  x=count1['Product_Category_1'].max()\n",
        "  l1='Product Category 1 number:',pd1[0]\n",
        "\n",
        "  newdr2=newdf\n",
        "  newdr2['Product_Category_2'].dropna(inplace=True)\n",
        "  pd2=newdr2['Product_Category_2'].mode()\n",
        "  pd2=np.array(pd2)\n",
        "  count2=newdf['Product_Category_2'].value_counts()\n",
        "  count2=pd.DataFrame(count2)\n",
        "  count2.reset_index()\n",
        "  y=count2['Product_Category_2'].max()\n",
        "  l2='Product Category 2 number:',pd2[0]\n",
        "  l2\n",
        "\n",
        "  newdr3=newdf\n",
        "  newdr3['Product_Category_3'].dropna(inplace=True)\n",
        "  pd3=newdr3['Product_Category_3'].mode()\n",
        "  pd3=np.array(pd3)\n",
        "  count3=newdf['Product_Category_3'].value_counts()\n",
        "  count3=pd.DataFrame(count3)\n",
        "  count3.reset_index()\n",
        "  z=count3['Product_Category_3'].max()\n",
        "  l3='Product Category 3 number:',pd3[0]\n",
        "  l3\n",
        "  pltdata=[x,y,z]\n",
        "\n",
        "  label=[l1,l2,l3]\n",
        "  plt.figure()\n",
        "  plt.title('product demand for age bin %i'%i)\n",
        "  plt.pie(pltdata,labels=label)\n",
        "  print('________________________________________________________________________________________')\n",
        "  "
      ],
      "execution_count": 52,
      "outputs": [
        {
          "output_type": "stream",
          "text": [
            "/usr/local/lib/python3.6/dist-packages/pandas/core/series.py:4303: SettingWithCopyWarning: \n",
            "A value is trying to be set on a copy of a slice from a DataFrame\n",
            "\n",
            "See the caveats in the documentation: http://pandas.pydata.org/pandas-docs/stable/indexing.html#indexing-view-versus-copy\n",
            "  self._update_inplace(result)\n"
          ],
          "name": "stderr"
        },
        {
          "output_type": "stream",
          "text": [
            "________________________________________________________________________________________\n",
            "________________________________________________________________________________________\n",
            "________________________________________________________________________________________\n",
            "________________________________________________________________________________________\n",
            "________________________________________________________________________________________\n",
            "________________________________________________________________________________________\n",
            "________________________________________________________________________________________\n"
          ],
          "name": "stdout"
        },
        {
          "output_type": "display_data",
          "data": {
            "image/png": "[encoded data removed]",
            "text/plain": [
              "<Figure size 432x288 with 1 Axes>"
            ]
          },
          "metadata": {
            "tags": []
          }
        },
        {
          "output_type": "display_data",
          "data": {
            "image/png": "[encoded data removed]",
            "text/plain": [
              "<Figure size 432x288 with 1 Axes>"
            ]
          },
          "metadata": {
            "tags": []
          }
        },
        {
          "output_type": "display_data",
          "data": {
            "image/png": "[encoded data removed]",
            "text/plain": [
              "<Figure size 432x288 with 1 Axes>"
            ]
          },
          "metadata": {
            "tags": []
          }
        },
        {
          "output_type": "display_data",
          "data": {
            "image/png": "[encoded data removed]",
            "text/plain": [
              "<Figure size 432x288 with 1 Axes>"
            ]
          },
          "metadata": {
            "tags": []
          }
        },
        {
          "output_type": "display_data",
          "data": {
            "image/png": "[encoded data removed]",
            "text/plain": [
              "<Figure size 432x288 with 1 Axes>"
            ]
          },
          "metadata": {
            "tags": []
          }
        },
        {
          "output_type": "display_data",
          "data": {
            "image/png": "[encoded data removed]",
            "text/plain": [
              "<Figure size 432x288 with 1 Axes>"
            ]
          },
          "metadata": {
            "tags": []
          }
        },
        {
          "output_type": "display_data",
          "data": {
            "image/png": "[encoded data removed]",
            "text/plain": [
              "<Figure size 432x288 with 1 Axes>"
            ]
          },
          "metadata": {
            "tags": []
          }
        }
      ]
    },
    {
      "cell_type": "code",
      "metadata": {
        "id": "fYOYEA4DDvX8",
        "colab_type": "code",
        "outputId": "cf237db4-7e17-4bf1-c2a8-302226e2771d",
        "colab": {
          "base_uri": "https://localhost:8080/",
          "height": 1998
        }
      },
      "source": [
        "################################# MALE & AGE PRODUCT SOLD #######################################\n",
        "for i in age:\n",
        "  newdf=df_train[(df_train['Age_Encoded']==i)&(df_train['Gender']=='M')]\n",
        "  pd1=newdf['Product_Category_1'].mode()\n",
        "  pd1=np.array(pd1)\n",
        "  count1=newdf['Product_Category_1'].value_counts()\n",
        "  count1=pd.DataFrame(count1)\n",
        "  count1.reset_index()\n",
        "  x=count1['Product_Category_1'].max()\n",
        "  l1='Product Category 1 number:',pd1[0]\n",
        "\n",
        "  newdr2=newdf\n",
        "  newdr2['Product_Category_2'].dropna(inplace=True)\n",
        "  pd2=newdr2['Product_Category_2'].mode()\n",
        "  pd2=np.array(pd2)\n",
        "  count2=newdf['Product_Category_2'].value_counts()\n",
        "  count2=pd.DataFrame(count2)\n",
        "  count2.reset_index()\n",
        "  y=count2['Product_Category_2'].max()\n",
        "  l2='Product Category 2 number:',pd2[0]\n",
        "  l2\n",
        "\n",
        "  newdr3=newdf\n",
        "  newdr3['Product_Category_3'].dropna(inplace=True)\n",
        "  pd3=newdr3['Product_Category_3'].mode()\n",
        "  pd3=np.array(pd3)\n",
        "  count3=newdf['Product_Category_3'].value_counts()\n",
        "  count3=pd.DataFrame(count3)\n",
        "  count3.reset_index()\n",
        "  z=count3['Product_Category_3'].max()\n",
        "  l3='Product Category 3 number:',pd3[0]\n",
        "  l3\n",
        "  pltdata=[x,y,z]\n",
        "\n",
        "  label=[l1,l2,l3]\n",
        "  plt.figure()\n",
        "  plt.title('product demand for age bin %i'%i)\n",
        "  plt.pie(pltdata,labels=label)\n",
        "  print('________________________________________________________________________________________')\n",
        "  "
      ],
      "execution_count": 53,
      "outputs": [
        {
          "output_type": "stream",
          "text": [
            "/usr/local/lib/python3.6/dist-packages/pandas/core/series.py:4303: SettingWithCopyWarning: \n",
            "A value is trying to be set on a copy of a slice from a DataFrame\n",
            "\n",
            "See the caveats in the documentation: http://pandas.pydata.org/pandas-docs/stable/indexing.html#indexing-view-versus-copy\n",
            "  self._update_inplace(result)\n"
          ],
          "name": "stderr"
        },
        {
          "output_type": "stream",
          "text": [
            "________________________________________________________________________________________\n",
            "________________________________________________________________________________________\n",
            "________________________________________________________________________________________\n",
            "________________________________________________________________________________________\n",
            "________________________________________________________________________________________\n",
            "________________________________________________________________________________________\n",
            "________________________________________________________________________________________\n"
          ],
          "name": "stdout"
        },
        {
          "output_type": "display_data",
          "data": {
            "image/png": "[encoded data removed]",
            "text/plain": [
              "<Figure size 432x288 with 1 Axes>"
            ]
          },
          "metadata": {
            "tags": []
          }
        },
        {
          "output_type": "display_data",
          "data": {
            "image/png": "[encoded data removed]",
            "text/plain": [
              "<Figure size 432x288 with 1 Axes>"
            ]
          },
          "metadata": {
            "tags": []
          }
        },
        {
          "output_type": "display_data",
          "data": {
            "image/png": "[encoded data removed]",
            "text/plain": [
              "<Figure size 432x288 with 1 Axes>"
            ]
          },
          "metadata": {
            "tags": []
          }
        },
        {
          "output_type": "display_data",
          "data": {
            "image/png": "[encoded data removed]",
            "text/plain": [
              "<Figure size 432x288 with 1 Axes>"
            ]
          },
          "metadata": {
            "tags": []
          }
        },
        {
          "output_type": "display_data",
          "data": {
            "image/png": "[encoded data removed]",
            "text/plain": [
              "<Figure size 432x288 with 1 Axes>"
            ]
          },
          "metadata": {
            "tags": []
          }
        },
        {
          "output_type": "display_data",
          "data": {
            "image/png": "[encoded data removed]",
            "text/plain": [
              "<Figure size 432x288 with 1 Axes>"
            ]
          },
          "metadata": {
            "tags": []
          }
        },
        {
          "output_type": "display_data",
          "data": {
            "image/png": "[encoded data removed]",
            "text/plain": [
              "<Figure size 432x288 with 1 Axes>"
            ]
          },
          "metadata": {
            "tags": []
          }
        }
      ]
    },
    {
      "cell_type": "code",
      "metadata": {
        "id": "8l-WU_f7FaVx",
        "colab_type": "code",
        "colab": {}
      },
      "source": [
        "#########################################################################################################################\n",
        "#########################################################################################################################\n",
        "#########################################################################################################################"
      ],
      "execution_count": 0,
      "outputs": []
    },
    {
      "cell_type": "code",
      "metadata": {
        "id": "7tZAAjM3qRM1",
        "colab_type": "code",
        "outputId": "0a1de922-204b-4f11-ae9c-6b30e1e54192",
        "colab": {
          "base_uri": "https://localhost:8080/",
          "height": 261
        }
      },
      "source": [
        "df_train.head(4)"
      ],
      "execution_count": 55,
      "outputs": [
        {
          "output_type": "execute_result",
          "data": {
            "text/html": [
              "<div>\n",
              "<style scoped>\n",
              "    .dataframe tbody tr th:only-of-type {\n",
              "        vertical-align: middle;\n",
              "    }\n",
              "\n",
              "    .dataframe tbody tr th {\n",
              "        vertical-align: top;\n",
              "    }\n",
              "\n",
              "    .dataframe thead th {\n",
              "        text-align: right;\n",
              "    }\n",
              "</style>\n",
              "<table border=\"1\" class=\"dataframe\">\n",
              "  <thead>\n",
              "    <tr style=\"text-align: right;\">\n",
              "      <th></th>\n",
              "      <th>User_ID</th>\n",
              "      <th>Product_ID</th>\n",
              "      <th>Gender</th>\n",
              "      <th>Age</th>\n",
              "      <th>Occupation</th>\n",
              "      <th>City_Category</th>\n",
              "      <th>Stay_In_Current_City_Years</th>\n",
              "      <th>Marital_Status</th>\n",
              "      <th>Product_Category_1</th>\n",
              "      <th>Product_Category_2</th>\n",
              "      <th>Product_Category_3</th>\n",
              "      <th>Purchase</th>\n",
              "      <th>Age_Encoded</th>\n",
              "    </tr>\n",
              "  </thead>\n",
              "  <tbody>\n",
              "    <tr>\n",
              "      <th>0</th>\n",
              "      <td>1000001</td>\n",
              "      <td>P00069042</td>\n",
              "      <td>F</td>\n",
              "      <td>0-17</td>\n",
              "      <td>10</td>\n",
              "      <td>A</td>\n",
              "      <td>2</td>\n",
              "      <td>0</td>\n",
              "      <td>3</td>\n",
              "      <td>NaN</td>\n",
              "      <td>NaN</td>\n",
              "      <td>8370</td>\n",
              "      <td>0</td>\n",
              "    </tr>\n",
              "    <tr>\n",
              "      <th>1</th>\n",
              "      <td>1000001</td>\n",
              "      <td>P00248942</td>\n",
              "      <td>F</td>\n",
              "      <td>0-17</td>\n",
              "      <td>10</td>\n",
              "      <td>A</td>\n",
              "      <td>2</td>\n",
              "      <td>0</td>\n",
              "      <td>1</td>\n",
              "      <td>6.0</td>\n",
              "      <td>14.0</td>\n",
              "      <td>15200</td>\n",
              "      <td>0</td>\n",
              "    </tr>\n",
              "    <tr>\n",
              "      <th>2</th>\n",
              "      <td>1000001</td>\n",
              "      <td>P00087842</td>\n",
              "      <td>F</td>\n",
              "      <td>0-17</td>\n",
              "      <td>10</td>\n",
              "      <td>A</td>\n",
              "      <td>2</td>\n",
              "      <td>0</td>\n",
              "      <td>12</td>\n",
              "      <td>NaN</td>\n",
              "      <td>NaN</td>\n",
              "      <td>1422</td>\n",
              "      <td>0</td>\n",
              "    </tr>\n",
              "    <tr>\n",
              "      <th>3</th>\n",
              "      <td>1000001</td>\n",
              "      <td>P00085442</td>\n",
              "      <td>F</td>\n",
              "      <td>0-17</td>\n",
              "      <td>10</td>\n",
              "      <td>A</td>\n",
              "      <td>2</td>\n",
              "      <td>0</td>\n",
              "      <td>12</td>\n",
              "      <td>14.0</td>\n",
              "      <td>NaN</td>\n",
              "      <td>1057</td>\n",
              "      <td>0</td>\n",
              "    </tr>\n",
              "  </tbody>\n",
              "</table>\n",
              "</div>"
            ],
            "text/plain": [
              "   User_ID Product_ID Gender  ... Product_Category_3  Purchase Age_Encoded\n",
              "0  1000001  P00069042      F  ...                NaN      8370           0\n",
              "1  1000001  P00248942      F  ...               14.0     15200           0\n",
              "2  1000001  P00087842      F  ...                NaN      1422           0\n",
              "3  1000001  P00085442      F  ...                NaN      1057           0\n",
              "\n",
              "[4 rows x 13 columns]"
            ]
          },
          "metadata": {
            "tags": []
          },
          "execution_count": 55
        }
      ]
    },
    {
      "cell_type": "code",
      "metadata": {
        "id": "mBDFeM5EqqsF",
        "colab_type": "code",
        "colab": {}
      },
      "source": [
        "###################################### OCCUPATION REDUCTION AND EXPLORATION ######################################"
      ],
      "execution_count": 0,
      "outputs": []
    },
    {
      "cell_type": "code",
      "metadata": {
        "id": "dVgXMMBbq3tf",
        "colab_type": "code",
        "outputId": "74bf59f0-c99d-4c32-adf0-84f7c120b2c1",
        "colab": {
          "base_uri": "https://localhost:8080/",
          "height": 51
        }
      },
      "source": [
        "occc=df_train['Occupation'].unique()\n",
        "occc.sort()\n",
        "occc"
      ],
      "execution_count": 57,
      "outputs": [
        {
          "output_type": "execute_result",
          "data": {
            "text/plain": [
              "array([ 0,  1,  2,  3,  4,  5,  6,  7,  8,  9, 10, 11, 12, 13, 14, 15, 16,\n",
              "       17, 18, 19, 20])"
            ]
          },
          "metadata": {
            "tags": []
          },
          "execution_count": 57
        }
      ]
    },
    {
      "cell_type": "code",
      "metadata": {
        "id": "-0gDlJSOrbLp",
        "colab_type": "code",
        "outputId": "8c1b1497-3ffc-4579-9300-901bf60ddd9e",
        "colab": {
          "base_uri": "https://localhost:8080/",
          "height": 700
        }
      },
      "source": [
        "count=df_train['Occupation'].value_counts()\n",
        "count=pd.DataFrame(count)\n",
        "count.reset_index(inplace=True)\n",
        "count"
      ],
      "execution_count": 58,
      "outputs": [
        {
          "output_type": "execute_result",
          "data": {
            "text/html": [
              "<div>\n",
              "<style scoped>\n",
              "    .dataframe tbody tr th:only-of-type {\n",
              "        vertical-align: middle;\n",
              "    }\n",
              "\n",
              "    .dataframe tbody tr th {\n",
              "        vertical-align: top;\n",
              "    }\n",
              "\n",
              "    .dataframe thead th {\n",
              "        text-align: right;\n",
              "    }\n",
              "</style>\n",
              "<table border=\"1\" class=\"dataframe\">\n",
              "  <thead>\n",
              "    <tr style=\"text-align: right;\">\n",
              "      <th></th>\n",
              "      <th>index</th>\n",
              "      <th>Occupation</th>\n",
              "    </tr>\n",
              "  </thead>\n",
              "  <tbody>\n",
              "    <tr>\n",
              "      <th>0</th>\n",
              "      <td>4</td>\n",
              "      <td>72308</td>\n",
              "    </tr>\n",
              "    <tr>\n",
              "      <th>1</th>\n",
              "      <td>0</td>\n",
              "      <td>69638</td>\n",
              "    </tr>\n",
              "    <tr>\n",
              "      <th>2</th>\n",
              "      <td>7</td>\n",
              "      <td>59133</td>\n",
              "    </tr>\n",
              "    <tr>\n",
              "      <th>3</th>\n",
              "      <td>1</td>\n",
              "      <td>47426</td>\n",
              "    </tr>\n",
              "    <tr>\n",
              "      <th>4</th>\n",
              "      <td>17</td>\n",
              "      <td>40043</td>\n",
              "    </tr>\n",
              "    <tr>\n",
              "      <th>5</th>\n",
              "      <td>20</td>\n",
              "      <td>33562</td>\n",
              "    </tr>\n",
              "    <tr>\n",
              "      <th>6</th>\n",
              "      <td>12</td>\n",
              "      <td>31179</td>\n",
              "    </tr>\n",
              "    <tr>\n",
              "      <th>7</th>\n",
              "      <td>14</td>\n",
              "      <td>27309</td>\n",
              "    </tr>\n",
              "    <tr>\n",
              "      <th>8</th>\n",
              "      <td>2</td>\n",
              "      <td>26588</td>\n",
              "    </tr>\n",
              "    <tr>\n",
              "      <th>9</th>\n",
              "      <td>16</td>\n",
              "      <td>25371</td>\n",
              "    </tr>\n",
              "    <tr>\n",
              "      <th>10</th>\n",
              "      <td>6</td>\n",
              "      <td>20355</td>\n",
              "    </tr>\n",
              "    <tr>\n",
              "      <th>11</th>\n",
              "      <td>3</td>\n",
              "      <td>17650</td>\n",
              "    </tr>\n",
              "    <tr>\n",
              "      <th>12</th>\n",
              "      <td>10</td>\n",
              "      <td>12930</td>\n",
              "    </tr>\n",
              "    <tr>\n",
              "      <th>13</th>\n",
              "      <td>5</td>\n",
              "      <td>12177</td>\n",
              "    </tr>\n",
              "    <tr>\n",
              "      <th>14</th>\n",
              "      <td>15</td>\n",
              "      <td>12165</td>\n",
              "    </tr>\n",
              "    <tr>\n",
              "      <th>15</th>\n",
              "      <td>11</td>\n",
              "      <td>11586</td>\n",
              "    </tr>\n",
              "    <tr>\n",
              "      <th>16</th>\n",
              "      <td>19</td>\n",
              "      <td>8461</td>\n",
              "    </tr>\n",
              "    <tr>\n",
              "      <th>17</th>\n",
              "      <td>13</td>\n",
              "      <td>7728</td>\n",
              "    </tr>\n",
              "    <tr>\n",
              "      <th>18</th>\n",
              "      <td>18</td>\n",
              "      <td>6622</td>\n",
              "    </tr>\n",
              "    <tr>\n",
              "      <th>19</th>\n",
              "      <td>9</td>\n",
              "      <td>6291</td>\n",
              "    </tr>\n",
              "    <tr>\n",
              "      <th>20</th>\n",
              "      <td>8</td>\n",
              "      <td>1546</td>\n",
              "    </tr>\n",
              "  </tbody>\n",
              "</table>\n",
              "</div>"
            ],
            "text/plain": [
              "    index  Occupation\n",
              "0       4       72308\n",
              "1       0       69638\n",
              "2       7       59133\n",
              "3       1       47426\n",
              "4      17       40043\n",
              "5      20       33562\n",
              "6      12       31179\n",
              "7      14       27309\n",
              "8       2       26588\n",
              "9      16       25371\n",
              "10      6       20355\n",
              "11      3       17650\n",
              "12     10       12930\n",
              "13      5       12177\n",
              "14     15       12165\n",
              "15     11       11586\n",
              "16     19        8461\n",
              "17     13        7728\n",
              "18     18        6622\n",
              "19      9        6291\n",
              "20      8        1546"
            ]
          },
          "metadata": {
            "tags": []
          },
          "execution_count": 58
        }
      ]
    },
    {
      "cell_type": "code",
      "metadata": {
        "id": "DWN5EDFNtxyt",
        "colab_type": "code",
        "colab": {}
      },
      "source": [
        "count.rename(columns={'index':'Occ','Occupation':'Count'},inplace=True)\n",
        "count.sort_values(by='Occ',inplace=True)\n",
        "count['Occ']=count['Occ'].astype('str')"
      ],
      "execution_count": 0,
      "outputs": []
    },
    {
      "cell_type": "code",
      "metadata": {
        "id": "5PZZbN-9uD-w",
        "colab_type": "code",
        "outputId": "1e86894b-edc4-4e24-8be8-170a1ac9c754",
        "colab": {
          "base_uri": "https://localhost:8080/",
          "height": 286
        }
      },
      "source": [
        "plt.figure()\n",
        "plt.bar(count['Occ'],count['Count'],)"
      ],
      "execution_count": 60,
      "outputs": [
        {
          "output_type": "execute_result",
          "data": {
            "text/plain": [
              "<BarContainer object of 21 artists>"
            ]
          },
          "metadata": {
            "tags": []
          },
          "execution_count": 60
        },
        {
          "output_type": "display_data",
          "data": {
            "image/png": "[encoded data removed]",
            "text/plain": [
              "<Figure size 432x288 with 1 Axes>"
            ]
          },
          "metadata": {
            "tags": []
          }
        }
      ]
    },
    {
      "cell_type": "code",
      "metadata": {
        "id": "ggTBawokuVGa",
        "colab_type": "code",
        "outputId": "26b227f9-690f-41fa-ae26-5ab9c3802c42",
        "colab": {
          "base_uri": "https://localhost:8080/",
          "height": 323
        }
      },
      "source": [
        "#As Occ number 8 9 18 13 19 Are Considerably less so they can be created into new data entry as others number=100\n",
        "df_train['Occupation'].replace(8,100,inplace=True)\n",
        "df_train['Occupation'].replace(9,100,inplace=True)\n",
        "df_train['Occupation'].replace(18,100,inplace=True)\n",
        "df_train['Occupation'].replace(13,100,inplace=True)\n",
        "df_train['Occupation'].replace(19,100,inplace=True)\n",
        "df_train['Occupation'].value_counts()"
      ],
      "execution_count": 61,
      "outputs": [
        {
          "output_type": "execute_result",
          "data": {
            "text/plain": [
              "4      72308\n",
              "0      69638\n",
              "7      59133\n",
              "1      47426\n",
              "17     40043\n",
              "20     33562\n",
              "12     31179\n",
              "100    30648\n",
              "14     27309\n",
              "2      26588\n",
              "16     25371\n",
              "6      20355\n",
              "3      17650\n",
              "10     12930\n",
              "5      12177\n",
              "15     12165\n",
              "11     11586\n",
              "Name: Occupation, dtype: int64"
            ]
          },
          "metadata": {
            "tags": []
          },
          "execution_count": 61
        }
      ]
    },
    {
      "cell_type": "code",
      "metadata": {
        "id": "X2PjTITZ0hJ1",
        "colab_type": "code",
        "outputId": "2ea5f562-4903-4349-e992-abae455d56e7",
        "colab": {
          "base_uri": "https://localhost:8080/",
          "height": 376
        }
      },
      "source": [
        "sns.heatmap(df_train.corr())"
      ],
      "execution_count": 62,
      "outputs": [
        {
          "output_type": "execute_result",
          "data": {
            "text/plain": [
              "<matplotlib.axes._subplots.AxesSubplot at 0x7f10fbbeb8d0>"
            ]
          },
          "metadata": {
            "tags": []
          },
          "execution_count": 62
        },
        {
          "output_type": "display_data",
          "data": {
            "image/png": "[encoded data removed]",
            "text/plain": [
              "<Figure size 432x288 with 2 Axes>"
            ]
          },
          "metadata": {
            "tags": []
          }
        }
      ]
    },
    {
      "cell_type": "code",
      "metadata": {
        "id": "C8qdiIzk0tdK",
        "colab_type": "code",
        "outputId": "1662057b-d144-4ca6-a319-721ae582ba82",
        "colab": {
          "base_uri": "https://localhost:8080/",
          "height": 51
        }
      },
      "source": [
        "occ=df_train['Occupation'].unique()\n",
        "occ"
      ],
      "execution_count": 63,
      "outputs": [
        {
          "output_type": "execute_result",
          "data": {
            "text/plain": [
              "array([ 10,  16,  15,   7,  20, 100,   1,  12,  17,   0,   3,   4,  11,\n",
              "         2,   5,  14,   6])"
            ]
          },
          "metadata": {
            "tags": []
          },
          "execution_count": 63
        }
      ]
    },
    {
      "cell_type": "code",
      "metadata": {
        "id": "rYt7sqScFmsC",
        "colab_type": "code",
        "outputId": "40e2bc57-84dc-4408-9f70-1d7abc75d11f",
        "colab": {
          "base_uri": "https://localhost:8080/",
          "height": 1496
        }
      },
      "source": [
        "ult=0\n",
        "cat=0\n",
        "catz=0\n",
        "mx=100000000\n",
        "for i in occ:\n",
        "  df_occ=df_train[df_train['Occupation']==i]\n",
        "  maxpur=df_occ['Purchase'].max()\n",
        "  minpur=df_occ['Purchase'].min()\n",
        "  ranges=maxpur-minpur\n",
        "  if (ult<=maxpur) :\n",
        "    ult=maxpur\n",
        "    cat=i\n",
        "  if (mx>=minpur) :\n",
        "    mx=maxpur\n",
        "    catz=i\n",
        "  print(\"Occupation Number:\",i)\n",
        "  print(\"Maximum Purchase:\",maxpur)\n",
        "  print(\"Minimum Purchase:\",minpur)\n",
        "  print(\"Range:\",ranges)\n",
        "  print(\"________________________________________________________________________________\")\n",
        "  \n",
        "  \n",
        "  \n",
        "  \n",
        "print(\"MAXIMUM AMONG ALL OCCUPATIONS:\",cat,\"Value:\",ult)\n",
        "print(\"MINIMUM AMONG ALL OCCUPATIONS:\",catz,\"Value:\",mx)\n",
        "  "
      ],
      "execution_count": 64,
      "outputs": [
        {
          "output_type": "stream",
          "text": [
            "Occupation Number: 10\n",
            "Maximum Purchase: 23955\n",
            "Minimum Purchase: 12\n",
            "Range: 23943\n",
            "________________________________________________________________________________\n",
            "Occupation Number: 16\n",
            "Maximum Purchase: 23947\n",
            "Minimum Purchase: 12\n",
            "Range: 23935\n",
            "________________________________________________________________________________\n",
            "Occupation Number: 15\n",
            "Maximum Purchase: 23949\n",
            "Minimum Purchase: 12\n",
            "Range: 23937\n",
            "________________________________________________________________________________\n",
            "Occupation Number: 7\n",
            "Maximum Purchase: 23948\n",
            "Minimum Purchase: 12\n",
            "Range: 23936\n",
            "________________________________________________________________________________\n",
            "Occupation Number: 20\n",
            "Maximum Purchase: 23960\n",
            "Minimum Purchase: 12\n",
            "Range: 23948\n",
            "________________________________________________________________________________\n",
            "Occupation Number: 100\n",
            "Maximum Purchase: 23959\n",
            "Minimum Purchase: 12\n",
            "Range: 23947\n",
            "________________________________________________________________________________\n",
            "Occupation Number: 1\n",
            "Maximum Purchase: 23960\n",
            "Minimum Purchase: 12\n",
            "Range: 23948\n",
            "________________________________________________________________________________\n",
            "Occupation Number: 12\n",
            "Maximum Purchase: 23960\n",
            "Minimum Purchase: 12\n",
            "Range: 23948\n",
            "________________________________________________________________________________\n",
            "Occupation Number: 17\n",
            "Maximum Purchase: 23961\n",
            "Minimum Purchase: 12\n",
            "Range: 23949\n",
            "________________________________________________________________________________\n",
            "Occupation Number: 0\n",
            "Maximum Purchase: 23961\n",
            "Minimum Purchase: 12\n",
            "Range: 23949\n",
            "________________________________________________________________________________\n",
            "Occupation Number: 3\n",
            "Maximum Purchase: 23914\n",
            "Minimum Purchase: 12\n",
            "Range: 23902\n",
            "________________________________________________________________________________\n",
            "Occupation Number: 4\n",
            "Maximum Purchase: 23961\n",
            "Minimum Purchase: 12\n",
            "Range: 23949\n",
            "________________________________________________________________________________\n",
            "Occupation Number: 11\n",
            "Maximum Purchase: 23946\n",
            "Minimum Purchase: 12\n",
            "Range: 23934\n",
            "________________________________________________________________________________\n",
            "Occupation Number: 2\n",
            "Maximum Purchase: 23955\n",
            "Minimum Purchase: 12\n",
            "Range: 23943\n",
            "________________________________________________________________________________\n",
            "Occupation Number: 5\n",
            "Maximum Purchase: 23924\n",
            "Minimum Purchase: 12\n",
            "Range: 23912\n",
            "________________________________________________________________________________\n",
            "Occupation Number: 14\n",
            "Maximum Purchase: 23941\n",
            "Minimum Purchase: 12\n",
            "Range: 23929\n",
            "________________________________________________________________________________\n",
            "Occupation Number: 6\n",
            "Maximum Purchase: 23951\n",
            "Minimum Purchase: 12\n",
            "Range: 23939\n",
            "________________________________________________________________________________\n",
            "MAXIMUM AMONG ALL OCCUPATIONS: 4 Value: 23961\n",
            "MINIMUM AMONG ALL OCCUPATIONS: 6 Value: 23951\n"
          ],
          "name": "stdout"
        }
      ]
    },
    {
      "cell_type": "code",
      "metadata": {
        "id": "W9_YDdDeLqE6",
        "colab_type": "code",
        "outputId": "71e5e3a5-8a8a-4da0-be28-2fd79db98aa0",
        "colab": {
          "base_uri": "https://localhost:8080/",
          "height": 1969
        }
      },
      "source": [
        "############################Dummy Variable Creation one hot encoding for Gender#########################################\n",
        "df_trainj=pd.get_dummies(df_train['Gender'])\n",
        "df_trainj"
      ],
      "execution_count": 65,
      "outputs": [
        {
          "output_type": "execute_result",
          "data": {
            "text/html": [
              "<div>\n",
              "<style scoped>\n",
              "    .dataframe tbody tr th:only-of-type {\n",
              "        vertical-align: middle;\n",
              "    }\n",
              "\n",
              "    .dataframe tbody tr th {\n",
              "        vertical-align: top;\n",
              "    }\n",
              "\n",
              "    .dataframe thead th {\n",
              "        text-align: right;\n",
              "    }\n",
              "</style>\n",
              "<table border=\"1\" class=\"dataframe\">\n",
              "  <thead>\n",
              "    <tr style=\"text-align: right;\">\n",
              "      <th></th>\n",
              "      <th>F</th>\n",
              "      <th>M</th>\n",
              "    </tr>\n",
              "  </thead>\n",
              "  <tbody>\n",
              "    <tr>\n",
              "      <th>0</th>\n",
              "      <td>1</td>\n",
              "      <td>0</td>\n",
              "    </tr>\n",
              "    <tr>\n",
              "      <th>1</th>\n",
              "      <td>1</td>\n",
              "      <td>0</td>\n",
              "    </tr>\n",
              "    <tr>\n",
              "      <th>2</th>\n",
              "      <td>1</td>\n",
              "      <td>0</td>\n",
              "    </tr>\n",
              "    <tr>\n",
              "      <th>3</th>\n",
              "      <td>1</td>\n",
              "      <td>0</td>\n",
              "    </tr>\n",
              "    <tr>\n",
              "      <th>4</th>\n",
              "      <td>0</td>\n",
              "      <td>1</td>\n",
              "    </tr>\n",
              "    <tr>\n",
              "      <th>5</th>\n",
              "      <td>0</td>\n",
              "      <td>1</td>\n",
              "    </tr>\n",
              "    <tr>\n",
              "      <th>6</th>\n",
              "      <td>0</td>\n",
              "      <td>1</td>\n",
              "    </tr>\n",
              "    <tr>\n",
              "      <th>7</th>\n",
              "      <td>0</td>\n",
              "      <td>1</td>\n",
              "    </tr>\n",
              "    <tr>\n",
              "      <th>8</th>\n",
              "      <td>0</td>\n",
              "      <td>1</td>\n",
              "    </tr>\n",
              "    <tr>\n",
              "      <th>9</th>\n",
              "      <td>0</td>\n",
              "      <td>1</td>\n",
              "    </tr>\n",
              "    <tr>\n",
              "      <th>10</th>\n",
              "      <td>0</td>\n",
              "      <td>1</td>\n",
              "    </tr>\n",
              "    <tr>\n",
              "      <th>11</th>\n",
              "      <td>0</td>\n",
              "      <td>1</td>\n",
              "    </tr>\n",
              "    <tr>\n",
              "      <th>12</th>\n",
              "      <td>0</td>\n",
              "      <td>1</td>\n",
              "    </tr>\n",
              "    <tr>\n",
              "      <th>13</th>\n",
              "      <td>0</td>\n",
              "      <td>1</td>\n",
              "    </tr>\n",
              "    <tr>\n",
              "      <th>14</th>\n",
              "      <td>1</td>\n",
              "      <td>0</td>\n",
              "    </tr>\n",
              "    <tr>\n",
              "      <th>15</th>\n",
              "      <td>1</td>\n",
              "      <td>0</td>\n",
              "    </tr>\n",
              "    <tr>\n",
              "      <th>16</th>\n",
              "      <td>1</td>\n",
              "      <td>0</td>\n",
              "    </tr>\n",
              "    <tr>\n",
              "      <th>17</th>\n",
              "      <td>1</td>\n",
              "      <td>0</td>\n",
              "    </tr>\n",
              "    <tr>\n",
              "      <th>18</th>\n",
              "      <td>0</td>\n",
              "      <td>1</td>\n",
              "    </tr>\n",
              "    <tr>\n",
              "      <th>19</th>\n",
              "      <td>0</td>\n",
              "      <td>1</td>\n",
              "    </tr>\n",
              "    <tr>\n",
              "      <th>20</th>\n",
              "      <td>0</td>\n",
              "      <td>1</td>\n",
              "    </tr>\n",
              "    <tr>\n",
              "      <th>21</th>\n",
              "      <td>0</td>\n",
              "      <td>1</td>\n",
              "    </tr>\n",
              "    <tr>\n",
              "      <th>22</th>\n",
              "      <td>0</td>\n",
              "      <td>1</td>\n",
              "    </tr>\n",
              "    <tr>\n",
              "      <th>23</th>\n",
              "      <td>0</td>\n",
              "      <td>1</td>\n",
              "    </tr>\n",
              "    <tr>\n",
              "      <th>24</th>\n",
              "      <td>0</td>\n",
              "      <td>1</td>\n",
              "    </tr>\n",
              "    <tr>\n",
              "      <th>25</th>\n",
              "      <td>0</td>\n",
              "      <td>1</td>\n",
              "    </tr>\n",
              "    <tr>\n",
              "      <th>26</th>\n",
              "      <td>0</td>\n",
              "      <td>1</td>\n",
              "    </tr>\n",
              "    <tr>\n",
              "      <th>27</th>\n",
              "      <td>0</td>\n",
              "      <td>1</td>\n",
              "    </tr>\n",
              "    <tr>\n",
              "      <th>28</th>\n",
              "      <td>0</td>\n",
              "      <td>1</td>\n",
              "    </tr>\n",
              "    <tr>\n",
              "      <th>29</th>\n",
              "      <td>1</td>\n",
              "      <td>0</td>\n",
              "    </tr>\n",
              "    <tr>\n",
              "      <th>...</th>\n",
              "      <td>...</td>\n",
              "      <td>...</td>\n",
              "    </tr>\n",
              "    <tr>\n",
              "      <th>550038</th>\n",
              "      <td>1</td>\n",
              "      <td>0</td>\n",
              "    </tr>\n",
              "    <tr>\n",
              "      <th>550039</th>\n",
              "      <td>1</td>\n",
              "      <td>0</td>\n",
              "    </tr>\n",
              "    <tr>\n",
              "      <th>550040</th>\n",
              "      <td>1</td>\n",
              "      <td>0</td>\n",
              "    </tr>\n",
              "    <tr>\n",
              "      <th>550041</th>\n",
              "      <td>0</td>\n",
              "      <td>1</td>\n",
              "    </tr>\n",
              "    <tr>\n",
              "      <th>550042</th>\n",
              "      <td>0</td>\n",
              "      <td>1</td>\n",
              "    </tr>\n",
              "    <tr>\n",
              "      <th>550043</th>\n",
              "      <td>1</td>\n",
              "      <td>0</td>\n",
              "    </tr>\n",
              "    <tr>\n",
              "      <th>550044</th>\n",
              "      <td>1</td>\n",
              "      <td>0</td>\n",
              "    </tr>\n",
              "    <tr>\n",
              "      <th>550045</th>\n",
              "      <td>1</td>\n",
              "      <td>0</td>\n",
              "    </tr>\n",
              "    <tr>\n",
              "      <th>550046</th>\n",
              "      <td>1</td>\n",
              "      <td>0</td>\n",
              "    </tr>\n",
              "    <tr>\n",
              "      <th>550047</th>\n",
              "      <td>1</td>\n",
              "      <td>0</td>\n",
              "    </tr>\n",
              "    <tr>\n",
              "      <th>550048</th>\n",
              "      <td>0</td>\n",
              "      <td>1</td>\n",
              "    </tr>\n",
              "    <tr>\n",
              "      <th>550049</th>\n",
              "      <td>0</td>\n",
              "      <td>1</td>\n",
              "    </tr>\n",
              "    <tr>\n",
              "      <th>550050</th>\n",
              "      <td>0</td>\n",
              "      <td>1</td>\n",
              "    </tr>\n",
              "    <tr>\n",
              "      <th>550051</th>\n",
              "      <td>1</td>\n",
              "      <td>0</td>\n",
              "    </tr>\n",
              "    <tr>\n",
              "      <th>550052</th>\n",
              "      <td>0</td>\n",
              "      <td>1</td>\n",
              "    </tr>\n",
              "    <tr>\n",
              "      <th>550053</th>\n",
              "      <td>1</td>\n",
              "      <td>0</td>\n",
              "    </tr>\n",
              "    <tr>\n",
              "      <th>550054</th>\n",
              "      <td>0</td>\n",
              "      <td>1</td>\n",
              "    </tr>\n",
              "    <tr>\n",
              "      <th>550055</th>\n",
              "      <td>0</td>\n",
              "      <td>1</td>\n",
              "    </tr>\n",
              "    <tr>\n",
              "      <th>550056</th>\n",
              "      <td>0</td>\n",
              "      <td>1</td>\n",
              "    </tr>\n",
              "    <tr>\n",
              "      <th>550057</th>\n",
              "      <td>0</td>\n",
              "      <td>1</td>\n",
              "    </tr>\n",
              "    <tr>\n",
              "      <th>550058</th>\n",
              "      <td>0</td>\n",
              "      <td>1</td>\n",
              "    </tr>\n",
              "    <tr>\n",
              "      <th>550059</th>\n",
              "      <td>1</td>\n",
              "      <td>0</td>\n",
              "    </tr>\n",
              "    <tr>\n",
              "      <th>550060</th>\n",
              "      <td>0</td>\n",
              "      <td>1</td>\n",
              "    </tr>\n",
              "    <tr>\n",
              "      <th>550061</th>\n",
              "      <td>1</td>\n",
              "      <td>0</td>\n",
              "    </tr>\n",
              "    <tr>\n",
              "      <th>550062</th>\n",
              "      <td>0</td>\n",
              "      <td>1</td>\n",
              "    </tr>\n",
              "    <tr>\n",
              "      <th>550063</th>\n",
              "      <td>0</td>\n",
              "      <td>1</td>\n",
              "    </tr>\n",
              "    <tr>\n",
              "      <th>550064</th>\n",
              "      <td>1</td>\n",
              "      <td>0</td>\n",
              "    </tr>\n",
              "    <tr>\n",
              "      <th>550065</th>\n",
              "      <td>1</td>\n",
              "      <td>0</td>\n",
              "    </tr>\n",
              "    <tr>\n",
              "      <th>550066</th>\n",
              "      <td>1</td>\n",
              "      <td>0</td>\n",
              "    </tr>\n",
              "    <tr>\n",
              "      <th>550067</th>\n",
              "      <td>1</td>\n",
              "      <td>0</td>\n",
              "    </tr>\n",
              "  </tbody>\n",
              "</table>\n",
              "<p>550068 rows × 2 columns</p>\n",
              "</div>"
            ],
            "text/plain": [
              "        F  M\n",
              "0       1  0\n",
              "1       1  0\n",
              "2       1  0\n",
              "3       1  0\n",
              "4       0  1\n",
              "5       0  1\n",
              "6       0  1\n",
              "7       0  1\n",
              "8       0  1\n",
              "9       0  1\n",
              "10      0  1\n",
              "11      0  1\n",
              "12      0  1\n",
              "13      0  1\n",
              "14      1  0\n",
              "15      1  0\n",
              "16      1  0\n",
              "17      1  0\n",
              "18      0  1\n",
              "19      0  1\n",
              "20      0  1\n",
              "21      0  1\n",
              "22      0  1\n",
              "23      0  1\n",
              "24      0  1\n",
              "25      0  1\n",
              "26      0  1\n",
              "27      0  1\n",
              "28      0  1\n",
              "29      1  0\n",
              "...    .. ..\n",
              "550038  1  0\n",
              "550039  1  0\n",
              "550040  1  0\n",
              "550041  0  1\n",
              "550042  0  1\n",
              "550043  1  0\n",
              "550044  1  0\n",
              "550045  1  0\n",
              "550046  1  0\n",
              "550047  1  0\n",
              "550048  0  1\n",
              "550049  0  1\n",
              "550050  0  1\n",
              "550051  1  0\n",
              "550052  0  1\n",
              "550053  1  0\n",
              "550054  0  1\n",
              "550055  0  1\n",
              "550056  0  1\n",
              "550057  0  1\n",
              "550058  0  1\n",
              "550059  1  0\n",
              "550060  0  1\n",
              "550061  1  0\n",
              "550062  0  1\n",
              "550063  0  1\n",
              "550064  1  0\n",
              "550065  1  0\n",
              "550066  1  0\n",
              "550067  1  0\n",
              "\n",
              "[550068 rows x 2 columns]"
            ]
          },
          "metadata": {
            "tags": []
          },
          "execution_count": 65
        }
      ]
    },
    {
      "cell_type": "code",
      "metadata": {
        "id": "ipmMd1_VO90X",
        "colab_type": "code",
        "colab": {}
      },
      "source": [
        "df_train['F']=df_trainj['F']\n",
        "df_train['M']=df_trainj['M']"
      ],
      "execution_count": 0,
      "outputs": []
    },
    {
      "cell_type": "code",
      "metadata": {
        "id": "44QQTm7wS7nO",
        "colab_type": "code",
        "outputId": "de41e445-ae3c-43bf-f05a-f881fbb398f5",
        "colab": {
          "base_uri": "https://localhost:8080/",
          "height": 292
        }
      },
      "source": [
        "df_train['Product_Category_2'].fillna(0,inplace=True)\n",
        "df_train['Product_Category_3'].fillna(0,inplace=True)\n",
        "df_train['Product_Category_2']=df_train['Product_Category_2'].astype('int64')\n",
        "df_train['Product_Category_3']=df_train['Product_Category_3'].astype('int64')\n",
        "df_train.head()"
      ],
      "execution_count": 67,
      "outputs": [
        {
          "output_type": "execute_result",
          "data": {
            "text/html": [
              "<div>\n",
              "<style scoped>\n",
              "    .dataframe tbody tr th:only-of-type {\n",
              "        vertical-align: middle;\n",
              "    }\n",
              "\n",
              "    .dataframe tbody tr th {\n",
              "        vertical-align: top;\n",
              "    }\n",
              "\n",
              "    .dataframe thead th {\n",
              "        text-align: right;\n",
              "    }\n",
              "</style>\n",
              "<table border=\"1\" class=\"dataframe\">\n",
              "  <thead>\n",
              "    <tr style=\"text-align: right;\">\n",
              "      <th></th>\n",
              "      <th>User_ID</th>\n",
              "      <th>Product_ID</th>\n",
              "      <th>Gender</th>\n",
              "      <th>Age</th>\n",
              "      <th>Occupation</th>\n",
              "      <th>City_Category</th>\n",
              "      <th>Stay_In_Current_City_Years</th>\n",
              "      <th>Marital_Status</th>\n",
              "      <th>Product_Category_1</th>\n",
              "      <th>Product_Category_2</th>\n",
              "      <th>Product_Category_3</th>\n",
              "      <th>Purchase</th>\n",
              "      <th>Age_Encoded</th>\n",
              "      <th>F</th>\n",
              "      <th>M</th>\n",
              "    </tr>\n",
              "  </thead>\n",
              "  <tbody>\n",
              "    <tr>\n",
              "      <th>0</th>\n",
              "      <td>1000001</td>\n",
              "      <td>P00069042</td>\n",
              "      <td>F</td>\n",
              "      <td>0-17</td>\n",
              "      <td>10</td>\n",
              "      <td>A</td>\n",
              "      <td>2</td>\n",
              "      <td>0</td>\n",
              "      <td>3</td>\n",
              "      <td>0</td>\n",
              "      <td>0</td>\n",
              "      <td>8370</td>\n",
              "      <td>0</td>\n",
              "      <td>1</td>\n",
              "      <td>0</td>\n",
              "    </tr>\n",
              "    <tr>\n",
              "      <th>1</th>\n",
              "      <td>1000001</td>\n",
              "      <td>P00248942</td>\n",
              "      <td>F</td>\n",
              "      <td>0-17</td>\n",
              "      <td>10</td>\n",
              "      <td>A</td>\n",
              "      <td>2</td>\n",
              "      <td>0</td>\n",
              "      <td>1</td>\n",
              "      <td>6</td>\n",
              "      <td>14</td>\n",
              "      <td>15200</td>\n",
              "      <td>0</td>\n",
              "      <td>1</td>\n",
              "      <td>0</td>\n",
              "    </tr>\n",
              "    <tr>\n",
              "      <th>2</th>\n",
              "      <td>1000001</td>\n",
              "      <td>P00087842</td>\n",
              "      <td>F</td>\n",
              "      <td>0-17</td>\n",
              "      <td>10</td>\n",
              "      <td>A</td>\n",
              "      <td>2</td>\n",
              "      <td>0</td>\n",
              "      <td>12</td>\n",
              "      <td>0</td>\n",
              "      <td>0</td>\n",
              "      <td>1422</td>\n",
              "      <td>0</td>\n",
              "      <td>1</td>\n",
              "      <td>0</td>\n",
              "    </tr>\n",
              "    <tr>\n",
              "      <th>3</th>\n",
              "      <td>1000001</td>\n",
              "      <td>P00085442</td>\n",
              "      <td>F</td>\n",
              "      <td>0-17</td>\n",
              "      <td>10</td>\n",
              "      <td>A</td>\n",
              "      <td>2</td>\n",
              "      <td>0</td>\n",
              "      <td>12</td>\n",
              "      <td>14</td>\n",
              "      <td>0</td>\n",
              "      <td>1057</td>\n",
              "      <td>0</td>\n",
              "      <td>1</td>\n",
              "      <td>0</td>\n",
              "    </tr>\n",
              "    <tr>\n",
              "      <th>4</th>\n",
              "      <td>1000002</td>\n",
              "      <td>P00285442</td>\n",
              "      <td>M</td>\n",
              "      <td>55+</td>\n",
              "      <td>16</td>\n",
              "      <td>C</td>\n",
              "      <td>4+</td>\n",
              "      <td>0</td>\n",
              "      <td>8</td>\n",
              "      <td>0</td>\n",
              "      <td>0</td>\n",
              "      <td>7969</td>\n",
              "      <td>6</td>\n",
              "      <td>0</td>\n",
              "      <td>1</td>\n",
              "    </tr>\n",
              "  </tbody>\n",
              "</table>\n",
              "</div>"
            ],
            "text/plain": [
              "   User_ID Product_ID Gender   Age  ...  Purchase Age_Encoded  F  M\n",
              "0  1000001  P00069042      F  0-17  ...      8370           0  1  0\n",
              "1  1000001  P00248942      F  0-17  ...     15200           0  1  0\n",
              "2  1000001  P00087842      F  0-17  ...      1422           0  1  0\n",
              "3  1000001  P00085442      F  0-17  ...      1057           0  1  0\n",
              "4  1000002  P00285442      M   55+  ...      7969           6  0  1\n",
              "\n",
              "[5 rows x 15 columns]"
            ]
          },
          "metadata": {
            "tags": []
          },
          "execution_count": 67
        }
      ]
    },
    {
      "cell_type": "code",
      "metadata": {
        "id": "ZKOiZGDg-4-3",
        "colab_type": "code",
        "colab": {}
      },
      "source": [
        "###################Dummy Variables Creation For City Category Stay and Marital St#####################################\n",
        "dum_city=pd.get_dummies(df_train['City_Category'])\n",
        "df_train=pd.concat([df_train,dum_city],axis=1)"
      ],
      "execution_count": 0,
      "outputs": []
    },
    {
      "cell_type": "code",
      "metadata": {
        "id": "8DxejmKk_tTH",
        "colab_type": "code",
        "colab": {}
      },
      "source": [
        "dum_stay=pd.get_dummies(df_train['Stay_In_Current_City_Years'])\n",
        "df_train=pd.concat([df_train,dum_stay],axis=1)"
      ],
      "execution_count": 0,
      "outputs": []
    },
    {
      "cell_type": "code",
      "metadata": {
        "id": "FKi6uRYqAfsL",
        "colab_type": "code",
        "colab": {}
      },
      "source": [
        "# dum_mar=pd.get_dummies(df_train['Marital_Status'])\n",
        "# df_train=pd.concat([df_train,dum_mar],axis=1)\n",
        "# dum_mar"
      ],
      "execution_count": 0,
      "outputs": []
    },
    {
      "cell_type": "code",
      "metadata": {
        "id": "qYNJe_GDBKSp",
        "colab_type": "code",
        "colab": {}
      },
      "source": [
        "df_train.rename(columns={'0':'0 year','1':'1 year','2':'2 years','3':'3 years','4+':'4+ years','F':'Female','M':'Male','A':'City A','B':'City B','C':'City C'},inplace=True)"
      ],
      "execution_count": 0,
      "outputs": []
    },
    {
      "cell_type": "code",
      "metadata": {
        "id": "TRiNVUJSBPRW",
        "colab_type": "code",
        "outputId": "f21d8067-9afc-472a-a240-a816256d5edf",
        "colab": {
          "base_uri": "https://localhost:8080/",
          "height": 182
        }
      },
      "source": [
        "df_train.head(2)"
      ],
      "execution_count": 72,
      "outputs": [
        {
          "output_type": "execute_result",
          "data": {
            "text/html": [
              "<div>\n",
              "<style scoped>\n",
              "    .dataframe tbody tr th:only-of-type {\n",
              "        vertical-align: middle;\n",
              "    }\n",
              "\n",
              "    .dataframe tbody tr th {\n",
              "        vertical-align: top;\n",
              "    }\n",
              "\n",
              "    .dataframe thead th {\n",
              "        text-align: right;\n",
              "    }\n",
              "</style>\n",
              "<table border=\"1\" class=\"dataframe\">\n",
              "  <thead>\n",
              "    <tr style=\"text-align: right;\">\n",
              "      <th></th>\n",
              "      <th>User_ID</th>\n",
              "      <th>Product_ID</th>\n",
              "      <th>Gender</th>\n",
              "      <th>Age</th>\n",
              "      <th>Occupation</th>\n",
              "      <th>City_Category</th>\n",
              "      <th>Stay_In_Current_City_Years</th>\n",
              "      <th>Marital_Status</th>\n",
              "      <th>Product_Category_1</th>\n",
              "      <th>Product_Category_2</th>\n",
              "      <th>Product_Category_3</th>\n",
              "      <th>Purchase</th>\n",
              "      <th>Age_Encoded</th>\n",
              "      <th>Female</th>\n",
              "      <th>Male</th>\n",
              "      <th>City A</th>\n",
              "      <th>City B</th>\n",
              "      <th>City C</th>\n",
              "      <th>0 year</th>\n",
              "      <th>1 year</th>\n",
              "      <th>2 years</th>\n",
              "      <th>3 years</th>\n",
              "      <th>4+ years</th>\n",
              "    </tr>\n",
              "  </thead>\n",
              "  <tbody>\n",
              "    <tr>\n",
              "      <th>0</th>\n",
              "      <td>1000001</td>\n",
              "      <td>P00069042</td>\n",
              "      <td>F</td>\n",
              "      <td>0-17</td>\n",
              "      <td>10</td>\n",
              "      <td>A</td>\n",
              "      <td>2</td>\n",
              "      <td>0</td>\n",
              "      <td>3</td>\n",
              "      <td>0</td>\n",
              "      <td>0</td>\n",
              "      <td>8370</td>\n",
              "      <td>0</td>\n",
              "      <td>1</td>\n",
              "      <td>0</td>\n",
              "      <td>1</td>\n",
              "      <td>0</td>\n",
              "      <td>0</td>\n",
              "      <td>0</td>\n",
              "      <td>0</td>\n",
              "      <td>1</td>\n",
              "      <td>0</td>\n",
              "      <td>0</td>\n",
              "    </tr>\n",
              "    <tr>\n",
              "      <th>1</th>\n",
              "      <td>1000001</td>\n",
              "      <td>P00248942</td>\n",
              "      <td>F</td>\n",
              "      <td>0-17</td>\n",
              "      <td>10</td>\n",
              "      <td>A</td>\n",
              "      <td>2</td>\n",
              "      <td>0</td>\n",
              "      <td>1</td>\n",
              "      <td>6</td>\n",
              "      <td>14</td>\n",
              "      <td>15200</td>\n",
              "      <td>0</td>\n",
              "      <td>1</td>\n",
              "      <td>0</td>\n",
              "      <td>1</td>\n",
              "      <td>0</td>\n",
              "      <td>0</td>\n",
              "      <td>0</td>\n",
              "      <td>0</td>\n",
              "      <td>1</td>\n",
              "      <td>0</td>\n",
              "      <td>0</td>\n",
              "    </tr>\n",
              "  </tbody>\n",
              "</table>\n",
              "</div>"
            ],
            "text/plain": [
              "   User_ID Product_ID Gender   Age  ...  1 year 2 years 3 years  4+ years\n",
              "0  1000001  P00069042      F  0-17  ...       0       1       0         0\n",
              "1  1000001  P00248942      F  0-17  ...       0       1       0         0\n",
              "\n",
              "[2 rows x 23 columns]"
            ]
          },
          "metadata": {
            "tags": []
          },
          "execution_count": 72
        }
      ]
    },
    {
      "cell_type": "code",
      "metadata": {
        "id": "ZGF4jiedMw6B",
        "colab_type": "code",
        "outputId": "ca5e94d2-d6b6-4f80-ce7d-f1fdbeb5333f",
        "colab": {
          "base_uri": "https://localhost:8080/",
          "height": 34
        }
      },
      "source": [
        "################################################PRODUCT AND USER ID Feature engg####################################################\n",
        "df_train['User_ID'].nunique()"
      ],
      "execution_count": 73,
      "outputs": [
        {
          "output_type": "execute_result",
          "data": {
            "text/plain": [
              "5891"
            ]
          },
          "metadata": {
            "tags": []
          },
          "execution_count": 73
        }
      ]
    },
    {
      "cell_type": "code",
      "metadata": {
        "id": "tg-HZtciNeY-",
        "colab_type": "code",
        "outputId": "d6cce1c1-fa50-45b7-a22c-0e05d12e278f",
        "colab": {
          "base_uri": "https://localhost:8080/",
          "height": 34
        }
      },
      "source": [
        "df_train['Product_ID'].nunique()"
      ],
      "execution_count": 74,
      "outputs": [
        {
          "output_type": "execute_result",
          "data": {
            "text/plain": [
              "3631"
            ]
          },
          "metadata": {
            "tags": []
          },
          "execution_count": 74
        }
      ]
    },
    {
      "cell_type": "code",
      "metadata": {
        "id": "mxy8rsHKNuRD",
        "colab_type": "code",
        "outputId": "b945100a-7604-4f6b-b069-cbece56ff6ed",
        "colab": {
          "base_uri": "https://localhost:8080/",
          "height": 1969
        }
      },
      "source": [
        "prodhit=df_train['Product_ID'].value_counts()\n",
        "prodhit=pd.DataFrame(prodhit)\n",
        "prodhit.reset_index(inplace=True)\n",
        "prodhit"
      ],
      "execution_count": 75,
      "outputs": [
        {
          "output_type": "execute_result",
          "data": {
            "text/html": [
              "<div>\n",
              "<style scoped>\n",
              "    .dataframe tbody tr th:only-of-type {\n",
              "        vertical-align: middle;\n",
              "    }\n",
              "\n",
              "    .dataframe tbody tr th {\n",
              "        vertical-align: top;\n",
              "    }\n",
              "\n",
              "    .dataframe thead th {\n",
              "        text-align: right;\n",
              "    }\n",
              "</style>\n",
              "<table border=\"1\" class=\"dataframe\">\n",
              "  <thead>\n",
              "    <tr style=\"text-align: right;\">\n",
              "      <th></th>\n",
              "      <th>index</th>\n",
              "      <th>Product_ID</th>\n",
              "    </tr>\n",
              "  </thead>\n",
              "  <tbody>\n",
              "    <tr>\n",
              "      <th>0</th>\n",
              "      <td>P00265242</td>\n",
              "      <td>1880</td>\n",
              "    </tr>\n",
              "    <tr>\n",
              "      <th>1</th>\n",
              "      <td>P00025442</td>\n",
              "      <td>1615</td>\n",
              "    </tr>\n",
              "    <tr>\n",
              "      <th>2</th>\n",
              "      <td>P00110742</td>\n",
              "      <td>1612</td>\n",
              "    </tr>\n",
              "    <tr>\n",
              "      <th>3</th>\n",
              "      <td>P00112142</td>\n",
              "      <td>1562</td>\n",
              "    </tr>\n",
              "    <tr>\n",
              "      <th>4</th>\n",
              "      <td>P00057642</td>\n",
              "      <td>1470</td>\n",
              "    </tr>\n",
              "    <tr>\n",
              "      <th>5</th>\n",
              "      <td>P00184942</td>\n",
              "      <td>1440</td>\n",
              "    </tr>\n",
              "    <tr>\n",
              "      <th>6</th>\n",
              "      <td>P00046742</td>\n",
              "      <td>1438</td>\n",
              "    </tr>\n",
              "    <tr>\n",
              "      <th>7</th>\n",
              "      <td>P00058042</td>\n",
              "      <td>1422</td>\n",
              "    </tr>\n",
              "    <tr>\n",
              "      <th>8</th>\n",
              "      <td>P00145042</td>\n",
              "      <td>1406</td>\n",
              "    </tr>\n",
              "    <tr>\n",
              "      <th>9</th>\n",
              "      <td>P00059442</td>\n",
              "      <td>1406</td>\n",
              "    </tr>\n",
              "    <tr>\n",
              "      <th>10</th>\n",
              "      <td>P00237542</td>\n",
              "      <td>1394</td>\n",
              "    </tr>\n",
              "    <tr>\n",
              "      <th>11</th>\n",
              "      <td>P00255842</td>\n",
              "      <td>1383</td>\n",
              "    </tr>\n",
              "    <tr>\n",
              "      <th>12</th>\n",
              "      <td>P00117942</td>\n",
              "      <td>1364</td>\n",
              "    </tr>\n",
              "    <tr>\n",
              "      <th>13</th>\n",
              "      <td>P00110942</td>\n",
              "      <td>1360</td>\n",
              "    </tr>\n",
              "    <tr>\n",
              "      <th>14</th>\n",
              "      <td>P00010742</td>\n",
              "      <td>1350</td>\n",
              "    </tr>\n",
              "    <tr>\n",
              "      <th>15</th>\n",
              "      <td>P00220442</td>\n",
              "      <td>1282</td>\n",
              "    </tr>\n",
              "    <tr>\n",
              "      <th>16</th>\n",
              "      <td>P00110842</td>\n",
              "      <td>1281</td>\n",
              "    </tr>\n",
              "    <tr>\n",
              "      <th>17</th>\n",
              "      <td>P00117442</td>\n",
              "      <td>1260</td>\n",
              "    </tr>\n",
              "    <tr>\n",
              "      <th>18</th>\n",
              "      <td>P00051442</td>\n",
              "      <td>1249</td>\n",
              "    </tr>\n",
              "    <tr>\n",
              "      <th>19</th>\n",
              "      <td>P00102642</td>\n",
              "      <td>1246</td>\n",
              "    </tr>\n",
              "    <tr>\n",
              "      <th>20</th>\n",
              "      <td>P00278642</td>\n",
              "      <td>1226</td>\n",
              "    </tr>\n",
              "    <tr>\n",
              "      <th>21</th>\n",
              "      <td>P00242742</td>\n",
              "      <td>1215</td>\n",
              "    </tr>\n",
              "    <tr>\n",
              "      <th>22</th>\n",
              "      <td>P00034742</td>\n",
              "      <td>1212</td>\n",
              "    </tr>\n",
              "    <tr>\n",
              "      <th>23</th>\n",
              "      <td>P00148642</td>\n",
              "      <td>1204</td>\n",
              "    </tr>\n",
              "    <tr>\n",
              "      <th>24</th>\n",
              "      <td>P00080342</td>\n",
              "      <td>1203</td>\n",
              "    </tr>\n",
              "    <tr>\n",
              "      <th>25</th>\n",
              "      <td>P00031042</td>\n",
              "      <td>1200</td>\n",
              "    </tr>\n",
              "    <tr>\n",
              "      <th>26</th>\n",
              "      <td>P00028842</td>\n",
              "      <td>1197</td>\n",
              "    </tr>\n",
              "    <tr>\n",
              "      <th>27</th>\n",
              "      <td>P00251242</td>\n",
              "      <td>1187</td>\n",
              "    </tr>\n",
              "    <tr>\n",
              "      <th>28</th>\n",
              "      <td>P00114942</td>\n",
              "      <td>1178</td>\n",
              "    </tr>\n",
              "    <tr>\n",
              "      <th>29</th>\n",
              "      <td>P00000142</td>\n",
              "      <td>1152</td>\n",
              "    </tr>\n",
              "    <tr>\n",
              "      <th>...</th>\n",
              "      <td>...</td>\n",
              "      <td>...</td>\n",
              "    </tr>\n",
              "    <tr>\n",
              "      <th>3601</th>\n",
              "      <td>P00013542</td>\n",
              "      <td>1</td>\n",
              "    </tr>\n",
              "    <tr>\n",
              "      <th>3602</th>\n",
              "      <td>P00065542</td>\n",
              "      <td>1</td>\n",
              "    </tr>\n",
              "    <tr>\n",
              "      <th>3603</th>\n",
              "      <td>P00051742</td>\n",
              "      <td>1</td>\n",
              "    </tr>\n",
              "    <tr>\n",
              "      <th>3604</th>\n",
              "      <td>P00307042</td>\n",
              "      <td>1</td>\n",
              "    </tr>\n",
              "    <tr>\n",
              "      <th>3605</th>\n",
              "      <td>P00215142</td>\n",
              "      <td>1</td>\n",
              "    </tr>\n",
              "    <tr>\n",
              "      <th>3606</th>\n",
              "      <td>P00077242</td>\n",
              "      <td>1</td>\n",
              "    </tr>\n",
              "    <tr>\n",
              "      <th>3607</th>\n",
              "      <td>P00012942</td>\n",
              "      <td>1</td>\n",
              "    </tr>\n",
              "    <tr>\n",
              "      <th>3608</th>\n",
              "      <td>P00228842</td>\n",
              "      <td>1</td>\n",
              "    </tr>\n",
              "    <tr>\n",
              "      <th>3609</th>\n",
              "      <td>P00299342</td>\n",
              "      <td>1</td>\n",
              "    </tr>\n",
              "    <tr>\n",
              "      <th>3610</th>\n",
              "      <td>P00081342</td>\n",
              "      <td>1</td>\n",
              "    </tr>\n",
              "    <tr>\n",
              "      <th>3611</th>\n",
              "      <td>P00008942</td>\n",
              "      <td>1</td>\n",
              "    </tr>\n",
              "    <tr>\n",
              "      <th>3612</th>\n",
              "      <td>P00162742</td>\n",
              "      <td>1</td>\n",
              "    </tr>\n",
              "    <tr>\n",
              "      <th>3613</th>\n",
              "      <td>P00072142</td>\n",
              "      <td>1</td>\n",
              "    </tr>\n",
              "    <tr>\n",
              "      <th>3614</th>\n",
              "      <td>P00335642</td>\n",
              "      <td>1</td>\n",
              "    </tr>\n",
              "    <tr>\n",
              "      <th>3615</th>\n",
              "      <td>P00083542</td>\n",
              "      <td>1</td>\n",
              "    </tr>\n",
              "    <tr>\n",
              "      <th>3616</th>\n",
              "      <td>P00143442</td>\n",
              "      <td>1</td>\n",
              "    </tr>\n",
              "    <tr>\n",
              "      <th>3617</th>\n",
              "      <td>P00156642</td>\n",
              "      <td>1</td>\n",
              "    </tr>\n",
              "    <tr>\n",
              "      <th>3618</th>\n",
              "      <td>P00063742</td>\n",
              "      <td>1</td>\n",
              "    </tr>\n",
              "    <tr>\n",
              "      <th>3619</th>\n",
              "      <td>P00300742</td>\n",
              "      <td>1</td>\n",
              "    </tr>\n",
              "    <tr>\n",
              "      <th>3620</th>\n",
              "      <td>P00068342</td>\n",
              "      <td>1</td>\n",
              "    </tr>\n",
              "    <tr>\n",
              "      <th>3621</th>\n",
              "      <td>P0097642</td>\n",
              "      <td>1</td>\n",
              "    </tr>\n",
              "    <tr>\n",
              "      <th>3622</th>\n",
              "      <td>P00357542</td>\n",
              "      <td>1</td>\n",
              "    </tr>\n",
              "    <tr>\n",
              "      <th>3623</th>\n",
              "      <td>P00074842</td>\n",
              "      <td>1</td>\n",
              "    </tr>\n",
              "    <tr>\n",
              "      <th>3624</th>\n",
              "      <td>P00352042</td>\n",
              "      <td>1</td>\n",
              "    </tr>\n",
              "    <tr>\n",
              "      <th>3625</th>\n",
              "      <td>P00329842</td>\n",
              "      <td>1</td>\n",
              "    </tr>\n",
              "    <tr>\n",
              "      <th>3626</th>\n",
              "      <td>P00070142</td>\n",
              "      <td>1</td>\n",
              "    </tr>\n",
              "    <tr>\n",
              "      <th>3627</th>\n",
              "      <td>P00285142</td>\n",
              "      <td>1</td>\n",
              "    </tr>\n",
              "    <tr>\n",
              "      <th>3628</th>\n",
              "      <td>P00299742</td>\n",
              "      <td>1</td>\n",
              "    </tr>\n",
              "    <tr>\n",
              "      <th>3629</th>\n",
              "      <td>P00314742</td>\n",
              "      <td>1</td>\n",
              "    </tr>\n",
              "    <tr>\n",
              "      <th>3630</th>\n",
              "      <td>P00104042</td>\n",
              "      <td>1</td>\n",
              "    </tr>\n",
              "  </tbody>\n",
              "</table>\n",
              "<p>3631 rows × 2 columns</p>\n",
              "</div>"
            ],
            "text/plain": [
              "          index  Product_ID\n",
              "0     P00265242        1880\n",
              "1     P00025442        1615\n",
              "2     P00110742        1612\n",
              "3     P00112142        1562\n",
              "4     P00057642        1470\n",
              "5     P00184942        1440\n",
              "6     P00046742        1438\n",
              "7     P00058042        1422\n",
              "8     P00145042        1406\n",
              "9     P00059442        1406\n",
              "10    P00237542        1394\n",
              "11    P00255842        1383\n",
              "12    P00117942        1364\n",
              "13    P00110942        1360\n",
              "14    P00010742        1350\n",
              "15    P00220442        1282\n",
              "16    P00110842        1281\n",
              "17    P00117442        1260\n",
              "18    P00051442        1249\n",
              "19    P00102642        1246\n",
              "20    P00278642        1226\n",
              "21    P00242742        1215\n",
              "22    P00034742        1212\n",
              "23    P00148642        1204\n",
              "24    P00080342        1203\n",
              "25    P00031042        1200\n",
              "26    P00028842        1197\n",
              "27    P00251242        1187\n",
              "28    P00114942        1178\n",
              "29    P00000142        1152\n",
              "...         ...         ...\n",
              "3601  P00013542           1\n",
              "3602  P00065542           1\n",
              "3603  P00051742           1\n",
              "3604  P00307042           1\n",
              "3605  P00215142           1\n",
              "3606  P00077242           1\n",
              "3607  P00012942           1\n",
              "3608  P00228842           1\n",
              "3609  P00299342           1\n",
              "3610  P00081342           1\n",
              "3611  P00008942           1\n",
              "3612  P00162742           1\n",
              "3613  P00072142           1\n",
              "3614  P00335642           1\n",
              "3615  P00083542           1\n",
              "3616  P00143442           1\n",
              "3617  P00156642           1\n",
              "3618  P00063742           1\n",
              "3619  P00300742           1\n",
              "3620  P00068342           1\n",
              "3621   P0097642           1\n",
              "3622  P00357542           1\n",
              "3623  P00074842           1\n",
              "3624  P00352042           1\n",
              "3625  P00329842           1\n",
              "3626  P00070142           1\n",
              "3627  P00285142           1\n",
              "3628  P00299742           1\n",
              "3629  P00314742           1\n",
              "3630  P00104042           1\n",
              "\n",
              "[3631 rows x 2 columns]"
            ]
          },
          "metadata": {
            "tags": []
          },
          "execution_count": 75
        }
      ]
    },
    {
      "cell_type": "code",
      "metadata": {
        "id": "0hIXbct7NznB",
        "colab_type": "code",
        "colab": {}
      },
      "source": [
        "prodhit.rename(columns={'index':'ProdNum','Product_ID':'Producthits'},inplace=True)"
      ],
      "execution_count": 0,
      "outputs": []
    },
    {
      "cell_type": "code",
      "metadata": {
        "id": "Mm39m-c_OQ5m",
        "colab_type": "code",
        "outputId": "922f5831-0a38-4a75-9734-b984a3b35a4b",
        "colab": {
          "base_uri": "https://localhost:8080/",
          "height": 204
        }
      },
      "source": [
        "prodhit.head()"
      ],
      "execution_count": 77,
      "outputs": [
        {
          "output_type": "execute_result",
          "data": {
            "text/html": [
              "<div>\n",
              "<style scoped>\n",
              "    .dataframe tbody tr th:only-of-type {\n",
              "        vertical-align: middle;\n",
              "    }\n",
              "\n",
              "    .dataframe tbody tr th {\n",
              "        vertical-align: top;\n",
              "    }\n",
              "\n",
              "    .dataframe thead th {\n",
              "        text-align: right;\n",
              "    }\n",
              "</style>\n",
              "<table border=\"1\" class=\"dataframe\">\n",
              "  <thead>\n",
              "    <tr style=\"text-align: right;\">\n",
              "      <th></th>\n",
              "      <th>ProdNum</th>\n",
              "      <th>Producthits</th>\n",
              "    </tr>\n",
              "  </thead>\n",
              "  <tbody>\n",
              "    <tr>\n",
              "      <th>0</th>\n",
              "      <td>P00265242</td>\n",
              "      <td>1880</td>\n",
              "    </tr>\n",
              "    <tr>\n",
              "      <th>1</th>\n",
              "      <td>P00025442</td>\n",
              "      <td>1615</td>\n",
              "    </tr>\n",
              "    <tr>\n",
              "      <th>2</th>\n",
              "      <td>P00110742</td>\n",
              "      <td>1612</td>\n",
              "    </tr>\n",
              "    <tr>\n",
              "      <th>3</th>\n",
              "      <td>P00112142</td>\n",
              "      <td>1562</td>\n",
              "    </tr>\n",
              "    <tr>\n",
              "      <th>4</th>\n",
              "      <td>P00057642</td>\n",
              "      <td>1470</td>\n",
              "    </tr>\n",
              "  </tbody>\n",
              "</table>\n",
              "</div>"
            ],
            "text/plain": [
              "     ProdNum  Producthits\n",
              "0  P00265242         1880\n",
              "1  P00025442         1615\n",
              "2  P00110742         1612\n",
              "3  P00112142         1562\n",
              "4  P00057642         1470"
            ]
          },
          "metadata": {
            "tags": []
          },
          "execution_count": 77
        }
      ]
    },
    {
      "cell_type": "code",
      "metadata": {
        "id": "3sZtejkgOSW9",
        "colab_type": "code",
        "colab": {}
      },
      "source": [
        "userhit=df_train['User_ID'].value_counts()\n",
        "userhit=pd.DataFrame(userhit)\n",
        "userhit.reset_index(inplace=True)\n",
        "userhit\n",
        "userhit.rename(columns={'index':'Userid','User_ID':'Userfreq'},inplace=True)"
      ],
      "execution_count": 0,
      "outputs": []
    },
    {
      "cell_type": "code",
      "metadata": {
        "id": "fx9LKi91O2CE",
        "colab_type": "code",
        "outputId": "e02e0a32-270d-4f6b-d7b2-9df4aca6ee59",
        "colab": {
          "base_uri": "https://localhost:8080/",
          "height": 204
        }
      },
      "source": [
        "userhit.head()"
      ],
      "execution_count": 79,
      "outputs": [
        {
          "output_type": "execute_result",
          "data": {
            "text/html": [
              "<div>\n",
              "<style scoped>\n",
              "    .dataframe tbody tr th:only-of-type {\n",
              "        vertical-align: middle;\n",
              "    }\n",
              "\n",
              "    .dataframe tbody tr th {\n",
              "        vertical-align: top;\n",
              "    }\n",
              "\n",
              "    .dataframe thead th {\n",
              "        text-align: right;\n",
              "    }\n",
              "</style>\n",
              "<table border=\"1\" class=\"dataframe\">\n",
              "  <thead>\n",
              "    <tr style=\"text-align: right;\">\n",
              "      <th></th>\n",
              "      <th>Userid</th>\n",
              "      <th>Userfreq</th>\n",
              "    </tr>\n",
              "  </thead>\n",
              "  <tbody>\n",
              "    <tr>\n",
              "      <th>0</th>\n",
              "      <td>1001680</td>\n",
              "      <td>1026</td>\n",
              "    </tr>\n",
              "    <tr>\n",
              "      <th>1</th>\n",
              "      <td>1004277</td>\n",
              "      <td>979</td>\n",
              "    </tr>\n",
              "    <tr>\n",
              "      <th>2</th>\n",
              "      <td>1001941</td>\n",
              "      <td>898</td>\n",
              "    </tr>\n",
              "    <tr>\n",
              "      <th>3</th>\n",
              "      <td>1001181</td>\n",
              "      <td>862</td>\n",
              "    </tr>\n",
              "    <tr>\n",
              "      <th>4</th>\n",
              "      <td>1000889</td>\n",
              "      <td>823</td>\n",
              "    </tr>\n",
              "  </tbody>\n",
              "</table>\n",
              "</div>"
            ],
            "text/plain": [
              "    Userid  Userfreq\n",
              "0  1001680      1026\n",
              "1  1004277       979\n",
              "2  1001941       898\n",
              "3  1001181       862\n",
              "4  1000889       823"
            ]
          },
          "metadata": {
            "tags": []
          },
          "execution_count": 79
        }
      ]
    },
    {
      "cell_type": "code",
      "metadata": {
        "id": "jm-Xka6qg3m4",
        "colab_type": "code",
        "colab": {}
      },
      "source": [
        "userhit_dict=dict(zip(userhit['Userid'],userhit['Userfreq']))"
      ],
      "execution_count": 0,
      "outputs": []
    },
    {
      "cell_type": "code",
      "metadata": {
        "id": "smEm3LZtlTrG",
        "colab_type": "code",
        "colab": {}
      },
      "source": [
        "prodhit_dict=dict(zip(prodhit['ProdNum'],prodhit['Producthits']))"
      ],
      "execution_count": 0,
      "outputs": []
    },
    {
      "cell_type": "code",
      "metadata": {
        "id": "Z4dHUpl7lbSj",
        "colab_type": "code",
        "colab": {}
      },
      "source": [
        "df_train['userhit']=df_train['User_ID'].map(userhit_dict)"
      ],
      "execution_count": 0,
      "outputs": []
    },
    {
      "cell_type": "code",
      "metadata": {
        "id": "DczIY03omJQ5",
        "colab_type": "code",
        "colab": {}
      },
      "source": [
        "df_train['producthit']=df_train['Product_ID'].map(prodhit_dict)"
      ],
      "execution_count": 0,
      "outputs": []
    },
    {
      "cell_type": "code",
      "metadata": {
        "id": "1Sug4OhcmKUB",
        "colab_type": "code",
        "outputId": "84f650b2-85bb-45de-e6f6-62c6a06e8c1b",
        "colab": {
          "base_uri": "https://localhost:8080/",
          "height": 459
        }
      },
      "source": [
        "df_train.dtypes"
      ],
      "execution_count": 84,
      "outputs": [
        {
          "output_type": "execute_result",
          "data": {
            "text/plain": [
              "User_ID                        int64\n",
              "Product_ID                    object\n",
              "Gender                        object\n",
              "Age                           object\n",
              "Occupation                     int64\n",
              "City_Category                 object\n",
              "Stay_In_Current_City_Years    object\n",
              "Marital_Status                 int64\n",
              "Product_Category_1             int64\n",
              "Product_Category_2             int64\n",
              "Product_Category_3             int64\n",
              "Purchase                       int64\n",
              "Age_Encoded                    int64\n",
              "Female                         uint8\n",
              "Male                           uint8\n",
              "City A                         uint8\n",
              "City B                         uint8\n",
              "City C                         uint8\n",
              "0 year                         uint8\n",
              "1 year                         uint8\n",
              "2 years                        uint8\n",
              "3 years                        uint8\n",
              "4+ years                       uint8\n",
              "userhit                        int64\n",
              "producthit                     int64\n",
              "dtype: object"
            ]
          },
          "metadata": {
            "tags": []
          },
          "execution_count": 84
        }
      ]
    },
    {
      "cell_type": "code",
      "metadata": {
        "id": "EyVjTNftmc3h",
        "colab_type": "code",
        "outputId": "32c2667d-4478-49c2-8a42-ec8b0f98d49f",
        "colab": {
          "base_uri": "https://localhost:8080/",
          "height": 241
        }
      },
      "source": [
        "#df_train is total dataset\n",
        "#choose the features to be used in model building for regression\n",
        "model_data=df_train.filter(['Occupation','Product_Category_1','Product_Category_2','Product_Category_3','Purchase','Age_Encoded','Female','City A','City B','0 year','1 year','2 years','3 years','userhit','producthit'],axis=1)\n",
        "data_y_pred=model_data['Purchase']\n",
        "data_x=model_data.drop(['Purchase'],axis=1)\n",
        "data_x.head()"
      ],
      "execution_count": 85,
      "outputs": [
        {
          "output_type": "execute_result",
          "data": {
            "text/html": [
              "<div>\n",
              "<style scoped>\n",
              "    .dataframe tbody tr th:only-of-type {\n",
              "        vertical-align: middle;\n",
              "    }\n",
              "\n",
              "    .dataframe tbody tr th {\n",
              "        vertical-align: top;\n",
              "    }\n",
              "\n",
              "    .dataframe thead th {\n",
              "        text-align: right;\n",
              "    }\n",
              "</style>\n",
              "<table border=\"1\" class=\"dataframe\">\n",
              "  <thead>\n",
              "    <tr style=\"text-align: right;\">\n",
              "      <th></th>\n",
              "      <th>Occupation</th>\n",
              "      <th>Product_Category_1</th>\n",
              "      <th>Product_Category_2</th>\n",
              "      <th>Product_Category_3</th>\n",
              "      <th>Age_Encoded</th>\n",
              "      <th>Female</th>\n",
              "      <th>City A</th>\n",
              "      <th>City B</th>\n",
              "      <th>0 year</th>\n",
              "      <th>1 year</th>\n",
              "      <th>2 years</th>\n",
              "      <th>3 years</th>\n",
              "      <th>userhit</th>\n",
              "      <th>producthit</th>\n",
              "    </tr>\n",
              "  </thead>\n",
              "  <tbody>\n",
              "    <tr>\n",
              "      <th>0</th>\n",
              "      <td>10</td>\n",
              "      <td>3</td>\n",
              "      <td>0</td>\n",
              "      <td>0</td>\n",
              "      <td>0</td>\n",
              "      <td>1</td>\n",
              "      <td>1</td>\n",
              "      <td>0</td>\n",
              "      <td>0</td>\n",
              "      <td>0</td>\n",
              "      <td>1</td>\n",
              "      <td>0</td>\n",
              "      <td>35</td>\n",
              "      <td>227</td>\n",
              "    </tr>\n",
              "    <tr>\n",
              "      <th>1</th>\n",
              "      <td>10</td>\n",
              "      <td>1</td>\n",
              "      <td>6</td>\n",
              "      <td>14</td>\n",
              "      <td>0</td>\n",
              "      <td>1</td>\n",
              "      <td>1</td>\n",
              "      <td>0</td>\n",
              "      <td>0</td>\n",
              "      <td>0</td>\n",
              "      <td>1</td>\n",
              "      <td>0</td>\n",
              "      <td>35</td>\n",
              "      <td>581</td>\n",
              "    </tr>\n",
              "    <tr>\n",
              "      <th>2</th>\n",
              "      <td>10</td>\n",
              "      <td>12</td>\n",
              "      <td>0</td>\n",
              "      <td>0</td>\n",
              "      <td>0</td>\n",
              "      <td>1</td>\n",
              "      <td>1</td>\n",
              "      <td>0</td>\n",
              "      <td>0</td>\n",
              "      <td>0</td>\n",
              "      <td>1</td>\n",
              "      <td>0</td>\n",
              "      <td>35</td>\n",
              "      <td>102</td>\n",
              "    </tr>\n",
              "    <tr>\n",
              "      <th>3</th>\n",
              "      <td>10</td>\n",
              "      <td>12</td>\n",
              "      <td>14</td>\n",
              "      <td>0</td>\n",
              "      <td>0</td>\n",
              "      <td>1</td>\n",
              "      <td>1</td>\n",
              "      <td>0</td>\n",
              "      <td>0</td>\n",
              "      <td>0</td>\n",
              "      <td>1</td>\n",
              "      <td>0</td>\n",
              "      <td>35</td>\n",
              "      <td>341</td>\n",
              "    </tr>\n",
              "    <tr>\n",
              "      <th>4</th>\n",
              "      <td>16</td>\n",
              "      <td>8</td>\n",
              "      <td>0</td>\n",
              "      <td>0</td>\n",
              "      <td>6</td>\n",
              "      <td>0</td>\n",
              "      <td>0</td>\n",
              "      <td>0</td>\n",
              "      <td>0</td>\n",
              "      <td>0</td>\n",
              "      <td>0</td>\n",
              "      <td>0</td>\n",
              "      <td>77</td>\n",
              "      <td>203</td>\n",
              "    </tr>\n",
              "  </tbody>\n",
              "</table>\n",
              "</div>"
            ],
            "text/plain": [
              "   Occupation  Product_Category_1  ...  userhit  producthit\n",
              "0          10                   3  ...       35         227\n",
              "1          10                   1  ...       35         581\n",
              "2          10                  12  ...       35         102\n",
              "3          10                  12  ...       35         341\n",
              "4          16                   8  ...       77         203\n",
              "\n",
              "[5 rows x 14 columns]"
            ]
          },
          "metadata": {
            "tags": []
          },
          "execution_count": 85
        }
      ]
    },
    {
      "cell_type": "code",
      "metadata": {
        "id": "h0826yetqaCa",
        "colab_type": "code",
        "outputId": "49c40e15-9638-44ad-f281-09df6f91dc2e",
        "colab": {
          "base_uri": "https://localhost:8080/",
          "height": 255
        }
      },
      "source": [
        "from statsmodels.stats.outliers_influence import variance_inflation_factor\n",
        "variables=data_x.columns\n",
        "#   vif=variance_inflation_factor(x[i])\n",
        "vif = [variance_inflation_factor(data_x[variables].values, data_x.columns.get_loc(var)) for var in data_x.columns]\n",
        "\n",
        "#   max_vif = max(vif)\n",
        "#   print('VIF of',i,':',vif)\n",
        "vif"
      ],
      "execution_count": 86,
      "outputs": [
        {
          "output_type": "execute_result",
          "data": {
            "text/plain": [
              "[1.3632894126924566,\n",
              " 2.892531279441006,\n",
              " 2.109635906464649,\n",
              " 1.6320696409524067,\n",
              " 3.8286581359965117,\n",
              " 1.3238905301487727,\n",
              " 2.503554036636582,\n",
              " 2.6460087536591668,\n",
              " 1.6074421031646016,\n",
              " 2.601171197733802,\n",
              " 1.800059955054798,\n",
              " 1.7826482846350422,\n",
              " 3.5142503475110964,\n",
              " 2.5251770207735458]"
            ]
          },
          "metadata": {
            "tags": []
          },
          "execution_count": 86
        }
      ]
    },
    {
      "cell_type": "code",
      "metadata": {
        "id": "hOjldKN8gueP",
        "colab_type": "code",
        "outputId": "1740cc3f-049c-4354-97dd-dfa91032138c",
        "colab": {
          "base_uri": "https://localhost:8080/",
          "height": 483
        }
      },
      "source": [
        "vif=pd.DataFrame(vif)\n",
        "variables=pd.DataFrame(variables)\n",
        "vif=vif.rename(columns={'0':'VIF'})\n",
        "variables=variables.rename(columns={'0':'Columns'})\n",
        "vif\n",
        "# variables\n",
        "df_vif=pd.concat([variables,vif],axis=1)\n",
        "# variables\n",
        "# df_vif.set_index('Columns',inplace=True)\n",
        "df_vif"
      ],
      "execution_count": 87,
      "outputs": [
        {
          "output_type": "execute_result",
          "data": {
            "text/html": [
              "<div>\n",
              "<style scoped>\n",
              "    .dataframe tbody tr th:only-of-type {\n",
              "        vertical-align: middle;\n",
              "    }\n",
              "\n",
              "    .dataframe tbody tr th {\n",
              "        vertical-align: top;\n",
              "    }\n",
              "\n",
              "    .dataframe thead th {\n",
              "        text-align: right;\n",
              "    }\n",
              "</style>\n",
              "<table border=\"1\" class=\"dataframe\">\n",
              "  <thead>\n",
              "    <tr style=\"text-align: right;\">\n",
              "      <th></th>\n",
              "      <th>0</th>\n",
              "      <th>0</th>\n",
              "    </tr>\n",
              "  </thead>\n",
              "  <tbody>\n",
              "    <tr>\n",
              "      <th>0</th>\n",
              "      <td>Occupation</td>\n",
              "      <td>1.363289</td>\n",
              "    </tr>\n",
              "    <tr>\n",
              "      <th>1</th>\n",
              "      <td>Product_Category_1</td>\n",
              "      <td>2.892531</td>\n",
              "    </tr>\n",
              "    <tr>\n",
              "      <th>2</th>\n",
              "      <td>Product_Category_2</td>\n",
              "      <td>2.109636</td>\n",
              "    </tr>\n",
              "    <tr>\n",
              "      <th>3</th>\n",
              "      <td>Product_Category_3</td>\n",
              "      <td>1.632070</td>\n",
              "    </tr>\n",
              "    <tr>\n",
              "      <th>4</th>\n",
              "      <td>Age_Encoded</td>\n",
              "      <td>3.828658</td>\n",
              "    </tr>\n",
              "    <tr>\n",
              "      <th>5</th>\n",
              "      <td>Female</td>\n",
              "      <td>1.323891</td>\n",
              "    </tr>\n",
              "    <tr>\n",
              "      <th>6</th>\n",
              "      <td>City A</td>\n",
              "      <td>2.503554</td>\n",
              "    </tr>\n",
              "    <tr>\n",
              "      <th>7</th>\n",
              "      <td>City B</td>\n",
              "      <td>2.646009</td>\n",
              "    </tr>\n",
              "    <tr>\n",
              "      <th>8</th>\n",
              "      <td>0 year</td>\n",
              "      <td>1.607442</td>\n",
              "    </tr>\n",
              "    <tr>\n",
              "      <th>9</th>\n",
              "      <td>1 year</td>\n",
              "      <td>2.601171</td>\n",
              "    </tr>\n",
              "    <tr>\n",
              "      <th>10</th>\n",
              "      <td>2 years</td>\n",
              "      <td>1.800060</td>\n",
              "    </tr>\n",
              "    <tr>\n",
              "      <th>11</th>\n",
              "      <td>3 years</td>\n",
              "      <td>1.782648</td>\n",
              "    </tr>\n",
              "    <tr>\n",
              "      <th>12</th>\n",
              "      <td>userhit</td>\n",
              "      <td>3.514250</td>\n",
              "    </tr>\n",
              "    <tr>\n",
              "      <th>13</th>\n",
              "      <td>producthit</td>\n",
              "      <td>2.525177</td>\n",
              "    </tr>\n",
              "  </tbody>\n",
              "</table>\n",
              "</div>"
            ],
            "text/plain": [
              "                     0         0\n",
              "0           Occupation  1.363289\n",
              "1   Product_Category_1  2.892531\n",
              "2   Product_Category_2  2.109636\n",
              "3   Product_Category_3  1.632070\n",
              "4          Age_Encoded  3.828658\n",
              "5               Female  1.323891\n",
              "6               City A  2.503554\n",
              "7               City B  2.646009\n",
              "8               0 year  1.607442\n",
              "9               1 year  2.601171\n",
              "10             2 years  1.800060\n",
              "11             3 years  1.782648\n",
              "12             userhit  3.514250\n",
              "13          producthit  2.525177"
            ]
          },
          "metadata": {
            "tags": []
          },
          "execution_count": 87
        }
      ]
    },
    {
      "cell_type": "code",
      "metadata": {
        "id": "_vWR5A5brhnr",
        "colab_type": "code",
        "colab": {}
      },
      "source": [
        "##################################### DIVISION OF TEST AND TRAIN #######################################################\n",
        "from sklearn.model_selection import train_test_split\n",
        "\n",
        "x_train, x_test, y_train, y_test = train_test_split(data_x,data_y_pred, test_size = 0.3,)"
      ],
      "execution_count": 0,
      "outputs": []
    },
    {
      "cell_type": "code",
      "metadata": {
        "id": "1IGP6yXO1p-T",
        "colab_type": "code",
        "colab": {}
      },
      "source": [
        "from sklearn.preprocessing import StandardScaler\n",
        "\n",
        "sc = StandardScaler()\n",
        "x_train = sc.fit_transform(x_train)\n",
        "x_test = sc.transform(x_test)"
      ],
      "execution_count": 0,
      "outputs": []
    },
    {
      "cell_type": "code",
      "metadata": {
        "id": "V5haFIrEkXpV",
        "colab_type": "code",
        "colab": {}
      },
      "source": [
        "model = LinearRegression()\n",
        "l=model.fit(x_train, y_train)"
      ],
      "execution_count": 0,
      "outputs": []
    },
    {
      "cell_type": "code",
      "metadata": {
        "id": "H5KHOTagkqIV",
        "colab_type": "code",
        "colab": {}
      },
      "source": [
        "y_pred=model.predict(x_test)"
      ],
      "execution_count": 0,
      "outputs": []
    },
    {
      "cell_type": "code",
      "metadata": {
        "id": "sqQneN4fktrM",
        "colab_type": "code",
        "colab": {}
      },
      "source": [
        "from sklearn.metrics import mean_squared_error\n",
        "from sklearn.metrics import r2_score\n"
      ],
      "execution_count": 0,
      "outputs": []
    },
    {
      "cell_type": "code",
      "metadata": {
        "id": "zBRN1u-AlPhZ",
        "colab_type": "code",
        "outputId": "68431d70-4cf1-4330-90d5-9e04eb8e0dec",
        "colab": {
          "base_uri": "https://localhost:8080/",
          "height": 51
        }
      },
      "source": [
        "mse = mean_squared_error(y_test, y_pred)\n",
        "print(\"RMSE Error:\", np.sqrt(mse))\n",
        "r2 = r2_score(y_test, y_pred)\n",
        "print(\"R2 Score:\", r2)"
      ],
      "execution_count": 93,
      "outputs": [
        {
          "output_type": "stream",
          "text": [
            "RMSE Error: 4503.081180652831\n",
            "R2 Score: 0.19701273464080438\n"
          ],
          "name": "stdout"
        }
      ]
    },
    {
      "cell_type": "code",
      "metadata": {
        "id": "tB_LhHNfA_hy",
        "colab_type": "code",
        "outputId": "d19135f7-bd04-43d7-edfa-18bdfc065a83",
        "colab": {
          "base_uri": "https://localhost:8080/",
          "height": 51
        }
      },
      "source": [
        "y_pred"
      ],
      "execution_count": 94,
      "outputs": [
        {
          "output_type": "execute_result",
          "data": {
            "text/plain": [
              "array([11677.79860337,  9441.07658336,  8288.64807411, ...,\n",
              "       10986.98623859,  9763.66335754,  6306.77371627])"
            ]
          },
          "metadata": {
            "tags": []
          },
          "execution_count": 94
        }
      ]
    },
    {
      "cell_type": "code",
      "metadata": {
        "id": "mbQIEXejHGCA",
        "colab_type": "code",
        "outputId": "d2a628cb-520b-47c7-d932-8222e1aefb15",
        "colab": {
          "base_uri": "https://localhost:8080/",
          "height": 34
        }
      },
      "source": [
        "userids=df_train['User_ID'].nunique()\n",
        "# products=df_train['Product_ID'].nunique()\n",
        "userids"
      ],
      "execution_count": 95,
      "outputs": [
        {
          "output_type": "execute_result",
          "data": {
            "text/plain": [
              "5891"
            ]
          },
          "metadata": {
            "tags": []
          },
          "execution_count": 95
        }
      ]
    },
    {
      "cell_type": "code",
      "metadata": {
        "id": "QstP1i5VHYe8",
        "colab_type": "code",
        "colab": {}
      },
      "source": [
        "new_train=df_train.drop_duplicates(subset='User_ID', keep=\"last\")"
      ],
      "execution_count": 0,
      "outputs": []
    },
    {
      "cell_type": "code",
      "metadata": {
        "id": "ZZ58H7tZInYo",
        "colab_type": "code",
        "outputId": "8c9f4ef0-454c-49d2-c213-070cb13dbd38",
        "colab": {
          "base_uri": "https://localhost:8080/",
          "height": 459
        }
      },
      "source": [
        "new_train.dtypes"
      ],
      "execution_count": 97,
      "outputs": [
        {
          "output_type": "execute_result",
          "data": {
            "text/plain": [
              "User_ID                        int64\n",
              "Product_ID                    object\n",
              "Gender                        object\n",
              "Age                           object\n",
              "Occupation                     int64\n",
              "City_Category                 object\n",
              "Stay_In_Current_City_Years    object\n",
              "Marital_Status                 int64\n",
              "Product_Category_1             int64\n",
              "Product_Category_2             int64\n",
              "Product_Category_3             int64\n",
              "Purchase                       int64\n",
              "Age_Encoded                    int64\n",
              "Female                         uint8\n",
              "Male                           uint8\n",
              "City A                         uint8\n",
              "City B                         uint8\n",
              "City C                         uint8\n",
              "0 year                         uint8\n",
              "1 year                         uint8\n",
              "2 years                        uint8\n",
              "3 years                        uint8\n",
              "4+ years                       uint8\n",
              "userhit                        int64\n",
              "producthit                     int64\n",
              "dtype: object"
            ]
          },
          "metadata": {
            "tags": []
          },
          "execution_count": 97
        }
      ]
    },
    {
      "cell_type": "code",
      "metadata": {
        "id": "-_dlMrEiIpW-",
        "colab_type": "code",
        "outputId": "2d4ed78b-853b-42fa-80d4-3387ca0bc52d",
        "colab": {
          "base_uri": "https://localhost:8080/",
          "height": 139
        }
      },
      "source": [
        "from sklearn.preprocessing import LabelEncoder\n",
        "labelencoder = LabelEncoder()\n",
        "new_train['Product_ID'] = labelencoder.fit_transform(new_train['Product_ID'])"
      ],
      "execution_count": 98,
      "outputs": [
        {
          "output_type": "stream",
          "text": [
            "/usr/local/lib/python3.6/dist-packages/ipykernel_launcher.py:3: SettingWithCopyWarning: \n",
            "A value is trying to be set on a copy of a slice from a DataFrame.\n",
            "Try using .loc[row_indexer,col_indexer] = value instead\n",
            "\n",
            "See the caveats in the documentation: http://pandas.pydata.org/pandas-docs/stable/indexing.html#indexing-view-versus-copy\n",
            "  This is separate from the ipykernel package so we can avoid doing imports until\n"
          ],
          "name": "stderr"
        }
      ]
    },
    {
      "cell_type": "code",
      "metadata": {
        "id": "1BYeqLQBJU3-",
        "colab_type": "code",
        "outputId": "8b4a33bf-04d3-4f34-c914-a0ab53c9e8cd",
        "colab": {
          "base_uri": "https://localhost:8080/",
          "height": 122
        }
      },
      "source": [
        "new_train.drop('User_ID',axis=1,inplace=True)"
      ],
      "execution_count": 99,
      "outputs": [
        {
          "output_type": "stream",
          "text": [
            "/usr/local/lib/python3.6/dist-packages/pandas/core/frame.py:3940: SettingWithCopyWarning: \n",
            "A value is trying to be set on a copy of a slice from a DataFrame\n",
            "\n",
            "See the caveats in the documentation: http://pandas.pydata.org/pandas-docs/stable/indexing.html#indexing-view-versus-copy\n",
            "  errors=errors)\n"
          ],
          "name": "stderr"
        }
      ]
    },
    {
      "cell_type": "code",
      "metadata": {
        "id": "xsz4sIpVJ2Bl",
        "colab_type": "code",
        "outputId": "d0dd9f6a-9dcc-4fe0-f9b4-e71047a0a4ac",
        "colab": {
          "base_uri": "https://localhost:8080/",
          "height": 122
        }
      },
      "source": [
        "new_train.reset_index(inplace=True)\n",
        "new_train.drop('index',axis=1,inplace=True)"
      ],
      "execution_count": 100,
      "outputs": [
        {
          "output_type": "stream",
          "text": [
            "/usr/local/lib/python3.6/dist-packages/pandas/core/frame.py:3940: SettingWithCopyWarning: \n",
            "A value is trying to be set on a copy of a slice from a DataFrame\n",
            "\n",
            "See the caveats in the documentation: http://pandas.pydata.org/pandas-docs/stable/indexing.html#indexing-view-versus-copy\n",
            "  errors=errors)\n"
          ],
          "name": "stderr"
        }
      ]
    },
    {
      "cell_type": "code",
      "metadata": {
        "id": "WfokK-ibKNRb",
        "colab_type": "code",
        "outputId": "2783b735-613f-4ae8-a89c-bdafe5cc7469",
        "colab": {
          "base_uri": "https://localhost:8080/",
          "height": 2941
        }
      },
      "source": [
        "new_train"
      ],
      "execution_count": 101,
      "outputs": [
        {
          "output_type": "execute_result",
          "data": {
            "text/html": [
              "<div>\n",
              "<style scoped>\n",
              "    .dataframe tbody tr th:only-of-type {\n",
              "        vertical-align: middle;\n",
              "    }\n",
              "\n",
              "    .dataframe tbody tr th {\n",
              "        vertical-align: top;\n",
              "    }\n",
              "\n",
              "    .dataframe thead th {\n",
              "        text-align: right;\n",
              "    }\n",
              "</style>\n",
              "<table border=\"1\" class=\"dataframe\">\n",
              "  <thead>\n",
              "    <tr style=\"text-align: right;\">\n",
              "      <th></th>\n",
              "      <th>Product_ID</th>\n",
              "      <th>Gender</th>\n",
              "      <th>Age</th>\n",
              "      <th>Occupation</th>\n",
              "      <th>City_Category</th>\n",
              "      <th>Stay_In_Current_City_Years</th>\n",
              "      <th>Marital_Status</th>\n",
              "      <th>Product_Category_1</th>\n",
              "      <th>Product_Category_2</th>\n",
              "      <th>Product_Category_3</th>\n",
              "      <th>Purchase</th>\n",
              "      <th>Age_Encoded</th>\n",
              "      <th>Female</th>\n",
              "      <th>Male</th>\n",
              "      <th>City A</th>\n",
              "      <th>City B</th>\n",
              "      <th>City C</th>\n",
              "      <th>0 year</th>\n",
              "      <th>1 year</th>\n",
              "      <th>2 years</th>\n",
              "      <th>3 years</th>\n",
              "      <th>4+ years</th>\n",
              "      <th>userhit</th>\n",
              "      <th>producthit</th>\n",
              "    </tr>\n",
              "  </thead>\n",
              "  <tbody>\n",
              "    <tr>\n",
              "      <th>0</th>\n",
              "      <td>162</td>\n",
              "      <td>F</td>\n",
              "      <td>55+</td>\n",
              "      <td>6</td>\n",
              "      <td>C</td>\n",
              "      <td>1</td>\n",
              "      <td>1</td>\n",
              "      <td>3</td>\n",
              "      <td>0</td>\n",
              "      <td>0</td>\n",
              "      <td>13532</td>\n",
              "      <td>6</td>\n",
              "      <td>1</td>\n",
              "      <td>0</td>\n",
              "      <td>0</td>\n",
              "      <td>0</td>\n",
              "      <td>1</td>\n",
              "      <td>0</td>\n",
              "      <td>1</td>\n",
              "      <td>0</td>\n",
              "      <td>0</td>\n",
              "      <td>0</td>\n",
              "      <td>10</td>\n",
              "      <td>227</td>\n",
              "    </tr>\n",
              "    <tr>\n",
              "      <th>1</th>\n",
              "      <td>673</td>\n",
              "      <td>M</td>\n",
              "      <td>36-45</td>\n",
              "      <td>0</td>\n",
              "      <td>C</td>\n",
              "      <td>0</td>\n",
              "      <td>0</td>\n",
              "      <td>1</td>\n",
              "      <td>6</td>\n",
              "      <td>14</td>\n",
              "      <td>15381</td>\n",
              "      <td>3</td>\n",
              "      <td>0</td>\n",
              "      <td>1</td>\n",
              "      <td>0</td>\n",
              "      <td>0</td>\n",
              "      <td>1</td>\n",
              "      <td>1</td>\n",
              "      <td>0</td>\n",
              "      <td>0</td>\n",
              "      <td>0</td>\n",
              "      <td>0</td>\n",
              "      <td>13</td>\n",
              "      <td>581</td>\n",
              "    </tr>\n",
              "    <tr>\n",
              "      <th>2</th>\n",
              "      <td>183</td>\n",
              "      <td>M</td>\n",
              "      <td>18-25</td>\n",
              "      <td>4</td>\n",
              "      <td>C</td>\n",
              "      <td>4+</td>\n",
              "      <td>1</td>\n",
              "      <td>1</td>\n",
              "      <td>6</td>\n",
              "      <td>8</td>\n",
              "      <td>15848</td>\n",
              "      <td>1</td>\n",
              "      <td>0</td>\n",
              "      <td>1</td>\n",
              "      <td>0</td>\n",
              "      <td>0</td>\n",
              "      <td>1</td>\n",
              "      <td>0</td>\n",
              "      <td>0</td>\n",
              "      <td>0</td>\n",
              "      <td>0</td>\n",
              "      <td>1</td>\n",
              "      <td>14</td>\n",
              "      <td>1203</td>\n",
              "    </tr>\n",
              "    <tr>\n",
              "      <th>3</th>\n",
              "      <td>958</td>\n",
              "      <td>M</td>\n",
              "      <td>36-45</td>\n",
              "      <td>17</td>\n",
              "      <td>C</td>\n",
              "      <td>3</td>\n",
              "      <td>0</td>\n",
              "      <td>1</td>\n",
              "      <td>17</td>\n",
              "      <td>0</td>\n",
              "      <td>8192</td>\n",
              "      <td>3</td>\n",
              "      <td>0</td>\n",
              "      <td>1</td>\n",
              "      <td>0</td>\n",
              "      <td>0</td>\n",
              "      <td>1</td>\n",
              "      <td>0</td>\n",
              "      <td>0</td>\n",
              "      <td>0</td>\n",
              "      <td>1</td>\n",
              "      <td>0</td>\n",
              "      <td>8</td>\n",
              "      <td>114</td>\n",
              "    </tr>\n",
              "    <tr>\n",
              "      <th>4</th>\n",
              "      <td>253</td>\n",
              "      <td>F</td>\n",
              "      <td>46-50</td>\n",
              "      <td>11</td>\n",
              "      <td>A</td>\n",
              "      <td>1</td>\n",
              "      <td>0</td>\n",
              "      <td>8</td>\n",
              "      <td>0</td>\n",
              "      <td>0</td>\n",
              "      <td>9989</td>\n",
              "      <td>4</td>\n",
              "      <td>1</td>\n",
              "      <td>0</td>\n",
              "      <td>1</td>\n",
              "      <td>0</td>\n",
              "      <td>0</td>\n",
              "      <td>0</td>\n",
              "      <td>1</td>\n",
              "      <td>0</td>\n",
              "      <td>0</td>\n",
              "      <td>0</td>\n",
              "      <td>18</td>\n",
              "      <td>249</td>\n",
              "    </tr>\n",
              "    <tr>\n",
              "      <th>5</th>\n",
              "      <td>793</td>\n",
              "      <td>M</td>\n",
              "      <td>55+</td>\n",
              "      <td>17</td>\n",
              "      <td>B</td>\n",
              "      <td>3</td>\n",
              "      <td>1</td>\n",
              "      <td>3</td>\n",
              "      <td>4</td>\n",
              "      <td>5</td>\n",
              "      <td>10926</td>\n",
              "      <td>6</td>\n",
              "      <td>0</td>\n",
              "      <td>1</td>\n",
              "      <td>0</td>\n",
              "      <td>1</td>\n",
              "      <td>0</td>\n",
              "      <td>0</td>\n",
              "      <td>0</td>\n",
              "      <td>0</td>\n",
              "      <td>1</td>\n",
              "      <td>0</td>\n",
              "      <td>13</td>\n",
              "      <td>850</td>\n",
              "    </tr>\n",
              "    <tr>\n",
              "      <th>6</th>\n",
              "      <td>913</td>\n",
              "      <td>M</td>\n",
              "      <td>26-35</td>\n",
              "      <td>0</td>\n",
              "      <td>C</td>\n",
              "      <td>1</td>\n",
              "      <td>1</td>\n",
              "      <td>1</td>\n",
              "      <td>8</td>\n",
              "      <td>0</td>\n",
              "      <td>19052</td>\n",
              "      <td>2</td>\n",
              "      <td>0</td>\n",
              "      <td>1</td>\n",
              "      <td>0</td>\n",
              "      <td>0</td>\n",
              "      <td>1</td>\n",
              "      <td>0</td>\n",
              "      <td>1</td>\n",
              "      <td>0</td>\n",
              "      <td>0</td>\n",
              "      <td>0</td>\n",
              "      <td>13</td>\n",
              "      <td>1093</td>\n",
              "    </tr>\n",
              "    <tr>\n",
              "      <th>7</th>\n",
              "      <td>266</td>\n",
              "      <td>M</td>\n",
              "      <td>18-25</td>\n",
              "      <td>2</td>\n",
              "      <td>C</td>\n",
              "      <td>0</td>\n",
              "      <td>0</td>\n",
              "      <td>1</td>\n",
              "      <td>2</td>\n",
              "      <td>14</td>\n",
              "      <td>15832</td>\n",
              "      <td>1</td>\n",
              "      <td>0</td>\n",
              "      <td>1</td>\n",
              "      <td>0</td>\n",
              "      <td>0</td>\n",
              "      <td>1</td>\n",
              "      <td>1</td>\n",
              "      <td>0</td>\n",
              "      <td>0</td>\n",
              "      <td>0</td>\n",
              "      <td>0</td>\n",
              "      <td>13</td>\n",
              "      <td>1562</td>\n",
              "    </tr>\n",
              "    <tr>\n",
              "      <th>8</th>\n",
              "      <td>177</td>\n",
              "      <td>F</td>\n",
              "      <td>26-35</td>\n",
              "      <td>7</td>\n",
              "      <td>C</td>\n",
              "      <td>1</td>\n",
              "      <td>0</td>\n",
              "      <td>8</td>\n",
              "      <td>13</td>\n",
              "      <td>0</td>\n",
              "      <td>7771</td>\n",
              "      <td>2</td>\n",
              "      <td>1</td>\n",
              "      <td>0</td>\n",
              "      <td>0</td>\n",
              "      <td>0</td>\n",
              "      <td>1</td>\n",
              "      <td>0</td>\n",
              "      <td>1</td>\n",
              "      <td>0</td>\n",
              "      <td>0</td>\n",
              "      <td>0</td>\n",
              "      <td>15</td>\n",
              "      <td>351</td>\n",
              "    </tr>\n",
              "    <tr>\n",
              "      <th>9</th>\n",
              "      <td>12</td>\n",
              "      <td>F</td>\n",
              "      <td>26-35</td>\n",
              "      <td>17</td>\n",
              "      <td>C</td>\n",
              "      <td>4+</td>\n",
              "      <td>1</td>\n",
              "      <td>4</td>\n",
              "      <td>5</td>\n",
              "      <td>8</td>\n",
              "      <td>3537</td>\n",
              "      <td>2</td>\n",
              "      <td>1</td>\n",
              "      <td>0</td>\n",
              "      <td>0</td>\n",
              "      <td>0</td>\n",
              "      <td>1</td>\n",
              "      <td>0</td>\n",
              "      <td>0</td>\n",
              "      <td>0</td>\n",
              "      <td>0</td>\n",
              "      <td>1</td>\n",
              "      <td>14</td>\n",
              "      <td>968</td>\n",
              "    </tr>\n",
              "    <tr>\n",
              "      <th>10</th>\n",
              "      <td>383</td>\n",
              "      <td>M</td>\n",
              "      <td>26-35</td>\n",
              "      <td>17</td>\n",
              "      <td>C</td>\n",
              "      <td>1</td>\n",
              "      <td>0</td>\n",
              "      <td>1</td>\n",
              "      <td>2</td>\n",
              "      <td>5</td>\n",
              "      <td>11809</td>\n",
              "      <td>2</td>\n",
              "      <td>0</td>\n",
              "      <td>1</td>\n",
              "      <td>0</td>\n",
              "      <td>0</td>\n",
              "      <td>1</td>\n",
              "      <td>0</td>\n",
              "      <td>1</td>\n",
              "      <td>0</td>\n",
              "      <td>0</td>\n",
              "      <td>0</td>\n",
              "      <td>12</td>\n",
              "      <td>1406</td>\n",
              "    </tr>\n",
              "    <tr>\n",
              "      <th>11</th>\n",
              "      <td>561</td>\n",
              "      <td>F</td>\n",
              "      <td>36-45</td>\n",
              "      <td>0</td>\n",
              "      <td>C</td>\n",
              "      <td>1</td>\n",
              "      <td>0</td>\n",
              "      <td>5</td>\n",
              "      <td>0</td>\n",
              "      <td>0</td>\n",
              "      <td>5229</td>\n",
              "      <td>3</td>\n",
              "      <td>1</td>\n",
              "      <td>0</td>\n",
              "      <td>0</td>\n",
              "      <td>0</td>\n",
              "      <td>1</td>\n",
              "      <td>0</td>\n",
              "      <td>1</td>\n",
              "      <td>0</td>\n",
              "      <td>0</td>\n",
              "      <td>0</td>\n",
              "      <td>14</td>\n",
              "      <td>609</td>\n",
              "    </tr>\n",
              "    <tr>\n",
              "      <th>12</th>\n",
              "      <td>273</td>\n",
              "      <td>M</td>\n",
              "      <td>26-35</td>\n",
              "      <td>1</td>\n",
              "      <td>B</td>\n",
              "      <td>4+</td>\n",
              "      <td>0</td>\n",
              "      <td>1</td>\n",
              "      <td>8</td>\n",
              "      <td>17</td>\n",
              "      <td>19238</td>\n",
              "      <td>2</td>\n",
              "      <td>0</td>\n",
              "      <td>1</td>\n",
              "      <td>0</td>\n",
              "      <td>1</td>\n",
              "      <td>0</td>\n",
              "      <td>0</td>\n",
              "      <td>0</td>\n",
              "      <td>0</td>\n",
              "      <td>0</td>\n",
              "      <td>1</td>\n",
              "      <td>9</td>\n",
              "      <td>675</td>\n",
              "    </tr>\n",
              "    <tr>\n",
              "      <th>13</th>\n",
              "      <td>896</td>\n",
              "      <td>M</td>\n",
              "      <td>55+</td>\n",
              "      <td>3</td>\n",
              "      <td>C</td>\n",
              "      <td>2</td>\n",
              "      <td>1</td>\n",
              "      <td>5</td>\n",
              "      <td>14</td>\n",
              "      <td>0</td>\n",
              "      <td>7127</td>\n",
              "      <td>6</td>\n",
              "      <td>0</td>\n",
              "      <td>1</td>\n",
              "      <td>0</td>\n",
              "      <td>0</td>\n",
              "      <td>1</td>\n",
              "      <td>0</td>\n",
              "      <td>0</td>\n",
              "      <td>1</td>\n",
              "      <td>0</td>\n",
              "      <td>0</td>\n",
              "      <td>9</td>\n",
              "      <td>118</td>\n",
              "    </tr>\n",
              "    <tr>\n",
              "      <th>14</th>\n",
              "      <td>972</td>\n",
              "      <td>M</td>\n",
              "      <td>55+</td>\n",
              "      <td>100</td>\n",
              "      <td>C</td>\n",
              "      <td>0</td>\n",
              "      <td>1</td>\n",
              "      <td>5</td>\n",
              "      <td>0</td>\n",
              "      <td>0</td>\n",
              "      <td>6912</td>\n",
              "      <td>6</td>\n",
              "      <td>0</td>\n",
              "      <td>1</td>\n",
              "      <td>0</td>\n",
              "      <td>0</td>\n",
              "      <td>1</td>\n",
              "      <td>1</td>\n",
              "      <td>0</td>\n",
              "      <td>0</td>\n",
              "      <td>0</td>\n",
              "      <td>0</td>\n",
              "      <td>10</td>\n",
              "      <td>154</td>\n",
              "    </tr>\n",
              "    <tr>\n",
              "      <th>15</th>\n",
              "      <td>256</td>\n",
              "      <td>M</td>\n",
              "      <td>36-45</td>\n",
              "      <td>7</td>\n",
              "      <td>C</td>\n",
              "      <td>0</td>\n",
              "      <td>0</td>\n",
              "      <td>1</td>\n",
              "      <td>2</td>\n",
              "      <td>8</td>\n",
              "      <td>11390</td>\n",
              "      <td>3</td>\n",
              "      <td>0</td>\n",
              "      <td>1</td>\n",
              "      <td>0</td>\n",
              "      <td>0</td>\n",
              "      <td>1</td>\n",
              "      <td>1</td>\n",
              "      <td>0</td>\n",
              "      <td>0</td>\n",
              "      <td>0</td>\n",
              "      <td>0</td>\n",
              "      <td>22</td>\n",
              "      <td>1612</td>\n",
              "    </tr>\n",
              "    <tr>\n",
              "      <th>16</th>\n",
              "      <td>7</td>\n",
              "      <td>M</td>\n",
              "      <td>18-25</td>\n",
              "      <td>4</td>\n",
              "      <td>B</td>\n",
              "      <td>1</td>\n",
              "      <td>0</td>\n",
              "      <td>1</td>\n",
              "      <td>5</td>\n",
              "      <td>8</td>\n",
              "      <td>11517</td>\n",
              "      <td>1</td>\n",
              "      <td>0</td>\n",
              "      <td>1</td>\n",
              "      <td>0</td>\n",
              "      <td>1</td>\n",
              "      <td>0</td>\n",
              "      <td>0</td>\n",
              "      <td>1</td>\n",
              "      <td>0</td>\n",
              "      <td>0</td>\n",
              "      <td>0</td>\n",
              "      <td>10</td>\n",
              "      <td>735</td>\n",
              "    </tr>\n",
              "    <tr>\n",
              "      <th>17</th>\n",
              "      <td>416</td>\n",
              "      <td>M</td>\n",
              "      <td>36-45</td>\n",
              "      <td>100</td>\n",
              "      <td>C</td>\n",
              "      <td>1</td>\n",
              "      <td>1</td>\n",
              "      <td>8</td>\n",
              "      <td>14</td>\n",
              "      <td>0</td>\n",
              "      <td>7779</td>\n",
              "      <td>3</td>\n",
              "      <td>0</td>\n",
              "      <td>1</td>\n",
              "      <td>0</td>\n",
              "      <td>0</td>\n",
              "      <td>1</td>\n",
              "      <td>0</td>\n",
              "      <td>1</td>\n",
              "      <td>0</td>\n",
              "      <td>0</td>\n",
              "      <td>0</td>\n",
              "      <td>13</td>\n",
              "      <td>838</td>\n",
              "    </tr>\n",
              "    <tr>\n",
              "      <th>18</th>\n",
              "      <td>998</td>\n",
              "      <td>M</td>\n",
              "      <td>36-45</td>\n",
              "      <td>7</td>\n",
              "      <td>C</td>\n",
              "      <td>3</td>\n",
              "      <td>0</td>\n",
              "      <td>5</td>\n",
              "      <td>0</td>\n",
              "      <td>0</td>\n",
              "      <td>6953</td>\n",
              "      <td>3</td>\n",
              "      <td>0</td>\n",
              "      <td>1</td>\n",
              "      <td>0</td>\n",
              "      <td>0</td>\n",
              "      <td>1</td>\n",
              "      <td>0</td>\n",
              "      <td>0</td>\n",
              "      <td>0</td>\n",
              "      <td>1</td>\n",
              "      <td>0</td>\n",
              "      <td>13</td>\n",
              "      <td>82</td>\n",
              "    </tr>\n",
              "    <tr>\n",
              "      <th>19</th>\n",
              "      <td>498</td>\n",
              "      <td>M</td>\n",
              "      <td>26-35</td>\n",
              "      <td>7</td>\n",
              "      <td>C</td>\n",
              "      <td>2</td>\n",
              "      <td>0</td>\n",
              "      <td>2</td>\n",
              "      <td>4</td>\n",
              "      <td>5</td>\n",
              "      <td>12938</td>\n",
              "      <td>2</td>\n",
              "      <td>0</td>\n",
              "      <td>1</td>\n",
              "      <td>0</td>\n",
              "      <td>0</td>\n",
              "      <td>1</td>\n",
              "      <td>0</td>\n",
              "      <td>0</td>\n",
              "      <td>1</td>\n",
              "      <td>0</td>\n",
              "      <td>0</td>\n",
              "      <td>16</td>\n",
              "      <td>537</td>\n",
              "    </tr>\n",
              "    <tr>\n",
              "      <th>20</th>\n",
              "      <td>22</td>\n",
              "      <td>M</td>\n",
              "      <td>26-35</td>\n",
              "      <td>0</td>\n",
              "      <td>C</td>\n",
              "      <td>2</td>\n",
              "      <td>1</td>\n",
              "      <td>8</td>\n",
              "      <td>12</td>\n",
              "      <td>0</td>\n",
              "      <td>8017</td>\n",
              "      <td>2</td>\n",
              "      <td>0</td>\n",
              "      <td>1</td>\n",
              "      <td>0</td>\n",
              "      <td>0</td>\n",
              "      <td>1</td>\n",
              "      <td>0</td>\n",
              "      <td>0</td>\n",
              "      <td>1</td>\n",
              "      <td>0</td>\n",
              "      <td>0</td>\n",
              "      <td>10</td>\n",
              "      <td>125</td>\n",
              "    </tr>\n",
              "    <tr>\n",
              "      <th>21</th>\n",
              "      <td>311</td>\n",
              "      <td>F</td>\n",
              "      <td>51-55</td>\n",
              "      <td>1</td>\n",
              "      <td>C</td>\n",
              "      <td>0</td>\n",
              "      <td>0</td>\n",
              "      <td>10</td>\n",
              "      <td>13</td>\n",
              "      <td>0</td>\n",
              "      <td>23678</td>\n",
              "      <td>5</td>\n",
              "      <td>1</td>\n",
              "      <td>0</td>\n",
              "      <td>0</td>\n",
              "      <td>0</td>\n",
              "      <td>1</td>\n",
              "      <td>1</td>\n",
              "      <td>0</td>\n",
              "      <td>0</td>\n",
              "      <td>0</td>\n",
              "      <td>0</td>\n",
              "      <td>13</td>\n",
              "      <td>308</td>\n",
              "    </tr>\n",
              "    <tr>\n",
              "      <th>22</th>\n",
              "      <td>709</td>\n",
              "      <td>M</td>\n",
              "      <td>26-35</td>\n",
              "      <td>0</td>\n",
              "      <td>C</td>\n",
              "      <td>2</td>\n",
              "      <td>0</td>\n",
              "      <td>5</td>\n",
              "      <td>9</td>\n",
              "      <td>0</td>\n",
              "      <td>8804</td>\n",
              "      <td>2</td>\n",
              "      <td>0</td>\n",
              "      <td>1</td>\n",
              "      <td>0</td>\n",
              "      <td>0</td>\n",
              "      <td>1</td>\n",
              "      <td>0</td>\n",
              "      <td>0</td>\n",
              "      <td>1</td>\n",
              "      <td>0</td>\n",
              "      <td>0</td>\n",
              "      <td>27</td>\n",
              "      <td>836</td>\n",
              "    </tr>\n",
              "    <tr>\n",
              "      <th>23</th>\n",
              "      <td>567</td>\n",
              "      <td>M</td>\n",
              "      <td>26-35</td>\n",
              "      <td>7</td>\n",
              "      <td>C</td>\n",
              "      <td>2</td>\n",
              "      <td>1</td>\n",
              "      <td>5</td>\n",
              "      <td>8</td>\n",
              "      <td>0</td>\n",
              "      <td>6932</td>\n",
              "      <td>2</td>\n",
              "      <td>0</td>\n",
              "      <td>1</td>\n",
              "      <td>0</td>\n",
              "      <td>0</td>\n",
              "      <td>1</td>\n",
              "      <td>0</td>\n",
              "      <td>0</td>\n",
              "      <td>1</td>\n",
              "      <td>0</td>\n",
              "      <td>0</td>\n",
              "      <td>21</td>\n",
              "      <td>636</td>\n",
              "    </tr>\n",
              "    <tr>\n",
              "      <th>24</th>\n",
              "      <td>897</td>\n",
              "      <td>M</td>\n",
              "      <td>46-50</td>\n",
              "      <td>0</td>\n",
              "      <td>C</td>\n",
              "      <td>4+</td>\n",
              "      <td>1</td>\n",
              "      <td>5</td>\n",
              "      <td>8</td>\n",
              "      <td>0</td>\n",
              "      <td>7139</td>\n",
              "      <td>4</td>\n",
              "      <td>0</td>\n",
              "      <td>1</td>\n",
              "      <td>0</td>\n",
              "      <td>0</td>\n",
              "      <td>1</td>\n",
              "      <td>0</td>\n",
              "      <td>0</td>\n",
              "      <td>0</td>\n",
              "      <td>0</td>\n",
              "      <td>1</td>\n",
              "      <td>13</td>\n",
              "      <td>423</td>\n",
              "    </tr>\n",
              "    <tr>\n",
              "      <th>25</th>\n",
              "      <td>12</td>\n",
              "      <td>F</td>\n",
              "      <td>51-55</td>\n",
              "      <td>20</td>\n",
              "      <td>B</td>\n",
              "      <td>4+</td>\n",
              "      <td>1</td>\n",
              "      <td>4</td>\n",
              "      <td>5</td>\n",
              "      <td>8</td>\n",
              "      <td>2800</td>\n",
              "      <td>5</td>\n",
              "      <td>1</td>\n",
              "      <td>0</td>\n",
              "      <td>0</td>\n",
              "      <td>1</td>\n",
              "      <td>0</td>\n",
              "      <td>0</td>\n",
              "      <td>0</td>\n",
              "      <td>0</td>\n",
              "      <td>0</td>\n",
              "      <td>1</td>\n",
              "      <td>11</td>\n",
              "      <td>968</td>\n",
              "    </tr>\n",
              "    <tr>\n",
              "      <th>26</th>\n",
              "      <td>276</td>\n",
              "      <td>M</td>\n",
              "      <td>36-45</td>\n",
              "      <td>1</td>\n",
              "      <td>C</td>\n",
              "      <td>0</td>\n",
              "      <td>0</td>\n",
              "      <td>8</td>\n",
              "      <td>0</td>\n",
              "      <td>0</td>\n",
              "      <td>9946</td>\n",
              "      <td>3</td>\n",
              "      <td>0</td>\n",
              "      <td>1</td>\n",
              "      <td>0</td>\n",
              "      <td>0</td>\n",
              "      <td>1</td>\n",
              "      <td>1</td>\n",
              "      <td>0</td>\n",
              "      <td>0</td>\n",
              "      <td>0</td>\n",
              "      <td>0</td>\n",
              "      <td>21</td>\n",
              "      <td>403</td>\n",
              "    </tr>\n",
              "    <tr>\n",
              "      <th>27</th>\n",
              "      <td>421</td>\n",
              "      <td>M</td>\n",
              "      <td>26-35</td>\n",
              "      <td>20</td>\n",
              "      <td>B</td>\n",
              "      <td>1</td>\n",
              "      <td>0</td>\n",
              "      <td>5</td>\n",
              "      <td>6</td>\n",
              "      <td>13</td>\n",
              "      <td>8575</td>\n",
              "      <td>2</td>\n",
              "      <td>0</td>\n",
              "      <td>1</td>\n",
              "      <td>0</td>\n",
              "      <td>1</td>\n",
              "      <td>0</td>\n",
              "      <td>0</td>\n",
              "      <td>1</td>\n",
              "      <td>0</td>\n",
              "      <td>0</td>\n",
              "      <td>0</td>\n",
              "      <td>23</td>\n",
              "      <td>601</td>\n",
              "    </tr>\n",
              "    <tr>\n",
              "      <th>28</th>\n",
              "      <td>117</td>\n",
              "      <td>M</td>\n",
              "      <td>26-35</td>\n",
              "      <td>15</td>\n",
              "      <td>C</td>\n",
              "      <td>4+</td>\n",
              "      <td>1</td>\n",
              "      <td>1</td>\n",
              "      <td>2</td>\n",
              "      <td>15</td>\n",
              "      <td>15859</td>\n",
              "      <td>2</td>\n",
              "      <td>0</td>\n",
              "      <td>1</td>\n",
              "      <td>0</td>\n",
              "      <td>0</td>\n",
              "      <td>1</td>\n",
              "      <td>0</td>\n",
              "      <td>0</td>\n",
              "      <td>0</td>\n",
              "      <td>0</td>\n",
              "      <td>1</td>\n",
              "      <td>24</td>\n",
              "      <td>1438</td>\n",
              "    </tr>\n",
              "    <tr>\n",
              "      <th>29</th>\n",
              "      <td>13</td>\n",
              "      <td>F</td>\n",
              "      <td>36-45</td>\n",
              "      <td>14</td>\n",
              "      <td>B</td>\n",
              "      <td>2</td>\n",
              "      <td>0</td>\n",
              "      <td>5</td>\n",
              "      <td>14</td>\n",
              "      <td>0</td>\n",
              "      <td>8592</td>\n",
              "      <td>3</td>\n",
              "      <td>1</td>\n",
              "      <td>0</td>\n",
              "      <td>0</td>\n",
              "      <td>1</td>\n",
              "      <td>0</td>\n",
              "      <td>0</td>\n",
              "      <td>0</td>\n",
              "      <td>1</td>\n",
              "      <td>0</td>\n",
              "      <td>0</td>\n",
              "      <td>13</td>\n",
              "      <td>749</td>\n",
              "    </tr>\n",
              "    <tr>\n",
              "      <th>...</th>\n",
              "      <td>...</td>\n",
              "      <td>...</td>\n",
              "      <td>...</td>\n",
              "      <td>...</td>\n",
              "      <td>...</td>\n",
              "      <td>...</td>\n",
              "      <td>...</td>\n",
              "      <td>...</td>\n",
              "      <td>...</td>\n",
              "      <td>...</td>\n",
              "      <td>...</td>\n",
              "      <td>...</td>\n",
              "      <td>...</td>\n",
              "      <td>...</td>\n",
              "      <td>...</td>\n",
              "      <td>...</td>\n",
              "      <td>...</td>\n",
              "      <td>...</td>\n",
              "      <td>...</td>\n",
              "      <td>...</td>\n",
              "      <td>...</td>\n",
              "      <td>...</td>\n",
              "      <td>...</td>\n",
              "      <td>...</td>\n",
              "    </tr>\n",
              "    <tr>\n",
              "      <th>5861</th>\n",
              "      <td>1008</td>\n",
              "      <td>F</td>\n",
              "      <td>36-45</td>\n",
              "      <td>1</td>\n",
              "      <td>C</td>\n",
              "      <td>2</td>\n",
              "      <td>1</td>\n",
              "      <td>20</td>\n",
              "      <td>0</td>\n",
              "      <td>0</td>\n",
              "      <td>596</td>\n",
              "      <td>3</td>\n",
              "      <td>1</td>\n",
              "      <td>0</td>\n",
              "      <td>0</td>\n",
              "      <td>0</td>\n",
              "      <td>1</td>\n",
              "      <td>0</td>\n",
              "      <td>0</td>\n",
              "      <td>1</td>\n",
              "      <td>0</td>\n",
              "      <td>0</td>\n",
              "      <td>103</td>\n",
              "      <td>814</td>\n",
              "    </tr>\n",
              "    <tr>\n",
              "      <th>5862</th>\n",
              "      <td>1006</td>\n",
              "      <td>F</td>\n",
              "      <td>26-35</td>\n",
              "      <td>0</td>\n",
              "      <td>B</td>\n",
              "      <td>1</td>\n",
              "      <td>1</td>\n",
              "      <td>20</td>\n",
              "      <td>0</td>\n",
              "      <td>0</td>\n",
              "      <td>595</td>\n",
              "      <td>2</td>\n",
              "      <td>1</td>\n",
              "      <td>0</td>\n",
              "      <td>0</td>\n",
              "      <td>1</td>\n",
              "      <td>0</td>\n",
              "      <td>0</td>\n",
              "      <td>1</td>\n",
              "      <td>0</td>\n",
              "      <td>0</td>\n",
              "      <td>0</td>\n",
              "      <td>329</td>\n",
              "      <td>899</td>\n",
              "    </tr>\n",
              "    <tr>\n",
              "      <th>5863</th>\n",
              "      <td>1005</td>\n",
              "      <td>F</td>\n",
              "      <td>26-35</td>\n",
              "      <td>7</td>\n",
              "      <td>A</td>\n",
              "      <td>3</td>\n",
              "      <td>0</td>\n",
              "      <td>19</td>\n",
              "      <td>0</td>\n",
              "      <td>0</td>\n",
              "      <td>26</td>\n",
              "      <td>2</td>\n",
              "      <td>1</td>\n",
              "      <td>0</td>\n",
              "      <td>1</td>\n",
              "      <td>0</td>\n",
              "      <td>0</td>\n",
              "      <td>0</td>\n",
              "      <td>0</td>\n",
              "      <td>0</td>\n",
              "      <td>1</td>\n",
              "      <td>0</td>\n",
              "      <td>29</td>\n",
              "      <td>818</td>\n",
              "    </tr>\n",
              "    <tr>\n",
              "      <th>5864</th>\n",
              "      <td>1006</td>\n",
              "      <td>M</td>\n",
              "      <td>46-50</td>\n",
              "      <td>17</td>\n",
              "      <td>B</td>\n",
              "      <td>2</td>\n",
              "      <td>1</td>\n",
              "      <td>20</td>\n",
              "      <td>0</td>\n",
              "      <td>0</td>\n",
              "      <td>488</td>\n",
              "      <td>4</td>\n",
              "      <td>0</td>\n",
              "      <td>1</td>\n",
              "      <td>0</td>\n",
              "      <td>1</td>\n",
              "      <td>0</td>\n",
              "      <td>0</td>\n",
              "      <td>0</td>\n",
              "      <td>1</td>\n",
              "      <td>0</td>\n",
              "      <td>0</td>\n",
              "      <td>281</td>\n",
              "      <td>899</td>\n",
              "    </tr>\n",
              "    <tr>\n",
              "      <th>5865</th>\n",
              "      <td>1006</td>\n",
              "      <td>M</td>\n",
              "      <td>51-55</td>\n",
              "      <td>0</td>\n",
              "      <td>C</td>\n",
              "      <td>1</td>\n",
              "      <td>1</td>\n",
              "      <td>20</td>\n",
              "      <td>0</td>\n",
              "      <td>0</td>\n",
              "      <td>243</td>\n",
              "      <td>5</td>\n",
              "      <td>0</td>\n",
              "      <td>1</td>\n",
              "      <td>0</td>\n",
              "      <td>0</td>\n",
              "      <td>1</td>\n",
              "      <td>0</td>\n",
              "      <td>1</td>\n",
              "      <td>0</td>\n",
              "      <td>0</td>\n",
              "      <td>0</td>\n",
              "      <td>182</td>\n",
              "      <td>899</td>\n",
              "    </tr>\n",
              "    <tr>\n",
              "      <th>5866</th>\n",
              "      <td>1002</td>\n",
              "      <td>F</td>\n",
              "      <td>46-50</td>\n",
              "      <td>17</td>\n",
              "      <td>C</td>\n",
              "      <td>1</td>\n",
              "      <td>0</td>\n",
              "      <td>19</td>\n",
              "      <td>0</td>\n",
              "      <td>0</td>\n",
              "      <td>48</td>\n",
              "      <td>4</td>\n",
              "      <td>1</td>\n",
              "      <td>0</td>\n",
              "      <td>0</td>\n",
              "      <td>0</td>\n",
              "      <td>1</td>\n",
              "      <td>0</td>\n",
              "      <td>1</td>\n",
              "      <td>0</td>\n",
              "      <td>0</td>\n",
              "      <td>0</td>\n",
              "      <td>150</td>\n",
              "      <td>785</td>\n",
              "    </tr>\n",
              "    <tr>\n",
              "      <th>5867</th>\n",
              "      <td>1005</td>\n",
              "      <td>F</td>\n",
              "      <td>26-35</td>\n",
              "      <td>15</td>\n",
              "      <td>C</td>\n",
              "      <td>2</td>\n",
              "      <td>0</td>\n",
              "      <td>19</td>\n",
              "      <td>0</td>\n",
              "      <td>0</td>\n",
              "      <td>62</td>\n",
              "      <td>2</td>\n",
              "      <td>1</td>\n",
              "      <td>0</td>\n",
              "      <td>0</td>\n",
              "      <td>0</td>\n",
              "      <td>1</td>\n",
              "      <td>0</td>\n",
              "      <td>0</td>\n",
              "      <td>1</td>\n",
              "      <td>0</td>\n",
              "      <td>0</td>\n",
              "      <td>34</td>\n",
              "      <td>818</td>\n",
              "    </tr>\n",
              "    <tr>\n",
              "      <th>5868</th>\n",
              "      <td>1006</td>\n",
              "      <td>F</td>\n",
              "      <td>26-35</td>\n",
              "      <td>5</td>\n",
              "      <td>C</td>\n",
              "      <td>2</td>\n",
              "      <td>1</td>\n",
              "      <td>20</td>\n",
              "      <td>0</td>\n",
              "      <td>0</td>\n",
              "      <td>252</td>\n",
              "      <td>2</td>\n",
              "      <td>1</td>\n",
              "      <td>0</td>\n",
              "      <td>0</td>\n",
              "      <td>0</td>\n",
              "      <td>1</td>\n",
              "      <td>0</td>\n",
              "      <td>0</td>\n",
              "      <td>1</td>\n",
              "      <td>0</td>\n",
              "      <td>0</td>\n",
              "      <td>50</td>\n",
              "      <td>899</td>\n",
              "    </tr>\n",
              "    <tr>\n",
              "      <th>5869</th>\n",
              "      <td>1008</td>\n",
              "      <td>F</td>\n",
              "      <td>0-17</td>\n",
              "      <td>0</td>\n",
              "      <td>C</td>\n",
              "      <td>1</td>\n",
              "      <td>0</td>\n",
              "      <td>20</td>\n",
              "      <td>0</td>\n",
              "      <td>0</td>\n",
              "      <td>236</td>\n",
              "      <td>0</td>\n",
              "      <td>1</td>\n",
              "      <td>0</td>\n",
              "      <td>0</td>\n",
              "      <td>0</td>\n",
              "      <td>1</td>\n",
              "      <td>0</td>\n",
              "      <td>1</td>\n",
              "      <td>0</td>\n",
              "      <td>0</td>\n",
              "      <td>0</td>\n",
              "      <td>69</td>\n",
              "      <td>814</td>\n",
              "    </tr>\n",
              "    <tr>\n",
              "      <th>5870</th>\n",
              "      <td>1007</td>\n",
              "      <td>F</td>\n",
              "      <td>26-35</td>\n",
              "      <td>12</td>\n",
              "      <td>C</td>\n",
              "      <td>3</td>\n",
              "      <td>0</td>\n",
              "      <td>20</td>\n",
              "      <td>0</td>\n",
              "      <td>0</td>\n",
              "      <td>244</td>\n",
              "      <td>2</td>\n",
              "      <td>1</td>\n",
              "      <td>0</td>\n",
              "      <td>0</td>\n",
              "      <td>0</td>\n",
              "      <td>1</td>\n",
              "      <td>0</td>\n",
              "      <td>0</td>\n",
              "      <td>0</td>\n",
              "      <td>1</td>\n",
              "      <td>0</td>\n",
              "      <td>32</td>\n",
              "      <td>837</td>\n",
              "    </tr>\n",
              "    <tr>\n",
              "      <th>5871</th>\n",
              "      <td>1006</td>\n",
              "      <td>M</td>\n",
              "      <td>36-45</td>\n",
              "      <td>0</td>\n",
              "      <td>C</td>\n",
              "      <td>1</td>\n",
              "      <td>0</td>\n",
              "      <td>20</td>\n",
              "      <td>0</td>\n",
              "      <td>0</td>\n",
              "      <td>591</td>\n",
              "      <td>3</td>\n",
              "      <td>0</td>\n",
              "      <td>1</td>\n",
              "      <td>0</td>\n",
              "      <td>0</td>\n",
              "      <td>1</td>\n",
              "      <td>0</td>\n",
              "      <td>1</td>\n",
              "      <td>0</td>\n",
              "      <td>0</td>\n",
              "      <td>0</td>\n",
              "      <td>177</td>\n",
              "      <td>899</td>\n",
              "    </tr>\n",
              "    <tr>\n",
              "      <th>5872</th>\n",
              "      <td>1008</td>\n",
              "      <td>M</td>\n",
              "      <td>36-45</td>\n",
              "      <td>15</td>\n",
              "      <td>C</td>\n",
              "      <td>3</td>\n",
              "      <td>0</td>\n",
              "      <td>20</td>\n",
              "      <td>0</td>\n",
              "      <td>0</td>\n",
              "      <td>473</td>\n",
              "      <td>3</td>\n",
              "      <td>0</td>\n",
              "      <td>1</td>\n",
              "      <td>0</td>\n",
              "      <td>0</td>\n",
              "      <td>1</td>\n",
              "      <td>0</td>\n",
              "      <td>0</td>\n",
              "      <td>0</td>\n",
              "      <td>1</td>\n",
              "      <td>0</td>\n",
              "      <td>105</td>\n",
              "      <td>814</td>\n",
              "    </tr>\n",
              "    <tr>\n",
              "      <th>5873</th>\n",
              "      <td>1006</td>\n",
              "      <td>M</td>\n",
              "      <td>36-45</td>\n",
              "      <td>15</td>\n",
              "      <td>C</td>\n",
              "      <td>4+</td>\n",
              "      <td>1</td>\n",
              "      <td>20</td>\n",
              "      <td>0</td>\n",
              "      <td>0</td>\n",
              "      <td>368</td>\n",
              "      <td>3</td>\n",
              "      <td>0</td>\n",
              "      <td>1</td>\n",
              "      <td>0</td>\n",
              "      <td>0</td>\n",
              "      <td>1</td>\n",
              "      <td>0</td>\n",
              "      <td>0</td>\n",
              "      <td>0</td>\n",
              "      <td>0</td>\n",
              "      <td>1</td>\n",
              "      <td>16</td>\n",
              "      <td>899</td>\n",
              "    </tr>\n",
              "    <tr>\n",
              "      <th>5874</th>\n",
              "      <td>1008</td>\n",
              "      <td>F</td>\n",
              "      <td>26-35</td>\n",
              "      <td>20</td>\n",
              "      <td>C</td>\n",
              "      <td>3</td>\n",
              "      <td>0</td>\n",
              "      <td>20</td>\n",
              "      <td>0</td>\n",
              "      <td>0</td>\n",
              "      <td>489</td>\n",
              "      <td>2</td>\n",
              "      <td>1</td>\n",
              "      <td>0</td>\n",
              "      <td>0</td>\n",
              "      <td>0</td>\n",
              "      <td>1</td>\n",
              "      <td>0</td>\n",
              "      <td>0</td>\n",
              "      <td>0</td>\n",
              "      <td>1</td>\n",
              "      <td>0</td>\n",
              "      <td>75</td>\n",
              "      <td>814</td>\n",
              "    </tr>\n",
              "    <tr>\n",
              "      <th>5875</th>\n",
              "      <td>1008</td>\n",
              "      <td>M</td>\n",
              "      <td>46-50</td>\n",
              "      <td>1</td>\n",
              "      <td>B</td>\n",
              "      <td>1</td>\n",
              "      <td>1</td>\n",
              "      <td>20</td>\n",
              "      <td>0</td>\n",
              "      <td>0</td>\n",
              "      <td>239</td>\n",
              "      <td>4</td>\n",
              "      <td>0</td>\n",
              "      <td>1</td>\n",
              "      <td>0</td>\n",
              "      <td>1</td>\n",
              "      <td>0</td>\n",
              "      <td>0</td>\n",
              "      <td>1</td>\n",
              "      <td>0</td>\n",
              "      <td>0</td>\n",
              "      <td>0</td>\n",
              "      <td>504</td>\n",
              "      <td>814</td>\n",
              "    </tr>\n",
              "    <tr>\n",
              "      <th>5876</th>\n",
              "      <td>1006</td>\n",
              "      <td>F</td>\n",
              "      <td>36-45</td>\n",
              "      <td>7</td>\n",
              "      <td>B</td>\n",
              "      <td>1</td>\n",
              "      <td>0</td>\n",
              "      <td>20</td>\n",
              "      <td>0</td>\n",
              "      <td>0</td>\n",
              "      <td>371</td>\n",
              "      <td>3</td>\n",
              "      <td>1</td>\n",
              "      <td>0</td>\n",
              "      <td>0</td>\n",
              "      <td>1</td>\n",
              "      <td>0</td>\n",
              "      <td>0</td>\n",
              "      <td>1</td>\n",
              "      <td>0</td>\n",
              "      <td>0</td>\n",
              "      <td>0</td>\n",
              "      <td>18</td>\n",
              "      <td>899</td>\n",
              "    </tr>\n",
              "    <tr>\n",
              "      <th>5877</th>\n",
              "      <td>1002</td>\n",
              "      <td>M</td>\n",
              "      <td>36-45</td>\n",
              "      <td>1</td>\n",
              "      <td>C</td>\n",
              "      <td>3</td>\n",
              "      <td>0</td>\n",
              "      <td>19</td>\n",
              "      <td>0</td>\n",
              "      <td>0</td>\n",
              "      <td>60</td>\n",
              "      <td>3</td>\n",
              "      <td>0</td>\n",
              "      <td>1</td>\n",
              "      <td>0</td>\n",
              "      <td>0</td>\n",
              "      <td>1</td>\n",
              "      <td>0</td>\n",
              "      <td>0</td>\n",
              "      <td>0</td>\n",
              "      <td>1</td>\n",
              "      <td>0</td>\n",
              "      <td>82</td>\n",
              "      <td>785</td>\n",
              "    </tr>\n",
              "    <tr>\n",
              "      <th>5878</th>\n",
              "      <td>1007</td>\n",
              "      <td>M</td>\n",
              "      <td>26-35</td>\n",
              "      <td>0</td>\n",
              "      <td>A</td>\n",
              "      <td>4+</td>\n",
              "      <td>0</td>\n",
              "      <td>20</td>\n",
              "      <td>0</td>\n",
              "      <td>0</td>\n",
              "      <td>238</td>\n",
              "      <td>2</td>\n",
              "      <td>0</td>\n",
              "      <td>1</td>\n",
              "      <td>1</td>\n",
              "      <td>0</td>\n",
              "      <td>0</td>\n",
              "      <td>0</td>\n",
              "      <td>0</td>\n",
              "      <td>0</td>\n",
              "      <td>0</td>\n",
              "      <td>1</td>\n",
              "      <td>54</td>\n",
              "      <td>837</td>\n",
              "    </tr>\n",
              "    <tr>\n",
              "      <th>5879</th>\n",
              "      <td>1008</td>\n",
              "      <td>M</td>\n",
              "      <td>26-35</td>\n",
              "      <td>17</td>\n",
              "      <td>C</td>\n",
              "      <td>4+</td>\n",
              "      <td>0</td>\n",
              "      <td>20</td>\n",
              "      <td>0</td>\n",
              "      <td>0</td>\n",
              "      <td>254</td>\n",
              "      <td>2</td>\n",
              "      <td>0</td>\n",
              "      <td>1</td>\n",
              "      <td>0</td>\n",
              "      <td>0</td>\n",
              "      <td>1</td>\n",
              "      <td>0</td>\n",
              "      <td>0</td>\n",
              "      <td>0</td>\n",
              "      <td>0</td>\n",
              "      <td>1</td>\n",
              "      <td>27</td>\n",
              "      <td>814</td>\n",
              "    </tr>\n",
              "    <tr>\n",
              "      <th>5880</th>\n",
              "      <td>1005</td>\n",
              "      <td>M</td>\n",
              "      <td>26-35</td>\n",
              "      <td>0</td>\n",
              "      <td>C</td>\n",
              "      <td>2</td>\n",
              "      <td>1</td>\n",
              "      <td>19</td>\n",
              "      <td>0</td>\n",
              "      <td>0</td>\n",
              "      <td>61</td>\n",
              "      <td>2</td>\n",
              "      <td>0</td>\n",
              "      <td>1</td>\n",
              "      <td>0</td>\n",
              "      <td>0</td>\n",
              "      <td>1</td>\n",
              "      <td>0</td>\n",
              "      <td>0</td>\n",
              "      <td>1</td>\n",
              "      <td>0</td>\n",
              "      <td>0</td>\n",
              "      <td>88</td>\n",
              "      <td>818</td>\n",
              "    </tr>\n",
              "    <tr>\n",
              "      <th>5881</th>\n",
              "      <td>1007</td>\n",
              "      <td>M</td>\n",
              "      <td>26-35</td>\n",
              "      <td>12</td>\n",
              "      <td>A</td>\n",
              "      <td>0</td>\n",
              "      <td>1</td>\n",
              "      <td>20</td>\n",
              "      <td>0</td>\n",
              "      <td>0</td>\n",
              "      <td>121</td>\n",
              "      <td>2</td>\n",
              "      <td>0</td>\n",
              "      <td>1</td>\n",
              "      <td>1</td>\n",
              "      <td>0</td>\n",
              "      <td>0</td>\n",
              "      <td>1</td>\n",
              "      <td>0</td>\n",
              "      <td>0</td>\n",
              "      <td>0</td>\n",
              "      <td>0</td>\n",
              "      <td>60</td>\n",
              "      <td>837</td>\n",
              "    </tr>\n",
              "    <tr>\n",
              "      <th>5882</th>\n",
              "      <td>1005</td>\n",
              "      <td>F</td>\n",
              "      <td>26-35</td>\n",
              "      <td>1</td>\n",
              "      <td>B</td>\n",
              "      <td>1</td>\n",
              "      <td>0</td>\n",
              "      <td>19</td>\n",
              "      <td>0</td>\n",
              "      <td>0</td>\n",
              "      <td>48</td>\n",
              "      <td>2</td>\n",
              "      <td>1</td>\n",
              "      <td>0</td>\n",
              "      <td>0</td>\n",
              "      <td>1</td>\n",
              "      <td>0</td>\n",
              "      <td>0</td>\n",
              "      <td>1</td>\n",
              "      <td>0</td>\n",
              "      <td>0</td>\n",
              "      <td>0</td>\n",
              "      <td>151</td>\n",
              "      <td>818</td>\n",
              "    </tr>\n",
              "    <tr>\n",
              "      <th>5883</th>\n",
              "      <td>1006</td>\n",
              "      <td>M</td>\n",
              "      <td>36-45</td>\n",
              "      <td>6</td>\n",
              "      <td>C</td>\n",
              "      <td>1</td>\n",
              "      <td>1</td>\n",
              "      <td>20</td>\n",
              "      <td>0</td>\n",
              "      <td>0</td>\n",
              "      <td>494</td>\n",
              "      <td>3</td>\n",
              "      <td>0</td>\n",
              "      <td>1</td>\n",
              "      <td>0</td>\n",
              "      <td>0</td>\n",
              "      <td>1</td>\n",
              "      <td>0</td>\n",
              "      <td>1</td>\n",
              "      <td>0</td>\n",
              "      <td>0</td>\n",
              "      <td>0</td>\n",
              "      <td>47</td>\n",
              "      <td>899</td>\n",
              "    </tr>\n",
              "    <tr>\n",
              "      <th>5884</th>\n",
              "      <td>1007</td>\n",
              "      <td>F</td>\n",
              "      <td>26-35</td>\n",
              "      <td>1</td>\n",
              "      <td>C</td>\n",
              "      <td>1</td>\n",
              "      <td>1</td>\n",
              "      <td>20</td>\n",
              "      <td>0</td>\n",
              "      <td>0</td>\n",
              "      <td>599</td>\n",
              "      <td>2</td>\n",
              "      <td>1</td>\n",
              "      <td>0</td>\n",
              "      <td>0</td>\n",
              "      <td>0</td>\n",
              "      <td>1</td>\n",
              "      <td>0</td>\n",
              "      <td>1</td>\n",
              "      <td>0</td>\n",
              "      <td>0</td>\n",
              "      <td>0</td>\n",
              "      <td>17</td>\n",
              "      <td>837</td>\n",
              "    </tr>\n",
              "    <tr>\n",
              "      <th>5885</th>\n",
              "      <td>1007</td>\n",
              "      <td>M</td>\n",
              "      <td>46-50</td>\n",
              "      <td>7</td>\n",
              "      <td>A</td>\n",
              "      <td>3</td>\n",
              "      <td>0</td>\n",
              "      <td>20</td>\n",
              "      <td>0</td>\n",
              "      <td>0</td>\n",
              "      <td>473</td>\n",
              "      <td>4</td>\n",
              "      <td>0</td>\n",
              "      <td>1</td>\n",
              "      <td>1</td>\n",
              "      <td>0</td>\n",
              "      <td>0</td>\n",
              "      <td>0</td>\n",
              "      <td>0</td>\n",
              "      <td>0</td>\n",
              "      <td>1</td>\n",
              "      <td>0</td>\n",
              "      <td>55</td>\n",
              "      <td>837</td>\n",
              "    </tr>\n",
              "    <tr>\n",
              "      <th>5886</th>\n",
              "      <td>1007</td>\n",
              "      <td>M</td>\n",
              "      <td>51-55</td>\n",
              "      <td>100</td>\n",
              "      <td>B</td>\n",
              "      <td>1</td>\n",
              "      <td>1</td>\n",
              "      <td>20</td>\n",
              "      <td>0</td>\n",
              "      <td>0</td>\n",
              "      <td>368</td>\n",
              "      <td>5</td>\n",
              "      <td>0</td>\n",
              "      <td>1</td>\n",
              "      <td>0</td>\n",
              "      <td>1</td>\n",
              "      <td>0</td>\n",
              "      <td>0</td>\n",
              "      <td>1</td>\n",
              "      <td>0</td>\n",
              "      <td>0</td>\n",
              "      <td>0</td>\n",
              "      <td>36</td>\n",
              "      <td>837</td>\n",
              "    </tr>\n",
              "    <tr>\n",
              "      <th>5887</th>\n",
              "      <td>1008</td>\n",
              "      <td>F</td>\n",
              "      <td>26-35</td>\n",
              "      <td>1</td>\n",
              "      <td>C</td>\n",
              "      <td>3</td>\n",
              "      <td>0</td>\n",
              "      <td>20</td>\n",
              "      <td>0</td>\n",
              "      <td>0</td>\n",
              "      <td>371</td>\n",
              "      <td>2</td>\n",
              "      <td>1</td>\n",
              "      <td>0</td>\n",
              "      <td>0</td>\n",
              "      <td>0</td>\n",
              "      <td>1</td>\n",
              "      <td>0</td>\n",
              "      <td>0</td>\n",
              "      <td>0</td>\n",
              "      <td>1</td>\n",
              "      <td>0</td>\n",
              "      <td>152</td>\n",
              "      <td>814</td>\n",
              "    </tr>\n",
              "    <tr>\n",
              "      <th>5888</th>\n",
              "      <td>1008</td>\n",
              "      <td>F</td>\n",
              "      <td>26-35</td>\n",
              "      <td>15</td>\n",
              "      <td>B</td>\n",
              "      <td>4+</td>\n",
              "      <td>1</td>\n",
              "      <td>20</td>\n",
              "      <td>0</td>\n",
              "      <td>0</td>\n",
              "      <td>137</td>\n",
              "      <td>2</td>\n",
              "      <td>1</td>\n",
              "      <td>0</td>\n",
              "      <td>0</td>\n",
              "      <td>1</td>\n",
              "      <td>0</td>\n",
              "      <td>0</td>\n",
              "      <td>0</td>\n",
              "      <td>0</td>\n",
              "      <td>0</td>\n",
              "      <td>1</td>\n",
              "      <td>514</td>\n",
              "      <td>814</td>\n",
              "    </tr>\n",
              "    <tr>\n",
              "      <th>5889</th>\n",
              "      <td>1008</td>\n",
              "      <td>F</td>\n",
              "      <td>55+</td>\n",
              "      <td>1</td>\n",
              "      <td>C</td>\n",
              "      <td>2</td>\n",
              "      <td>0</td>\n",
              "      <td>20</td>\n",
              "      <td>0</td>\n",
              "      <td>0</td>\n",
              "      <td>365</td>\n",
              "      <td>6</td>\n",
              "      <td>1</td>\n",
              "      <td>0</td>\n",
              "      <td>0</td>\n",
              "      <td>0</td>\n",
              "      <td>1</td>\n",
              "      <td>0</td>\n",
              "      <td>0</td>\n",
              "      <td>1</td>\n",
              "      <td>0</td>\n",
              "      <td>0</td>\n",
              "      <td>12</td>\n",
              "      <td>814</td>\n",
              "    </tr>\n",
              "    <tr>\n",
              "      <th>5890</th>\n",
              "      <td>1006</td>\n",
              "      <td>F</td>\n",
              "      <td>46-50</td>\n",
              "      <td>0</td>\n",
              "      <td>B</td>\n",
              "      <td>4+</td>\n",
              "      <td>1</td>\n",
              "      <td>20</td>\n",
              "      <td>0</td>\n",
              "      <td>0</td>\n",
              "      <td>490</td>\n",
              "      <td>4</td>\n",
              "      <td>1</td>\n",
              "      <td>0</td>\n",
              "      <td>0</td>\n",
              "      <td>1</td>\n",
              "      <td>0</td>\n",
              "      <td>0</td>\n",
              "      <td>0</td>\n",
              "      <td>0</td>\n",
              "      <td>0</td>\n",
              "      <td>1</td>\n",
              "      <td>74</td>\n",
              "      <td>899</td>\n",
              "    </tr>\n",
              "  </tbody>\n",
              "</table>\n",
              "<p>5891 rows × 24 columns</p>\n",
              "</div>"
            ],
            "text/plain": [
              "      Product_ID Gender    Age  ...  4+ years userhit producthit\n",
              "0            162      F    55+  ...         0      10        227\n",
              "1            673      M  36-45  ...         0      13        581\n",
              "2            183      M  18-25  ...         1      14       1203\n",
              "3            958      M  36-45  ...         0       8        114\n",
              "4            253      F  46-50  ...         0      18        249\n",
              "5            793      M    55+  ...         0      13        850\n",
              "6            913      M  26-35  ...         0      13       1093\n",
              "7            266      M  18-25  ...         0      13       1562\n",
              "8            177      F  26-35  ...         0      15        351\n",
              "9             12      F  26-35  ...         1      14        968\n",
              "10           383      M  26-35  ...         0      12       1406\n",
              "11           561      F  36-45  ...         0      14        609\n",
              "12           273      M  26-35  ...         1       9        675\n",
              "13           896      M    55+  ...         0       9        118\n",
              "14           972      M    55+  ...         0      10        154\n",
              "15           256      M  36-45  ...         0      22       1612\n",
              "16             7      M  18-25  ...         0      10        735\n",
              "17           416      M  36-45  ...         0      13        838\n",
              "18           998      M  36-45  ...         0      13         82\n",
              "19           498      M  26-35  ...         0      16        537\n",
              "20            22      M  26-35  ...         0      10        125\n",
              "21           311      F  51-55  ...         0      13        308\n",
              "22           709      M  26-35  ...         0      27        836\n",
              "23           567      M  26-35  ...         0      21        636\n",
              "24           897      M  46-50  ...         1      13        423\n",
              "25            12      F  51-55  ...         1      11        968\n",
              "26           276      M  36-45  ...         0      21        403\n",
              "27           421      M  26-35  ...         0      23        601\n",
              "28           117      M  26-35  ...         1      24       1438\n",
              "29            13      F  36-45  ...         0      13        749\n",
              "...          ...    ...    ...  ...       ...     ...        ...\n",
              "5861        1008      F  36-45  ...         0     103        814\n",
              "5862        1006      F  26-35  ...         0     329        899\n",
              "5863        1005      F  26-35  ...         0      29        818\n",
              "5864        1006      M  46-50  ...         0     281        899\n",
              "5865        1006      M  51-55  ...         0     182        899\n",
              "5866        1002      F  46-50  ...         0     150        785\n",
              "5867        1005      F  26-35  ...         0      34        818\n",
              "5868        1006      F  26-35  ...         0      50        899\n",
              "5869        1008      F   0-17  ...         0      69        814\n",
              "5870        1007      F  26-35  ...         0      32        837\n",
              "5871        1006      M  36-45  ...         0     177        899\n",
              "5872        1008      M  36-45  ...         0     105        814\n",
              "5873        1006      M  36-45  ...         1      16        899\n",
              "5874        1008      F  26-35  ...         0      75        814\n",
              "5875        1008      M  46-50  ...         0     504        814\n",
              "5876        1006      F  36-45  ...         0      18        899\n",
              "5877        1002      M  36-45  ...         0      82        785\n",
              "5878        1007      M  26-35  ...         1      54        837\n",
              "5879        1008      M  26-35  ...         1      27        814\n",
              "5880        1005      M  26-35  ...         0      88        818\n",
              "5881        1007      M  26-35  ...         0      60        837\n",
              "5882        1005      F  26-35  ...         0     151        818\n",
              "5883        1006      M  36-45  ...         0      47        899\n",
              "5884        1007      F  26-35  ...         0      17        837\n",
              "5885        1007      M  46-50  ...         0      55        837\n",
              "5886        1007      M  51-55  ...         0      36        837\n",
              "5887        1008      F  26-35  ...         0     152        814\n",
              "5888        1008      F  26-35  ...         1     514        814\n",
              "5889        1008      F    55+  ...         0      12        814\n",
              "5890        1006      F  46-50  ...         1      74        899\n",
              "\n",
              "[5891 rows x 24 columns]"
            ]
          },
          "metadata": {
            "tags": []
          },
          "execution_count": 101
        }
      ]
    },
    {
      "cell_type": "code",
      "metadata": {
        "id": "ISOXTR3cKe9Y",
        "colab_type": "code",
        "outputId": "ebb6fdf2-31c1-436b-ba36-26ad2e2f89af",
        "colab": {
          "base_uri": "https://localhost:8080/",
          "height": 241
        }
      },
      "source": [
        "model_data=new_train.filter(['Occupation','Product_Category_1','Product_Category_2','Product_Category_3','Purchase','Age_Encoded','Female','City A','City B','0 year','1 year','2 years','3 years','userhit','producthit'],axis=1)\n",
        "data_y_pred=model_data['Purchase']\n",
        "data_x=model_data.drop(['Purchase'],axis=1)\n",
        "data_x.head()"
      ],
      "execution_count": 102,
      "outputs": [
        {
          "output_type": "execute_result",
          "data": {
            "text/html": [
              "<div>\n",
              "<style scoped>\n",
              "    .dataframe tbody tr th:only-of-type {\n",
              "        vertical-align: middle;\n",
              "    }\n",
              "\n",
              "    .dataframe tbody tr th {\n",
              "        vertical-align: top;\n",
              "    }\n",
              "\n",
              "    .dataframe thead th {\n",
              "        text-align: right;\n",
              "    }\n",
              "</style>\n",
              "<table border=\"1\" class=\"dataframe\">\n",
              "  <thead>\n",
              "    <tr style=\"text-align: right;\">\n",
              "      <th></th>\n",
              "      <th>Occupation</th>\n",
              "      <th>Product_Category_1</th>\n",
              "      <th>Product_Category_2</th>\n",
              "      <th>Product_Category_3</th>\n",
              "      <th>Age_Encoded</th>\n",
              "      <th>Female</th>\n",
              "      <th>City A</th>\n",
              "      <th>City B</th>\n",
              "      <th>0 year</th>\n",
              "      <th>1 year</th>\n",
              "      <th>2 years</th>\n",
              "      <th>3 years</th>\n",
              "      <th>userhit</th>\n",
              "      <th>producthit</th>\n",
              "    </tr>\n",
              "  </thead>\n",
              "  <tbody>\n",
              "    <tr>\n",
              "      <th>0</th>\n",
              "      <td>6</td>\n",
              "      <td>3</td>\n",
              "      <td>0</td>\n",
              "      <td>0</td>\n",
              "      <td>6</td>\n",
              "      <td>1</td>\n",
              "      <td>0</td>\n",
              "      <td>0</td>\n",
              "      <td>0</td>\n",
              "      <td>1</td>\n",
              "      <td>0</td>\n",
              "      <td>0</td>\n",
              "      <td>10</td>\n",
              "      <td>227</td>\n",
              "    </tr>\n",
              "    <tr>\n",
              "      <th>1</th>\n",
              "      <td>0</td>\n",
              "      <td>1</td>\n",
              "      <td>6</td>\n",
              "      <td>14</td>\n",
              "      <td>3</td>\n",
              "      <td>0</td>\n",
              "      <td>0</td>\n",
              "      <td>0</td>\n",
              "      <td>1</td>\n",
              "      <td>0</td>\n",
              "      <td>0</td>\n",
              "      <td>0</td>\n",
              "      <td>13</td>\n",
              "      <td>581</td>\n",
              "    </tr>\n",
              "    <tr>\n",
              "      <th>2</th>\n",
              "      <td>4</td>\n",
              "      <td>1</td>\n",
              "      <td>6</td>\n",
              "      <td>8</td>\n",
              "      <td>1</td>\n",
              "      <td>0</td>\n",
              "      <td>0</td>\n",
              "      <td>0</td>\n",
              "      <td>0</td>\n",
              "      <td>0</td>\n",
              "      <td>0</td>\n",
              "      <td>0</td>\n",
              "      <td>14</td>\n",
              "      <td>1203</td>\n",
              "    </tr>\n",
              "    <tr>\n",
              "      <th>3</th>\n",
              "      <td>17</td>\n",
              "      <td>1</td>\n",
              "      <td>17</td>\n",
              "      <td>0</td>\n",
              "      <td>3</td>\n",
              "      <td>0</td>\n",
              "      <td>0</td>\n",
              "      <td>0</td>\n",
              "      <td>0</td>\n",
              "      <td>0</td>\n",
              "      <td>0</td>\n",
              "      <td>1</td>\n",
              "      <td>8</td>\n",
              "      <td>114</td>\n",
              "    </tr>\n",
              "    <tr>\n",
              "      <th>4</th>\n",
              "      <td>11</td>\n",
              "      <td>8</td>\n",
              "      <td>0</td>\n",
              "      <td>0</td>\n",
              "      <td>4</td>\n",
              "      <td>1</td>\n",
              "      <td>1</td>\n",
              "      <td>0</td>\n",
              "      <td>0</td>\n",
              "      <td>1</td>\n",
              "      <td>0</td>\n",
              "      <td>0</td>\n",
              "      <td>18</td>\n",
              "      <td>249</td>\n",
              "    </tr>\n",
              "  </tbody>\n",
              "</table>\n",
              "</div>"
            ],
            "text/plain": [
              "   Occupation  Product_Category_1  ...  userhit  producthit\n",
              "0           6                   3  ...       10         227\n",
              "1           0                   1  ...       13         581\n",
              "2           4                   1  ...       14        1203\n",
              "3          17                   1  ...        8         114\n",
              "4          11                   8  ...       18         249\n",
              "\n",
              "[5 rows x 14 columns]"
            ]
          },
          "metadata": {
            "tags": []
          },
          "execution_count": 102
        }
      ]
    },
    {
      "cell_type": "code",
      "metadata": {
        "id": "s2Lw9POuL1QA",
        "colab_type": "code",
        "outputId": "376cc09a-e778-4ec2-8057-c3c62177d5e5",
        "colab": {
          "base_uri": "https://localhost:8080/",
          "height": 255
        }
      },
      "source": [
        "from statsmodels.stats.outliers_influence import variance_inflation_factor\n",
        "variables=data_x.columns\n",
        "#   vif=variance_inflation_factor(x[i])\n",
        "vif = [variance_inflation_factor(data_x[variables].values, data_x.columns.get_loc(var)) for var in data_x.columns]\n",
        "\n",
        "#   max_vif = max(vif)\n",
        "#   print('VIF of',i,':',vif)\n",
        "vif"
      ],
      "execution_count": 103,
      "outputs": [
        {
          "output_type": "execute_result",
          "data": {
            "text/plain": [
              "[1.3885886697123135,\n",
              " 13.409297263148485,\n",
              " 1.6013029368007747,\n",
              " 1.5002416183610143,\n",
              " 3.7860028010552864,\n",
              " 1.3888399767757136,\n",
              " 1.4649488472287935,\n",
              " 1.7257677118170713,\n",
              " 1.6576490461504612,\n",
              " 2.7855874372833958,\n",
              " 1.966014049411314,\n",
              " 1.839270197944677,\n",
              " 2.0556264810379417,\n",
              " 11.76985133956536]"
            ]
          },
          "metadata": {
            "tags": []
          },
          "execution_count": 103
        }
      ]
    },
    {
      "cell_type": "code",
      "metadata": {
        "id": "xyY2E5o3L1uA",
        "colab_type": "code",
        "outputId": "f8b33eb1-aadf-4cd0-f8b4-ad8406a233e1",
        "colab": {
          "base_uri": "https://localhost:8080/",
          "height": 483
        }
      },
      "source": [
        "vif=pd.DataFrame(vif)\n",
        "variables=pd.DataFrame(variables)\n",
        "vif=vif.rename(columns={'0':'VIF'})\n",
        "variables=variables.rename(columns={'0':'Columns'})\n",
        "vif\n",
        "# variables\n",
        "df_vif=pd.concat([variables,vif],axis=1)\n",
        "# variables\n",
        "# df_vif.set_index('Columns',inplace=True)\n",
        "df_vif"
      ],
      "execution_count": 104,
      "outputs": [
        {
          "output_type": "execute_result",
          "data": {
            "text/html": [
              "<div>\n",
              "<style scoped>\n",
              "    .dataframe tbody tr th:only-of-type {\n",
              "        vertical-align: middle;\n",
              "    }\n",
              "\n",
              "    .dataframe tbody tr th {\n",
              "        vertical-align: top;\n",
              "    }\n",
              "\n",
              "    .dataframe thead th {\n",
              "        text-align: right;\n",
              "    }\n",
              "</style>\n",
              "<table border=\"1\" class=\"dataframe\">\n",
              "  <thead>\n",
              "    <tr style=\"text-align: right;\">\n",
              "      <th></th>\n",
              "      <th>0</th>\n",
              "      <th>0</th>\n",
              "    </tr>\n",
              "  </thead>\n",
              "  <tbody>\n",
              "    <tr>\n",
              "      <th>0</th>\n",
              "      <td>Occupation</td>\n",
              "      <td>1.388589</td>\n",
              "    </tr>\n",
              "    <tr>\n",
              "      <th>1</th>\n",
              "      <td>Product_Category_1</td>\n",
              "      <td>13.409297</td>\n",
              "    </tr>\n",
              "    <tr>\n",
              "      <th>2</th>\n",
              "      <td>Product_Category_2</td>\n",
              "      <td>1.601303</td>\n",
              "    </tr>\n",
              "    <tr>\n",
              "      <th>3</th>\n",
              "      <td>Product_Category_3</td>\n",
              "      <td>1.500242</td>\n",
              "    </tr>\n",
              "    <tr>\n",
              "      <th>4</th>\n",
              "      <td>Age_Encoded</td>\n",
              "      <td>3.786003</td>\n",
              "    </tr>\n",
              "    <tr>\n",
              "      <th>5</th>\n",
              "      <td>Female</td>\n",
              "      <td>1.388840</td>\n",
              "    </tr>\n",
              "    <tr>\n",
              "      <th>6</th>\n",
              "      <td>City A</td>\n",
              "      <td>1.464949</td>\n",
              "    </tr>\n",
              "    <tr>\n",
              "      <th>7</th>\n",
              "      <td>City B</td>\n",
              "      <td>1.725768</td>\n",
              "    </tr>\n",
              "    <tr>\n",
              "      <th>8</th>\n",
              "      <td>0 year</td>\n",
              "      <td>1.657649</td>\n",
              "    </tr>\n",
              "    <tr>\n",
              "      <th>9</th>\n",
              "      <td>1 year</td>\n",
              "      <td>2.785587</td>\n",
              "    </tr>\n",
              "    <tr>\n",
              "      <th>10</th>\n",
              "      <td>2 years</td>\n",
              "      <td>1.966014</td>\n",
              "    </tr>\n",
              "    <tr>\n",
              "      <th>11</th>\n",
              "      <td>3 years</td>\n",
              "      <td>1.839270</td>\n",
              "    </tr>\n",
              "    <tr>\n",
              "      <th>12</th>\n",
              "      <td>userhit</td>\n",
              "      <td>2.055626</td>\n",
              "    </tr>\n",
              "    <tr>\n",
              "      <th>13</th>\n",
              "      <td>producthit</td>\n",
              "      <td>11.769851</td>\n",
              "    </tr>\n",
              "  </tbody>\n",
              "</table>\n",
              "</div>"
            ],
            "text/plain": [
              "                     0          0\n",
              "0           Occupation   1.388589\n",
              "1   Product_Category_1  13.409297\n",
              "2   Product_Category_2   1.601303\n",
              "3   Product_Category_3   1.500242\n",
              "4          Age_Encoded   3.786003\n",
              "5               Female   1.388840\n",
              "6               City A   1.464949\n",
              "7               City B   1.725768\n",
              "8               0 year   1.657649\n",
              "9               1 year   2.785587\n",
              "10             2 years   1.966014\n",
              "11             3 years   1.839270\n",
              "12             userhit   2.055626\n",
              "13          producthit  11.769851"
            ]
          },
          "metadata": {
            "tags": []
          },
          "execution_count": 104
        }
      ]
    },
    {
      "cell_type": "code",
      "metadata": {
        "id": "r5XsN3FGL_fV",
        "colab_type": "code",
        "colab": {}
      },
      "source": [
        "data_x.drop('Product_Category_3',axis=1,inplace=True)\n",
        "data_x.drop('producthit',axis=1,inplace=True)"
      ],
      "execution_count": 0,
      "outputs": []
    },
    {
      "cell_type": "code",
      "metadata": {
        "id": "pqJdG6w-Mbvz",
        "colab_type": "code",
        "colab": {}
      },
      "source": [
        "##################################### DIVISION OF TEST AND TRAIN #######################################################\n",
        "from sklearn.model_selection import train_test_split\n",
        "\n",
        "x_train, x_test, y_train, y_test = train_test_split(data_x,data_y_pred, test_size = 0.3,random_state=75)"
      ],
      "execution_count": 0,
      "outputs": []
    },
    {
      "cell_type": "code",
      "metadata": {
        "id": "bT4BhYtaMgVP",
        "colab_type": "code",
        "colab": {}
      },
      "source": [
        "from sklearn.preprocessing import StandardScaler\n",
        "\n",
        "sc = StandardScaler()\n",
        "x_train = sc.fit_transform(x_train)\n",
        "x_test = sc.transform(x_test)"
      ],
      "execution_count": 0,
      "outputs": []
    },
    {
      "cell_type": "code",
      "metadata": {
        "id": "vQ2uvyGxMmNg",
        "colab_type": "code",
        "colab": {}
      },
      "source": [
        "############################################LINEAR REGRESSION##########################################################\n",
        "model = LinearRegression()\n",
        "l=model.fit(x_train, y_train)"
      ],
      "execution_count": 0,
      "outputs": []
    },
    {
      "cell_type": "code",
      "metadata": {
        "id": "neTNn7zGMtHY",
        "colab_type": "code",
        "colab": {}
      },
      "source": [
        "y_pred=model.predict(x_test)"
      ],
      "execution_count": 0,
      "outputs": []
    },
    {
      "cell_type": "code",
      "metadata": {
        "id": "02YJVsAnMwzx",
        "colab_type": "code",
        "colab": {}
      },
      "source": [
        "from sklearn.metrics import mean_squared_error\n",
        "from sklearn.metrics import r2_score\n"
      ],
      "execution_count": 0,
      "outputs": []
    },
    {
      "cell_type": "code",
      "metadata": {
        "id": "le2hE2waM0Jb",
        "colab_type": "code",
        "outputId": "59b08f8a-2bf9-44cc-b282-dacc5663ec57",
        "colab": {
          "base_uri": "https://localhost:8080/",
          "height": 51
        }
      },
      "source": [
        "mse = mean_squared_error(y_test, y_pred)\n",
        "print(\"RMSE Error:\", np.sqrt(mse))\n",
        "r2 = r2_score(y_test, y_pred)\n",
        "print(\"R2 Score:\", r2)"
      ],
      "execution_count": 111,
      "outputs": [
        {
          "output_type": "stream",
          "text": [
            "RMSE Error: 2574.17540783366\n",
            "R2 Score: 0.7401280743417442\n"
          ],
          "name": "stdout"
        }
      ]
    },
    {
      "cell_type": "code",
      "metadata": {
        "id": "ufqHkOj_YPZD",
        "colab_type": "code",
        "colab": {}
      },
      "source": [
        "import pandas as pd\n",
        "import numpy as np\n",
        "from sklearn import datasets, linear_model\n",
        "from sklearn.linear_model import LinearRegression\n",
        "import statsmodels.api as sm\n",
        "from scipy import stats"
      ],
      "execution_count": 0,
      "outputs": []
    },
    {
      "cell_type": "code",
      "metadata": {
        "id": "tEutxvdlOfZP",
        "colab_type": "code",
        "outputId": "44e6e235-d735-42cc-9cfd-e7050b48543d",
        "colab": {
          "base_uri": "https://localhost:8080/",
          "height": 612
        }
      },
      "source": [
        "################################################## STATISTICAL OLS MODEL ####################################################\n",
        "est=sm.OLS(y_train,x_train)\n",
        "est2=est.fit()\n",
        "print(est2.summary())\n",
        "ols_y=est2.predict(x_test)"
      ],
      "execution_count": 114,
      "outputs": [
        {
          "output_type": "stream",
          "text": [
            "                            OLS Regression Results                            \n",
            "==============================================================================\n",
            "Dep. Variable:               Purchase   R-squared:                       0.524\n",
            "Model:                            OLS   Adj. R-squared:                  0.523\n",
            "Method:                 Least Squares   F-statistic:                     377.9\n",
            "Date:                Fri, 14 Jun 2019   Prob (F-statistic):               0.00\n",
            "Time:                        16:19:05   Log-Likelihood:                -40016.\n",
            "No. Observations:                4123   AIC:                         8.006e+04\n",
            "Df Residuals:                    4111   BIC:                         8.013e+04\n",
            "Df Model:                          12                                         \n",
            "Covariance Type:            nonrobust                                         \n",
            "==============================================================================\n",
            "                 coef    std err          t      P>|t|      [0.025      0.975]\n",
            "------------------------------------------------------------------------------\n",
            "x1           -87.6608     62.872     -1.394      0.163    -210.925      35.603\n",
            "x2         -4037.6413     81.252    -49.693      0.000   -4196.940   -3878.343\n",
            "x3           184.0655     81.285      2.264      0.024      24.703     343.428\n",
            "x4            25.7488     63.131      0.408      0.683     -98.022     149.519\n",
            "x5          -131.1374     62.172     -2.109      0.035    -253.028      -9.247\n",
            "x6            18.0707     68.318      0.265      0.791    -115.870     152.011\n",
            "x7           -25.0758     69.135     -0.363      0.717    -160.618     110.467\n",
            "x8            -6.6422     78.920     -0.084      0.933    -161.369     148.084\n",
            "x9           -15.5154     90.213     -0.172      0.863    -192.381     161.350\n",
            "x10           51.2703     83.974      0.611      0.542    -113.365     215.905\n",
            "x11           34.5417     81.110      0.426      0.670    -124.479     193.562\n",
            "x12         -196.0775     67.477     -2.906      0.004    -328.369     -63.786\n",
            "==============================================================================\n",
            "Omnibus:                     2117.139   Durbin-Watson:                   0.922\n",
            "Prob(Omnibus):                  0.000   Jarque-Bera (JB):            27570.605\n",
            "Skew:                           2.137   Prob(JB):                         0.00\n",
            "Kurtosis:                      14.926   Cond. No.                         2.85\n",
            "==============================================================================\n",
            "\n",
            "Warnings:\n",
            "[1] Standard Errors assume that the covariance matrix of the errors is correctly specified.\n"
          ],
          "name": "stdout"
        }
      ]
    },
    {
      "cell_type": "code",
      "metadata": {
        "id": "B-srquH_XtkR",
        "colab_type": "code",
        "outputId": "a7745b8e-1f57-472c-a2fd-140dec1d207a",
        "colab": {
          "base_uri": "https://localhost:8080/",
          "height": 51
        }
      },
      "source": [
        "mse = mean_squared_error(y_test, ols_y)\n",
        "print(\"RMSE Error:\", np.sqrt(mse))\n",
        "r2 = r2_score(y_test, ols_y)\n",
        "print(\"R2 Score:\", r2)"
      ],
      "execution_count": 115,
      "outputs": [
        {
          "output_type": "stream",
          "text": [
            "RMSE Error: 3915.858382972861\n",
            "R2 Score: 0.3986365276935393\n"
          ],
          "name": "stdout"
        }
      ]
    },
    {
      "cell_type": "code",
      "metadata": {
        "id": "6pZ1uGH1y5e3",
        "colab_type": "code",
        "colab": {}
      },
      "source": [
        "#############################MORE MODELS COMING SOON########################################"
      ],
      "execution_count": 0,
      "outputs": []
    }
  ]
}
