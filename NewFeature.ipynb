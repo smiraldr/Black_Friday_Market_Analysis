{
  "nbformat": 4,
  "nbformat_minor": 0,
  "metadata": {
    "colab": {
      "name": "NewFeature.ipynb",
      "version": "0.3.2",
      "provenance": [],
      "collapsed_sections": []
    },
    "kernelspec": {
      "name": "python3",
      "display_name": "Python 3"
    },
    "accelerator": "GPU"
  },
  "cells": [
    {
      "cell_type": "code",
      "metadata": {
        "id": "qC6xvNZ3_xhd",
        "colab_type": "code",
        "outputId": "da81774c-f7e3-44b2-de8b-06ff70c9bfac",
        "colab": {
          "base_uri": "https://localhost:8080/",
          "height": 51
        }
      },
      "source": [
        "# #unzip data\n",
        "!unzip test.zip\n",
        "!unzip train.zip"
      ],
      "execution_count": 0,
      "outputs": [
        {
          "output_type": "stream",
          "text": [
            "unzip:  cannot find or open test.zip, test.zip.zip or test.zip.ZIP.\n",
            "unzip:  cannot find or open train.zip, train.zip.zip or train.zip.ZIP.\n"
          ],
          "name": "stdout"
        }
      ]
    },
    {
      "cell_type": "code",
      "metadata": {
        "id": "jHf0em6PAANZ",
        "colab_type": "code",
        "colab": {}
      },
      "source": [
        "#import libraries\n",
        "import pandas as pd\n",
        "import numpy as np \n",
        "import matplotlib.pyplot as plt \n",
        "import seaborn as sns\n",
        "%matplotlib inline\n",
        "from scipy import stats\n",
        "from sklearn.linear_model import LinearRegression"
      ],
      "execution_count": 0,
      "outputs": []
    },
    {
      "cell_type": "code",
      "metadata": {
        "id": "n6vY3jvOAEUN",
        "colab_type": "code",
        "outputId": "7c837f85-4204-4a11-f0be-c015c4a73297",
        "colab": {
          "base_uri": "https://localhost:8080/",
          "height": 391
        }
      },
      "source": [
        "df_train=pd.read_csv('train.csv')\n",
        "df_test=pd.read_csv('test.csv')"
      ],
      "execution_count": 0,
      "outputs": [
        {
          "output_type": "error",
          "ename": "FileNotFoundError",
          "evalue": "ignored",
          "traceback": [
            "\u001b[0;31m---------------------------------------------------------------------------\u001b[0m",
            "\u001b[0;31mFileNotFoundError\u001b[0m                         Traceback (most recent call last)",
            "\u001b[0;32m<ipython-input-3-013a36dafa49>\u001b[0m in \u001b[0;36m<module>\u001b[0;34m()\u001b[0m\n\u001b[0;32m----> 1\u001b[0;31m \u001b[0mdf_train\u001b[0m\u001b[0;34m=\u001b[0m\u001b[0mpd\u001b[0m\u001b[0;34m.\u001b[0m\u001b[0mread_csv\u001b[0m\u001b[0;34m(\u001b[0m\u001b[0;34m'train.csv'\u001b[0m\u001b[0;34m)\u001b[0m\u001b[0;34m\u001b[0m\u001b[0;34m\u001b[0m\u001b[0m\n\u001b[0m\u001b[1;32m      2\u001b[0m \u001b[0mdf_test\u001b[0m\u001b[0;34m=\u001b[0m\u001b[0mpd\u001b[0m\u001b[0;34m.\u001b[0m\u001b[0mread_csv\u001b[0m\u001b[0;34m(\u001b[0m\u001b[0;34m'test.csv'\u001b[0m\u001b[0;34m)\u001b[0m\u001b[0;34m\u001b[0m\u001b[0;34m\u001b[0m\u001b[0m\n",
            "\u001b[0;32m/usr/local/lib/python3.6/dist-packages/pandas/io/parsers.py\u001b[0m in \u001b[0;36mparser_f\u001b[0;34m(filepath_or_buffer, sep, delimiter, header, names, index_col, usecols, squeeze, prefix, mangle_dupe_cols, dtype, engine, converters, true_values, false_values, skipinitialspace, skiprows, skipfooter, nrows, na_values, keep_default_na, na_filter, verbose, skip_blank_lines, parse_dates, infer_datetime_format, keep_date_col, date_parser, dayfirst, iterator, chunksize, compression, thousands, decimal, lineterminator, quotechar, quoting, doublequote, escapechar, comment, encoding, dialect, tupleize_cols, error_bad_lines, warn_bad_lines, delim_whitespace, low_memory, memory_map, float_precision)\u001b[0m\n\u001b[1;32m    700\u001b[0m                     skip_blank_lines=skip_blank_lines)\n\u001b[1;32m    701\u001b[0m \u001b[0;34m\u001b[0m\u001b[0m\n\u001b[0;32m--> 702\u001b[0;31m         \u001b[0;32mreturn\u001b[0m \u001b[0m_read\u001b[0m\u001b[0;34m(\u001b[0m\u001b[0mfilepath_or_buffer\u001b[0m\u001b[0;34m,\u001b[0m \u001b[0mkwds\u001b[0m\u001b[0;34m)\u001b[0m\u001b[0;34m\u001b[0m\u001b[0;34m\u001b[0m\u001b[0m\n\u001b[0m\u001b[1;32m    703\u001b[0m \u001b[0;34m\u001b[0m\u001b[0m\n\u001b[1;32m    704\u001b[0m     \u001b[0mparser_f\u001b[0m\u001b[0;34m.\u001b[0m\u001b[0m__name__\u001b[0m \u001b[0;34m=\u001b[0m \u001b[0mname\u001b[0m\u001b[0;34m\u001b[0m\u001b[0;34m\u001b[0m\u001b[0m\n",
            "\u001b[0;32m/usr/local/lib/python3.6/dist-packages/pandas/io/parsers.py\u001b[0m in \u001b[0;36m_read\u001b[0;34m(filepath_or_buffer, kwds)\u001b[0m\n\u001b[1;32m    427\u001b[0m \u001b[0;34m\u001b[0m\u001b[0m\n\u001b[1;32m    428\u001b[0m     \u001b[0;31m# Create the parser.\u001b[0m\u001b[0;34m\u001b[0m\u001b[0;34m\u001b[0m\u001b[0;34m\u001b[0m\u001b[0m\n\u001b[0;32m--> 429\u001b[0;31m     \u001b[0mparser\u001b[0m \u001b[0;34m=\u001b[0m \u001b[0mTextFileReader\u001b[0m\u001b[0;34m(\u001b[0m\u001b[0mfilepath_or_buffer\u001b[0m\u001b[0;34m,\u001b[0m \u001b[0;34m**\u001b[0m\u001b[0mkwds\u001b[0m\u001b[0;34m)\u001b[0m\u001b[0;34m\u001b[0m\u001b[0;34m\u001b[0m\u001b[0m\n\u001b[0m\u001b[1;32m    430\u001b[0m \u001b[0;34m\u001b[0m\u001b[0m\n\u001b[1;32m    431\u001b[0m     \u001b[0;32mif\u001b[0m \u001b[0mchunksize\u001b[0m \u001b[0;32mor\u001b[0m \u001b[0miterator\u001b[0m\u001b[0;34m:\u001b[0m\u001b[0;34m\u001b[0m\u001b[0;34m\u001b[0m\u001b[0m\n",
            "\u001b[0;32m/usr/local/lib/python3.6/dist-packages/pandas/io/parsers.py\u001b[0m in \u001b[0;36m__init__\u001b[0;34m(self, f, engine, **kwds)\u001b[0m\n\u001b[1;32m    893\u001b[0m             \u001b[0mself\u001b[0m\u001b[0;34m.\u001b[0m\u001b[0moptions\u001b[0m\u001b[0;34m[\u001b[0m\u001b[0;34m'has_index_names'\u001b[0m\u001b[0;34m]\u001b[0m \u001b[0;34m=\u001b[0m \u001b[0mkwds\u001b[0m\u001b[0;34m[\u001b[0m\u001b[0;34m'has_index_names'\u001b[0m\u001b[0;34m]\u001b[0m\u001b[0;34m\u001b[0m\u001b[0;34m\u001b[0m\u001b[0m\n\u001b[1;32m    894\u001b[0m \u001b[0;34m\u001b[0m\u001b[0m\n\u001b[0;32m--> 895\u001b[0;31m         \u001b[0mself\u001b[0m\u001b[0;34m.\u001b[0m\u001b[0m_make_engine\u001b[0m\u001b[0;34m(\u001b[0m\u001b[0mself\u001b[0m\u001b[0;34m.\u001b[0m\u001b[0mengine\u001b[0m\u001b[0;34m)\u001b[0m\u001b[0;34m\u001b[0m\u001b[0;34m\u001b[0m\u001b[0m\n\u001b[0m\u001b[1;32m    896\u001b[0m \u001b[0;34m\u001b[0m\u001b[0m\n\u001b[1;32m    897\u001b[0m     \u001b[0;32mdef\u001b[0m \u001b[0mclose\u001b[0m\u001b[0;34m(\u001b[0m\u001b[0mself\u001b[0m\u001b[0;34m)\u001b[0m\u001b[0;34m:\u001b[0m\u001b[0;34m\u001b[0m\u001b[0;34m\u001b[0m\u001b[0m\n",
            "\u001b[0;32m/usr/local/lib/python3.6/dist-packages/pandas/io/parsers.py\u001b[0m in \u001b[0;36m_make_engine\u001b[0;34m(self, engine)\u001b[0m\n\u001b[1;32m   1120\u001b[0m     \u001b[0;32mdef\u001b[0m \u001b[0m_make_engine\u001b[0m\u001b[0;34m(\u001b[0m\u001b[0mself\u001b[0m\u001b[0;34m,\u001b[0m \u001b[0mengine\u001b[0m\u001b[0;34m=\u001b[0m\u001b[0;34m'c'\u001b[0m\u001b[0;34m)\u001b[0m\u001b[0;34m:\u001b[0m\u001b[0;34m\u001b[0m\u001b[0;34m\u001b[0m\u001b[0m\n\u001b[1;32m   1121\u001b[0m         \u001b[0;32mif\u001b[0m \u001b[0mengine\u001b[0m \u001b[0;34m==\u001b[0m \u001b[0;34m'c'\u001b[0m\u001b[0;34m:\u001b[0m\u001b[0;34m\u001b[0m\u001b[0;34m\u001b[0m\u001b[0m\n\u001b[0;32m-> 1122\u001b[0;31m             \u001b[0mself\u001b[0m\u001b[0;34m.\u001b[0m\u001b[0m_engine\u001b[0m \u001b[0;34m=\u001b[0m \u001b[0mCParserWrapper\u001b[0m\u001b[0;34m(\u001b[0m\u001b[0mself\u001b[0m\u001b[0;34m.\u001b[0m\u001b[0mf\u001b[0m\u001b[0;34m,\u001b[0m \u001b[0;34m**\u001b[0m\u001b[0mself\u001b[0m\u001b[0;34m.\u001b[0m\u001b[0moptions\u001b[0m\u001b[0;34m)\u001b[0m\u001b[0;34m\u001b[0m\u001b[0;34m\u001b[0m\u001b[0m\n\u001b[0m\u001b[1;32m   1123\u001b[0m         \u001b[0;32melse\u001b[0m\u001b[0;34m:\u001b[0m\u001b[0;34m\u001b[0m\u001b[0;34m\u001b[0m\u001b[0m\n\u001b[1;32m   1124\u001b[0m             \u001b[0;32mif\u001b[0m \u001b[0mengine\u001b[0m \u001b[0;34m==\u001b[0m \u001b[0;34m'python'\u001b[0m\u001b[0;34m:\u001b[0m\u001b[0;34m\u001b[0m\u001b[0;34m\u001b[0m\u001b[0m\n",
            "\u001b[0;32m/usr/local/lib/python3.6/dist-packages/pandas/io/parsers.py\u001b[0m in \u001b[0;36m__init__\u001b[0;34m(self, src, **kwds)\u001b[0m\n\u001b[1;32m   1851\u001b[0m         \u001b[0mkwds\u001b[0m\u001b[0;34m[\u001b[0m\u001b[0;34m'usecols'\u001b[0m\u001b[0;34m]\u001b[0m \u001b[0;34m=\u001b[0m \u001b[0mself\u001b[0m\u001b[0;34m.\u001b[0m\u001b[0musecols\u001b[0m\u001b[0;34m\u001b[0m\u001b[0;34m\u001b[0m\u001b[0m\n\u001b[1;32m   1852\u001b[0m \u001b[0;34m\u001b[0m\u001b[0m\n\u001b[0;32m-> 1853\u001b[0;31m         \u001b[0mself\u001b[0m\u001b[0;34m.\u001b[0m\u001b[0m_reader\u001b[0m \u001b[0;34m=\u001b[0m \u001b[0mparsers\u001b[0m\u001b[0;34m.\u001b[0m\u001b[0mTextReader\u001b[0m\u001b[0;34m(\u001b[0m\u001b[0msrc\u001b[0m\u001b[0;34m,\u001b[0m \u001b[0;34m**\u001b[0m\u001b[0mkwds\u001b[0m\u001b[0;34m)\u001b[0m\u001b[0;34m\u001b[0m\u001b[0;34m\u001b[0m\u001b[0m\n\u001b[0m\u001b[1;32m   1854\u001b[0m         \u001b[0mself\u001b[0m\u001b[0;34m.\u001b[0m\u001b[0munnamed_cols\u001b[0m \u001b[0;34m=\u001b[0m \u001b[0mself\u001b[0m\u001b[0;34m.\u001b[0m\u001b[0m_reader\u001b[0m\u001b[0;34m.\u001b[0m\u001b[0munnamed_cols\u001b[0m\u001b[0;34m\u001b[0m\u001b[0;34m\u001b[0m\u001b[0m\n\u001b[1;32m   1855\u001b[0m \u001b[0;34m\u001b[0m\u001b[0m\n",
            "\u001b[0;32mpandas/_libs/parsers.pyx\u001b[0m in \u001b[0;36mpandas._libs.parsers.TextReader.__cinit__\u001b[0;34m()\u001b[0m\n",
            "\u001b[0;32mpandas/_libs/parsers.pyx\u001b[0m in \u001b[0;36mpandas._libs.parsers.TextReader._setup_parser_source\u001b[0;34m()\u001b[0m\n",
            "\u001b[0;31mFileNotFoundError\u001b[0m: [Errno 2] File b'train.csv' does not exist: b'train.csv'"
          ]
        }
      ]
    },
    {
      "cell_type": "code",
      "metadata": {
        "id": "URGrfJeQAEv4",
        "colab_type": "code",
        "colab": {}
      },
      "source": [
        "df_train.head()"
      ],
      "execution_count": 0,
      "outputs": []
    },
    {
      "cell_type": "code",
      "metadata": {
        "id": "vTxMQTrwAHhi",
        "colab_type": "code",
        "colab": {}
      },
      "source": [
        "# for i in df_train[]:\n",
        "#   print(\"unique values in: \",df_train['i'],\":\",df_train[i].unique())\n",
        "cols=list(df_train)\n",
        "cols"
      ],
      "execution_count": 0,
      "outputs": []
    },
    {
      "cell_type": "code",
      "metadata": {
        "id": "v6iKkIt7Ap1G",
        "colab_type": "code",
        "colab": {}
      },
      "source": [
        "#Unique entries in every coloumns\n",
        "for i in cols:\n",
        "  print(i,df_train[i].unique())"
      ],
      "execution_count": 0,
      "outputs": []
    },
    {
      "cell_type": "code",
      "metadata": {
        "id": "B7ahNk_LCnwk",
        "colab_type": "code",
        "colab": {}
      },
      "source": [
        "#Number of Unique entries\n",
        "for i in cols:\n",
        "  print(i,\":\",df_train[i].nunique())"
      ],
      "execution_count": 0,
      "outputs": []
    },
    {
      "cell_type": "code",
      "metadata": {
        "id": "80HzmBkjDZSP",
        "colab_type": "code",
        "colab": {}
      },
      "source": [
        "# 1. Which product category and store had the highest sales?\n",
        "#sort data acc to cities\n",
        "citya=df_train[df_train['City_Category']=='A']\n",
        "cityb=df_train[df_train['City_Category']=='B']\n",
        "cityc=df_train[df_train['City_Category']=='C']"
      ],
      "execution_count": 0,
      "outputs": []
    },
    {
      "cell_type": "code",
      "metadata": {
        "id": "_xHQKfpBFRli",
        "colab_type": "code",
        "colab": {}
      },
      "source": [
        "cityc.head(2)"
      ],
      "execution_count": 0,
      "outputs": []
    },
    {
      "cell_type": "code",
      "metadata": {
        "id": "cYagOXE-GKvK",
        "colab_type": "code",
        "colab": {}
      },
      "source": [
        "pura=citya['Purchase'].sum()\n",
        "purb=cityb['Purchase'].sum()\n",
        "purc=cityc['Purchase'].sum()\n",
        "print(\"Purchase in City A Stores:\",pura)\n",
        "print(\"Purchase in City B Stores:\",purb)\n",
        "print(\"Purchase in City C Stores:\",purc)"
      ],
      "execution_count": 0,
      "outputs": []
    },
    {
      "cell_type": "code",
      "metadata": {
        "id": "z2ObvLlNIOhF",
        "colab_type": "code",
        "colab": {}
      },
      "source": [
        "#CITY A ANALYSIS\n",
        "prod1=citya.filter(['Product_Category_1'],axis=1)\n",
        "prod2=citya.filter(['Product_Category_2'],axis=1)\n",
        "prod3=citya.filter(['Product_Category_3'],axis=1)\n",
        "# new = old.filter(['A','B','D'], axis=1)\n",
        "prod2.dropna(inplace=True)\n",
        "prod3.dropna(inplace=True)"
      ],
      "execution_count": 0,
      "outputs": []
    },
    {
      "cell_type": "code",
      "metadata": {
        "id": "s1kOj6viBVAt",
        "colab_type": "code",
        "colab": {}
      },
      "source": [
        "#Clean Data\n",
        "df_train['Product_Category_2'].fillna(-1,inplace=True)\n",
        "df_train['Product_Category_3'].fillna(-1,inplace=True)\n",
        "df_train['Product_Category_2']=df_train['Product_Category_2'].astype('int64')\n",
        "df_train['Product_Category_1']=df_train['Product_Category_1'].astype('int64')\n",
        "df_train['Product_Category_3']=df_train['Product_Category_3'].astype('int64')\n",
        "# df_train.head()\n",
        "df_train['Product_Category_2'].dtype"
      ],
      "execution_count": 0,
      "outputs": []
    },
    {
      "cell_type": "code",
      "metadata": {
        "id": "QMTV6Gj8dDJS",
        "colab_type": "code",
        "colab": {}
      },
      "source": [
        "prod2['Product_Category_2']=prod2['Product_Category_2'].astype('int64')\n",
        "prod3['Product_Category_3']=prod3['Product_Category_3'].astype('int64')\n",
        "# df_train['Product_Category_3']=df_train['Product_Category_3'].astype('int64')"
      ],
      "execution_count": 0,
      "outputs": []
    },
    {
      "cell_type": "code",
      "metadata": {
        "id": "HimbXOt4dt0t",
        "colab_type": "code",
        "colab": {}
      },
      "source": [
        "# Number of Products bought according to the data\n",
        "nprod1=len(prod1.index)\n",
        "nprod2=len(prod2.index)\n",
        "nprod3=len(prod3.index)\n",
        "total=nprod1+nprod2+nprod3"
      ],
      "execution_count": 0,
      "outputs": []
    },
    {
      "cell_type": "code",
      "metadata": {
        "id": "MZ1PVqGGebgO",
        "colab_type": "code",
        "colab": {}
      },
      "source": [
        "# Data for Visualization\n",
        "plotdata=[nprod1,nprod2,nprod3]\n",
        "# plotdata=pd.DataFrame(plotdata)\n",
        "# plotdata=plotdata.transpose()\n",
        "# plotdata.set_index(1)"
      ],
      "execution_count": 0,
      "outputs": []
    },
    {
      "cell_type": "code",
      "metadata": {
        "id": "HQxPu5rTfhli",
        "colab_type": "code",
        "colab": {}
      },
      "source": [
        "#Pie Chart\n",
        "plt.pie(plotdata,labels=['Product 1','Product 2','Product 3'],explode = (0, 0.1, 0.2,),autopct='%1.1f%%')\n",
        "plt.legend(bbox_to_anchor=(1,1))"
      ],
      "execution_count": 0,
      "outputs": []
    },
    {
      "cell_type": "code",
      "metadata": {
        "id": "ltcyoFMBh5zq",
        "colab_type": "code",
        "colab": {}
      },
      "source": [
        "#CITY B ANALYSIS\n",
        "produ1=cityb.filter(['Product_Category_1'],axis=1)\n",
        "produ2=cityb.filter(['Product_Category_2'],axis=1)\n",
        "produ3=cityb.filter(['Product_Category_3'],axis=1)\n",
        "# new = old.filter(['A','B','D'], axis=1)\n",
        "produ2.dropna(inplace=True)\n",
        "produ3.dropna(inplace=True)"
      ],
      "execution_count": 0,
      "outputs": []
    },
    {
      "cell_type": "code",
      "metadata": {
        "id": "ynYsYHzKh5-4",
        "colab_type": "code",
        "colab": {}
      },
      "source": [
        "produ2['Product_Category_2']=produ2['Product_Category_2'].astype('int64')\n",
        "produ3['Product_Category_3']=produ3['Product_Category_3'].astype('int64')\n",
        "# df_train['Product_Category_3']=df_train['Product_Category_3'].astype('int64')"
      ],
      "execution_count": 0,
      "outputs": []
    },
    {
      "cell_type": "code",
      "metadata": {
        "id": "ypMnjzQTh6IW",
        "colab_type": "code",
        "colab": {}
      },
      "source": [
        "# Number of Products bought according to the data\n",
        "nprodu1=len(produ1.index)\n",
        "nprodu2=len(produ2.index)\n",
        "nprodu3=len(produ3.index)\n",
        "total=nprodu1+nprodu2+nprodu3"
      ],
      "execution_count": 0,
      "outputs": []
    },
    {
      "cell_type": "code",
      "metadata": {
        "id": "fkQ7jOaxh6OI",
        "colab_type": "code",
        "colab": {}
      },
      "source": [
        "# Data for Visualization\n",
        "plotdatau=[nprodu1,nprodu2,nprodu3]\n",
        "# plotdata=pd.DataFrame(plotdata)\n",
        "# plotdata=plotdata.transpose()\n",
        "# plotdata.set_index(1)"
      ],
      "execution_count": 0,
      "outputs": []
    },
    {
      "cell_type": "code",
      "metadata": {
        "id": "ZaZOWxw_h6Tq",
        "colab_type": "code",
        "colab": {}
      },
      "source": [
        "#Pie Chart\n",
        "plt.pie(plotdatau,labels=['Product 1','Product 2','Product 3'],explode = (0, 0.1, 0.2,),autopct='%1.1f%%')\n",
        "plt.legend(bbox_to_anchor=(1,1))"
      ],
      "execution_count": 0,
      "outputs": []
    },
    {
      "cell_type": "code",
      "metadata": {
        "id": "2tX_Lo_yh6XR",
        "colab_type": "code",
        "colab": {}
      },
      "source": [
        "#CITY C ANALYSIS\n",
        "produc1=cityc.filter(['Product_Category_1'],axis=1)\n",
        "produc2=cityc.filter(['Product_Category_2'],axis=1)\n",
        "produc3=cityc.filter(['Product_Category_3'],axis=1)\n",
        "# new = old.filter(['A','B','D'], axis=1)\n",
        "produc2.dropna(inplace=True)\n",
        "produc3.dropna(inplace=True)"
      ],
      "execution_count": 0,
      "outputs": []
    },
    {
      "cell_type": "code",
      "metadata": {
        "id": "os2aSOXuh6bO",
        "colab_type": "code",
        "colab": {}
      },
      "source": [
        "produc2['Product_Category_2']=produc2['Product_Category_2'].astype('int64')\n",
        "produc3['Product_Category_3']=produc3['Product_Category_3'].astype('int64')\n",
        "# df_train['Product_Category_3']=df_train['Product_Category_3'].astype('int64')"
      ],
      "execution_count": 0,
      "outputs": []
    },
    {
      "cell_type": "code",
      "metadata": {
        "id": "CI2vT_jIh6fF",
        "colab_type": "code",
        "colab": {}
      },
      "source": [
        "# Number of Products bought according to the data\n",
        "nproduc1=len(produc1.index)\n",
        "nproduc2=len(produc2.index)\n",
        "nproduc3=len(produc3.index)\n",
        "total=nproduc1+nproduc2+nproduc3"
      ],
      "execution_count": 0,
      "outputs": []
    },
    {
      "cell_type": "code",
      "metadata": {
        "id": "e0DOFVA2jqnC",
        "colab_type": "code",
        "colab": {}
      },
      "source": [
        "# Data for Visualization\n",
        "plotdatauc=[nproduc1,nproduc2,nproduc3]\n",
        "# plotdata=pd.DataFrame(plotdata)\n",
        "# plotdata=plotdata.transpose()\n",
        "# plotdata.set_index(1)"
      ],
      "execution_count": 0,
      "outputs": []
    },
    {
      "cell_type": "code",
      "metadata": {
        "id": "BGVUMun8jqvB",
        "colab_type": "code",
        "colab": {}
      },
      "source": [
        "#Pie Chart\n",
        "plt.pie(plotdatauc,labels=['Product 1','Product 2','Product 3'],explode = (0, 0.1, 0.2,),autopct='%1.1f%%')\n",
        "plt.legend(bbox_to_anchor=(1,1))"
      ],
      "execution_count": 0,
      "outputs": []
    },
    {
      "cell_type": "code",
      "metadata": {
        "id": "U9Sq0TIdjqze",
        "colab_type": "code",
        "colab": {}
      },
      "source": [
        "print(\"--------------------------------------------------------------------------------------------------------------------\")"
      ],
      "execution_count": 0,
      "outputs": []
    },
    {
      "cell_type": "code",
      "metadata": {
        "id": "ZCwQQBjrGGu2",
        "colab_type": "code",
        "colab": {}
      },
      "source": [
        "print(\"Number of unique customers in city A:\")\n",
        "print(citya[['User_ID']].nunique())\n",
        "print(\"Number of unique customers in city B:\")\n",
        "print(cityb[['User_ID']].nunique())\n",
        "print(\"Number of unique customers in city C:\")\n",
        "print(cityc[['User_ID']].nunique())"
      ],
      "execution_count": 0,
      "outputs": []
    },
    {
      "cell_type": "code",
      "metadata": {
        "id": "0Z3K2RZtkLz9",
        "colab_type": "code",
        "colab": {}
      },
      "source": [
        "# 2. What products usually buy families and single people?"
      ],
      "execution_count": 0,
      "outputs": []
    },
    {
      "cell_type": "code",
      "metadata": {
        "id": "u2o2WbW0kdOD",
        "colab_type": "code",
        "colab": {}
      },
      "source": [
        "mar_count=df_train[df_train['Marital_Status']==1].count()[0]         #Marriedcount\n",
        "unmar_count=df_train[df_train['Marital_Status']==0].count()[0]       #UnmarriedCount\n",
        "male=df_train[df_train['Gender']=='M'].count()[0]                    #MaleCount\n",
        "female=df_train[df_train['Gender']=='F'].count()[0]                  #FemaleCount"
      ],
      "execution_count": 0,
      "outputs": []
    },
    {
      "cell_type": "code",
      "metadata": {
        "id": "Mt8F6bTTkvHe",
        "colab_type": "code",
        "colab": {}
      },
      "source": [
        "prod1=df_train['Product_Category_1'].unique()\n",
        "prod1.sort()\n",
        "prod1"
      ],
      "execution_count": 0,
      "outputs": []
    },
    {
      "cell_type": "code",
      "metadata": {
        "id": "S2klUlIOmLia",
        "colab_type": "code",
        "colab": {}
      },
      "source": [
        "prod2=df_train['Product_Category_2'].unique()\n",
        "prod2.sort()\n",
        "prod2=np.delete(prod2,0)"
      ],
      "execution_count": 0,
      "outputs": []
    },
    {
      "cell_type": "code",
      "metadata": {
        "id": "ehrup6G6mc3q",
        "colab_type": "code",
        "colab": {}
      },
      "source": [
        "prod2"
      ],
      "execution_count": 0,
      "outputs": []
    },
    {
      "cell_type": "code",
      "metadata": {
        "id": "7LvrdbcPm0To",
        "colab_type": "code",
        "colab": {}
      },
      "source": [
        "prod3=df_train['Product_Category_3'].unique()\n",
        "prod3.sort()\n",
        "prod3=np.delete(prod3,0)"
      ],
      "execution_count": 0,
      "outputs": []
    },
    {
      "cell_type": "code",
      "metadata": {
        "id": "-QyK3MGgnbI9",
        "colab_type": "code",
        "colab": {}
      },
      "source": [
        "prod3"
      ],
      "execution_count": 0,
      "outputs": []
    },
    {
      "cell_type": "code",
      "metadata": {
        "id": "u4WvQ7azpnx2",
        "colab_type": "code",
        "colab": {}
      },
      "source": [
        "marrprod=df_train[df_train['Marital_Status']==1]\n",
        "notmarrprod=df_train[df_train['Marital_Status']==0]"
      ],
      "execution_count": 0,
      "outputs": []
    },
    {
      "cell_type": "code",
      "metadata": {
        "id": "gozie_Xjnbsl",
        "colab_type": "code",
        "colab": {}
      },
      "source": [
        "####################PRODUCT 1 FOR MARRIED COUPLES ########################################\n",
        "prod=0\n",
        "max_c=0\n",
        "for i in prod1:\n",
        "  b=marrprod[marrprod['Product_Category_1']==i]\n",
        "  count=len(b.index)\n",
        "  print(i,\" has been brought \",count,\" times\")\n",
        "  if(max_c<count):\n",
        "    max_c=count\n",
        "    prod=i\n",
        "    \n",
        "  \n",
        "print(\"___________________________________________________________________________________\")\n",
        "print(\"Married couples bought product\",prod,\"maximum times\")\n",
        "print(\"___________________________________________________________________________________\")"
      ],
      "execution_count": 0,
      "outputs": []
    },
    {
      "cell_type": "code",
      "metadata": {
        "id": "p7C76HjDnpSZ",
        "colab_type": "code",
        "colab": {}
      },
      "source": [
        "####################PRODUCT 1 FOR UNMARRIED COUPLES ########################################\n",
        "prod=0\n",
        "max_c=0\n",
        "for i in prod1:\n",
        "  b=notmarrprod[notmarrprod['Product_Category_1']==i]\n",
        "  count=len(b.index)\n",
        "  print(i,\" has been brought \",count,\" times\")\n",
        "  if(max_c<count):\n",
        "    max_c=count\n",
        "    prod=i\n",
        "    \n",
        "  \n",
        "print(\"___________________________________________________________________________________\")\n",
        "print(\"Not Married couples bought product\",prod,\"maximum times\")\n",
        "print(\"___________________________________________________________________________________\")"
      ],
      "execution_count": 0,
      "outputs": []
    },
    {
      "cell_type": "code",
      "metadata": {
        "id": "Ahq01ODtCGap",
        "colab_type": "code",
        "colab": {}
      },
      "source": [
        "####################PRODUCT 2 FOR MARRIED COUPLES ########################################\n",
        "prod=0\n",
        "max_c=0\n",
        "for i in prod2:\n",
        "  b=marrprod[marrprod['Product_Category_2']==i]\n",
        "  count=len(b.index)\n",
        "  print(i,\" has been brought \",count,\" times\")\n",
        "  if(max_c<count):\n",
        "    max_c=count\n",
        "    prod=i\n",
        "    \n",
        "  \n",
        "print(\"___________________________________________________________________________________\")\n",
        "print(\"Married couples bought product\",prod,\"maximum times\")\n",
        "print(\"___________________________________________________________________________________\")"
      ],
      "execution_count": 0,
      "outputs": []
    },
    {
      "cell_type": "code",
      "metadata": {
        "id": "kmgYrVJQCGhk",
        "colab_type": "code",
        "colab": {}
      },
      "source": [
        "####################PRODUCT 2 FOR UNMARRIED COUPLES ########################################\n",
        "prod=0\n",
        "max_c=0\n",
        "for i in prod2:\n",
        "  b=notmarrprod[notmarrprod['Product_Category_2']==i]\n",
        "  count=len(b.index)\n",
        "  print(i,\" has been brought \",count,\" times\")\n",
        "  if(max_c<count):\n",
        "    max_c=count\n",
        "    prod=i\n",
        "    \n",
        "  \n",
        "print(\"___________________________________________________________________________________\")\n",
        "print(\"Not Married couples bought product\",prod,\"maximum times\")\n",
        "print(\"___________________________________________________________________________________\")"
      ],
      "execution_count": 0,
      "outputs": []
    },
    {
      "cell_type": "code",
      "metadata": {
        "id": "x50DJ8PvCGo6",
        "colab_type": "code",
        "colab": {}
      },
      "source": [
        "####################PRODUCT 3 FOR MARRIED COUPLES ########################################\n",
        "prod=0\n",
        "max_c=0\n",
        "for i in prod3:\n",
        "  b=marrprod[marrprod['Product_Category_3']==i]\n",
        "  count=len(b.index)\n",
        "  print(i,\" has been brought \",count,\" times\")\n",
        "  if(max_c<count):\n",
        "    max_c=count\n",
        "    prod=i\n",
        "    \n",
        "  \n",
        "print(\"___________________________________________________________________________________\")\n",
        "print(\"Married couples bought product\",prod,\"maximum times\")\n",
        "print(\"___________________________________________________________________________________\")"
      ],
      "execution_count": 0,
      "outputs": []
    },
    {
      "cell_type": "code",
      "metadata": {
        "id": "KyUQQJ-2CGus",
        "colab_type": "code",
        "colab": {}
      },
      "source": [
        "####################PRODUCT 3 FOR UNMARRIED COUPLES ########################################\n",
        "prod=0\n",
        "max_c=0\n",
        "for i in prod3:\n",
        "  b=notmarrprod[notmarrprod['Product_Category_3']==i]\n",
        "  count=len(b.index)\n",
        "  print(i,\" has been brought \",count,\" times\")\n",
        "  if(max_c<count):\n",
        "    max_c=count\n",
        "    prod=i\n",
        "    \n",
        "  \n",
        "print(\"___________________________________________________________________________________\")\n",
        "print(\"Not Married couples bought product\",prod,\"maximum times\")\n",
        "print(\"___________________________________________________________________________________\")"
      ],
      "execution_count": 0,
      "outputs": []
    },
    {
      "cell_type": "code",
      "metadata": {
        "id": "Ai2mRKnlrJeT",
        "colab_type": "code",
        "colab": {}
      },
      "source": [
        "# 3. According to age and sex what are the most bought products?"
      ],
      "execution_count": 0,
      "outputs": []
    },
    {
      "cell_type": "code",
      "metadata": {
        "id": "HXG4fBA52_4E",
        "colab_type": "code",
        "colab": {}
      },
      "source": [
        "sns.countplot(df_train['Age'])"
      ],
      "execution_count": 0,
      "outputs": []
    },
    {
      "cell_type": "code",
      "metadata": {
        "id": "dHIvnB_c3AMe",
        "colab_type": "code",
        "colab": {}
      },
      "source": [
        "sns.countplot(df_train['Age'],hue=df_train['Gender'])"
      ],
      "execution_count": 0,
      "outputs": []
    },
    {
      "cell_type": "code",
      "metadata": {
        "id": "xEzQdsCV3L2v",
        "colab_type": "code",
        "colab": {}
      },
      "source": [
        "dfage=df_train['Age'].unique()\n",
        "dfage"
      ],
      "execution_count": 0,
      "outputs": []
    },
    {
      "cell_type": "code",
      "metadata": {
        "id": "Ud23qQoHlZSn",
        "colab_type": "code",
        "colab": {}
      },
      "source": [
        "df_train[\"Product_Category_2\"] = df_train[\"Product_Category_2\"].astype(int)\n",
        "df_train[\"Product_Category_3\"] = df_train[\"Product_Category_3\"].astype(int)"
      ],
      "execution_count": 0,
      "outputs": []
    },
    {
      "cell_type": "code",
      "metadata": {
        "id": "AqtWjQxv_G_s",
        "colab_type": "code",
        "colab": {}
      },
      "source": [
        "df_train[\"Product_Category_2\"].replace(-1,float('nan'),inplace=True)\n",
        "df_train[\"Product_Category_3\"].replace(-1,float('nan'),inplace=True)"
      ],
      "execution_count": 0,
      "outputs": []
    },
    {
      "cell_type": "code",
      "metadata": {
        "id": "PNn0JZHx_UrS",
        "colab_type": "code",
        "colab": {}
      },
      "source": [
        "df_train['Age_Encoded'] = df_train['Age'].map({'0-17':0,'18-25':1,\n",
        "                          '26-35':2,'36-45':3,\n",
        "                          '46-50':4,'51-55':5,\n",
        "                          '55+':6})"
      ],
      "execution_count": 0,
      "outputs": []
    },
    {
      "cell_type": "code",
      "metadata": {
        "id": "Nf-2r1IV_0Pu",
        "colab_type": "code",
        "colab": {}
      },
      "source": [
        "age=df_train['Age_Encoded'].unique()"
      ],
      "execution_count": 0,
      "outputs": []
    },
    {
      "cell_type": "code",
      "metadata": {
        "id": "gjaX8NSYBeTL",
        "colab_type": "code",
        "colab": {}
      },
      "source": [
        "df_train.head(3)"
      ],
      "execution_count": 0,
      "outputs": []
    },
    {
      "cell_type": "code",
      "metadata": {
        "id": "GlCXLfCTARKp",
        "colab_type": "code",
        "colab": {}
      },
      "source": [
        "################################## FEMALE & AGE PRODUCT SOLD #######################################\n",
        "for i in age:\n",
        "  newdf=df_train[(df_train['Age_Encoded']==i)&(df_train['Gender']=='F')]\n",
        "  pd1=newdf['Product_Category_1'].mode()\n",
        "  pd1=np.array(pd1)\n",
        "  count1=newdf['Product_Category_1'].value_counts()\n",
        "  count1=pd.DataFrame(count1)\n",
        "  count1.reset_index()\n",
        "  x=count1['Product_Category_1'].max()\n",
        "  l1='Product Category 1 number:',pd1[0]\n",
        "\n",
        "  newdr2=newdf\n",
        "  newdr2['Product_Category_2'].dropna(inplace=True)\n",
        "  pd2=newdr2['Product_Category_2'].mode()\n",
        "  pd2=np.array(pd2)\n",
        "  count2=newdf['Product_Category_2'].value_counts()\n",
        "  count2=pd.DataFrame(count2)\n",
        "  count2.reset_index()\n",
        "  y=count2['Product_Category_2'].max()\n",
        "  l2='Product Category 2 number:',pd2[0]\n",
        "  l2\n",
        "\n",
        "  newdr3=newdf\n",
        "  newdr3['Product_Category_3'].dropna(inplace=True)\n",
        "  pd3=newdr3['Product_Category_3'].mode()\n",
        "  pd3=np.array(pd3)\n",
        "  count3=newdf['Product_Category_3'].value_counts()\n",
        "  count3=pd.DataFrame(count3)\n",
        "  count3.reset_index()\n",
        "  z=count3['Product_Category_3'].max()\n",
        "  l3='Product Category 3 number:',pd3[0]\n",
        "  l3\n",
        "  pltdata=[x,y,z]\n",
        "\n",
        "  label=[l1,l2,l3]\n",
        "  plt.figure()\n",
        "  plt.title('product demand for age bin %i'%i)\n",
        "  plt.pie(pltdata,labels=label)\n",
        "  print('________________________________________________________________________________________')\n",
        "  "
      ],
      "execution_count": 0,
      "outputs": []
    },
    {
      "cell_type": "code",
      "metadata": {
        "id": "fYOYEA4DDvX8",
        "colab_type": "code",
        "colab": {}
      },
      "source": [
        "################################# MALE & AGE PRODUCT SOLD #######################################\n",
        "for i in age:\n",
        "  newdf=df_train[(df_train['Age_Encoded']==i)&(df_train['Gender']=='M')]\n",
        "  pd1=newdf['Product_Category_1'].mode()\n",
        "  pd1=np.array(pd1)\n",
        "  count1=newdf['Product_Category_1'].value_counts()\n",
        "  count1=pd.DataFrame(count1)\n",
        "  count1.reset_index()\n",
        "  x=count1['Product_Category_1'].max()\n",
        "  l1='Product Category 1 number:',pd1[0]\n",
        "\n",
        "  newdr2=newdf\n",
        "  newdr2['Product_Category_2'].dropna(inplace=True)\n",
        "  pd2=newdr2['Product_Category_2'].mode()\n",
        "  pd2=np.array(pd2)\n",
        "  count2=newdf['Product_Category_2'].value_counts()\n",
        "  count2=pd.DataFrame(count2)\n",
        "  count2.reset_index()\n",
        "  y=count2['Product_Category_2'].max()\n",
        "  l2='Product Category 2 number:',pd2[0]\n",
        "  l2\n",
        "\n",
        "  newdr3=newdf\n",
        "  newdr3['Product_Category_3'].dropna(inplace=True)\n",
        "  pd3=newdr3['Product_Category_3'].mode()\n",
        "  pd3=np.array(pd3)\n",
        "  count3=newdf['Product_Category_3'].value_counts()\n",
        "  count3=pd.DataFrame(count3)\n",
        "  count3.reset_index()\n",
        "  z=count3['Product_Category_3'].max()\n",
        "  l3='Product Category 3 number:',pd3[0]\n",
        "  l3\n",
        "  pltdata=[x,y,z]\n",
        "\n",
        "  label=[l1,l2,l3]\n",
        "  plt.figure()\n",
        "  plt.title('product demand for age bin %i'%i)\n",
        "  plt.pie(pltdata,labels=label)\n",
        "  print('________________________________________________________________________________________')\n",
        "  "
      ],
      "execution_count": 0,
      "outputs": []
    },
    {
      "cell_type": "code",
      "metadata": {
        "id": "8l-WU_f7FaVx",
        "colab_type": "code",
        "colab": {}
      },
      "source": [
        "#########################################################################################################################\n",
        "#########################################################################################################################\n",
        "#########################################################################################################################"
      ],
      "execution_count": 0,
      "outputs": []
    },
    {
      "cell_type": "code",
      "metadata": {
        "id": "7tZAAjM3qRM1",
        "colab_type": "code",
        "colab": {}
      },
      "source": [
        "df_train.head(4)"
      ],
      "execution_count": 0,
      "outputs": []
    },
    {
      "cell_type": "code",
      "metadata": {
        "id": "mBDFeM5EqqsF",
        "colab_type": "code",
        "colab": {}
      },
      "source": [
        "###################################### OCCUPATION REDUCTION AND EXPLORATION ######################################"
      ],
      "execution_count": 0,
      "outputs": []
    },
    {
      "cell_type": "code",
      "metadata": {
        "id": "dVgXMMBbq3tf",
        "colab_type": "code",
        "colab": {}
      },
      "source": [
        "occc=df_train['Occupation'].unique()\n",
        "occc.sort()\n",
        "occc"
      ],
      "execution_count": 0,
      "outputs": []
    },
    {
      "cell_type": "code",
      "metadata": {
        "id": "-0gDlJSOrbLp",
        "colab_type": "code",
        "colab": {}
      },
      "source": [
        "count=df_train['Occupation'].value_counts()\n",
        "count=pd.DataFrame(count)\n",
        "count.reset_index(inplace=True)\n",
        "count"
      ],
      "execution_count": 0,
      "outputs": []
    },
    {
      "cell_type": "code",
      "metadata": {
        "id": "DWN5EDFNtxyt",
        "colab_type": "code",
        "colab": {}
      },
      "source": [
        "count.rename(columns={'index':'Occ','Occupation':'Count'},inplace=True)\n",
        "count.sort_values(by='Occ',inplace=True)"
      ],
      "execution_count": 0,
      "outputs": []
    },
    {
      "cell_type": "code",
      "metadata": {
        "id": "5PZZbN-9uD-w",
        "colab_type": "code",
        "colab": {}
      },
      "source": [
        "plt.figure()\n",
        "plt.bar(count['Occ'],count['Count'],)"
      ],
      "execution_count": 0,
      "outputs": []
    },
    {
      "cell_type": "code",
      "metadata": {
        "id": "ggTBawokuVGa",
        "colab_type": "code",
        "colab": {}
      },
      "source": [
        "#As Occ number 8 9 18 13 19 Are Considerably less so they can be created into new data entry as others number=100\n",
        "df_train['Occupation'].replace(8,100,inplace=True)\n",
        "df_train['Occupation'].replace(9,100,inplace=True)\n",
        "df_train['Occupation'].replace(18,100,inplace=True)\n",
        "df_train['Occupation'].replace(13,100,inplace=True)\n",
        "df_train['Occupation'].replace(19,100,inplace=True)\n",
        "df_train['Occupation'].value_counts()"
      ],
      "execution_count": 0,
      "outputs": []
    },
    {
      "cell_type": "code",
      "metadata": {
        "id": "X2PjTITZ0hJ1",
        "colab_type": "code",
        "colab": {}
      },
      "source": [
        "sns.heatmap(df_train.corr())"
      ],
      "execution_count": 0,
      "outputs": []
    },
    {
      "cell_type": "code",
      "metadata": {
        "id": "C8qdiIzk0tdK",
        "colab_type": "code",
        "colab": {}
      },
      "source": [
        "occ=df_train['Occupation'].unique()\n",
        "occ"
      ],
      "execution_count": 0,
      "outputs": []
    },
    {
      "cell_type": "code",
      "metadata": {
        "id": "rYt7sqScFmsC",
        "colab_type": "code",
        "colab": {}
      },
      "source": [
        "ult=0\n",
        "cat=0\n",
        "catz=0\n",
        "mx=100000000\n",
        "for i in occ:\n",
        "  df_occ=df_train[df_train['Occupation']==i]\n",
        "  maxpur=df_occ['Purchase'].max()\n",
        "  minpur=df_occ['Purchase'].min()\n",
        "  ranges=maxpur-minpur\n",
        "  if (ult<=maxpur) :\n",
        "    ult=maxpur\n",
        "    cat=i\n",
        "  if (mx>=minpur) :\n",
        "    mx=maxpur\n",
        "    catz=i\n",
        "  print(\"Occupation Number:\",i)\n",
        "  print(\"Maximum Purchase:\",maxpur)\n",
        "  print(\"Minimum Purchase:\",minpur)\n",
        "  print(\"Range:\",ranges)\n",
        "  print(\"________________________________________________________________________________\")\n",
        "  \n",
        "  \n",
        "  \n",
        "  \n",
        "print(\"MAXIMUM AMONG ALL OCCUPATIONS:\",cat,\"Value:\",ult)\n",
        "print(\"MINIMUM AMONG ALL OCCUPATIONS:\",catz,\"Value:\",mx)\n",
        "  "
      ],
      "execution_count": 0,
      "outputs": []
    },
    {
      "cell_type": "code",
      "metadata": {
        "id": "W9_YDdDeLqE6",
        "colab_type": "code",
        "colab": {}
      },
      "source": [
        "############################Dummy Variable Creation one hot encoding for Gender#########################################\n",
        "df_trainj=pd.get_dummies(df_train['Gender'])\n",
        "df_trainj"
      ],
      "execution_count": 0,
      "outputs": []
    },
    {
      "cell_type": "code",
      "metadata": {
        "id": "ipmMd1_VO90X",
        "colab_type": "code",
        "colab": {}
      },
      "source": [
        "df_train['F']=df_trainj['F']\n",
        "df_train['M']=df_trainj['M']"
      ],
      "execution_count": 0,
      "outputs": []
    },
    {
      "cell_type": "code",
      "metadata": {
        "id": "44QQTm7wS7nO",
        "colab_type": "code",
        "colab": {}
      },
      "source": [
        "df_train.head()"
      ],
      "execution_count": 0,
      "outputs": []
    },
    {
      "cell_type": "code",
      "metadata": {
        "id": "-S54FniHJTzm",
        "colab_type": "code",
        "colab": {}
      },
      "source": [
        "df_train"
      ],
      "execution_count": 0,
      "outputs": []
    },
    {
      "cell_type": "code",
      "metadata": {
        "id": "VaLiXwY9dgSS",
        "colab_type": "code",
        "colab": {}
      },
      "source": [
        "######################################Change Age bins to numerical values#############################################\n",
        "def map_age(age):\n",
        "    if age == '0-17':\n",
        "        return 0\n",
        "    elif age == '18-25':\n",
        "        return 1\n",
        "    elif age == '26-35':\n",
        "        return 2\n",
        "    elif age == '36-45':\n",
        "        return 3\n",
        "    elif age == '46-50':\n",
        "        return 4\n",
        "    elif age == '55+':\n",
        "        return 5\n",
        "    else:\n",
        "        return 6\n",
        "\n",
        "      \n",
        "df_train['Age']=df_train['Age'].apply(map_age)\n",
        "df_train.head(30)"
      ],
      "execution_count": 0,
      "outputs": []
    },
    {
      "cell_type": "code",
      "metadata": {
        "id": "6eGB6LEUJzVK",
        "colab_type": "code",
        "colab": {}
      },
      "source": [
        "def map_city(city_category):\n",
        "    if city_category == 'A':\n",
        "        return 2\n",
        "    elif city_category == 'B':\n",
        "        return 1\n",
        "    else:\n",
        "        return 0\n",
        "df_train['City_Category'] = df_train['City_Category'].apply(map_city)\n",
        "\n",
        "df_train.head()"
      ],
      "execution_count": 0,
      "outputs": []
    },
    {
      "cell_type": "code",
      "metadata": {
        "id": "zL2uovKDJ0Xp",
        "colab_type": "code",
        "colab": {}
      },
      "source": [
        "df_train['Product_Category_2'].fillna(0,inplace=True)\n",
        "df_train['Product_Category_2']=df_train['Product_Category_2'].astype('int64')\n",
        "df_train.dtypes"
      ],
      "execution_count": 0,
      "outputs": []
    },
    {
      "cell_type": "code",
      "metadata": {
        "id": "T8SHP2-5Kup7",
        "colab_type": "code",
        "colab": {}
      },
      "source": [
        "df_train['Product_Category_3'].fillna(0,inplace=True)\n",
        "df_train['Product_Category_3']=df_train['Product_Category_3'].astype('int64')\n",
        "df_train.head()"
      ],
      "execution_count": 0,
      "outputs": []
    },
    {
      "cell_type": "code",
      "metadata": {
        "id": "VFm_gAABMMYV",
        "colab_type": "code",
        "colab": {}
      },
      "source": [
        "df_train['Stay_In_Current_City_Years'].unique()"
      ],
      "execution_count": 0,
      "outputs": []
    },
    {
      "cell_type": "code",
      "metadata": {
        "id": "DQRNxJEFLuI1",
        "colab_type": "code",
        "colab": {}
      },
      "source": [
        "def stay_map(x):\n",
        "  if(x=='0'):\n",
        "    return 0\n",
        "  if(x=='1'):\n",
        "    return 1\n",
        "  if(x=='2'):\n",
        "    return 2\n",
        "  if(x=='3'):\n",
        "    return 3\n",
        "  else:\n",
        "    return 4\n",
        "  \n",
        "df_train['Stay_In_Current_City_Years']=df_train['Stay_In_Current_City_Years'].apply(stay_map)\n",
        "df_train.head()"
      ],
      "execution_count": 0,
      "outputs": []
    },
    {
      "cell_type": "code",
      "metadata": {
        "id": "dCwhY7jnM_P6",
        "colab_type": "code",
        "colab": {}
      },
      "source": [
        "df_train.dtypes"
      ],
      "execution_count": 0,
      "outputs": []
    },
    {
      "cell_type": "code",
      "metadata": {
        "id": "ya2NOzKGNDcK",
        "colab_type": "code",
        "colab": {}
      },
      "source": [
        "fig,ax = plt.subplots(figsize = (12,9))\n",
        "sns.heatmap(df_train.corr(),vmax=.8, square=True)"
      ],
      "execution_count": 0,
      "outputs": []
    },
    {
      "cell_type": "code",
      "metadata": {
        "id": "RNtEu7xlNjKW",
        "colab_type": "code",
        "colab": {}
      },
      "source": [
        "# data=df_train\n",
        "# from sklearn.preprocessing import LabelEncoder\n",
        "\n",
        "# le = LabelEncoder()\n",
        "\n",
        "# data['Gender'] = le.fit_transform(data['Gender'])\n",
        "# data['City_Category'] = le.fit_transform(data['City_Category'])\n",
        "# data['Age'] = le.fit_transform(data['Age'])\n",
        "\n",
        "# data.head()"
      ],
      "execution_count": 0,
      "outputs": []
    },
    {
      "cell_type": "code",
      "metadata": {
        "id": "wsXZp5TdOxqW",
        "colab_type": "code",
        "colab": {}
      },
      "source": [
        "##################SPLITTING DATA TO DEPENDENT AND INDEPENDENT SETS##########################################################\n",
        "y_train=df_train['Purchase']\n",
        "y_train\n",
        "x_train=df_train\n",
        "x_train.drop(['User_ID'],axis=1,inplace=True)\n",
        "x_train.drop(['Purchase'],axis=1,inplace=True)\n",
        "\n",
        "x_train.head()"
      ],
      "execution_count": 0,
      "outputs": []
    },
    {
      "cell_type": "code",
      "metadata": {
        "id": "c6qYbGViSj4_",
        "colab_type": "code",
        "colab": {}
      },
      "source": [
        "x_train.drop(['Product_ID'],axis=1,inplace=True)\n",
        "x_train.head()"
      ],
      "execution_count": 0,
      "outputs": []
    },
    {
      "cell_type": "code",
      "metadata": {
        "id": "gGdc_-8SSD_m",
        "colab_type": "code",
        "colab": {}
      },
      "source": [
        "x_test=df_test\n",
        "x_test.drop(['User_ID'],axis=1,inplace=True)\n",
        "x_test.drop(['Product_ID'],axis=1,inplace=True)\n",
        "x_test['Product_Category_2'].fillna(0,inplace=True)\n",
        "x_test['Product_Category_3'].fillna(0,inplace=True)\n",
        "x_test['Product_Category_2']=x_test['Product_Category_2'].astype('int64')\n",
        "x_test['Product_Category_3']=x_test['Product_Category_3'].astype('int64')\n",
        "x_test['City_Category'] = x_test['City_Category'].apply(map_city)\n",
        "x_test['Stay_In_Current_City_Years']=x_test['Stay_In_Current_City_Years'].apply(stay_map)\n",
        "x_test['Age']=x_test['Age'].apply(map_age)\n",
        "def gne(x):\n",
        "  if(x=='M'):\n",
        "    return 0\n",
        "  else:\n",
        "    return 1\n",
        "x_test['Gender']=x_test['Gender'].apply(gne)\n",
        "x_train['Gender']=x_train['Gender'].apply(gne)\n",
        "x_test.dtypes"
      ],
      "execution_count": 0,
      "outputs": []
    },
    {
      "cell_type": "code",
      "metadata": {
        "id": "2JuPmWVhZ2pi",
        "colab_type": "code",
        "colab": {}
      },
      "source": [
        "x_train.drop(['Age_Encoded'],axis=1,inplace=True)\n",
        "x_train.drop(['F'],axis=1,inplace=True)\n",
        "x_train.drop(['M'],axis=1,inplace=True)\n",
        "x_train.head()"
      ],
      "execution_count": 0,
      "outputs": []
    },
    {
      "cell_type": "code",
      "metadata": {
        "id": "AJYhqp8catTT",
        "colab_type": "code",
        "colab": {}
      },
      "source": [
        "x_train.shape"
      ],
      "execution_count": 0,
      "outputs": []
    },
    {
      "cell_type": "code",
      "metadata": {
        "id": "006bSl3WPT6i",
        "colab_type": "code",
        "colab": {}
      },
      "source": [
        "from sklearn.preprocessing import StandardScaler\n",
        "sc=StandardScaler()\n",
        "x_train=sc.fit_transform(x_train)\n",
        "x_test=sc.fit_transform(x_test)"
      ],
      "execution_count": 0,
      "outputs": []
    },
    {
      "cell_type": "code",
      "metadata": {
        "id": "xbjykHqKSOYu",
        "colab_type": "code",
        "colab": {}
      },
      "source": [
        "linreg=LinearRegression()"
      ],
      "execution_count": 0,
      "outputs": []
    },
    {
      "cell_type": "code",
      "metadata": {
        "id": "MH_qsHYxY-yv",
        "colab_type": "code",
        "colab": {}
      },
      "source": [
        "linreg.fit(x_train,y_train)"
      ],
      "execution_count": 0,
      "outputs": []
    },
    {
      "cell_type": "code",
      "metadata": {
        "id": "ROFib_D1ZMXK",
        "colab_type": "code",
        "colab": {}
      },
      "source": [
        "y_pred=linreg.predict(x_test)"
      ],
      "execution_count": 0,
      "outputs": []
    },
    {
      "cell_type": "code",
      "metadata": {
        "id": "JP1aCFWnZcps",
        "colab_type": "code",
        "outputId": "44977d46-fd79-41cf-bb5a-03c318ca3584",
        "colab": {
          "base_uri": "https://localhost:8080/",
          "height": 231
        }
      },
      "source": [
        "from sklearn.metrics import mean_squared_error\n",
        "from sklearn.metrics import r2_score\n",
        "mse = mean_squared_error(y_test, y_pred)\n",
        "print(\"RMSE Error:\", np.sqrt(mse))\n",
        "r2 = r2_score(y_test, y_pred)\n",
        "print(\"R2 Score:\", r2)"
      ],
      "execution_count": 0,
      "outputs": [
        {
          "output_type": "error",
          "ename": "NameError",
          "evalue": "ignored",
          "traceback": [
            "\u001b[0;31m---------------------------------------------------------------------------\u001b[0m",
            "\u001b[0;31mNameError\u001b[0m                                 Traceback (most recent call last)",
            "\u001b[0;32m<ipython-input-4-4953632c0d76>\u001b[0m in \u001b[0;36m<module>\u001b[0;34m()\u001b[0m\n\u001b[1;32m      1\u001b[0m \u001b[0;32mfrom\u001b[0m \u001b[0msklearn\u001b[0m\u001b[0;34m.\u001b[0m\u001b[0mmetrics\u001b[0m \u001b[0;32mimport\u001b[0m \u001b[0mmean_squared_error\u001b[0m\u001b[0;34m\u001b[0m\u001b[0;34m\u001b[0m\u001b[0m\n\u001b[1;32m      2\u001b[0m \u001b[0;32mfrom\u001b[0m \u001b[0msklearn\u001b[0m\u001b[0;34m.\u001b[0m\u001b[0mmetrics\u001b[0m \u001b[0;32mimport\u001b[0m \u001b[0mr2_score\u001b[0m\u001b[0;34m\u001b[0m\u001b[0;34m\u001b[0m\u001b[0m\n\u001b[0;32m----> 3\u001b[0;31m \u001b[0mmse\u001b[0m \u001b[0;34m=\u001b[0m \u001b[0mmean_squared_error\u001b[0m\u001b[0;34m(\u001b[0m\u001b[0my_test\u001b[0m\u001b[0;34m,\u001b[0m \u001b[0my_pred\u001b[0m\u001b[0;34m)\u001b[0m\u001b[0;34m\u001b[0m\u001b[0;34m\u001b[0m\u001b[0m\n\u001b[0m\u001b[1;32m      4\u001b[0m \u001b[0mprint\u001b[0m\u001b[0;34m(\u001b[0m\u001b[0;34m\"RMSE Error:\"\u001b[0m\u001b[0;34m,\u001b[0m \u001b[0mnp\u001b[0m\u001b[0;34m.\u001b[0m\u001b[0msqrt\u001b[0m\u001b[0;34m(\u001b[0m\u001b[0mmse\u001b[0m\u001b[0;34m)\u001b[0m\u001b[0;34m)\u001b[0m\u001b[0;34m\u001b[0m\u001b[0;34m\u001b[0m\u001b[0m\n\u001b[1;32m      5\u001b[0m \u001b[0mr2\u001b[0m \u001b[0;34m=\u001b[0m \u001b[0mr2_score\u001b[0m\u001b[0;34m(\u001b[0m\u001b[0my_test\u001b[0m\u001b[0;34m,\u001b[0m \u001b[0my_pred\u001b[0m\u001b[0;34m)\u001b[0m\u001b[0;34m\u001b[0m\u001b[0;34m\u001b[0m\u001b[0m\n",
            "\u001b[0;31mNameError\u001b[0m: name 'y_test' is not defined"
          ]
        }
      ]
    },
    {
      "cell_type": "code",
      "metadata": {
        "id": "3taDovTf_51U",
        "colab_type": "code",
        "colab": {}
      },
      "source": [
        ""
      ],
      "execution_count": 0,
      "outputs": []
    }
  ]
}